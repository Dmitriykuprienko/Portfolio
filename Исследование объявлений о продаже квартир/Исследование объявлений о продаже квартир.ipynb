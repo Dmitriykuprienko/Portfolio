{
 "cells": [
  {
   "cell_type": "markdown",
   "metadata": {},
   "source": [
    "# Исследование объявлений о продаже квартир\n",
    "\n",
    "В вашем распоряжении данные сервиса Яндекс.Недвижимость — архив объявлений о продаже квартир в Санкт-Петербурге и соседних населённых пунктов за несколько лет. Нужно научиться определять рыночную стоимость объектов недвижимости. Ваша задача — установить параметры. Это позволит построить автоматизированную систему: она отследит аномалии и мошенническую деятельность. \n",
    "\n",
    "По каждой квартире на продажу доступны два вида данных. Первые вписаны пользователем, вторые — получены автоматически на основе картографических данных. Например, расстояние до центра, аэропорта, ближайшего парка и водоёма. "
   ]
  },
  {
   "cell_type": "markdown",
   "metadata": {},
   "source": [
    "### Откройте файл с данными и изучите общую информацию. "
   ]
  },
  {
   "cell_type": "code",
   "execution_count": 1,
   "metadata": {},
   "outputs": [
    {
     "name": "stdout",
     "output_type": "stream",
     "text": [
      "<class 'pandas.core.frame.DataFrame'>\n",
      "RangeIndex: 23699 entries, 0 to 23698\n",
      "Data columns (total 22 columns):\n",
      " #   Column                Non-Null Count  Dtype  \n",
      "---  ------                --------------  -----  \n",
      " 0   total_images          23699 non-null  int64  \n",
      " 1   last_price            23699 non-null  float64\n",
      " 2   total_area            23699 non-null  float64\n",
      " 3   first_day_exposition  23699 non-null  object \n",
      " 4   rooms                 23699 non-null  int64  \n",
      " 5   ceiling_height        14504 non-null  float64\n",
      " 6   floors_total          23613 non-null  float64\n",
      " 7   living_area           21796 non-null  float64\n",
      " 8   floor                 23699 non-null  int64  \n",
      " 9   is_apartment          2775 non-null   object \n",
      " 10  studio                23699 non-null  bool   \n",
      " 11  open_plan             23699 non-null  bool   \n",
      " 12  kitchen_area          21421 non-null  float64\n",
      " 13  balcony               12180 non-null  float64\n",
      " 14  locality_name         23650 non-null  object \n",
      " 15  airports_nearest      18157 non-null  float64\n",
      " 16  cityCenters_nearest   18180 non-null  float64\n",
      " 17  parks_around3000      18181 non-null  float64\n",
      " 18  parks_nearest         8079 non-null   float64\n",
      " 19  ponds_around3000      18181 non-null  float64\n",
      " 20  ponds_nearest         9110 non-null   float64\n",
      " 21  days_exposition       20518 non-null  float64\n",
      "dtypes: bool(2), float64(14), int64(3), object(3)\n",
      "memory usage: 3.7+ MB\n"
     ]
    }
   ],
   "source": [
    "import pandas as pd\n",
    "import matplotlib.pyplot as plt\n",
    "import numpy as np\n",
    "\n",
    "data = pd.read_csv(\"/datasets/real_estate_data.csv\", sep='\\t')\n",
    "data.info()"
   ]
  },
  {
   "cell_type": "code",
   "execution_count": 2,
   "metadata": {},
   "outputs": [
    {
     "data": {
      "text/html": [
       "<div>\n",
       "<style scoped>\n",
       "    .dataframe tbody tr th:only-of-type {\n",
       "        vertical-align: middle;\n",
       "    }\n",
       "\n",
       "    .dataframe tbody tr th {\n",
       "        vertical-align: top;\n",
       "    }\n",
       "\n",
       "    .dataframe thead th {\n",
       "        text-align: right;\n",
       "    }\n",
       "</style>\n",
       "<table border=\"1\" class=\"dataframe\">\n",
       "  <thead>\n",
       "    <tr style=\"text-align: right;\">\n",
       "      <th></th>\n",
       "      <th>total_images</th>\n",
       "      <th>last_price</th>\n",
       "      <th>total_area</th>\n",
       "      <th>first_day_exposition</th>\n",
       "      <th>rooms</th>\n",
       "      <th>ceiling_height</th>\n",
       "      <th>floors_total</th>\n",
       "      <th>living_area</th>\n",
       "      <th>floor</th>\n",
       "      <th>is_apartment</th>\n",
       "      <th>...</th>\n",
       "      <th>kitchen_area</th>\n",
       "      <th>balcony</th>\n",
       "      <th>locality_name</th>\n",
       "      <th>airports_nearest</th>\n",
       "      <th>cityCenters_nearest</th>\n",
       "      <th>parks_around3000</th>\n",
       "      <th>parks_nearest</th>\n",
       "      <th>ponds_around3000</th>\n",
       "      <th>ponds_nearest</th>\n",
       "      <th>days_exposition</th>\n",
       "    </tr>\n",
       "  </thead>\n",
       "  <tbody>\n",
       "    <tr>\n",
       "      <th>0</th>\n",
       "      <td>20</td>\n",
       "      <td>13000000.0</td>\n",
       "      <td>108.00</td>\n",
       "      <td>2019-03-07T00:00:00</td>\n",
       "      <td>3</td>\n",
       "      <td>2.70</td>\n",
       "      <td>16.0</td>\n",
       "      <td>51.00</td>\n",
       "      <td>8</td>\n",
       "      <td>NaN</td>\n",
       "      <td>...</td>\n",
       "      <td>25.00</td>\n",
       "      <td>NaN</td>\n",
       "      <td>Санкт-Петербург</td>\n",
       "      <td>18863.0</td>\n",
       "      <td>16028.0</td>\n",
       "      <td>1.0</td>\n",
       "      <td>482.0</td>\n",
       "      <td>2.0</td>\n",
       "      <td>755.0</td>\n",
       "      <td>NaN</td>\n",
       "    </tr>\n",
       "    <tr>\n",
       "      <th>1</th>\n",
       "      <td>7</td>\n",
       "      <td>3350000.0</td>\n",
       "      <td>40.40</td>\n",
       "      <td>2018-12-04T00:00:00</td>\n",
       "      <td>1</td>\n",
       "      <td>NaN</td>\n",
       "      <td>11.0</td>\n",
       "      <td>18.60</td>\n",
       "      <td>1</td>\n",
       "      <td>NaN</td>\n",
       "      <td>...</td>\n",
       "      <td>11.00</td>\n",
       "      <td>2.0</td>\n",
       "      <td>посёлок Шушары</td>\n",
       "      <td>12817.0</td>\n",
       "      <td>18603.0</td>\n",
       "      <td>0.0</td>\n",
       "      <td>NaN</td>\n",
       "      <td>0.0</td>\n",
       "      <td>NaN</td>\n",
       "      <td>81.0</td>\n",
       "    </tr>\n",
       "    <tr>\n",
       "      <th>2</th>\n",
       "      <td>10</td>\n",
       "      <td>5196000.0</td>\n",
       "      <td>56.00</td>\n",
       "      <td>2015-08-20T00:00:00</td>\n",
       "      <td>2</td>\n",
       "      <td>NaN</td>\n",
       "      <td>5.0</td>\n",
       "      <td>34.30</td>\n",
       "      <td>4</td>\n",
       "      <td>NaN</td>\n",
       "      <td>...</td>\n",
       "      <td>8.30</td>\n",
       "      <td>0.0</td>\n",
       "      <td>Санкт-Петербург</td>\n",
       "      <td>21741.0</td>\n",
       "      <td>13933.0</td>\n",
       "      <td>1.0</td>\n",
       "      <td>90.0</td>\n",
       "      <td>2.0</td>\n",
       "      <td>574.0</td>\n",
       "      <td>558.0</td>\n",
       "    </tr>\n",
       "    <tr>\n",
       "      <th>3</th>\n",
       "      <td>0</td>\n",
       "      <td>64900000.0</td>\n",
       "      <td>159.00</td>\n",
       "      <td>2015-07-24T00:00:00</td>\n",
       "      <td>3</td>\n",
       "      <td>NaN</td>\n",
       "      <td>14.0</td>\n",
       "      <td>NaN</td>\n",
       "      <td>9</td>\n",
       "      <td>NaN</td>\n",
       "      <td>...</td>\n",
       "      <td>NaN</td>\n",
       "      <td>0.0</td>\n",
       "      <td>Санкт-Петербург</td>\n",
       "      <td>28098.0</td>\n",
       "      <td>6800.0</td>\n",
       "      <td>2.0</td>\n",
       "      <td>84.0</td>\n",
       "      <td>3.0</td>\n",
       "      <td>234.0</td>\n",
       "      <td>424.0</td>\n",
       "    </tr>\n",
       "    <tr>\n",
       "      <th>4</th>\n",
       "      <td>2</td>\n",
       "      <td>10000000.0</td>\n",
       "      <td>100.00</td>\n",
       "      <td>2018-06-19T00:00:00</td>\n",
       "      <td>2</td>\n",
       "      <td>3.03</td>\n",
       "      <td>14.0</td>\n",
       "      <td>32.00</td>\n",
       "      <td>13</td>\n",
       "      <td>NaN</td>\n",
       "      <td>...</td>\n",
       "      <td>41.00</td>\n",
       "      <td>NaN</td>\n",
       "      <td>Санкт-Петербург</td>\n",
       "      <td>31856.0</td>\n",
       "      <td>8098.0</td>\n",
       "      <td>2.0</td>\n",
       "      <td>112.0</td>\n",
       "      <td>1.0</td>\n",
       "      <td>48.0</td>\n",
       "      <td>121.0</td>\n",
       "    </tr>\n",
       "    <tr>\n",
       "      <th>5</th>\n",
       "      <td>10</td>\n",
       "      <td>2890000.0</td>\n",
       "      <td>30.40</td>\n",
       "      <td>2018-09-10T00:00:00</td>\n",
       "      <td>1</td>\n",
       "      <td>NaN</td>\n",
       "      <td>12.0</td>\n",
       "      <td>14.40</td>\n",
       "      <td>5</td>\n",
       "      <td>NaN</td>\n",
       "      <td>...</td>\n",
       "      <td>9.10</td>\n",
       "      <td>NaN</td>\n",
       "      <td>городской посёлок Янино-1</td>\n",
       "      <td>NaN</td>\n",
       "      <td>NaN</td>\n",
       "      <td>NaN</td>\n",
       "      <td>NaN</td>\n",
       "      <td>NaN</td>\n",
       "      <td>NaN</td>\n",
       "      <td>55.0</td>\n",
       "    </tr>\n",
       "    <tr>\n",
       "      <th>6</th>\n",
       "      <td>6</td>\n",
       "      <td>3700000.0</td>\n",
       "      <td>37.30</td>\n",
       "      <td>2017-11-02T00:00:00</td>\n",
       "      <td>1</td>\n",
       "      <td>NaN</td>\n",
       "      <td>26.0</td>\n",
       "      <td>10.60</td>\n",
       "      <td>6</td>\n",
       "      <td>NaN</td>\n",
       "      <td>...</td>\n",
       "      <td>14.40</td>\n",
       "      <td>1.0</td>\n",
       "      <td>посёлок Парголово</td>\n",
       "      <td>52996.0</td>\n",
       "      <td>19143.0</td>\n",
       "      <td>0.0</td>\n",
       "      <td>NaN</td>\n",
       "      <td>0.0</td>\n",
       "      <td>NaN</td>\n",
       "      <td>155.0</td>\n",
       "    </tr>\n",
       "    <tr>\n",
       "      <th>7</th>\n",
       "      <td>5</td>\n",
       "      <td>7915000.0</td>\n",
       "      <td>71.60</td>\n",
       "      <td>2019-04-18T00:00:00</td>\n",
       "      <td>2</td>\n",
       "      <td>NaN</td>\n",
       "      <td>24.0</td>\n",
       "      <td>NaN</td>\n",
       "      <td>22</td>\n",
       "      <td>NaN</td>\n",
       "      <td>...</td>\n",
       "      <td>18.90</td>\n",
       "      <td>2.0</td>\n",
       "      <td>Санкт-Петербург</td>\n",
       "      <td>23982.0</td>\n",
       "      <td>11634.0</td>\n",
       "      <td>0.0</td>\n",
       "      <td>NaN</td>\n",
       "      <td>0.0</td>\n",
       "      <td>NaN</td>\n",
       "      <td>NaN</td>\n",
       "    </tr>\n",
       "    <tr>\n",
       "      <th>8</th>\n",
       "      <td>20</td>\n",
       "      <td>2900000.0</td>\n",
       "      <td>33.16</td>\n",
       "      <td>2018-05-23T00:00:00</td>\n",
       "      <td>1</td>\n",
       "      <td>NaN</td>\n",
       "      <td>27.0</td>\n",
       "      <td>15.43</td>\n",
       "      <td>26</td>\n",
       "      <td>NaN</td>\n",
       "      <td>...</td>\n",
       "      <td>8.81</td>\n",
       "      <td>NaN</td>\n",
       "      <td>посёлок Мурино</td>\n",
       "      <td>NaN</td>\n",
       "      <td>NaN</td>\n",
       "      <td>NaN</td>\n",
       "      <td>NaN</td>\n",
       "      <td>NaN</td>\n",
       "      <td>NaN</td>\n",
       "      <td>189.0</td>\n",
       "    </tr>\n",
       "    <tr>\n",
       "      <th>9</th>\n",
       "      <td>18</td>\n",
       "      <td>5400000.0</td>\n",
       "      <td>61.00</td>\n",
       "      <td>2017-02-26T00:00:00</td>\n",
       "      <td>3</td>\n",
       "      <td>2.50</td>\n",
       "      <td>9.0</td>\n",
       "      <td>43.60</td>\n",
       "      <td>7</td>\n",
       "      <td>NaN</td>\n",
       "      <td>...</td>\n",
       "      <td>6.50</td>\n",
       "      <td>2.0</td>\n",
       "      <td>Санкт-Петербург</td>\n",
       "      <td>50898.0</td>\n",
       "      <td>15008.0</td>\n",
       "      <td>0.0</td>\n",
       "      <td>NaN</td>\n",
       "      <td>0.0</td>\n",
       "      <td>NaN</td>\n",
       "      <td>289.0</td>\n",
       "    </tr>\n",
       "  </tbody>\n",
       "</table>\n",
       "<p>10 rows × 22 columns</p>\n",
       "</div>"
      ],
      "text/plain": [
       "   total_images  last_price  total_area first_day_exposition  rooms  \\\n",
       "0            20  13000000.0      108.00  2019-03-07T00:00:00      3   \n",
       "1             7   3350000.0       40.40  2018-12-04T00:00:00      1   \n",
       "2            10   5196000.0       56.00  2015-08-20T00:00:00      2   \n",
       "3             0  64900000.0      159.00  2015-07-24T00:00:00      3   \n",
       "4             2  10000000.0      100.00  2018-06-19T00:00:00      2   \n",
       "5            10   2890000.0       30.40  2018-09-10T00:00:00      1   \n",
       "6             6   3700000.0       37.30  2017-11-02T00:00:00      1   \n",
       "7             5   7915000.0       71.60  2019-04-18T00:00:00      2   \n",
       "8            20   2900000.0       33.16  2018-05-23T00:00:00      1   \n",
       "9            18   5400000.0       61.00  2017-02-26T00:00:00      3   \n",
       "\n",
       "   ceiling_height  floors_total  living_area  floor is_apartment  ...  \\\n",
       "0            2.70          16.0        51.00      8          NaN  ...   \n",
       "1             NaN          11.0        18.60      1          NaN  ...   \n",
       "2             NaN           5.0        34.30      4          NaN  ...   \n",
       "3             NaN          14.0          NaN      9          NaN  ...   \n",
       "4            3.03          14.0        32.00     13          NaN  ...   \n",
       "5             NaN          12.0        14.40      5          NaN  ...   \n",
       "6             NaN          26.0        10.60      6          NaN  ...   \n",
       "7             NaN          24.0          NaN     22          NaN  ...   \n",
       "8             NaN          27.0        15.43     26          NaN  ...   \n",
       "9            2.50           9.0        43.60      7          NaN  ...   \n",
       "\n",
       "   kitchen_area  balcony              locality_name  airports_nearest  \\\n",
       "0         25.00      NaN            Санкт-Петербург           18863.0   \n",
       "1         11.00      2.0             посёлок Шушары           12817.0   \n",
       "2          8.30      0.0            Санкт-Петербург           21741.0   \n",
       "3           NaN      0.0            Санкт-Петербург           28098.0   \n",
       "4         41.00      NaN            Санкт-Петербург           31856.0   \n",
       "5          9.10      NaN  городской посёлок Янино-1               NaN   \n",
       "6         14.40      1.0          посёлок Парголово           52996.0   \n",
       "7         18.90      2.0            Санкт-Петербург           23982.0   \n",
       "8          8.81      NaN             посёлок Мурино               NaN   \n",
       "9          6.50      2.0            Санкт-Петербург           50898.0   \n",
       "\n",
       "  cityCenters_nearest  parks_around3000  parks_nearest  ponds_around3000  \\\n",
       "0             16028.0               1.0          482.0               2.0   \n",
       "1             18603.0               0.0            NaN               0.0   \n",
       "2             13933.0               1.0           90.0               2.0   \n",
       "3              6800.0               2.0           84.0               3.0   \n",
       "4              8098.0               2.0          112.0               1.0   \n",
       "5                 NaN               NaN            NaN               NaN   \n",
       "6             19143.0               0.0            NaN               0.0   \n",
       "7             11634.0               0.0            NaN               0.0   \n",
       "8                 NaN               NaN            NaN               NaN   \n",
       "9             15008.0               0.0            NaN               0.0   \n",
       "\n",
       "   ponds_nearest  days_exposition  \n",
       "0          755.0              NaN  \n",
       "1            NaN             81.0  \n",
       "2          574.0            558.0  \n",
       "3          234.0            424.0  \n",
       "4           48.0            121.0  \n",
       "5            NaN             55.0  \n",
       "6            NaN            155.0  \n",
       "7            NaN              NaN  \n",
       "8            NaN            189.0  \n",
       "9            NaN            289.0  \n",
       "\n",
       "[10 rows x 22 columns]"
      ]
     },
     "metadata": {},
     "output_type": "display_data"
    }
   ],
   "source": [
    "display(data.head(10))"
   ]
  },
  {
   "cell_type": "code",
   "execution_count": 3,
   "metadata": {
    "scrolled": true
   },
   "outputs": [
    {
     "data": {
      "image/png": "[encoded data removed]",
      "text/plain": [
       "<Figure size 1080x1440 with 20 Axes>"
      ]
     },
     "metadata": {
      "needs_background": "light"
     },
     "output_type": "display_data"
    }
   ],
   "source": [
    "data.hist(figsize=(15,20))\n",
    "plt.show()"
   ]
  },
  {
   "cell_type": "markdown",
   "metadata": {},
   "source": [
    "### Предобработка данных"
   ]
  },
  {
   "cell_type": "markdown",
   "metadata": {},
   "source": [
    "#### Поиск и изучение пропущеных значений.\n"
   ]
  },
  {
   "cell_type": "markdown",
   "metadata": {},
   "source": [
    "***Процент пропущенных значений по столбцам.***"
   ]
  },
  {
   "cell_type": "code",
   "execution_count": 4,
   "metadata": {},
   "outputs": [
    {
     "data": {
      "text/plain": [
       "is_apartment            0.882906\n",
       "parks_nearest           0.659100\n",
       "ponds_nearest           0.615596\n",
       "balcony                 0.486054\n",
       "ceiling_height          0.387991\n",
       "airports_nearest        0.233850\n",
       "cityCenters_nearest     0.232879\n",
       "ponds_around3000        0.232837\n",
       "parks_around3000        0.232837\n",
       "days_exposition         0.134225\n",
       "kitchen_area            0.096122\n",
       "living_area             0.080299\n",
       "floors_total            0.003629\n",
       "locality_name           0.002068\n",
       "total_images            0.000000\n",
       "last_price              0.000000\n",
       "studio                  0.000000\n",
       "floor                   0.000000\n",
       "rooms                   0.000000\n",
       "first_day_exposition    0.000000\n",
       "total_area              0.000000\n",
       "open_plan               0.000000\n",
       "dtype: float64"
      ]
     },
     "execution_count": 4,
     "metadata": {},
     "output_type": "execute_result"
    }
   ],
   "source": [
    "data.isna().mean().sort_values(ascending=False)"
   ]
  },
  {
   "cell_type": "code",
   "execution_count": 5,
   "metadata": {},
   "outputs": [],
   "source": [
    "data[['balcony','days_exposition','ponds_around3000','parks_around3000']]=data[['balcony','days_exposition','ponds_around3000','parks_around3000']].fillna(0)"
   ]
  },
  {
   "cell_type": "code",
   "execution_count": 6,
   "metadata": {},
   "outputs": [
    {
     "data": {
      "text/plain": [
       "23699"
      ]
     },
     "execution_count": 6,
     "metadata": {},
     "output_type": "execute_result"
    }
   ],
   "source": [
    "len(data)"
   ]
  },
  {
   "cell_type": "code",
   "execution_count": 7,
   "metadata": {},
   "outputs": [],
   "source": [
    "data=data.dropna(subset=['floors_total', \"locality_name\"])"
   ]
  },
  {
   "cell_type": "code",
   "execution_count": 8,
   "metadata": {},
   "outputs": [
    {
     "data": {
      "text/plain": [
       "23565"
      ]
     },
     "execution_count": 8,
     "metadata": {},
     "output_type": "execute_result"
    }
   ],
   "source": [
    "len(data)"
   ]
  },
  {
   "cell_type": "markdown",
   "metadata": {},
   "source": [
    "Заполнение столбцов 'ceiling_height' и 'cityCenters_nearest'медианным значением по регионам."
   ]
  },
  {
   "cell_type": "code",
   "execution_count": 9,
   "metadata": {},
   "outputs": [],
   "source": [
    "data['ceiling_height']=data['ceiling_height'].fillna(data.groupby('locality_name')['ceiling_height'].transform('median'))\n",
    "data['cityCenters_nearest']=data['cityCenters_nearest'].fillna(data.groupby('locality_name')['cityCenters_nearest'].transform('median'))\n"
   ]
  },
  {
   "cell_type": "code",
   "execution_count": 10,
   "metadata": {},
   "outputs": [
    {
     "name": "stdout",
     "output_type": "stream",
     "text": [
      "<class 'pandas.core.frame.DataFrame'>\n",
      "Int64Index: 23565 entries, 0 to 23698\n",
      "Data columns (total 22 columns):\n",
      " #   Column                Non-Null Count  Dtype  \n",
      "---  ------                --------------  -----  \n",
      " 0   total_images          23565 non-null  int64  \n",
      " 1   last_price            23565 non-null  float64\n",
      " 2   total_area            23565 non-null  float64\n",
      " 3   first_day_exposition  23565 non-null  object \n",
      " 4   rooms                 23565 non-null  int64  \n",
      " 5   ceiling_height        23445 non-null  float64\n",
      " 6   floors_total          23565 non-null  float64\n",
      " 7   living_area           21700 non-null  float64\n",
      " 8   floor                 23565 non-null  int64  \n",
      " 9   is_apartment          2760 non-null   object \n",
      " 10  studio                23565 non-null  bool   \n",
      " 11  open_plan             23565 non-null  bool   \n",
      " 12  kitchen_area          21343 non-null  float64\n",
      " 13  balcony               23565 non-null  float64\n",
      " 14  locality_name         23565 non-null  object \n",
      " 15  airports_nearest      18041 non-null  float64\n",
      " 16  cityCenters_nearest   18133 non-null  float64\n",
      " 17  parks_around3000      23565 non-null  float64\n",
      " 18  parks_nearest         8030 non-null   float64\n",
      " 19  ponds_around3000      23565 non-null  float64\n",
      " 20  ponds_nearest         9036 non-null   float64\n",
      " 21  days_exposition       23565 non-null  float64\n",
      "dtypes: bool(2), float64(14), int64(3), object(3)\n",
      "memory usage: 3.8+ MB\n"
     ]
    }
   ],
   "source": [
    "data.info() #  почему то остались пропуски в cityCenters_nearest, хотя заполнили их медианным значением ?"
   ]
  },
  {
   "cell_type": "markdown",
   "metadata": {},
   "source": [
    "***Заполнение пропусков:***\n",
    "\n",
    "Отсутствующие значения в столбцах ponds_around3000, parks_around3000, balcony посчитал возможным заполнить нулями, так как отсутсвие значений в них вполне вероятно может указывать на отсутствие этих элементов как таковых- нет балкона, нет парка или водоема поблизости.\n",
    "\n",
    "Решил удалить строки с пропущенными значениями в столбце floors_total и locality_name так как пропусков 0.3 и 0.2 %, что несущественно и роли нам не сыграет.\n",
    "\n",
    "Так же заменил пропущенные значения в столбцах ceiling_height и cityCenters_nearest медианным значением по регионам, хотя не могу понять почему в столбце cityCenters_nearest после внесения изменений проверкой методом info, ничего не поменялось\n"
   ]
  },
  {
   "cell_type": "markdown",
   "metadata": {},
   "source": [
    "***Изучение типов данных***\n"
   ]
  },
  {
   "cell_type": "code",
   "execution_count": 11,
   "metadata": {},
   "outputs": [
    {
     "name": "stdout",
     "output_type": "stream",
     "text": [
      "<class 'pandas.core.frame.DataFrame'>\n",
      "Int64Index: 23565 entries, 0 to 23698\n",
      "Data columns (total 22 columns):\n",
      " #   Column                Non-Null Count  Dtype  \n",
      "---  ------                --------------  -----  \n",
      " 0   total_images          23565 non-null  int64  \n",
      " 1   last_price            23565 non-null  float64\n",
      " 2   total_area            23565 non-null  float64\n",
      " 3   first_day_exposition  23565 non-null  object \n",
      " 4   rooms                 23565 non-null  int64  \n",
      " 5   ceiling_height        23445 non-null  float64\n",
      " 6   floors_total          23565 non-null  float64\n",
      " 7   living_area           21700 non-null  float64\n",
      " 8   floor                 23565 non-null  int64  \n",
      " 9   is_apartment          2760 non-null   object \n",
      " 10  studio                23565 non-null  bool   \n",
      " 11  open_plan             23565 non-null  bool   \n",
      " 12  kitchen_area          21343 non-null  float64\n",
      " 13  balcony               23565 non-null  float64\n",
      " 14  locality_name         23565 non-null  object \n",
      " 15  airports_nearest      18041 non-null  float64\n",
      " 16  cityCenters_nearest   18133 non-null  float64\n",
      " 17  parks_around3000      23565 non-null  float64\n",
      " 18  parks_nearest         8030 non-null   float64\n",
      " 19  ponds_around3000      23565 non-null  float64\n",
      " 20  ponds_nearest         9036 non-null   float64\n",
      " 21  days_exposition       23565 non-null  float64\n",
      "dtypes: bool(2), float64(14), int64(3), object(3)\n",
      "memory usage: 3.8+ MB\n"
     ]
    }
   ],
   "source": [
    "data.info()"
   ]
  },
  {
   "cell_type": "code",
   "execution_count": 12,
   "metadata": {},
   "outputs": [],
   "source": [
    "data[['balcony','parks_around3000','ponds_around3000','floors_total','last_price', \"floors_total\"]]=data[\n",
    "    ['balcony','parks_around3000','ponds_around3000','floors_total','last_price', \"floors_total\"]].astype('int')"
   ]
  },
  {
   "cell_type": "code",
   "execution_count": 13,
   "metadata": {},
   "outputs": [],
   "source": [
    "data['first_day_exposition']=pd.to_datetime(data['first_day_exposition'],format='%Y-%m-%d')"
   ]
  },
  {
   "cell_type": "code",
   "execution_count": 14,
   "metadata": {},
   "outputs": [
    {
     "data": {
      "text/plain": [
       "0       2019-03-07\n",
       "1       2018-12-04\n",
       "2       2015-08-20\n",
       "3       2015-07-24\n",
       "4       2018-06-19\n",
       "           ...    \n",
       "23694   2017-03-21\n",
       "23695   2018-01-15\n",
       "23696   2018-02-11\n",
       "23697   2017-03-28\n",
       "23698   2017-07-21\n",
       "Name: first_day_exposition, Length: 23565, dtype: datetime64[ns]"
      ]
     },
     "execution_count": 14,
     "metadata": {},
     "output_type": "execute_result"
    }
   ],
   "source": [
    "data['first_day_exposition']"
   ]
  },
  {
   "cell_type": "markdown",
   "metadata": {},
   "source": [
    "***Изменены типы данных следующих столбцов:***\n",
    "\n",
    "Столбцы:'balcony'(число балконов),'parks_around3000'(число парков поблизости),'ponds_around3000'(число водоемов поблизости),'last_price(стоимость квартиры)', 'floors_total'(всего этажей) поменял с float на int так как эти параметры могут быть только целыми числами.\n",
    "Так же было бы логично поменять тип дынных на int в столбце  'days_exposition'(дни), но там есть пропуски,которые было решено пока не заполнять, а анализировать с ними.\n",
    "Тип данных столбца 'first_day_exposition'(дата) изменен на datetime для удобства дальшей работы со временем"
   ]
  },
  {
   "cell_type": "markdown",
   "metadata": {},
   "source": [
    "***Посмотрим уникальные значения в столбце locality_name, устраним неявные дубликаты.***"
   ]
  },
  {
   "cell_type": "code",
   "execution_count": 15,
   "metadata": {},
   "outputs": [
    {
     "data": {
      "text/plain": [
       "array(['Санкт-Петербург', 'посёлок Шушары', 'городской посёлок Янино-1',\n",
       "       'посёлок Парголово', 'посёлок Мурино', 'Ломоносов', 'Сертолово',\n",
       "       'Петергоф', 'Пушкин', 'деревня Кудрово', 'Коммунар', 'Колпино',\n",
       "       'поселок городского типа Красный Бор', 'Гатчина', 'поселок Мурино',\n",
       "       'деревня Фёдоровское', 'Выборг', 'Кронштадт', 'Кировск',\n",
       "       'деревня Новое Девяткино', 'посёлок Металлострой',\n",
       "       'посёлок городского типа Лебяжье',\n",
       "       'посёлок городского типа Сиверский', 'поселок Молодцово',\n",
       "       'поселок городского типа Кузьмоловский',\n",
       "       'садовое товарищество Новая Ропша', 'Павловск',\n",
       "       'деревня Пикколово', 'Всеволожск', 'Волхов', 'Кингисепп',\n",
       "       'Приозерск', 'Сестрорецк', 'деревня Куттузи', 'посёлок Аннино',\n",
       "       'поселок городского типа Ефимовский', 'посёлок Плодовое',\n",
       "       'деревня Заклинье', 'поселок Торковичи', 'поселок Первомайское',\n",
       "       'Красное Село', 'посёлок Понтонный', 'Сясьстрой', 'деревня Старая',\n",
       "       'деревня Лесколово', 'посёлок Новый Свет', 'Сланцы',\n",
       "       'село Путилово', 'Ивангород', 'Мурино', 'Шлиссельбург',\n",
       "       'Никольское', 'Зеленогорск', 'Сосновый Бор', 'поселок Новый Свет',\n",
       "       'деревня Оржицы', 'деревня Кальтино', 'Кудрово',\n",
       "       'поселок Романовка', 'посёлок Бугры', 'поселок Бугры',\n",
       "       'поселок городского типа Рощино', 'Кириши', 'Луга', 'Волосово',\n",
       "       'Отрадное', 'село Павлово', 'поселок Оредеж', 'село Копорье',\n",
       "       'посёлок городского типа Красный Бор', 'посёлок Молодёжное',\n",
       "       'Тихвин', 'посёлок Победа', 'деревня Нурма',\n",
       "       'поселок городского типа Синявино', 'Тосно',\n",
       "       'посёлок городского типа Кузьмоловский', 'посёлок Стрельна',\n",
       "       'Бокситогорск', 'посёлок Александровская', 'деревня Лопухинка',\n",
       "       'Пикалёво', 'поселок Терволово',\n",
       "       'поселок городского типа Советский', 'Подпорожье',\n",
       "       'посёлок Петровское', 'посёлок городского типа Токсово',\n",
       "       'поселок Сельцо', 'посёлок городского типа Вырица',\n",
       "       'деревня Кипень', 'деревня Келози', 'деревня Вартемяги',\n",
       "       'посёлок Тельмана', 'поселок Севастьяново',\n",
       "       'городской поселок Большая Ижора', 'городской посёлок Павлово',\n",
       "       'деревня Агалатово', 'посёлок Новогорелово',\n",
       "       'городской посёлок Лесогорский', 'деревня Лаголово',\n",
       "       'поселок Цвелодубово', 'поселок городского типа Рахья',\n",
       "       'поселок городского типа Вырица', 'деревня Белогорка',\n",
       "       'поселок Заводской', 'городской посёлок Новоселье',\n",
       "       'деревня Большие Колпаны', 'деревня Горбунки', 'деревня Батово',\n",
       "       'деревня Заневка', 'деревня Иссад', 'Приморск',\n",
       "       'городской посёлок Фёдоровское', 'деревня Мистолово',\n",
       "       'Новая Ладога', 'поселок Зимитицы', 'поселок Барышево',\n",
       "       'деревня Разметелево', 'поселок городского типа имени Свердлова',\n",
       "       'деревня Пеники', 'поселок Рябово', 'деревня Пудомяги',\n",
       "       'поселок станции Корнево', 'деревня Низино', 'деревня Бегуницы',\n",
       "       'посёлок Поляны', 'городской посёлок Мга', 'поселок Елизаветино',\n",
       "       'посёлок городского типа Кузнечное', 'деревня Колтуши',\n",
       "       'поселок Запорожское', 'посёлок городского типа Рощино',\n",
       "       'деревня Гостилицы', 'деревня Малое Карлино',\n",
       "       'посёлок Мичуринское', 'посёлок городского типа имени Морозова',\n",
       "       'посёлок Песочный', 'посёлок Сосново', 'деревня Аро',\n",
       "       'поселок Ильичёво', 'посёлок городского типа Тайцы',\n",
       "       'деревня Малое Верево', 'деревня Извара', 'поселок станции Вещево',\n",
       "       'село Паша', 'деревня Калитино',\n",
       "       'посёлок городского типа Ульяновка', 'деревня Чудской Бор',\n",
       "       'поселок городского типа Дубровка', 'деревня Мины',\n",
       "       'поселок Войсковицы', 'посёлок городского типа имени Свердлова',\n",
       "       'деревня Коркино', 'посёлок Ропша',\n",
       "       'поселок городского типа Приладожский', 'посёлок Щеглово',\n",
       "       'посёлок Гаврилово', 'Лодейное Поле', 'деревня Рабитицы',\n",
       "       'поселок городского типа Никольский', 'деревня Кузьмолово',\n",
       "       'деревня Малые Колпаны', 'поселок Тельмана',\n",
       "       'посёлок Петро-Славянка', 'городской посёлок Назия',\n",
       "       'посёлок Репино', 'посёлок Ильичёво', 'поселок Углово',\n",
       "       'поселок Старая Малукса', 'садовое товарищество Рахья',\n",
       "       'поселок Аннино', 'поселок Победа', 'деревня Меньково',\n",
       "       'деревня Старые Бегуницы', 'посёлок Сапёрный', 'поселок Семрино',\n",
       "       'поселок Гаврилово', 'поселок Глажево', 'поселок Кобринское',\n",
       "       'деревня Гарболово', 'деревня Юкки',\n",
       "       'поселок станции Приветнинское', 'деревня Мануйлово',\n",
       "       'деревня Пчева', 'поселок Поляны', 'поселок Цвылёво',\n",
       "       'поселок Мельниково', 'посёлок Пудость', 'посёлок Усть-Луга',\n",
       "       'Светогорск', 'Любань', 'поселок Селезнёво',\n",
       "       'поселок городского типа Рябово', 'Каменногорск', 'деревня Кривко',\n",
       "       'поселок Глебычево', 'деревня Парицы', 'поселок Жилпосёлок',\n",
       "       'посёлок городского типа Мга', 'городской поселок Янино-1',\n",
       "       'посёлок Войскорово', 'село Никольское', 'посёлок Терволово',\n",
       "       'поселок Стеклянный', 'посёлок городского типа Важины',\n",
       "       'посёлок Мыза-Ивановка', 'село Русско-Высоцкое',\n",
       "       'поселок городского типа Лебяжье',\n",
       "       'поселок городского типа Форносово', 'село Старая Ладога',\n",
       "       'поселок Житково', 'городской посёлок Виллози', 'деревня Лампово',\n",
       "       'деревня Шпаньково', 'деревня Лаврики', 'посёлок Сумино',\n",
       "       'посёлок Возрождение', 'деревня Старосиверская',\n",
       "       'посёлок Кикерино', 'поселок Возрождение',\n",
       "       'деревня Старое Хинколово', 'посёлок Пригородный',\n",
       "       'посёлок Торфяное', 'городской посёлок Будогощь',\n",
       "       'поселок Суходолье', 'поселок Красная Долина', 'деревня Хапо-Ое',\n",
       "       'поселок городского типа Дружная Горка', 'поселок Лисий Нос',\n",
       "       'деревня Яльгелево', 'посёлок Стеклянный', 'село Рождествено',\n",
       "       'деревня Старополье', 'посёлок Левашово', 'деревня Сяськелево',\n",
       "       'деревня Камышовка',\n",
       "       'садоводческое некоммерческое товарищество Лесная Поляна',\n",
       "       'деревня Хязельки', 'поселок Жилгородок',\n",
       "       'посёлок городского типа Павлово', 'деревня Ялгино',\n",
       "       'поселок Новый Учхоз', 'городской посёлок Рощино',\n",
       "       'поселок Гончарово', 'поселок Почап', 'посёлок Сапёрное',\n",
       "       'посёлок Платформа 69-й километр', 'поселок Каложицы',\n",
       "       'деревня Фалилеево', 'деревня Пельгора',\n",
       "       'поселок городского типа Лесогорский', 'деревня Торошковичи',\n",
       "       'посёлок Белоостров', 'посёлок Алексеевка', 'поселок Серебрянский',\n",
       "       'поселок Лукаши', 'поселок Петровское', 'деревня Щеглово',\n",
       "       'поселок Мичуринское', 'деревня Тарасово', 'поселок Кингисеппский',\n",
       "       'посёлок при железнодорожной станции Вещево', 'поселок Ушаки',\n",
       "       'деревня Котлы', 'деревня Сижно', 'деревня Торосово',\n",
       "       'посёлок Форт Красная Горка', 'деревня Новолисино',\n",
       "       'посёлок станции Громово', 'деревня Глинка', 'посёлок Мельниково',\n",
       "       'поселок городского типа Назия', 'деревня Старая Пустошь',\n",
       "       'поселок Коммунары', 'поселок Починок',\n",
       "       'посёлок городского типа Вознесенье', 'деревня Разбегаево',\n",
       "       'посёлок городского типа Рябово', 'поселок Гладкое',\n",
       "       'посёлок при железнодорожной станции Приветнинское',\n",
       "       'поселок Тёсово-4', 'посёлок Жилгородок', 'деревня Бор',\n",
       "       'посёлок Коробицыно', 'деревня Большая Вруда', 'деревня Курковицы',\n",
       "       'посёлок Лисий Нос', 'городской посёлок Советский',\n",
       "       'посёлок Кобралово', 'деревня Суоранда', 'поселок Кобралово',\n",
       "       'поселок городского типа Кондратьево',\n",
       "       'коттеджный поселок Счастье', 'поселок Любань', 'деревня Реброво',\n",
       "       'деревня Зимитицы', 'деревня Тойворово', 'поселок Семиозерье',\n",
       "       'поселок Лесное', 'поселок Совхозный', 'поселок Усть-Луга',\n",
       "       'посёлок Ленинское', 'посёлок Суйда',\n",
       "       'посёлок городского типа Форносово', 'деревня Нижние Осельки',\n",
       "       'посёлок станции Свирь', 'поселок Перово', 'Высоцк',\n",
       "       'поселок Гарболово', 'село Шум', 'поселок Котельский',\n",
       "       'поселок станции Лужайка', 'деревня Большая Пустомержа',\n",
       "       'поселок Красносельское', 'деревня Вахнова Кара', 'деревня Пижма',\n",
       "       'коттеджный поселок Кивеннапа Север', 'поселок Коробицыно',\n",
       "       'поселок Ромашки', 'посёлок Перово', 'деревня Каськово',\n",
       "       'деревня Куровицы', 'посёлок Плоское', 'поселок Сумино',\n",
       "       'поселок городского типа Большая Ижора', 'поселок Кирпичное',\n",
       "       'деревня Ям-Тесово', 'деревня Раздолье', 'деревня Терпилицы',\n",
       "       'поселок городского типа Токсово', 'посёлок Шугозеро',\n",
       "       'деревня Ваганово', 'поселок Пушное', 'садовое товарищество Садко',\n",
       "       'посёлок Усть-Ижора', 'деревня Выскатка',\n",
       "       'городской посёлок Свирьстрой', 'поселок Громово',\n",
       "       'деревня Кисельня', 'посёлок Старая Малукса',\n",
       "       'деревня Трубников Бор', 'поселок Калитино',\n",
       "       'посёлок Высокоключевой', 'садовое товарищество Приладожский',\n",
       "       'посёлок Пансионат Зелёный Бор', 'деревня Ненимяки',\n",
       "       'поселок Пансионат Зелёный Бор', 'деревня Снегирёвка',\n",
       "       'деревня Рапполово', 'деревня Пустынка', 'поселок Рабитицы',\n",
       "       'деревня Большой Сабск', 'деревня Русско', 'деревня Лупполово',\n",
       "       'деревня Большое Рейзино', 'деревня Малая Романовка',\n",
       "       'поселок Дружноселье', 'поселок Пчевжа', 'поселок Володарское',\n",
       "       'деревня Нижняя', 'коттеджный посёлок Лесное', 'деревня Тихковицы',\n",
       "       'деревня Борисова Грива', 'посёлок Дзержинского'], dtype=object)"
      ]
     },
     "execution_count": 15,
     "metadata": {},
     "output_type": "execute_result"
    }
   ],
   "source": [
    "data['locality_name'].unique()\n"
   ]
  },
  {
   "cell_type": "code",
   "execution_count": 16,
   "metadata": {},
   "outputs": [
    {
     "data": {
      "text/plain": [
       "array(['Санкт-Петербург', 'поселок Шушары', 'поселок Янино-1',\n",
       "       'поселок Парголово', 'поселок Мурино', 'Ломоносов', 'Сертолово',\n",
       "       'Петергоф', 'Пушкин', 'деревня Кудрово', 'Коммунар', 'Колпино',\n",
       "       'поселок Красный Бор', 'Гатчина', 'деревня Федоровское', 'Выборг',\n",
       "       'Кронштадт', 'Кировск', 'деревня Новое Девяткино',\n",
       "       'поселок Металлострой', 'поселок Лебяжье', 'поселок Сиверский',\n",
       "       'поселок Молодцово', 'поселок Кузьмоловский',\n",
       "       'садовое товарищество Новая Ропша', 'Павловск',\n",
       "       'деревня Пикколово', 'Всеволожск', 'Волхов', 'Кингисепп',\n",
       "       'Приозерск', 'Сестрорецк', 'деревня Куттузи', 'поселок Аннино',\n",
       "       'поселок Ефимовский', 'поселок Плодовое', 'деревня Заклинье',\n",
       "       'поселок Торковичи', 'поселок Первомайское', 'Красное Село',\n",
       "       'поселок Понтонный', 'Сясьстрой', 'деревня Старая',\n",
       "       'деревня Лесколово', 'поселок Новый Свет', 'Сланцы',\n",
       "       'село Путилово', 'Ивангород', 'Мурино', 'Шлиссельбург',\n",
       "       'Никольское', 'Зеленогорск', 'Сосновый Бор', 'деревня Оржицы',\n",
       "       'деревня Кальтино', 'Кудрово', 'поселок Романовка',\n",
       "       'поселок Бугры', 'поселок Рощино', 'Кириши', 'Луга', 'Волосово',\n",
       "       'Отрадное', 'село Павлово', 'поселок Оредеж', 'село Копорье',\n",
       "       'поселок Молодежное', 'Тихвин', 'поселок Победа', 'деревня Нурма',\n",
       "       'поселок Синявино', 'Тосно', 'поселок Стрельна', 'Бокситогорск',\n",
       "       'поселок Александровская', 'деревня Лопухинка', 'Пикалево',\n",
       "       'поселок Терволово', 'поселок Советский', 'Подпорожье',\n",
       "       'поселок Петровское', 'поселок Токсово', 'поселок Сельцо',\n",
       "       'поселок Вырица', 'деревня Кипень', 'деревня Келози',\n",
       "       'деревня Вартемяги', 'поселок Тельмана', 'поселок Севастьяново',\n",
       "       'поселок Большая Ижора', 'поселок Павлово', 'деревня Агалатово',\n",
       "       'поселок Новогорелово', 'поселок Лесогорский', 'деревня Лаголово',\n",
       "       'поселок Цвелодубово', 'поселок Рахья', 'деревня Белогорка',\n",
       "       'поселок Заводской', 'поселок Новоселье',\n",
       "       'деревня Большие Колпаны', 'деревня Горбунки', 'деревня Батово',\n",
       "       'деревня Заневка', 'деревня Иссад', 'Приморск',\n",
       "       'поселок Федоровское', 'деревня Мистолово', 'Новая Ладога',\n",
       "       'поселок Зимитицы', 'поселок Барышево', 'деревня Разметелево',\n",
       "       'поселок имени Свердлова', 'деревня Пеники', 'поселок Рябово',\n",
       "       'деревня Пудомяги', 'поселок станции Корнево', 'деревня Низино',\n",
       "       'деревня Бегуницы', 'поселок Поляны', 'поселок Мга',\n",
       "       'поселок Елизаветино', 'поселок Кузнечное', 'деревня Колтуши',\n",
       "       'поселок Запорожское', 'деревня Гостилицы',\n",
       "       'деревня Малое Карлино', 'поселок Мичуринское',\n",
       "       'поселок имени Морозова', 'поселок Песочный', 'поселок Сосново',\n",
       "       'деревня Аро', 'поселок Ильичево', 'поселок Тайцы',\n",
       "       'деревня Малое Верево', 'деревня Извара', 'поселок станции Вещево',\n",
       "       'село Паша', 'деревня Калитино', 'поселок Ульяновка',\n",
       "       'деревня Чудской Бор', 'поселок Дубровка', 'деревня Мины',\n",
       "       'поселок Войсковицы', 'деревня Коркино', 'поселок Ропша',\n",
       "       'поселок Приладожский', 'поселок Щеглово', 'поселок Гаврилово',\n",
       "       'Лодейное Поле', 'деревня Рабитицы', 'поселок Никольский',\n",
       "       'деревня Кузьмолово', 'деревня Малые Колпаны',\n",
       "       'поселок Петро-Славянка', 'поселок Назия', 'поселок Репино',\n",
       "       'поселок Углово', 'поселок Старая Малукса',\n",
       "       'садовое товарищество Рахья', 'деревня Меньково',\n",
       "       'деревня Старые Бегуницы', 'поселок Саперный', 'поселок Семрино',\n",
       "       'поселок Глажево', 'поселок Кобринское', 'деревня Гарболово',\n",
       "       'деревня Юкки', 'поселок станции Приветнинское',\n",
       "       'деревня Мануйлово', 'деревня Пчева', 'поселок Цвылево',\n",
       "       'поселок Мельниково', 'поселок Пудость', 'поселок Усть-Луга',\n",
       "       'Светогорск', 'Любань', 'поселок Селезнево', 'Каменногорск',\n",
       "       'деревня Кривко', 'поселок Глебычево', 'деревня Парицы',\n",
       "       'поселок Жилпоселок', 'поселок Войскорово', 'село Никольское',\n",
       "       'поселок Стеклянный', 'поселок Важины', 'поселок Мыза-Ивановка',\n",
       "       'село Русско-Высоцкое', 'поселок Форносово', 'село Старая Ладога',\n",
       "       'поселок Житково', 'поселок Виллози', 'деревня Лампово',\n",
       "       'деревня Шпаньково', 'деревня Лаврики', 'поселок Сумино',\n",
       "       'поселок Возрождение', 'деревня Старосиверская',\n",
       "       'поселок Кикерино', 'деревня Старое Хинколово',\n",
       "       'поселок Пригородный', 'поселок Торфяное', 'поселок Будогощь',\n",
       "       'поселок Суходолье', 'поселок Красная Долина', 'деревня Хапо-Ое',\n",
       "       'поселок Дружная Горка', 'поселок Лисий Нос', 'деревня Яльгелево',\n",
       "       'село Рождествено', 'деревня Старополье', 'поселок Левашово',\n",
       "       'деревня Сяськелево', 'деревня Камышовка',\n",
       "       'садоводческое некоммерческое товарищество Лесная Поляна',\n",
       "       'деревня Хязельки', 'поселок Жилгородок', 'деревня Ялгино',\n",
       "       'поселок Новый Учхоз', 'поселок Гончарово', 'поселок Почап',\n",
       "       'поселок Саперное', 'поселок Платформа 69-й километр',\n",
       "       'поселок Каложицы', 'деревня Фалилеево', 'деревня Пельгора',\n",
       "       'деревня Торошковичи', 'поселок Белоостров', 'поселок Алексеевка',\n",
       "       'поселок Серебрянский', 'поселок Лукаши', 'деревня Щеглово',\n",
       "       'деревня Тарасово', 'поселок Кингисеппский',\n",
       "       'поселок при железнодорожной станции Вещево', 'поселок Ушаки',\n",
       "       'деревня Котлы', 'деревня Сижно', 'деревня Торосово',\n",
       "       'поселок Форт Красная Горка', 'деревня Новолисино',\n",
       "       'поселок станции Громово', 'деревня Глинка',\n",
       "       'деревня Старая Пустошь', 'поселок Коммунары', 'поселок Починок',\n",
       "       'поселок Вознесенье', 'деревня Разбегаево', 'поселок Гладкое',\n",
       "       'поселок при железнодорожной станции Приветнинское',\n",
       "       'поселок Тесово-4', 'деревня Бор', 'поселок Коробицыно',\n",
       "       'деревня Большая Вруда', 'деревня Курковицы', 'поселок Кобралово',\n",
       "       'деревня Суоранда', 'поселок Кондратьево',\n",
       "       'коттеджный поселок Счастье', 'поселок Любань', 'деревня Реброво',\n",
       "       'деревня Зимитицы', 'деревня Тойворово', 'поселок Семиозерье',\n",
       "       'поселок Лесное', 'поселок Совхозный', 'поселок Ленинское',\n",
       "       'поселок Суйда', 'деревня Нижние Осельки', 'поселок станции Свирь',\n",
       "       'поселок Перово', 'Высоцк', 'поселок Гарболово', 'село Шум',\n",
       "       'поселок Котельский', 'поселок станции Лужайка',\n",
       "       'деревня Большая Пустомержа', 'поселок Красносельское',\n",
       "       'деревня Вахнова Кара', 'деревня Пижма',\n",
       "       'коттеджный поселок Кивеннапа Север', 'поселок Ромашки',\n",
       "       'деревня Каськово', 'деревня Куровицы', 'поселок Плоское',\n",
       "       'поселок Кирпичное', 'деревня Ям-Тесово', 'деревня Раздолье',\n",
       "       'деревня Терпилицы', 'поселок Шугозеро', 'деревня Ваганово',\n",
       "       'поселок Пушное', 'садовое товарищество Садко',\n",
       "       'поселок Усть-Ижора', 'деревня Выскатка', 'поселок Свирьстрой',\n",
       "       'поселок Громово', 'деревня Кисельня', 'деревня Трубников Бор',\n",
       "       'поселок Калитино', 'поселок Высокоключевой',\n",
       "       'садовое товарищество Приладожский',\n",
       "       'поселок Пансионат Зеленый Бор', 'деревня Ненимяки',\n",
       "       'деревня Снегиревка', 'деревня Рапполово', 'деревня Пустынка',\n",
       "       'поселок Рабитицы', 'деревня Большой Сабск', 'деревня Русско',\n",
       "       'деревня Лупполово', 'деревня Большое Рейзино',\n",
       "       'деревня Малая Романовка', 'поселок Дружноселье', 'поселок Пчевжа',\n",
       "       'поселок Володарское', 'деревня Нижняя',\n",
       "       'коттеджный поселок Лесное', 'деревня Тихковицы',\n",
       "       'деревня Борисова Грива', 'поселок Дзержинского'], dtype=object)"
      ]
     },
     "execution_count": 16,
     "metadata": {},
     "output_type": "execute_result"
    }
   ],
   "source": [
    "data['locality_name']=data['locality_name'].str.replace('ё','е')\n",
    "data['locality_name']=data['locality_name'].str.replace('поселок городского типа','поселок')\n",
    "data['locality_name']=data['locality_name'].str.replace('городской поселок','поселок')\n",
    "data['locality_name'].unique()"
   ]
  },
  {
   "cell_type": "markdown",
   "metadata": {},
   "source": [
    "***Обработка редких и выбивающиеся значений***"
   ]
  },
  {
   "cell_type": "code",
   "execution_count": 17,
   "metadata": {},
   "outputs": [
    {
     "data": {
      "image/png": "[encoded data removed]",
      "text/plain": [
       "<Figure size 432x288 with 1 Axes>"
      ]
     },
     "metadata": {
      "needs_background": "light"
     },
     "output_type": "display_data"
    }
   ],
   "source": [
    "data.boxplot(column='ceiling_height')\n",
    "plt.ylim(2, 4)\n",
    "plt.show()"
   ]
  },
  {
   "cell_type": "code",
   "execution_count": 18,
   "metadata": {},
   "outputs": [
    {
     "data": {
      "text/plain": [
       "array([  2.7  ,   2.615,   3.03 ,   2.6  ,   2.64 ,   2.5  ,   2.67 ,\n",
       "         2.55 ,   2.56 ,   3.05 ,   2.75 ,   2.9  ,   2.56 ,   2.8  ,\n",
       "         3.   ,   2.65 ,   3.2  ,   2.61 ,     nan,   3.25 ,   3.45 ,\n",
       "         2.77 ,   2.85 ,   2.525,   2.57 ,   4.15 ,   3.5  ,   3.3  ,\n",
       "         2.71 ,   4.   ,   2.47 ,   2.73 ,   2.84 ,   3.1  ,   2.34 ,\n",
       "         3.4  ,   2.52 ,   3.06 ,   2.72 ,   2.54 ,   2.51 ,   2.78 ,\n",
       "        13.85 ,   2.76 ,  25.   ,   2.58 ,   3.7  ,   5.2  ,   2.87 ,\n",
       "         2.66 ,   2.59 ,   2.   ,   2.45 ,   3.6  ,   3.9  ,   2.92 ,\n",
       "         3.11 ,   3.13 ,   3.8  ,   3.15 ,   3.55 ,   3.16 ,   3.62 ,\n",
       "         3.12 ,   2.53 ,   2.74 ,   2.96 ,   2.46 ,   5.3  ,   5.   ,\n",
       "         2.79 ,   2.95 ,   4.06 ,   2.94 ,   3.82 ,   3.54 ,   3.53 ,\n",
       "         2.83 ,   4.7  ,   2.4  ,   3.38 ,   3.01 ,   5.6  ,   3.65 ,\n",
       "         3.18 ,   3.35 ,   2.3  ,   3.57 ,   2.48 ,   2.515,   2.62 ,\n",
       "         2.82 ,   2.65 ,   3.98 ,   2.63 ,   3.83 ,  27.   ,   3.52 ,\n",
       "         3.95 ,   3.75 ,   2.88 ,   3.67 ,   3.87 ,   3.66 ,   3.85 ,\n",
       "         3.86 ,   4.19 ,   3.24 ,   4.8  ,   4.5  ,   4.2  ,   3.36 ,\n",
       "        32.   ,   3.08 ,   3.68 ,   3.07 ,   3.37 ,   3.09 ,   8.   ,\n",
       "         3.26 ,   3.34 ,   2.81 ,   3.44 ,   2.97 ,   3.14 ,   2.725,\n",
       "         4.37 ,   2.68 ,   2.6  ,   3.22 ,   3.27 ,   2.675,   4.1  ,\n",
       "         2.93 ,   3.46 ,  24.   ,   3.47 ,   3.33 ,   3.63 ,   2.625,\n",
       "         3.32 ,  26.   ,   1.2  ,   8.3  ,   2.98 ,   2.86 ,   3.17 ,\n",
       "         4.4  ,   3.28 ,   3.04 ,   4.45 ,   5.5  ,   3.84 ,   3.23 ,\n",
       "         3.02 ,   3.21 ,   3.43 ,   2.575,   2.555,   3.78 ,   4.3  ,\n",
       "         3.39 ,   2.69 ,   3.31 ,   4.65 ,   3.56 ,   2.2  ,   3.51 ,\n",
       "         3.93 ,   3.42 ,   2.99 ,   3.49 ,  14.   ,   4.14 ,   2.91 ,\n",
       "         3.88 ,   1.75 ,   4.25 ,   3.29 ,  20.   ,   2.25 ,   3.76 ,\n",
       "         3.69 ,   6.   ,  22.6  ,   2.89 ,   3.58 ,   5.8  ,  27.5  ,\n",
       "         2.49 ,   4.9  ,   3.48 ,  10.3  ,   1.   , 100.   ,   3.59 ])"
      ]
     },
     "execution_count": 18,
     "metadata": {},
     "output_type": "execute_result"
    }
   ],
   "source": [
    "data['ceiling_height'].unique()"
   ]
  },
  {
   "cell_type": "code",
   "execution_count": 19,
   "metadata": {},
   "outputs": [
    {
     "data": {
      "text/plain": [
       "array([2.7  , 2.615, 3.03 , 2.6  , 2.64 , 2.5  , 2.67 , 2.55 , 2.56 ,\n",
       "       3.05 , 2.75 , 2.9  , 2.56 , 2.8  , 3.   , 2.65 , 3.2  , 2.61 ,\n",
       "       3.25 , 3.45 , 2.77 , 2.85 , 2.525, 2.57 , 4.15 , 3.5  , 3.3  ,\n",
       "       2.71 , 4.   , 2.47 , 2.73 , 2.84 , 3.1  , 2.34 , 3.4  , 2.52 ,\n",
       "       3.06 , 2.72 , 2.54 , 2.51 , 2.78 , 2.76 , 2.58 , 3.7  , 2.87 ,\n",
       "       2.66 , 2.59 , 2.   , 2.45 , 3.6  , 3.9  , 2.92 , 3.11 , 3.13 ,\n",
       "       3.8  , 3.15 , 3.55 , 3.16 , 3.62 , 3.12 , 2.53 , 2.74 , 2.96 ,\n",
       "       2.46 , 5.   , 2.79 , 2.95 , 4.06 , 2.94 , 3.82 , 3.54 , 3.53 ,\n",
       "       2.83 , 4.7  , 2.4  , 3.38 , 3.01 , 3.65 , 3.18 , 3.35 , 2.3  ,\n",
       "       3.57 , 2.48 , 2.515, 2.62 , 2.82 , 2.65 , 3.98 , 2.63 , 3.83 ,\n",
       "       3.52 , 3.95 , 3.75 , 2.88 , 3.67 , 3.87 , 3.66 , 3.85 , 3.86 ,\n",
       "       4.19 , 3.24 , 4.8  , 4.5  , 4.2  , 3.36 , 3.08 , 3.68 , 3.07 ,\n",
       "       3.37 , 3.09 , 3.26 , 3.34 , 2.81 , 3.44 , 2.97 , 3.14 , 2.725,\n",
       "       4.37 , 2.68 , 2.6  , 3.22 , 3.27 , 2.675, 4.1  , 2.93 , 3.46 ,\n",
       "       3.47 , 3.33 , 3.63 , 2.625, 3.32 , 2.98 , 2.86 , 3.17 , 4.4  ,\n",
       "       3.28 , 3.04 , 4.45 , 3.84 , 3.23 , 3.02 , 3.21 , 3.43 , 2.575,\n",
       "       2.555, 3.78 , 4.3  , 3.39 , 2.69 , 3.31 , 4.65 , 3.56 , 2.2  ,\n",
       "       3.51 , 3.93 , 3.42 , 2.99 , 3.49 , 4.14 , 2.91 , 3.88 , 4.25 ,\n",
       "       3.29 , 2.25 , 3.76 , 3.69 , 2.26 , 2.89 , 3.58 , 2.49 , 4.9  ,\n",
       "       3.48 , 3.59 ])"
      ]
     },
     "execution_count": 19,
     "metadata": {},
     "output_type": "execute_result"
    }
   ],
   "source": [
    "data.loc[data['ceiling_height']>5,'ceiling_height']=data['ceiling_height']/10\n",
    "data=data.loc[data['ceiling_height'].between(2,5)]\n",
    "data['ceiling_height'].unique()"
   ]
  },
  {
   "cell_type": "code",
   "execution_count": 20,
   "metadata": {},
   "outputs": [
    {
     "data": {
      "text/plain": [
       "0"
      ]
     },
     "execution_count": 20,
     "metadata": {},
     "output_type": "execute_result"
    }
   ],
   "source": [
    "data.duplicated().sum()"
   ]
  },
  {
   "cell_type": "markdown",
   "metadata": {},
   "source": [
    "*В столбце с высотой потолков сначала все значения,которые больше 5 метров ( выше 5 метров потолки в обычных квартирах вряд ли существуют), разделил на 10, предполагая ,что ошиблись при занесении этих значений и точку не туда поставили и ограничил высоту от 2 до 5.\n",
    "Так же проверил на дубликаты, их не обнаружено"
   ]
  },
  {
   "cell_type": "markdown",
   "metadata": {},
   "source": [
    "### Посчитайте и добавьте в таблицу новые столбцы"
   ]
  },
  {
   "cell_type": "markdown",
   "metadata": {},
   "source": [
    "***Цена одного квадратного метра***"
   ]
  },
  {
   "cell_type": "code",
   "execution_count": 21,
   "metadata": {},
   "outputs": [],
   "source": [
    "data['price_per_metre']=data['show_start_date']/data['total_area']"
   ]
  },
  {
   "cell_type": "markdown",
   "metadata": {},
   "source": [
    "***день недели публикации объявления***"
   ]
  },
  {
   "cell_type": "code",
   "execution_count": 22,
   "metadata": {},
   "outputs": [],
   "source": [
    "data['weekday']=data['first_day_exposition'].dt.weekday "
   ]
  },
  {
   "cell_type": "markdown",
   "metadata": {},
   "source": [
    "***месяц публикации объявления***"
   ]
  },
  {
   "cell_type": "code",
   "execution_count": 23,
   "metadata": {},
   "outputs": [],
   "source": [
    "data['month']=data['first_day_exposition'].dt.month "
   ]
  },
  {
   "cell_type": "markdown",
   "metadata": {},
   "source": [
    "***год публикации объявления***"
   ]
  },
  {
   "cell_type": "code",
   "execution_count": 24,
   "metadata": {},
   "outputs": [],
   "source": [
    "data['year']=data['first_day_exposition'].dt.year "
   ]
  },
  {
   "cell_type": "markdown",
   "metadata": {},
   "source": [
    "***тип этажа квартиры***"
   ]
  },
  {
   "cell_type": "code",
   "execution_count": 25,
   "metadata": {},
   "outputs": [],
   "source": [
    "def floor_types(current,total):\n",
    "    if current == total:\n",
    "        return 'последний'\n",
    "    elif current == 1:\n",
    "        return 'первый'\n",
    "    return 'другой'\n",
    "\n",
    "data['floor_type']=data.apply(lambda x: floor_types(x.floor,x.floors_total),axis=1)"
   ]
  },
  {
   "cell_type": "markdown",
   "metadata": {},
   "source": [
    "***Расстояние до центра города в километрах***"
   ]
  },
  {
   "cell_type": "code",
   "execution_count": 26,
   "metadata": {},
   "outputs": [
    {
     "data": {
      "text/html": [
       "<div>\n",
       "<style scoped>\n",
       "    .dataframe tbody tr th:only-of-type {\n",
       "        vertical-align: middle;\n",
       "    }\n",
       "\n",
       "    .dataframe tbody tr th {\n",
       "        vertical-align: top;\n",
       "    }\n",
       "\n",
       "    .dataframe thead th {\n",
       "        text-align: right;\n",
       "    }\n",
       "</style>\n",
       "<table border=\"1\" class=\"dataframe\">\n",
       "  <thead>\n",
       "    <tr style=\"text-align: right;\">\n",
       "      <th></th>\n",
       "      <th>cityCenters_nearest</th>\n",
       "      <th>km_to_city</th>\n",
       "    </tr>\n",
       "  </thead>\n",
       "  <tbody>\n",
       "    <tr>\n",
       "      <th>0</th>\n",
       "      <td>16028.0</td>\n",
       "      <td>16.0</td>\n",
       "    </tr>\n",
       "    <tr>\n",
       "      <th>1</th>\n",
       "      <td>18603.0</td>\n",
       "      <td>18.0</td>\n",
       "    </tr>\n",
       "    <tr>\n",
       "      <th>2</th>\n",
       "      <td>13933.0</td>\n",
       "      <td>13.0</td>\n",
       "    </tr>\n",
       "    <tr>\n",
       "      <th>3</th>\n",
       "      <td>6800.0</td>\n",
       "      <td>6.0</td>\n",
       "    </tr>\n",
       "    <tr>\n",
       "      <th>4</th>\n",
       "      <td>8098.0</td>\n",
       "      <td>8.0</td>\n",
       "    </tr>\n",
       "    <tr>\n",
       "      <th>...</th>\n",
       "      <td>...</td>\n",
       "      <td>...</td>\n",
       "    </tr>\n",
       "    <tr>\n",
       "      <th>23693</th>\n",
       "      <td>34104.0</td>\n",
       "      <td>34.0</td>\n",
       "    </tr>\n",
       "    <tr>\n",
       "      <th>23694</th>\n",
       "      <td>4232.0</td>\n",
       "      <td>4.0</td>\n",
       "    </tr>\n",
       "    <tr>\n",
       "      <th>23695</th>\n",
       "      <td>NaN</td>\n",
       "      <td>NaN</td>\n",
       "    </tr>\n",
       "    <tr>\n",
       "      <th>23697</th>\n",
       "      <td>10364.0</td>\n",
       "      <td>10.0</td>\n",
       "    </tr>\n",
       "    <tr>\n",
       "      <th>23698</th>\n",
       "      <td>NaN</td>\n",
       "      <td>NaN</td>\n",
       "    </tr>\n",
       "  </tbody>\n",
       "</table>\n",
       "<p>23425 rows × 2 columns</p>\n",
       "</div>"
      ],
      "text/plain": [
       "       cityCenters_nearest  km_to_city\n",
       "0                  16028.0        16.0\n",
       "1                  18603.0        18.0\n",
       "2                  13933.0        13.0\n",
       "3                   6800.0         6.0\n",
       "4                   8098.0         8.0\n",
       "...                    ...         ...\n",
       "23693              34104.0        34.0\n",
       "23694               4232.0         4.0\n",
       "23695                  NaN         NaN\n",
       "23697              10364.0        10.0\n",
       "23698                  NaN         NaN\n",
       "\n",
       "[23425 rows x 2 columns]"
      ]
     },
     "execution_count": 26,
     "metadata": {},
     "output_type": "execute_result"
    }
   ],
   "source": [
    "data['km_to_city']=(data['cityCenters_nearest']/1000).apply(np.floor)\n",
    "data[['cityCenters_nearest','km_to_city']]"
   ]
  },
  {
   "cell_type": "markdown",
   "metadata": {},
   "source": [
    "### Проведите исследовательский анализ данных"
   ]
  },
  {
   "cell_type": "markdown",
   "metadata": {},
   "source": [
    "- общая площадь"
   ]
  },
  {
   "cell_type": "code",
   "execution_count": 27,
   "metadata": {},
   "outputs": [
    {
     "data": {
      "text/plain": [
       "count    23425.000000\n",
       "mean        60.349804\n",
       "std         35.589880\n",
       "min         12.000000\n",
       "25%         40.000000\n",
       "50%         52.000000\n",
       "75%         70.000000\n",
       "max        900.000000\n",
       "Name: total_area, dtype: float64"
      ]
     },
     "execution_count": 27,
     "metadata": {},
     "output_type": "execute_result"
    }
   ],
   "source": [
    "data['total_area'].describe()"
   ]
  },
  {
   "cell_type": "code",
   "execution_count": 98,
   "metadata": {},
   "outputs": [
    {
     "data": {
      "text/plain": [
       "<AxesSubplot:>"
      ]
     },
     "execution_count": 98,
     "metadata": {},
     "output_type": "execute_result"
    },
    {
     "data": {
      "image/png": "[encoded data removed]",
      "text/plain": [
       "<Figure size 432x288 with 1 Axes>"
      ]
     },
     "metadata": {
      "needs_background": "light"
     },
     "output_type": "display_data"
    }
   ],
   "source": [
    "data['total_area'].hist(range=(0,200))"
   ]
  },
  {
   "cell_type": "markdown",
   "metadata": {},
   "source": [
    "Анализируя распределение площадей квартир на основании графика и таблицы с основными статистичискими параметрами , можно сказать что общаяя площадь варируется от 12 до 900 метров, средняя площадь квартир равна почти 61 кв.м."
   ]
  },
  {
   "cell_type": "markdown",
   "metadata": {},
   "source": [
    "- жилая площадь"
   ]
  },
  {
   "cell_type": "code",
   "execution_count": 29,
   "metadata": {},
   "outputs": [
    {
     "data": {
      "text/plain": [
       "count    21586.000000\n",
       "mean        34.464974\n",
       "std         22.029035\n",
       "min          2.000000\n",
       "25%         18.600000\n",
       "50%         30.000000\n",
       "75%         42.300000\n",
       "max        409.700000\n",
       "Name: living_area, dtype: float64"
      ]
     },
     "execution_count": 29,
     "metadata": {},
     "output_type": "execute_result"
    }
   ],
   "source": [
    "data['living_area'].describe()"
   ]
  },
  {
   "cell_type": "code",
   "execution_count": 30,
   "metadata": {},
   "outputs": [
    {
     "data": {
      "text/plain": [
       "<AxesSubplot:>"
      ]
     },
     "execution_count": 30,
     "metadata": {},
     "output_type": "execute_result"
    },
    {
     "data": {
      "image/png": "[encoded data removed]",
      "text/plain": [
       "<Figure size 432x288 with 1 Axes>"
      ]
     },
     "metadata": {
      "needs_background": "light"
     },
     "output_type": "display_data"
    }
   ],
   "source": [
    "data['living_area'].hist(range=(0,300))"
   ]
  },
  {
   "cell_type": "markdown",
   "metadata": {},
   "source": [
    "Анализируя распределение жилых площадей квартир на основании графика и таблицы с основными статистичискими параметрами , можно сказать что жилая площадь варируется от 2 до 409 метров, средняя жилая площадь квартир равна почти 35 кв.м. Площадь в 2 кв.м. очень подозрительна.\n"
   ]
  },
  {
   "cell_type": "markdown",
   "metadata": {},
   "source": [
    "- площадь кухни"
   ]
  },
  {
   "cell_type": "code",
   "execution_count": 31,
   "metadata": {},
   "outputs": [
    {
     "data": {
      "text/plain": [
       "count    21236.000000\n",
       "mean        10.568749\n",
       "std          5.897725\n",
       "min          1.300000\n",
       "25%          7.000000\n",
       "50%          9.100000\n",
       "75%         12.000000\n",
       "max        112.000000\n",
       "Name: kitchen_area, dtype: float64"
      ]
     },
     "execution_count": 31,
     "metadata": {},
     "output_type": "execute_result"
    }
   ],
   "source": [
    "data['kitchen_area'].describe()"
   ]
  },
  {
   "cell_type": "code",
   "execution_count": 32,
   "metadata": {},
   "outputs": [
    {
     "data": {
      "text/plain": [
       "<AxesSubplot:>"
      ]
     },
     "execution_count": 32,
     "metadata": {},
     "output_type": "execute_result"
    },
    {
     "data": {
      "image/png": "[encoded data removed]",
      "text/plain": [
       "<Figure size 432x288 with 1 Axes>"
      ]
     },
     "metadata": {
      "needs_background": "light"
     },
     "output_type": "display_data"
    }
   ],
   "source": [
    "data['kitchen_area'].hist(range=(0,80))"
   ]
  },
  {
   "cell_type": "markdown",
   "metadata": {},
   "source": [
    "Анализируя распределение площадей кухонь на основании графика и таблицы с основными статистичискими параметрами , можно сказать что площадь кухонь варируется от 1.3 до 112 метров, средняя площадь кухонь равна 10.5 кв.м. Площадь в 1.3 кв.м. вряд ли возможно в реальности"
   ]
  },
  {
   "cell_type": "markdown",
   "metadata": {},
   "source": [
    "- цена объекта"
   ]
  },
  {
   "cell_type": "code",
   "execution_count": 33,
   "metadata": {},
   "outputs": [
    {
     "data": {
      "text/plain": [
       "count    23425.000000\n",
       "mean         6.548526\n",
       "std         10.854945\n",
       "min          0.012190\n",
       "25%          3.450000\n",
       "50%          4.650000\n",
       "75%          6.800000\n",
       "max        763.000000\n",
       "Name: last_price_lemon, dtype: float64"
      ]
     },
     "execution_count": 33,
     "metadata": {},
     "output_type": "execute_result"
    }
   ],
   "source": [
    "data['last_price_lemon']=data['last_price']/1000000\n",
    "data['last_price_lemon'].describe()"
   ]
  },
  {
   "cell_type": "code",
   "execution_count": 34,
   "metadata": {},
   "outputs": [
    {
     "data": {
      "text/plain": [
       "<AxesSubplot:>"
      ]
     },
     "execution_count": 34,
     "metadata": {},
     "output_type": "execute_result"
    },
    {
     "data": {
      "image/png": "[encoded data removed]",
      "text/plain": [
       "<Figure size 432x288 with 1 Axes>"
      ]
     },
     "metadata": {
      "needs_background": "light"
     },
     "output_type": "display_data"
    }
   ],
   "source": [
    "data['last_price_lemon'].hist(range=(0,200))"
   ]
  },
  {
   "cell_type": "markdown",
   "metadata": {},
   "source": [
    "Анализируя распределение стоимости квартир на основании графика и таблицы с основными статистичискими параметрами , можно сказать что стоимость квартир варируется от 0.01 до 763 миллионов, средняя стоимость квартиры равна почти 7 миллионов"
   ]
  },
  {
   "cell_type": "markdown",
   "metadata": {},
   "source": [
    "- количество комнат"
   ]
  },
  {
   "cell_type": "code",
   "execution_count": 35,
   "metadata": {},
   "outputs": [
    {
     "data": {
      "text/plain": [
       "count    23425.000000\n",
       "mean         2.071419\n",
       "std          1.079284\n",
       "min          0.000000\n",
       "25%          1.000000\n",
       "50%          2.000000\n",
       "75%          3.000000\n",
       "max         19.000000\n",
       "Name: rooms, dtype: float64"
      ]
     },
     "execution_count": 35,
     "metadata": {},
     "output_type": "execute_result"
    }
   ],
   "source": [
    "data['rooms'].describe()"
   ]
  },
  {
   "cell_type": "code",
   "execution_count": 36,
   "metadata": {},
   "outputs": [
    {
     "data": {
      "text/plain": [
       "<AxesSubplot:>"
      ]
     },
     "execution_count": 36,
     "metadata": {},
     "output_type": "execute_result"
    },
    {
     "data": {
      "image/png": "[encoded data removed]",
      "text/plain": [
       "<Figure size 432x288 with 1 Axes>"
      ]
     },
     "metadata": {
      "needs_background": "light"
     },
     "output_type": "display_data"
    }
   ],
   "source": [
    "data['rooms'].hist()"
   ]
  },
  {
   "cell_type": "code",
   "execution_count": 37,
   "metadata": {},
   "outputs": [
    {
     "data": {
      "text/plain": [
       "1     7961\n",
       "2     7834\n",
       "3     5754\n",
       "4     1169\n",
       "5      323\n",
       "0      191\n",
       "6      103\n",
       "7       59\n",
       "8       12\n",
       "9        8\n",
       "10       3\n",
       "11       2\n",
       "14       2\n",
       "19       1\n",
       "16       1\n",
       "12       1\n",
       "15       1\n",
       "Name: rooms, dtype: int64"
      ]
     },
     "execution_count": 37,
     "metadata": {},
     "output_type": "execute_result"
    }
   ],
   "source": [
    "data['rooms'].value_counts()"
   ]
  },
  {
   "cell_type": "markdown",
   "metadata": {},
   "source": [
    " Анализируя распределение количества комнат в квартирах на основании графика и таблицы с основными статистичискими параметрами , можно сказать что количество комнат варируется от 0 до 19 , среднее количество комнат равно 2. 194 объявления с количеством комнат равным 0"
   ]
  },
  {
   "cell_type": "markdown",
   "metadata": {},
   "source": [
    "- высота потолков"
   ]
  },
  {
   "cell_type": "code",
   "execution_count": 38,
   "metadata": {},
   "outputs": [
    {
     "data": {
      "text/plain": [
       "count    23425.000000\n",
       "mean         2.702834\n",
       "std          0.221339\n",
       "min          2.000000\n",
       "25%          2.550000\n",
       "50%          2.700000\n",
       "75%          2.700000\n",
       "max          5.000000\n",
       "Name: ceiling_height, dtype: float64"
      ]
     },
     "execution_count": 38,
     "metadata": {},
     "output_type": "execute_result"
    }
   ],
   "source": [
    "data['ceiling_height'].describe()"
   ]
  },
  {
   "cell_type": "code",
   "execution_count": 39,
   "metadata": {},
   "outputs": [
    {
     "data": {
      "text/plain": [
       "<AxesSubplot:>"
      ]
     },
     "execution_count": 39,
     "metadata": {},
     "output_type": "execute_result"
    },
    {
     "data": {
      "image/png": "[encoded data removed]",
      "text/plain": [
       "<Figure size 432x288 with 1 Axes>"
      ]
     },
     "metadata": {
      "needs_background": "light"
     },
     "output_type": "display_data"
    }
   ],
   "source": [
    "data['ceiling_height'].hist()"
   ]
  },
  {
   "cell_type": "code",
   "execution_count": 40,
   "metadata": {},
   "outputs": [
    {
     "data": {
      "text/plain": [
       "2.70    7759\n",
       "2.50    4167\n",
       "2.60    2134\n",
       "2.55    1571\n",
       "2.75    1118\n",
       "        ... \n",
       "3.59       1\n",
       "3.48       1\n",
       "4.90       1\n",
       "2.49       1\n",
       "4.65       1\n",
       "Name: ceiling_height, Length: 173, dtype: int64"
      ]
     },
     "execution_count": 40,
     "metadata": {},
     "output_type": "execute_result"
    }
   ],
   "source": [
    "data['ceiling_height'].value_counts()"
   ]
  },
  {
   "cell_type": "markdown",
   "metadata": {},
   "source": [
    "Анализируя распределение высот потолков в квартирах на основании графика и таблицы с основными статистичискими параметрами , можно сказать что высоты потолков варируется от 2 до 5 , средняя высота потолков равна 2.7. Стоит отметить,что диапазон 2-5 метров был установлен мной выше в разделе обработки аномальных значений. Для более подробного анализа этих параметров стоило бы перепроверить исходные данные, проконсультироваться, возможно изменить диапазон."
   ]
  },
  {
   "cell_type": "markdown",
   "metadata": {},
   "source": [
    "- этаж квартиры"
   ]
  },
  {
   "cell_type": "code",
   "execution_count": 41,
   "metadata": {},
   "outputs": [
    {
     "data": {
      "text/plain": [
       "count    23425.000000\n",
       "mean         5.894941\n",
       "std          4.877445\n",
       "min          1.000000\n",
       "25%          2.000000\n",
       "50%          4.000000\n",
       "75%          8.000000\n",
       "max         33.000000\n",
       "Name: floor, dtype: float64"
      ]
     },
     "execution_count": 41,
     "metadata": {},
     "output_type": "execute_result"
    }
   ],
   "source": [
    "data['floor'].describe()"
   ]
  },
  {
   "cell_type": "code",
   "execution_count": 42,
   "metadata": {},
   "outputs": [
    {
     "data": {
      "text/plain": [
       "<AxesSubplot:>"
      ]
     },
     "execution_count": 42,
     "metadata": {},
     "output_type": "execute_result"
    },
    {
     "data": {
      "image/png": "[encoded data removed]",
      "text/plain": [
       "<Figure size 432x288 with 1 Axes>"
      ]
     },
     "metadata": {
      "needs_background": "light"
     },
     "output_type": "display_data"
    }
   ],
   "source": [
    "data['floor'].hist()"
   ]
  },
  {
   "cell_type": "code",
   "execution_count": 43,
   "metadata": {},
   "outputs": [
    {
     "data": {
      "text/plain": [
       "2     3320\n",
       "3     3039\n",
       "1     2869\n",
       "4     2777\n",
       "5     2590\n",
       "6     1291\n",
       "7     1208\n",
       "8     1074\n",
       "9     1045\n",
       "10     684\n",
       "11     520\n",
       "12     519\n",
       "13     376\n",
       "15     339\n",
       "14     332\n",
       "16     315\n",
       "17     225\n",
       "18     175\n",
       "19     144\n",
       "21     119\n",
       "22     111\n",
       "20     108\n",
       "23      98\n",
       "24      61\n",
       "25      46\n",
       "26      24\n",
       "27      10\n",
       "28       1\n",
       "29       1\n",
       "32       1\n",
       "30       1\n",
       "33       1\n",
       "31       1\n",
       "Name: floor, dtype: int64"
      ]
     },
     "execution_count": 43,
     "metadata": {},
     "output_type": "execute_result"
    }
   ],
   "source": [
    "data['floor'].value_counts()"
   ]
  },
  {
   "cell_type": "markdown",
   "metadata": {},
   "source": [
    "Анализируя распределение этажей квартир из объявлений на основании графика и таблицы с основными статистичискими параметрами , можно сказать что этажность продаваемых квартир варируется от 1 до 33 , медианный этаж четвертый. Больше всего квартир продается на втором этаже."
   ]
  },
  {
   "cell_type": "markdown",
   "metadata": {},
   "source": [
    "- тип этажа квартиры"
   ]
  },
  {
   "cell_type": "code",
   "execution_count": 44,
   "metadata": {},
   "outputs": [
    {
     "data": {
      "text/plain": [
       "другой       17273\n",
       "последний     3306\n",
       "первый        2846\n",
       "Name: floor_type, dtype: int64"
      ]
     },
     "execution_count": 44,
     "metadata": {},
     "output_type": "execute_result"
    }
   ],
   "source": [
    "data['floor_type'].value_counts()"
   ]
  },
  {
   "cell_type": "code",
   "execution_count": 45,
   "metadata": {},
   "outputs": [
    {
     "data": {
      "text/plain": [
       "<AxesSubplot:>"
      ]
     },
     "execution_count": 45,
     "metadata": {},
     "output_type": "execute_result"
    },
    {
     "data": {
      "image/png": "[encoded data removed]",
      "text/plain": [
       "<Figure size 432x288 with 1 Axes>"
      ]
     },
     "metadata": {
      "needs_background": "light"
     },
     "output_type": "display_data"
    }
   ],
   "source": [
    "data['floor_type'].hist()"
   ]
  },
  {
   "cell_type": "markdown",
   "metadata": {},
   "source": [
    "По графику и таблтце видно,что больше всего квартир продается с \"другого\" этажа."
   ]
  },
  {
   "cell_type": "markdown",
   "metadata": {},
   "source": [
    "- общее количество этажей в доме"
   ]
  },
  {
   "cell_type": "code",
   "execution_count": 46,
   "metadata": {},
   "outputs": [
    {
     "data": {
      "text/plain": [
       "count    23425.000000\n",
       "mean        10.710309\n",
       "std          6.592216\n",
       "min          1.000000\n",
       "25%          5.000000\n",
       "50%          9.000000\n",
       "75%         16.000000\n",
       "max         60.000000\n",
       "Name: floors_total, dtype: float64"
      ]
     },
     "execution_count": 46,
     "metadata": {},
     "output_type": "execute_result"
    }
   ],
   "source": [
    "data['floors_total'].describe()"
   ]
  },
  {
   "cell_type": "code",
   "execution_count": 47,
   "metadata": {},
   "outputs": [
    {
     "data": {
      "text/plain": [
       "<AxesSubplot:>"
      ]
     },
     "execution_count": 47,
     "metadata": {},
     "output_type": "execute_result"
    },
    {
     "data": {
      "image/png": "[encoded data removed]",
      "text/plain": [
       "<Figure size 432x288 with 1 Axes>"
      ]
     },
     "metadata": {
      "needs_background": "light"
     },
     "output_type": "display_data"
    }
   ],
   "source": [
    "data['floors_total'].hist()"
   ]
  },
  {
   "cell_type": "code",
   "execution_count": 48,
   "metadata": {},
   "outputs": [
    {
     "data": {
      "text/plain": [
       "5     5712\n",
       "9     3756\n",
       "16    1372\n",
       "12    1360\n",
       "4     1179\n",
       "10    1174\n",
       "25    1075\n",
       "6      906\n",
       "17     832\n",
       "3      645\n",
       "7      588\n",
       "14     552\n",
       "18     504\n",
       "24     462\n",
       "8      387\n",
       "15     365\n",
       "2      358\n",
       "23     349\n",
       "19     339\n",
       "22     286\n",
       "20     271\n",
       "13     229\n",
       "11     202\n",
       "27     164\n",
       "21     158\n",
       "26     124\n",
       "35      24\n",
       "1       23\n",
       "28      21\n",
       "36       3\n",
       "34       1\n",
       "60       1\n",
       "52       1\n",
       "29       1\n",
       "33       1\n",
       "Name: floors_total, dtype: int64"
      ]
     },
     "execution_count": 48,
     "metadata": {},
     "output_type": "execute_result"
    }
   ],
   "source": [
    "data['floors_total'].value_counts()"
   ]
  },
  {
   "cell_type": "markdown",
   "metadata": {},
   "source": [
    "Анализируя распределение общего количества этажей в домах где продаются квартиры, на основании графика и таблицы с основными статистичискими параметрами , можно сказать что этажность домов где продаются квартиры варируется от 1 до 60, медианный этаж 9. Больше всего квартир продается в домах с количеством этажей равным пяти"
   ]
  },
  {
   "cell_type": "markdown",
   "metadata": {},
   "source": [
    "- расстояние до центра города в метрах"
   ]
  },
  {
   "cell_type": "code",
   "execution_count": 49,
   "metadata": {},
   "outputs": [
    {
     "data": {
      "text/plain": [
       "count    18113.000000\n",
       "mean     14194.260007\n",
       "std       8607.907516\n",
       "min        181.000000\n",
       "25%       9265.000000\n",
       "50%      13073.000000\n",
       "75%      16275.000000\n",
       "max      65968.000000\n",
       "Name: cityCenters_nearest, dtype: float64"
      ]
     },
     "execution_count": 49,
     "metadata": {},
     "output_type": "execute_result"
    }
   ],
   "source": [
    "data['cityCenters_nearest'].describe()"
   ]
  },
  {
   "cell_type": "code",
   "execution_count": 50,
   "metadata": {},
   "outputs": [
    {
     "data": {
      "text/plain": [
       "<AxesSubplot:>"
      ]
     },
     "execution_count": 50,
     "metadata": {},
     "output_type": "execute_result"
    },
    {
     "data": {
      "image/png": "[encoded data removed]",
      "text/plain": [
       "<Figure size 432x288 with 1 Axes>"
      ]
     },
     "metadata": {
      "needs_background": "light"
     },
     "output_type": "display_data"
    }
   ],
   "source": [
    "data['cityCenters_nearest'].hist()"
   ]
  },
  {
   "cell_type": "markdown",
   "metadata": {},
   "source": [
    "Анализируя распределение расстояний от домов где продаются квартиры до центра города, на основании графика и таблицы с основными статистичискими параметрами , можно сказать что в среднем до ближайшего города 14 км. Самый дальний дом находится на расстоянии 65 км, ближайший на расстоянии 181 м."
   ]
  },
  {
   "cell_type": "markdown",
   "metadata": {},
   "source": [
    "- расстояние до ближайшего аэропорта"
   ]
  },
  {
   "cell_type": "code",
   "execution_count": 51,
   "metadata": {},
   "outputs": [
    {
     "data": {
      "text/plain": [
       "count    18021.000000\n",
       "mean     28797.808113\n",
       "std      12634.295894\n",
       "min          0.000000\n",
       "25%      18557.000000\n",
       "50%      26758.000000\n",
       "75%      37277.000000\n",
       "max      84869.000000\n",
       "Name: airports_nearest, dtype: float64"
      ]
     },
     "execution_count": 51,
     "metadata": {},
     "output_type": "execute_result"
    }
   ],
   "source": [
    "data['airports_nearest'].describe()"
   ]
  },
  {
   "cell_type": "code",
   "execution_count": 52,
   "metadata": {},
   "outputs": [
    {
     "data": {
      "text/plain": [
       "<AxesSubplot:>"
      ]
     },
     "execution_count": 52,
     "metadata": {},
     "output_type": "execute_result"
    },
    {
     "data": {
      "image/png": "[encoded data removed]",
      "text/plain": [
       "<Figure size 432x288 with 1 Axes>"
      ]
     },
     "metadata": {
      "needs_background": "light"
     },
     "output_type": "display_data"
    }
   ],
   "source": [
    "data['airports_nearest'].hist()"
   ]
  },
  {
   "cell_type": "markdown",
   "metadata": {},
   "source": [
    "Анализируя распределение расстояний от домов где продаются квартиры до аэропорта, на основании графика и таблицы с основными статистичискими параметрами , можно сказать что в среднем до ближайшего аэропорта 28 км. Самый дальний дом находится на расстоянии 84 км, ближайший на расстоянии 0 м, что вызывает вопросы к данным."
   ]
  },
  {
   "cell_type": "markdown",
   "metadata": {},
   "source": [
    "- расстояние до ближайшего парка"
   ]
  },
  {
   "cell_type": "code",
   "execution_count": 53,
   "metadata": {},
   "outputs": [
    {
     "data": {
      "text/plain": [
       "count    8020.000000\n",
       "mean      490.721072\n",
       "std       341.710178\n",
       "min         1.000000\n",
       "25%       288.000000\n",
       "50%       455.000000\n",
       "75%       612.000000\n",
       "max      3190.000000\n",
       "Name: parks_nearest, dtype: float64"
      ]
     },
     "execution_count": 53,
     "metadata": {},
     "output_type": "execute_result"
    }
   ],
   "source": [
    "data['parks_nearest'].describe()"
   ]
  },
  {
   "cell_type": "code",
   "execution_count": 54,
   "metadata": {},
   "outputs": [
    {
     "data": {
      "text/plain": [
       "<AxesSubplot:>"
      ]
     },
     "execution_count": 54,
     "metadata": {},
     "output_type": "execute_result"
    },
    {
     "data": {
      "image/png": "[encoded data removed]",
      "text/plain": [
       "<Figure size 432x288 with 1 Axes>"
      ]
     },
     "metadata": {
      "needs_background": "light"
     },
     "output_type": "display_data"
    }
   ],
   "source": [
    "data['parks_nearest'].hist()"
   ]
  },
  {
   "cell_type": "markdown",
   "metadata": {},
   "source": [
    "Анализируя распределение расстояний от домов где продаются квартиры до парка , на основании графика и таблицы с основными статистичискими параметрами , можно сказать что в среднем до ближайшего парка 490 м. Самый дальний дом находится на расстоянии 3 км, ближайший на расстоянии 1 м."
   ]
  },
  {
   "cell_type": "markdown",
   "metadata": {},
   "source": [
    "- день и месяц публикации объявления"
   ]
  },
  {
   "cell_type": "code",
   "execution_count": 55,
   "metadata": {},
   "outputs": [
    {
     "data": {
      "text/plain": [
       "2     2619\n",
       "3     2556\n",
       "11    2346\n",
       "4     2345\n",
       "10    2099\n",
       "9     1962\n",
       "6     1730\n",
       "8     1728\n",
       "7     1676\n",
       "12    1626\n",
       "1     1482\n",
       "5     1256\n",
       "Name: first_day_exposition, dtype: int64"
      ]
     },
     "execution_count": 55,
     "metadata": {},
     "output_type": "execute_result"
    }
   ],
   "source": [
    "data['first_day_exposition'].dt.month.value_counts()"
   ]
  },
  {
   "cell_type": "code",
   "execution_count": 56,
   "metadata": {
    "scrolled": true
   },
   "outputs": [
    {
     "data": {
      "text/plain": [
       "<AxesSubplot:>"
      ]
     },
     "execution_count": 56,
     "metadata": {},
     "output_type": "execute_result"
    },
    {
     "data": {
      "image/png": "[encoded data removed]",
      "text/plain": [
       "<Figure size 432x288 with 1 Axes>"
      ]
     },
     "metadata": {
      "needs_background": "light"
     },
     "output_type": "display_data"
    }
   ],
   "source": [
    "data['first_day_exposition'].dt.month.hist()"
   ]
  },
  {
   "cell_type": "markdown",
   "metadata": {},
   "source": [
    "По данному распределению видно,что объявления публикуются активнее в начале и конце года, в середине года количество публикаций меньше более чем в два раза."
   ]
  },
  {
   "cell_type": "code",
   "execution_count": 57,
   "metadata": {},
   "outputs": [
    {
     "data": {
      "text/plain": [
       "1     1119\n",
       "10    1087\n",
       "26     887\n",
       "20     860\n",
       "12     860\n",
       "14     828\n",
       "11     825\n",
       "13     821\n",
       "15     818\n",
       "21     813\n",
       "22     795\n",
       "27     790\n",
       "9      780\n",
       "8      773\n",
       "19     763\n",
       "18     758\n",
       "25     749\n",
       "28     742\n",
       "17     740\n",
       "16     723\n",
       "7      720\n",
       "23     706\n",
       "4      699\n",
       "24     674\n",
       "29     674\n",
       "2      668\n",
       "6      656\n",
       "3      644\n",
       "5      615\n",
       "30     518\n",
       "31     320\n",
       "Name: first_day_exposition, dtype: int64"
      ]
     },
     "execution_count": 57,
     "metadata": {},
     "output_type": "execute_result"
    }
   ],
   "source": [
    "data['first_day_exposition'].dt.day.value_counts()"
   ]
  },
  {
   "cell_type": "code",
   "execution_count": 58,
   "metadata": {},
   "outputs": [
    {
     "data": {
      "text/plain": [
       "<AxesSubplot:>"
      ]
     },
     "execution_count": 58,
     "metadata": {},
     "output_type": "execute_result"
    },
    {
     "data": {
      "image/png": "[encoded data removed]",
      "text/plain": [
       "<Figure size 432x288 with 1 Axes>"
      ]
     },
     "metadata": {
      "needs_background": "light"
     },
     "output_type": "display_data"
    }
   ],
   "source": [
    "data['first_day_exposition'].dt.day.hist()"
   ]
  },
  {
   "cell_type": "markdown",
   "metadata": {},
   "source": [
    "По данному распределению видно,что объявления публикуются практичиски с одинаковой частотой каждый день в течении месяца."
   ]
  },
  {
   "cell_type": "markdown",
   "metadata": {},
   "source": [
    "- Изучите, как быстро продавались квартиры"
   ]
  },
  {
   "cell_type": "code",
   "execution_count": 59,
   "metadata": {},
   "outputs": [
    {
     "data": {
      "text/plain": [
       "count    23425.000000\n",
       "mean       156.664376\n",
       "std        213.790957\n",
       "min          0.000000\n",
       "25%         22.000000\n",
       "50%         73.000000\n",
       "75%        199.000000\n",
       "max       1580.000000\n",
       "Name: days_exposition, dtype: float64"
      ]
     },
     "execution_count": 59,
     "metadata": {},
     "output_type": "execute_result"
    }
   ],
   "source": [
    "data['days_exposition'].describe()"
   ]
  },
  {
   "cell_type": "code",
   "execution_count": 96,
   "metadata": {},
   "outputs": [
    {
     "data": {
      "text/plain": [
       "<AxesSubplot:>"
      ]
     },
     "execution_count": 96,
     "metadata": {},
     "output_type": "execute_result"
    },
    {
     "data": {
      "image/png": "[encoded data removed]",
      "text/plain": [
       "<Figure size 432x288 with 1 Axes>"
      ]
     },
     "metadata": {
      "needs_background": "light"
     },
     "output_type": "display_data"
    }
   ],
   "source": [
    "data['days_exposition'].hist(bins = 100, range=(0,100))"
   ]
  },
  {
   "cell_type": "code",
   "execution_count": 61,
   "metadata": {},
   "outputs": [
    {
     "data": {
      "text/plain": [
       "0.0       3143\n",
       "45.0       859\n",
       "60.0       537\n",
       "7.0        233\n",
       "30.0       207\n",
       "          ... \n",
       "1114.0       1\n",
       "920.0        1\n",
       "1135.0       1\n",
       "1105.0       1\n",
       "1174.0       1\n",
       "Name: days_exposition, Length: 1140, dtype: int64"
      ]
     },
     "execution_count": 61,
     "metadata": {},
     "output_type": "execute_result"
    }
   ],
   "source": [
    "data['days_exposition'].value_counts()"
   ]
  },
  {
   "cell_type": "markdown",
   "metadata": {},
   "source": [
    " По данному распределению видно,что продажа квартиры занимает от 0 до 1580 дней. В 1580 дней еще можно поверить, хоть и мало вероятно. Непонятно что означает 0 ,либо продажу в тот же день, либо просто ошибку в заполнении.Медианное значение количества дней на продажу равно 73. Больше всего продали в 45 и 60 день, если не считать нули то в первый день.\n",
    "Чем больше дней висит объявление, тем меньшее количество квартир продаётся. Падение продаж начинается где-то с 30 дней."
   ]
  },
  {
   "cell_type": "markdown",
   "metadata": {},
   "source": [
    " ### Изучим какие факторы больше всего влияют на общую (полную) стоимость объекта."
   ]
  },
  {
   "cell_type": "markdown",
   "metadata": {},
   "source": [
    "- Изучим зависимость полной стоимости квартиры от общей площади."
   ]
  },
  {
   "cell_type": "code",
   "execution_count": 62,
   "metadata": {},
   "outputs": [
    {
     "data": {
      "image/png": "[encoded data removed]",
      "text/plain": [
       "<Figure size 864x432 with 1 Axes>"
      ]
     },
     "metadata": {
      "needs_background": "light"
     },
     "output_type": "display_data"
    }
   ],
   "source": [
    "data.pivot_table(index='total_area',values='last_price_lemon').plot(style='o',grid=True,figsize=(12,6))\n",
    "plt.show()"
   ]
  },
  {
   "cell_type": "code",
   "execution_count": 63,
   "metadata": {},
   "outputs": [
    {
     "data": {
      "text/plain": [
       "0.6518819429087368"
      ]
     },
     "execution_count": 63,
     "metadata": {},
     "output_type": "execute_result"
    }
   ],
   "source": [
    "data['total_area'].corr(data['last_price_lemon'])"
   ]
  },
  {
   "cell_type": "markdown",
   "metadata": {},
   "source": [
    "Наблюдается зависимость цены квартиры от общей площади квартиры"
   ]
  },
  {
   "cell_type": "markdown",
   "metadata": {},
   "source": [
    "- Изучим зависимость полной стоимости квартиры от жилой площади."
   ]
  },
  {
   "cell_type": "code",
   "execution_count": 64,
   "metadata": {},
   "outputs": [
    {
     "data": {
      "image/png": "[encoded data removed]",
      "text/plain": [
       "<Figure size 864x432 with 1 Axes>"
      ]
     },
     "metadata": {
      "needs_background": "light"
     },
     "output_type": "display_data"
    }
   ],
   "source": [
    "data.pivot_table(index='living_area',values='last_price_lemon').plot(style='o',grid=True,figsize=(12,6))\n",
    "plt.show()"
   ]
  },
  {
   "cell_type": "code",
   "execution_count": 65,
   "metadata": {},
   "outputs": [
    {
     "data": {
      "text/plain": [
       "0.5636597137841581"
      ]
     },
     "execution_count": 65,
     "metadata": {},
     "output_type": "execute_result"
    }
   ],
   "source": [
    "data['living_area'].corr(data['last_price_lemon'])"
   ]
  },
  {
   "cell_type": "markdown",
   "metadata": {},
   "source": [
    "Наблюдается зависимость цены квартиры от жилой площади квартиры"
   ]
  },
  {
   "cell_type": "markdown",
   "metadata": {},
   "source": [
    "- Изучим зависимость полной стоимости квартиры от площади кухни."
   ]
  },
  {
   "cell_type": "code",
   "execution_count": 66,
   "metadata": {},
   "outputs": [
    {
     "data": {
      "image/png": "[encoded data removed]",
      "text/plain": [
       "<Figure size 864x432 with 1 Axes>"
      ]
     },
     "metadata": {
      "needs_background": "light"
     },
     "output_type": "display_data"
    }
   ],
   "source": [
    "data.pivot_table(index='kitchen_area',values='last_price_lemon').plot(style='o',grid=True,figsize=(12,6))\n",
    "plt.show()"
   ]
  },
  {
   "cell_type": "code",
   "execution_count": 67,
   "metadata": {},
   "outputs": [
    {
     "data": {
      "text/plain": [
       "0.518437434957442"
      ]
     },
     "execution_count": 67,
     "metadata": {},
     "output_type": "execute_result"
    }
   ],
   "source": [
    "data['kitchen_area'].corr(data['last_price_lemon'])"
   ]
  },
  {
   "cell_type": "markdown",
   "metadata": {},
   "source": [
    "Наблюдается зависимость цены квартиры от кухонной площади квартиры"
   ]
  },
  {
   "cell_type": "markdown",
   "metadata": {},
   "source": [
    "- Изучим зависимость полной стоимости квартиры от количества комнат."
   ]
  },
  {
   "cell_type": "code",
   "execution_count": 68,
   "metadata": {},
   "outputs": [
    {
     "data": {
      "image/png": "[encoded data removed]",
      "text/plain": [
       "<Figure size 864x432 with 1 Axes>"
      ]
     },
     "metadata": {
      "needs_background": "light"
     },
     "output_type": "display_data"
    }
   ],
   "source": [
    "data.pivot_table(index='rooms',values='last_price_lemon').plot(grid=True,figsize=(12,6))\n",
    "plt.show()"
   ]
  },
  {
   "cell_type": "code",
   "execution_count": 69,
   "metadata": {},
   "outputs": [
    {
     "data": {
      "text/plain": [
       "0.3626230398073106"
      ]
     },
     "execution_count": 69,
     "metadata": {},
     "output_type": "execute_result"
    }
   ],
   "source": [
    "data['rooms'].corr(data['last_price_lemon'])"
   ]
  },
  {
   "cell_type": "markdown",
   "metadata": {},
   "source": [
    "Наблюдается зависимость цены квартиры от количества комнат"
   ]
  },
  {
   "cell_type": "markdown",
   "metadata": {},
   "source": [
    "- Изучим зависимость полной стоимости квартиры от типа этажа."
   ]
  },
  {
   "cell_type": "code",
   "execution_count": 70,
   "metadata": {},
   "outputs": [
    {
     "data": {
      "image/png": "[encoded data removed]",
      "text/plain": [
       "<Figure size 864x432 with 1 Axes>"
      ]
     },
     "metadata": {
      "needs_background": "light"
     },
     "output_type": "display_data"
    }
   ],
   "source": [
    "data.pivot_table(index='floor_type',values='last_price_lemon').plot(grid=True,figsize=(12,6))\n",
    "plt.show()"
   ]
  },
  {
   "cell_type": "markdown",
   "metadata": {},
   "source": [
    "Самые дешевые квартиры продаются на первом этаже. Самые дорогие на последнем."
   ]
  },
  {
   "cell_type": "markdown",
   "metadata": {},
   "source": [
    "## Изучим зависимость полной стоимости квартиры от даты размещения."
   ]
  },
  {
   "cell_type": "markdown",
   "metadata": {},
   "source": [
    "- зависимость стоимости от дня публикации."
   ]
  },
  {
   "cell_type": "code",
   "execution_count": 71,
   "metadata": {},
   "outputs": [
    {
     "data": {
      "image/png": "[encoded data removed]",
      "text/plain": [
       "<Figure size 864x432 with 1 Axes>"
      ]
     },
     "metadata": {
      "needs_background": "light"
     },
     "output_type": "display_data"
    }
   ],
   "source": [
    "data.pivot_table(index='weekday',values='last_price_lemon').plot(kind='bar',grid=True,figsize=(12,6))\n",
    "plt.show()"
   ]
  },
  {
   "cell_type": "markdown",
   "metadata": {},
   "source": [
    "- Зависимость стоимости от месяца публикации."
   ]
  },
  {
   "cell_type": "code",
   "execution_count": 72,
   "metadata": {},
   "outputs": [
    {
     "data": {
      "image/png": "[encoded data removed]",
      "text/plain": [
       "<Figure size 864x432 with 1 Axes>"
      ]
     },
     "metadata": {
      "needs_background": "light"
     },
     "output_type": "display_data"
    }
   ],
   "source": [
    "data.pivot_table(index='month',values='last_price_lemon').plot(kind='bar',grid=True,figsize=(12,6))\n",
    "plt.show()"
   ]
  },
  {
   "cell_type": "markdown",
   "metadata": {},
   "source": [
    "- Зависимость стоимости от года публикации."
   ]
  },
  {
   "cell_type": "code",
   "execution_count": 73,
   "metadata": {},
   "outputs": [
    {
     "data": {
      "image/png": "[encoded data removed]",
      "text/plain": [
       "<Figure size 864x432 with 1 Axes>"
      ]
     },
     "metadata": {
      "needs_background": "light"
     },
     "output_type": "display_data"
    }
   ],
   "source": [
    "data.pivot_table(index='year',values='last_price_lemon').plot(kind='bar',grid=True,figsize=(12,6))\n",
    "plt.show()"
   ]
  },
  {
   "cell_type": "markdown",
   "metadata": {},
   "source": [
    "Изучив зависимость стоимости квартир от дня,месяца и года размещения выявлено:\n",
    "\n",
    "- стоимость квартир немного ниже в объявлениях,которые размещались в конце недели.\n",
    "- стоимость квартир самая большая в объявлениях, которые размещались в декабре.\n",
    "- стоимость квартир по годам падала с 2014 до 2016 года, с 2016 по 2019 год стоимость примерно одинаковая."
   ]
  },
  {
   "cell_type": "markdown",
   "metadata": {},
   "source": [
    "- Посчитайте среднюю цену одного квадратного метра в 10 населённых пунктах с наибольшим числом объявлений."
   ]
  },
  {
   "cell_type": "code",
   "execution_count": 74,
   "metadata": {},
   "outputs": [],
   "source": [
    "dt=data.pivot_table(index='locality_name',values='price_per_metre',aggfunc=(\n",
    "    'median','count')).sort_values('count',ascending=False)"
   ]
  },
  {
   "cell_type": "code",
   "execution_count": 75,
   "metadata": {},
   "outputs": [
    {
     "data": {
      "text/html": [
       "<div>\n",
       "<style scoped>\n",
       "    .dataframe tbody tr th:only-of-type {\n",
       "        vertical-align: middle;\n",
       "    }\n",
       "\n",
       "    .dataframe tbody tr th {\n",
       "        vertical-align: top;\n",
       "    }\n",
       "\n",
       "    .dataframe thead th {\n",
       "        text-align: right;\n",
       "    }\n",
       "</style>\n",
       "<table border=\"1\" class=\"dataframe\">\n",
       "  <thead>\n",
       "    <tr style=\"text-align: right;\">\n",
       "      <th></th>\n",
       "      <th>count</th>\n",
       "      <th>median</th>\n",
       "    </tr>\n",
       "    <tr>\n",
       "      <th>locality_name</th>\n",
       "      <th></th>\n",
       "      <th></th>\n",
       "    </tr>\n",
       "  </thead>\n",
       "  <tbody>\n",
       "    <tr>\n",
       "      <th>Санкт-Петербург</th>\n",
       "      <td>15637</td>\n",
       "      <td>104761.904762</td>\n",
       "    </tr>\n",
       "    <tr>\n",
       "      <th>поселок Мурино</th>\n",
       "      <td>552</td>\n",
       "      <td>86059.293995</td>\n",
       "    </tr>\n",
       "    <tr>\n",
       "      <th>поселок Шушары</th>\n",
       "      <td>439</td>\n",
       "      <td>76829.268293</td>\n",
       "    </tr>\n",
       "    <tr>\n",
       "      <th>Всеволожск</th>\n",
       "      <td>398</td>\n",
       "      <td>65789.473684</td>\n",
       "    </tr>\n",
       "    <tr>\n",
       "      <th>Пушкин</th>\n",
       "      <td>369</td>\n",
       "      <td>100000.000000</td>\n",
       "    </tr>\n",
       "    <tr>\n",
       "      <th>Колпино</th>\n",
       "      <td>338</td>\n",
       "      <td>74723.748474</td>\n",
       "    </tr>\n",
       "    <tr>\n",
       "      <th>поселок Парголово</th>\n",
       "      <td>327</td>\n",
       "      <td>91642.857143</td>\n",
       "    </tr>\n",
       "    <tr>\n",
       "      <th>Гатчина</th>\n",
       "      <td>307</td>\n",
       "      <td>67796.610169</td>\n",
       "    </tr>\n",
       "    <tr>\n",
       "      <th>деревня Кудрово</th>\n",
       "      <td>299</td>\n",
       "      <td>91860.465116</td>\n",
       "    </tr>\n",
       "    <tr>\n",
       "      <th>Выборг</th>\n",
       "      <td>237</td>\n",
       "      <td>58158.319871</td>\n",
       "    </tr>\n",
       "  </tbody>\n",
       "</table>\n",
       "</div>"
      ],
      "text/plain": [
       "                   count         median\n",
       "locality_name                          \n",
       "Санкт-Петербург    15637  104761.904762\n",
       "поселок Мурино       552   86059.293995\n",
       "поселок Шушары       439   76829.268293\n",
       "Всеволожск           398   65789.473684\n",
       "Пушкин               369  100000.000000\n",
       "Колпино              338   74723.748474\n",
       "поселок Парголово    327   91642.857143\n",
       "Гатчина              307   67796.610169\n",
       "деревня Кудрово      299   91860.465116\n",
       "Выборг               237   58158.319871"
      ]
     },
     "execution_count": 75,
     "metadata": {},
     "output_type": "execute_result"
    }
   ],
   "source": [
    "dt.head(10)"
   ]
  },
  {
   "cell_type": "markdown",
   "metadata": {},
   "source": [
    "Больше всего объявлений в Санкт-Петербурге и стоимость одного квадратного метра там самая дорогая- почти 105 тысяч."
   ]
  },
  {
   "cell_type": "markdown",
   "metadata": {},
   "source": [
    "- Теперь выделите квартиры в Санкт-Петербурге с помощью столбца locality_name и вычислите среднюю цену каждого километра"
   ]
  },
  {
   "cell_type": "code",
   "execution_count": 76,
   "metadata": {},
   "outputs": [],
   "source": [
    "Peter_data=data.query('locality_name==\"Санкт-Петербург\"')"
   ]
  },
  {
   "cell_type": "code",
   "execution_count": 77,
   "metadata": {},
   "outputs": [
    {
     "name": "stderr",
     "output_type": "stream",
     "text": [
      "/tmp/ipykernel_75/3541942587.py:1: SettingWithCopyWarning: \n",
      "A value is trying to be set on a copy of a slice from a DataFrame.\n",
      "Try using .loc[row_indexer,col_indexer] = value instead\n",
      "\n",
      "See the caveats in the documentation: https://pandas.pydata.org/pandas-docs/stable/user_guide/indexing.html#returning-a-view-versus-a-copy\n",
      "  Peter_data['price_per_km']=Peter_data['last_price']/Peter_data['km_to_city']\n"
     ]
    }
   ],
   "source": [
    "Peter_data['price_per_km']=Peter_data['last_price']/Peter_data['km_to_city']"
   ]
  },
  {
   "cell_type": "code",
   "execution_count": 78,
   "metadata": {},
   "outputs": [
    {
     "data": {
      "image/png": "[encoded data removed]",
      "text/plain": [
       "<Figure size 432x288 with 1 Axes>"
      ]
     },
     "metadata": {
      "needs_background": "light"
     },
     "output_type": "display_data"
    }
   ],
   "source": [
    "Peter_data.groupby('km_to_city')['price_per_km'].mean().plot(grid = True, title = 'Заголовок')\n",
    "plt.show()\n"
   ]
  },
  {
   "cell_type": "markdown",
   "metadata": {},
   "source": [
    "Чем дольше от цетра,тем дешевле стоит объект. Все логично."
   ]
  },
  {
   "cell_type": "markdown",
   "metadata": {},
   "source": [
    "###  Общий вывод\n",
    "\n",
    "\n",
    "На основании полученных иследований можно зафиксировать параметры в среднем самой популярной квартиры:<br>\n",
    "общая площадь-61 км.м.<br>\n",
    "жилая площадь-35 кв.м.<br>\n",
    "площадь кухни-10.5 кв.м.<br>\n",
    "стоимость-7 млн.<br>\n",
    "кол.комнат-2<br>\n",
    "высота потолков-2.7 м<br>\n",
    "этаж квартиры-4<br>\n",
    "этажность дома-9<br>\n",
    "расстояние до центра города-14 км<br>\n",
    "расстояние до аэропорта-28 км.<br>\n",
    "расстояние до парка-477 м.<br>\n",
    "Больше всего квартир продают на \"другом\" этаже.<br>\n",
    "Количество объявлений в начале и конце года значительно больше чем в середине.<br>\n",
    "\n",
    "Изучая количество дней, необходимое для продажи было определено медианное значение количества дней на продажу, оно равно 72.\n",
    "Больше всего продали за 45 и 60 день продаж.<br>\n",
    "\n",
    "Изучили зависимость общей стоимости квартир от следующих параметров:\n",
    "\n",
    "- общей площади;\n",
    "- жилой площади;\n",
    "- площади кухни;\n",
    "- количество комнат;\n",
    "- типа этажа, на котором расположена квартира (первый, последний, другой);\n",
    "- даты размещения (день недели, месяц, год);\n",
    "\n",
    "Для каждой зависимотри посчитали коэффициент корреляции и определили,что больше всего стоимость квартиры зависит от **общей площади квартиры.**"
   ]
  },
  {
   "cell_type": "code",
   "execution_count": null,
   "metadata": {},
   "outputs": [],
   "source": []
  }
 ],
 "metadata": {
  "ExecuteTimeLog": [
   {
    "duration": 694,
    "start_time": "2022-08-26T14:41:11.559Z"
   },
   {
    "duration": 563,
    "start_time": "2022-08-26T14:42:02.539Z"
   },
   {
    "duration": 107,
    "start_time": "2022-08-26T14:42:32.704Z"
   },
   {
    "duration": 102,
    "start_time": "2022-08-26T14:43:59.706Z"
   },
   {
    "duration": 154,
    "start_time": "2022-08-26T14:44:51.883Z"
   },
   {
    "duration": 2453,
    "start_time": "2022-08-26T14:45:12.514Z"
   },
   {
    "duration": 116,
    "start_time": "2022-08-26T14:46:03.204Z"
   },
   {
    "duration": 138,
    "start_time": "2022-08-26T14:48:19.596Z"
   },
   {
    "duration": 2313,
    "start_time": "2022-08-26T14:48:35.491Z"
   },
   {
    "duration": 116,
    "start_time": "2022-08-26T14:53:58.108Z"
   },
   {
    "duration": 1127,
    "start_time": "2022-08-30T08:58:32.616Z"
   },
   {
    "duration": 103,
    "start_time": "2022-08-30T08:58:45.821Z"
   },
   {
    "duration": 103,
    "start_time": "2022-08-30T08:58:50.361Z"
   },
   {
    "duration": 109,
    "start_time": "2022-08-30T09:02:26.157Z"
   },
   {
    "duration": 96,
    "start_time": "2022-08-30T09:04:36.477Z"
   },
   {
    "duration": 101,
    "start_time": "2022-08-30T09:08:01.706Z"
   },
   {
    "duration": 1958,
    "start_time": "2022-08-30T09:08:06.130Z"
   },
   {
    "duration": 1865,
    "start_time": "2022-08-30T09:08:28.243Z"
   },
   {
    "duration": 68,
    "start_time": "2022-08-30T09:10:33.116Z"
   },
   {
    "duration": 38,
    "start_time": "2022-08-30T09:10:41.315Z"
   },
   {
    "duration": 9,
    "start_time": "2022-08-30T09:10:55.963Z"
   },
   {
    "duration": 1891,
    "start_time": "2022-08-30T09:11:01.778Z"
   },
   {
    "duration": 748,
    "start_time": "2022-08-30T09:11:59.565Z"
   },
   {
    "duration": 87,
    "start_time": "2022-08-30T09:12:00.315Z"
   },
   {
    "duration": 37,
    "start_time": "2022-08-30T09:12:00.403Z"
   },
   {
    "duration": 2035,
    "start_time": "2022-08-30T09:12:00.443Z"
   },
   {
    "duration": 817,
    "start_time": "2022-08-30T09:12:39.803Z"
   },
   {
    "duration": 37,
    "start_time": "2022-08-30T09:12:40.623Z"
   },
   {
    "duration": 2280,
    "start_time": "2022-08-30T09:12:40.662Z"
   },
   {
    "duration": 34,
    "start_time": "2022-08-30T09:12:42.945Z"
   },
   {
    "duration": 778,
    "start_time": "2022-08-30T09:12:57.921Z"
   },
   {
    "duration": 40,
    "start_time": "2022-08-30T09:12:58.702Z"
   },
   {
    "duration": 2071,
    "start_time": "2022-08-30T09:12:58.744Z"
   },
   {
    "duration": 2,
    "start_time": "2022-08-30T09:18:28.596Z"
   },
   {
    "duration": 59,
    "start_time": "2022-08-30T09:19:08.392Z"
   },
   {
    "duration": 11,
    "start_time": "2022-08-30T09:20:51.099Z"
   },
   {
    "duration": 103,
    "start_time": "2022-08-30T09:50:08.299Z"
   },
   {
    "duration": 13,
    "start_time": "2022-08-30T09:50:29.918Z"
   },
   {
    "duration": 90,
    "start_time": "2022-08-30T09:52:12.686Z"
   },
   {
    "duration": 9,
    "start_time": "2022-08-30T09:52:19.653Z"
   },
   {
    "duration": 56,
    "start_time": "2022-08-30T09:52:30.630Z"
   },
   {
    "duration": 14,
    "start_time": "2022-08-30T09:52:46.857Z"
   },
   {
    "duration": 13,
    "start_time": "2022-08-30T09:52:59.823Z"
   },
   {
    "duration": 58,
    "start_time": "2022-08-30T09:53:22.439Z"
   },
   {
    "duration": 10,
    "start_time": "2022-08-30T09:53:44.061Z"
   },
   {
    "duration": 4,
    "start_time": "2022-08-30T10:52:55.435Z"
   },
   {
    "duration": 11,
    "start_time": "2022-08-30T10:56:10.287Z"
   },
   {
    "duration": 738,
    "start_time": "2022-08-30T10:56:50.666Z"
   },
   {
    "duration": 41,
    "start_time": "2022-08-30T10:56:51.406Z"
   },
   {
    "duration": 1934,
    "start_time": "2022-08-30T10:56:51.449Z"
   },
   {
    "duration": 11,
    "start_time": "2022-08-30T10:56:53.385Z"
   },
   {
    "duration": 5,
    "start_time": "2022-08-30T10:56:53.397Z"
   },
   {
    "duration": 4,
    "start_time": "2022-08-30T10:56:53.404Z"
   },
   {
    "duration": 13,
    "start_time": "2022-08-30T10:56:53.410Z"
   },
   {
    "duration": 4,
    "start_time": "2022-08-30T10:57:25.996Z"
   },
   {
    "duration": 26,
    "start_time": "2022-08-30T12:40:00.031Z"
   },
   {
    "duration": 50,
    "start_time": "2022-08-30T12:42:04.528Z"
   },
   {
    "duration": 21,
    "start_time": "2022-08-30T12:42:52.908Z"
   },
   {
    "duration": 756,
    "start_time": "2022-08-30T12:43:17.405Z"
   },
   {
    "duration": 40,
    "start_time": "2022-08-30T12:43:18.163Z"
   },
   {
    "duration": 1891,
    "start_time": "2022-08-30T12:43:18.204Z"
   },
   {
    "duration": 13,
    "start_time": "2022-08-30T12:43:20.097Z"
   },
   {
    "duration": 8,
    "start_time": "2022-08-30T12:43:20.111Z"
   },
   {
    "duration": 6,
    "start_time": "2022-08-30T12:43:20.121Z"
   },
   {
    "duration": 14,
    "start_time": "2022-08-30T12:43:20.129Z"
   },
   {
    "duration": 4,
    "start_time": "2022-08-30T12:43:20.144Z"
   },
   {
    "duration": 51,
    "start_time": "2022-08-30T12:43:20.149Z"
   },
   {
    "duration": 14,
    "start_time": "2022-08-30T12:45:49.907Z"
   },
   {
    "duration": 12,
    "start_time": "2022-08-30T12:47:23.637Z"
   },
   {
    "duration": 15,
    "start_time": "2022-08-30T12:47:29.264Z"
   },
   {
    "duration": 67,
    "start_time": "2022-08-30T12:50:10.465Z"
   },
   {
    "duration": 8,
    "start_time": "2022-08-30T12:50:15.562Z"
   },
   {
    "duration": 6,
    "start_time": "2022-08-30T12:52:15.787Z"
   },
   {
    "duration": 5,
    "start_time": "2022-08-30T12:52:56.180Z"
   },
   {
    "duration": 6,
    "start_time": "2022-08-30T12:53:16.602Z"
   },
   {
    "duration": 4,
    "start_time": "2022-08-30T12:53:39.652Z"
   },
   {
    "duration": 10,
    "start_time": "2022-08-30T12:57:04.508Z"
   },
   {
    "duration": 12,
    "start_time": "2022-08-30T12:57:07.428Z"
   },
   {
    "duration": 656,
    "start_time": "2022-08-30T12:57:17.436Z"
   },
   {
    "duration": 30,
    "start_time": "2022-08-30T12:57:18.095Z"
   },
   {
    "duration": 1766,
    "start_time": "2022-08-30T12:57:18.127Z"
   },
   {
    "duration": 10,
    "start_time": "2022-08-30T12:57:19.900Z"
   },
   {
    "duration": 6,
    "start_time": "2022-08-30T12:57:19.912Z"
   },
   {
    "duration": 5,
    "start_time": "2022-08-30T12:57:19.919Z"
   },
   {
    "duration": 22,
    "start_time": "2022-08-30T12:57:19.926Z"
   },
   {
    "duration": 3,
    "start_time": "2022-08-30T12:57:19.950Z"
   },
   {
    "duration": 17,
    "start_time": "2022-08-30T12:57:19.955Z"
   },
   {
    "duration": 38,
    "start_time": "2022-08-30T12:57:19.974Z"
   },
   {
    "duration": 88,
    "start_time": "2022-08-31T07:56:20.578Z"
   },
   {
    "duration": 106,
    "start_time": "2022-08-31T07:57:35.490Z"
   },
   {
    "duration": 726,
    "start_time": "2022-08-31T07:58:01.998Z"
   },
   {
    "duration": 31,
    "start_time": "2022-08-31T07:58:02.727Z"
   },
   {
    "duration": 1859,
    "start_time": "2022-08-31T07:58:02.760Z"
   },
   {
    "duration": 10,
    "start_time": "2022-08-31T07:58:04.621Z"
   },
   {
    "duration": 28,
    "start_time": "2022-08-31T07:58:04.632Z"
   },
   {
    "duration": 10,
    "start_time": "2022-08-31T07:58:04.662Z"
   },
   {
    "duration": 17,
    "start_time": "2022-08-31T07:58:04.674Z"
   },
   {
    "duration": 7,
    "start_time": "2022-08-31T07:58:04.693Z"
   },
   {
    "duration": 15,
    "start_time": "2022-08-31T07:58:04.701Z"
   },
   {
    "duration": 15,
    "start_time": "2022-08-31T07:58:04.718Z"
   },
   {
    "duration": 74,
    "start_time": "2022-08-31T08:05:49.037Z"
   },
   {
    "duration": 14,
    "start_time": "2022-08-31T08:09:18.234Z"
   },
   {
    "duration": 15,
    "start_time": "2022-08-31T08:17:02.349Z"
   },
   {
    "duration": 662,
    "start_time": "2022-08-31T08:17:17.363Z"
   },
   {
    "duration": 29,
    "start_time": "2022-08-31T08:17:18.026Z"
   },
   {
    "duration": 1710,
    "start_time": "2022-08-31T08:17:18.057Z"
   },
   {
    "duration": 10,
    "start_time": "2022-08-31T08:17:19.769Z"
   },
   {
    "duration": 8,
    "start_time": "2022-08-31T08:17:19.780Z"
   },
   {
    "duration": 5,
    "start_time": "2022-08-31T08:17:19.800Z"
   },
   {
    "duration": 16,
    "start_time": "2022-08-31T08:17:19.806Z"
   },
   {
    "duration": 4,
    "start_time": "2022-08-31T08:17:19.824Z"
   },
   {
    "duration": 18,
    "start_time": "2022-08-31T08:17:19.830Z"
   },
   {
    "duration": 15,
    "start_time": "2022-08-31T08:17:19.851Z"
   },
   {
    "duration": 44,
    "start_time": "2022-08-31T08:17:19.868Z"
   },
   {
    "duration": 11,
    "start_time": "2022-08-31T08:17:19.914Z"
   },
   {
    "duration": 14,
    "start_time": "2022-08-31T08:17:19.927Z"
   },
   {
    "duration": 6,
    "start_time": "2022-08-31T08:20:06.805Z"
   },
   {
    "duration": 7,
    "start_time": "2022-08-31T08:21:23.071Z"
   },
   {
    "duration": 6,
    "start_time": "2022-08-31T08:21:29.222Z"
   },
   {
    "duration": 3,
    "start_time": "2022-08-31T08:30:47.001Z"
   },
   {
    "duration": 7,
    "start_time": "2022-08-31T08:31:48.990Z"
   },
   {
    "duration": 35,
    "start_time": "2022-08-31T08:35:54.134Z"
   },
   {
    "duration": 100,
    "start_time": "2022-08-31T09:02:14.905Z"
   },
   {
    "duration": 6,
    "start_time": "2022-08-31T09:10:37.824Z"
   },
   {
    "duration": 8,
    "start_time": "2022-08-31T09:17:19.270Z"
   },
   {
    "duration": 4,
    "start_time": "2022-08-31T09:17:36.246Z"
   },
   {
    "duration": 6,
    "start_time": "2022-08-31T09:18:30.968Z"
   },
   {
    "duration": 7,
    "start_time": "2022-08-31T09:19:23.541Z"
   },
   {
    "duration": 14,
    "start_time": "2022-08-31T09:20:05.862Z"
   },
   {
    "duration": 11,
    "start_time": "2022-08-31T09:20:21.358Z"
   },
   {
    "duration": 10,
    "start_time": "2022-08-31T09:23:09.735Z"
   },
   {
    "duration": 5,
    "start_time": "2022-08-31T09:23:27.717Z"
   },
   {
    "duration": 8,
    "start_time": "2022-08-31T09:24:24.445Z"
   },
   {
    "duration": 23,
    "start_time": "2022-08-31T09:31:00.248Z"
   },
   {
    "duration": 8,
    "start_time": "2022-08-31T09:33:16.597Z"
   },
   {
    "duration": 14,
    "start_time": "2022-08-31T10:24:42.937Z"
   },
   {
    "duration": 40,
    "start_time": "2022-08-31T10:37:44.623Z"
   },
   {
    "duration": 75,
    "start_time": "2022-08-31T10:39:19.392Z"
   },
   {
    "duration": 12,
    "start_time": "2022-08-31T10:39:24.963Z"
   },
   {
    "duration": 8,
    "start_time": "2022-08-31T11:09:07.018Z"
   },
   {
    "duration": 13,
    "start_time": "2022-08-31T11:09:15.318Z"
   },
   {
    "duration": 126,
    "start_time": "2022-08-31T11:09:34.052Z"
   },
   {
    "duration": 143,
    "start_time": "2022-08-31T11:10:17.066Z"
   },
   {
    "duration": 94,
    "start_time": "2022-08-31T11:11:35.594Z"
   },
   {
    "duration": 108,
    "start_time": "2022-08-31T11:11:41.158Z"
   },
   {
    "duration": 133,
    "start_time": "2022-08-31T11:11:55.883Z"
   },
   {
    "duration": 10,
    "start_time": "2022-08-31T11:14:20.620Z"
   },
   {
    "duration": 118,
    "start_time": "2022-08-31T11:14:23.513Z"
   },
   {
    "duration": 182,
    "start_time": "2022-08-31T11:29:15.145Z"
   },
   {
    "duration": 48,
    "start_time": "2022-08-31T11:29:16.555Z"
   },
   {
    "duration": 10,
    "start_time": "2022-08-31T11:30:02.561Z"
   },
   {
    "duration": 235,
    "start_time": "2022-08-31T11:30:03.626Z"
   },
   {
    "duration": 8,
    "start_time": "2022-08-31T11:32:00.636Z"
   },
   {
    "duration": 13,
    "start_time": "2022-08-31T11:32:08.106Z"
   },
   {
    "duration": 8,
    "start_time": "2022-08-31T11:33:04.770Z"
   },
   {
    "duration": 8,
    "start_time": "2022-08-31T11:33:15.729Z"
   },
   {
    "duration": 12,
    "start_time": "2022-08-31T11:33:20.971Z"
   },
   {
    "duration": 135,
    "start_time": "2022-08-31T11:33:42.181Z"
   },
   {
    "duration": 9,
    "start_time": "2022-08-31T11:35:39.956Z"
   },
   {
    "duration": 8,
    "start_time": "2022-08-31T11:35:49.493Z"
   },
   {
    "duration": 140,
    "start_time": "2022-08-31T11:35:55.370Z"
   },
   {
    "duration": 6,
    "start_time": "2022-08-31T11:36:56.774Z"
   },
   {
    "duration": 9,
    "start_time": "2022-08-31T11:40:09.641Z"
   },
   {
    "duration": 142,
    "start_time": "2022-08-31T11:40:29.202Z"
   },
   {
    "duration": 8,
    "start_time": "2022-08-31T11:40:51.587Z"
   },
   {
    "duration": 20,
    "start_time": "2022-08-31T11:42:09.010Z"
   },
   {
    "duration": 9,
    "start_time": "2022-08-31T11:42:59.024Z"
   },
   {
    "duration": 10,
    "start_time": "2022-08-31T11:44:49.543Z"
   },
   {
    "duration": 157,
    "start_time": "2022-08-31T11:44:51.368Z"
   },
   {
    "duration": 6,
    "start_time": "2022-08-31T11:45:05.562Z"
   },
   {
    "duration": 1809,
    "start_time": "2022-08-31T11:47:32.571Z"
   },
   {
    "duration": 2184,
    "start_time": "2022-08-31T11:47:34.627Z"
   },
   {
    "duration": 364,
    "start_time": "2022-08-31T11:48:38.212Z"
   },
   {
    "duration": 1291,
    "start_time": "2022-08-31T11:48:57.934Z"
   },
   {
    "duration": 33,
    "start_time": "2022-08-31T11:48:59.227Z"
   },
   {
    "duration": 1977,
    "start_time": "2022-08-31T11:48:59.262Z"
   },
   {
    "duration": 11,
    "start_time": "2022-08-31T11:49:01.241Z"
   },
   {
    "duration": 50,
    "start_time": "2022-08-31T11:49:01.254Z"
   },
   {
    "duration": 25,
    "start_time": "2022-08-31T11:49:01.306Z"
   },
   {
    "duration": 33,
    "start_time": "2022-08-31T11:49:01.333Z"
   },
   {
    "duration": 13,
    "start_time": "2022-08-31T11:49:01.368Z"
   },
   {
    "duration": 24,
    "start_time": "2022-08-31T11:49:01.383Z"
   },
   {
    "duration": 26,
    "start_time": "2022-08-31T11:49:01.410Z"
   },
   {
    "duration": 39,
    "start_time": "2022-08-31T11:49:01.439Z"
   },
   {
    "duration": 42,
    "start_time": "2022-08-31T11:49:01.481Z"
   },
   {
    "duration": 55,
    "start_time": "2022-08-31T11:49:01.525Z"
   },
   {
    "duration": 30,
    "start_time": "2022-08-31T11:49:01.582Z"
   },
   {
    "duration": 52,
    "start_time": "2022-08-31T11:49:01.615Z"
   },
   {
    "duration": 52,
    "start_time": "2022-08-31T11:49:01.668Z"
   },
   {
    "duration": 116,
    "start_time": "2022-08-31T11:49:01.722Z"
   },
   {
    "duration": 7,
    "start_time": "2022-08-31T11:49:01.839Z"
   },
   {
    "duration": 30,
    "start_time": "2022-08-31T11:49:01.847Z"
   },
   {
    "duration": 75,
    "start_time": "2022-08-31T11:49:01.878Z"
   },
   {
    "duration": 65,
    "start_time": "2022-08-31T11:49:01.954Z"
   },
   {
    "duration": 0,
    "start_time": "2022-08-31T11:49:02.021Z"
   },
   {
    "duration": 0,
    "start_time": "2022-08-31T11:49:02.022Z"
   },
   {
    "duration": 0,
    "start_time": "2022-08-31T11:49:02.023Z"
   },
   {
    "duration": 0,
    "start_time": "2022-08-31T11:49:02.024Z"
   },
   {
    "duration": 0,
    "start_time": "2022-08-31T11:49:02.024Z"
   },
   {
    "duration": 0,
    "start_time": "2022-08-31T11:49:02.025Z"
   },
   {
    "duration": 0,
    "start_time": "2022-08-31T11:49:02.026Z"
   },
   {
    "duration": 0,
    "start_time": "2022-08-31T11:49:02.027Z"
   },
   {
    "duration": 0,
    "start_time": "2022-08-31T11:49:02.028Z"
   },
   {
    "duration": 0,
    "start_time": "2022-08-31T11:49:02.029Z"
   },
   {
    "duration": 0,
    "start_time": "2022-08-31T11:49:02.030Z"
   },
   {
    "duration": 0,
    "start_time": "2022-08-31T11:49:02.031Z"
   },
   {
    "duration": 0,
    "start_time": "2022-08-31T11:49:02.032Z"
   },
   {
    "duration": 0,
    "start_time": "2022-08-31T11:49:02.033Z"
   },
   {
    "duration": 0,
    "start_time": "2022-08-31T11:49:02.033Z"
   },
   {
    "duration": 0,
    "start_time": "2022-08-31T11:49:02.034Z"
   },
   {
    "duration": 0,
    "start_time": "2022-08-31T11:49:02.035Z"
   },
   {
    "duration": 0,
    "start_time": "2022-08-31T11:49:02.036Z"
   },
   {
    "duration": 0,
    "start_time": "2022-08-31T11:49:02.037Z"
   },
   {
    "duration": 0,
    "start_time": "2022-08-31T11:49:02.038Z"
   },
   {
    "duration": 0,
    "start_time": "2022-08-31T11:49:02.038Z"
   },
   {
    "duration": 0,
    "start_time": "2022-08-31T11:49:02.039Z"
   },
   {
    "duration": 0,
    "start_time": "2022-08-31T11:49:02.042Z"
   },
   {
    "duration": 1217,
    "start_time": "2022-08-31T11:49:08.863Z"
   },
   {
    "duration": 1009,
    "start_time": "2022-08-31T11:49:56.431Z"
   },
   {
    "duration": 1549,
    "start_time": "2022-08-31T11:50:38.311Z"
   },
   {
    "duration": 5,
    "start_time": "2022-08-31T11:51:20.020Z"
   },
   {
    "duration": 876,
    "start_time": "2022-08-31T11:51:39.671Z"
   },
   {
    "duration": 370,
    "start_time": "2022-08-31T11:52:35.308Z"
   },
   {
    "duration": 6,
    "start_time": "2022-08-31T11:52:40.679Z"
   },
   {
    "duration": 8,
    "start_time": "2022-08-31T11:52:58.828Z"
   },
   {
    "duration": 116,
    "start_time": "2022-08-31T11:53:13.023Z"
   },
   {
    "duration": 10,
    "start_time": "2022-08-31T11:54:50.464Z"
   },
   {
    "duration": 125,
    "start_time": "2022-08-31T11:54:52.850Z"
   },
   {
    "duration": 6,
    "start_time": "2022-08-31T11:55:14.789Z"
   },
   {
    "duration": 9,
    "start_time": "2022-08-31T12:18:24.420Z"
   },
   {
    "duration": 211,
    "start_time": "2022-08-31T12:18:26.765Z"
   },
   {
    "duration": 10,
    "start_time": "2022-08-31T12:20:49.093Z"
   },
   {
    "duration": 105,
    "start_time": "2022-08-31T12:20:52.251Z"
   },
   {
    "duration": 12,
    "start_time": "2022-08-31T12:23:14.229Z"
   },
   {
    "duration": 160,
    "start_time": "2022-08-31T12:23:16.643Z"
   },
   {
    "duration": 8,
    "start_time": "2022-08-31T12:25:58.163Z"
   },
   {
    "duration": 10,
    "start_time": "2022-08-31T12:26:01.949Z"
   },
   {
    "duration": 8,
    "start_time": "2022-08-31T12:26:41.927Z"
   },
   {
    "duration": 129,
    "start_time": "2022-08-31T12:26:45.811Z"
   },
   {
    "duration": 8,
    "start_time": "2022-08-31T12:27:33.971Z"
   },
   {
    "duration": 9,
    "start_time": "2022-08-31T12:27:39.176Z"
   },
   {
    "duration": 121,
    "start_time": "2022-08-31T12:27:53.597Z"
   },
   {
    "duration": 74,
    "start_time": "2022-08-31T12:35:55.640Z"
   },
   {
    "duration": 9,
    "start_time": "2022-08-31T12:36:25.499Z"
   },
   {
    "duration": 212,
    "start_time": "2022-08-31T12:36:30.361Z"
   },
   {
    "duration": 127,
    "start_time": "2022-08-31T12:36:42.394Z"
   },
   {
    "duration": 225,
    "start_time": "2022-08-31T12:37:17.836Z"
   },
   {
    "duration": 291,
    "start_time": "2022-08-31T12:37:29.395Z"
   },
   {
    "duration": 279,
    "start_time": "2022-08-31T12:37:46.223Z"
   },
   {
    "duration": 237,
    "start_time": "2022-08-31T12:38:00.266Z"
   },
   {
    "duration": 7,
    "start_time": "2022-08-31T12:38:20.932Z"
   },
   {
    "duration": 8,
    "start_time": "2022-08-31T12:44:03.673Z"
   },
   {
    "duration": 9,
    "start_time": "2022-08-31T12:44:15.772Z"
   },
   {
    "duration": 9,
    "start_time": "2022-08-31T12:44:25.733Z"
   },
   {
    "duration": 11,
    "start_time": "2022-08-31T12:44:40.363Z"
   },
   {
    "duration": 9,
    "start_time": "2022-08-31T12:44:56.356Z"
   },
   {
    "duration": 9,
    "start_time": "2022-08-31T12:45:27.684Z"
   },
   {
    "duration": 239,
    "start_time": "2022-08-31T13:01:41.902Z"
   },
   {
    "duration": 225,
    "start_time": "2022-08-31T13:01:51.813Z"
   },
   {
    "duration": 231,
    "start_time": "2022-08-31T13:02:02.637Z"
   },
   {
    "duration": 83,
    "start_time": "2022-08-31T13:05:08.485Z"
   },
   {
    "duration": 240,
    "start_time": "2022-08-31T13:05:49.517Z"
   },
   {
    "duration": 6,
    "start_time": "2022-08-31T13:06:29.670Z"
   },
   {
    "duration": 158,
    "start_time": "2022-08-31T13:11:04.437Z"
   },
   {
    "duration": 9,
    "start_time": "2022-08-31T13:11:23.310Z"
   },
   {
    "duration": 8,
    "start_time": "2022-08-31T13:11:28.811Z"
   },
   {
    "duration": 8,
    "start_time": "2022-08-31T13:11:32.433Z"
   },
   {
    "duration": 7,
    "start_time": "2022-08-31T13:11:38.277Z"
   },
   {
    "duration": 153,
    "start_time": "2022-08-31T13:13:44.909Z"
   },
   {
    "duration": 6,
    "start_time": "2022-08-31T13:14:05.711Z"
   },
   {
    "duration": 64,
    "start_time": "2022-08-31T13:14:46.502Z"
   },
   {
    "duration": 63,
    "start_time": "2022-08-31T13:14:51.214Z"
   },
   {
    "duration": 72,
    "start_time": "2022-08-31T13:15:00.214Z"
   },
   {
    "duration": 150,
    "start_time": "2022-08-31T13:15:28.231Z"
   },
   {
    "duration": 7,
    "start_time": "2022-08-31T13:16:02.470Z"
   },
   {
    "duration": 171,
    "start_time": "2022-08-31T13:17:59.910Z"
   },
   {
    "duration": 10,
    "start_time": "2022-08-31T13:19:26.252Z"
   },
   {
    "duration": 25,
    "start_time": "2022-08-31T13:19:34.413Z"
   },
   {
    "duration": 15,
    "start_time": "2022-08-31T13:19:39.358Z"
   },
   {
    "duration": 7,
    "start_time": "2022-08-31T13:21:04.539Z"
   },
   {
    "duration": 927,
    "start_time": "2022-08-31T13:21:47.379Z"
   },
   {
    "duration": 32,
    "start_time": "2022-08-31T13:21:48.308Z"
   },
   {
    "duration": 1905,
    "start_time": "2022-08-31T13:21:48.342Z"
   },
   {
    "duration": 11,
    "start_time": "2022-08-31T13:21:50.249Z"
   },
   {
    "duration": 7,
    "start_time": "2022-08-31T13:21:50.262Z"
   },
   {
    "duration": 18,
    "start_time": "2022-08-31T13:21:50.271Z"
   },
   {
    "duration": 24,
    "start_time": "2022-08-31T13:21:50.290Z"
   },
   {
    "duration": 11,
    "start_time": "2022-08-31T13:21:50.315Z"
   },
   {
    "duration": 43,
    "start_time": "2022-08-31T13:21:50.328Z"
   },
   {
    "duration": 16,
    "start_time": "2022-08-31T13:21:50.374Z"
   },
   {
    "duration": 26,
    "start_time": "2022-08-31T13:21:50.392Z"
   },
   {
    "duration": 13,
    "start_time": "2022-08-31T13:21:50.420Z"
   },
   {
    "duration": 20,
    "start_time": "2022-08-31T13:21:50.435Z"
   },
   {
    "duration": 18,
    "start_time": "2022-08-31T13:21:50.457Z"
   },
   {
    "duration": 15,
    "start_time": "2022-08-31T13:21:50.477Z"
   },
   {
    "duration": 49,
    "start_time": "2022-08-31T13:21:50.494Z"
   },
   {
    "duration": 119,
    "start_time": "2022-08-31T13:21:50.545Z"
   },
   {
    "duration": 6,
    "start_time": "2022-08-31T13:21:50.666Z"
   },
   {
    "duration": 30,
    "start_time": "2022-08-31T13:21:50.674Z"
   },
   {
    "duration": 22,
    "start_time": "2022-08-31T13:21:50.706Z"
   },
   {
    "duration": 6,
    "start_time": "2022-08-31T13:21:50.729Z"
   },
   {
    "duration": 18,
    "start_time": "2022-08-31T13:21:50.737Z"
   },
   {
    "duration": 19,
    "start_time": "2022-08-31T13:21:50.757Z"
   },
   {
    "duration": 14,
    "start_time": "2022-08-31T13:21:50.778Z"
   },
   {
    "duration": 356,
    "start_time": "2022-08-31T13:21:50.793Z"
   },
   {
    "duration": 13,
    "start_time": "2022-08-31T13:21:51.151Z"
   },
   {
    "duration": 29,
    "start_time": "2022-08-31T13:21:51.166Z"
   },
   {
    "duration": 142,
    "start_time": "2022-08-31T13:21:51.199Z"
   },
   {
    "duration": 9,
    "start_time": "2022-08-31T13:21:51.343Z"
   },
   {
    "duration": 168,
    "start_time": "2022-08-31T13:21:51.354Z"
   },
   {
    "duration": 11,
    "start_time": "2022-08-31T13:21:51.524Z"
   },
   {
    "duration": 249,
    "start_time": "2022-08-31T13:21:51.537Z"
   },
   {
    "duration": 20,
    "start_time": "2022-08-31T13:21:51.787Z"
   },
   {
    "duration": 137,
    "start_time": "2022-08-31T13:21:51.809Z"
   },
   {
    "duration": 8,
    "start_time": "2022-08-31T13:21:51.947Z"
   },
   {
    "duration": 147,
    "start_time": "2022-08-31T13:21:51.957Z"
   },
   {
    "duration": 5,
    "start_time": "2022-08-31T13:21:52.106Z"
   },
   {
    "duration": 13,
    "start_time": "2022-08-31T13:21:52.113Z"
   },
   {
    "duration": 146,
    "start_time": "2022-08-31T13:21:52.127Z"
   },
   {
    "duration": 6,
    "start_time": "2022-08-31T13:21:52.275Z"
   },
   {
    "duration": 22,
    "start_time": "2022-08-31T13:21:52.282Z"
   },
   {
    "duration": 127,
    "start_time": "2022-08-31T13:21:52.305Z"
   },
   {
    "duration": 5,
    "start_time": "2022-08-31T13:21:52.434Z"
   },
   {
    "duration": 15,
    "start_time": "2022-08-31T13:21:52.440Z"
   },
   {
    "duration": 117,
    "start_time": "2022-08-31T13:21:52.457Z"
   },
   {
    "duration": 9,
    "start_time": "2022-08-31T13:21:52.575Z"
   },
   {
    "duration": 127,
    "start_time": "2022-08-31T13:21:52.585Z"
   },
   {
    "duration": 6,
    "start_time": "2022-08-31T13:21:52.714Z"
   },
   {
    "duration": 13,
    "start_time": "2022-08-31T13:21:52.722Z"
   },
   {
    "duration": 142,
    "start_time": "2022-08-31T13:21:52.736Z"
   },
   {
    "duration": 8,
    "start_time": "2022-08-31T13:21:52.880Z"
   },
   {
    "duration": 118,
    "start_time": "2022-08-31T13:21:52.900Z"
   },
   {
    "duration": 11,
    "start_time": "2022-08-31T13:21:53.019Z"
   },
   {
    "duration": 146,
    "start_time": "2022-08-31T13:21:53.032Z"
   },
   {
    "duration": 8,
    "start_time": "2022-08-31T13:21:53.179Z"
   },
   {
    "duration": 161,
    "start_time": "2022-08-31T13:21:53.189Z"
   },
   {
    "duration": 8,
    "start_time": "2022-08-31T13:21:53.351Z"
   },
   {
    "duration": 201,
    "start_time": "2022-08-31T13:21:53.360Z"
   },
   {
    "duration": 9,
    "start_time": "2022-08-31T13:21:53.562Z"
   },
   {
    "duration": 252,
    "start_time": "2022-08-31T13:21:53.572Z"
   },
   {
    "duration": 7,
    "start_time": "2022-08-31T13:21:53.825Z"
   },
   {
    "duration": 170,
    "start_time": "2022-08-31T13:21:53.833Z"
   },
   {
    "duration": 5,
    "start_time": "2022-08-31T13:21:54.004Z"
   },
   {
    "duration": 63,
    "start_time": "2022-08-31T13:21:54.011Z"
   },
   {
    "duration": 0,
    "start_time": "2022-08-31T13:21:54.076Z"
   },
   {
    "duration": 0,
    "start_time": "2022-08-31T13:21:54.078Z"
   },
   {
    "duration": 0,
    "start_time": "2022-08-31T13:21:54.080Z"
   },
   {
    "duration": 0,
    "start_time": "2022-08-31T13:21:54.081Z"
   },
   {
    "duration": 0,
    "start_time": "2022-08-31T13:21:54.082Z"
   },
   {
    "duration": 0,
    "start_time": "2022-08-31T13:21:54.083Z"
   },
   {
    "duration": 0,
    "start_time": "2022-08-31T13:21:54.085Z"
   },
   {
    "duration": 0,
    "start_time": "2022-08-31T13:21:54.086Z"
   },
   {
    "duration": 0,
    "start_time": "2022-08-31T13:21:54.087Z"
   },
   {
    "duration": 0,
    "start_time": "2022-08-31T13:21:54.088Z"
   },
   {
    "duration": 0,
    "start_time": "2022-08-31T13:21:54.090Z"
   },
   {
    "duration": 0,
    "start_time": "2022-08-31T13:21:54.091Z"
   },
   {
    "duration": 150,
    "start_time": "2022-08-31T13:21:55.985Z"
   },
   {
    "duration": 68,
    "start_time": "2022-08-31T13:23:16.745Z"
   },
   {
    "duration": 184,
    "start_time": "2022-08-31T13:23:43.166Z"
   },
   {
    "duration": 92,
    "start_time": "2022-08-31T13:23:56.993Z"
   },
   {
    "duration": 74,
    "start_time": "2022-08-31T13:24:09.977Z"
   },
   {
    "duration": 151,
    "start_time": "2022-08-31T13:24:15.337Z"
   },
   {
    "duration": 20,
    "start_time": "2022-09-01T09:24:54.139Z"
   },
   {
    "duration": 11,
    "start_time": "2022-09-01T09:24:58.009Z"
   },
   {
    "duration": 9,
    "start_time": "2022-09-01T09:26:57.569Z"
   },
   {
    "duration": 701,
    "start_time": "2022-09-01T09:27:14.417Z"
   },
   {
    "duration": 31,
    "start_time": "2022-09-01T09:27:15.120Z"
   },
   {
    "duration": 1790,
    "start_time": "2022-09-01T09:27:15.153Z"
   },
   {
    "duration": 9,
    "start_time": "2022-09-01T09:27:16.945Z"
   },
   {
    "duration": 5,
    "start_time": "2022-09-01T09:27:16.956Z"
   },
   {
    "duration": 7,
    "start_time": "2022-09-01T09:27:16.963Z"
   },
   {
    "duration": 14,
    "start_time": "2022-09-01T09:27:16.971Z"
   },
   {
    "duration": 15,
    "start_time": "2022-09-01T09:27:16.986Z"
   },
   {
    "duration": 12,
    "start_time": "2022-09-01T09:27:17.003Z"
   },
   {
    "duration": 13,
    "start_time": "2022-09-01T09:27:17.018Z"
   },
   {
    "duration": 12,
    "start_time": "2022-09-01T09:27:17.032Z"
   },
   {
    "duration": 12,
    "start_time": "2022-09-01T09:27:17.046Z"
   },
   {
    "duration": 47,
    "start_time": "2022-09-01T09:27:17.059Z"
   },
   {
    "duration": 8,
    "start_time": "2022-09-01T09:27:17.108Z"
   },
   {
    "duration": 10,
    "start_time": "2022-09-01T09:27:17.117Z"
   },
   {
    "duration": 39,
    "start_time": "2022-09-01T09:27:17.129Z"
   },
   {
    "duration": 131,
    "start_time": "2022-09-01T09:27:17.170Z"
   },
   {
    "duration": 5,
    "start_time": "2022-09-01T09:27:17.303Z"
   },
   {
    "duration": 17,
    "start_time": "2022-09-01T09:27:17.310Z"
   },
   {
    "duration": 20,
    "start_time": "2022-09-01T09:27:17.329Z"
   },
   {
    "duration": 4,
    "start_time": "2022-09-01T09:27:17.350Z"
   },
   {
    "duration": 11,
    "start_time": "2022-09-01T09:27:17.355Z"
   },
   {
    "duration": 7,
    "start_time": "2022-09-01T09:27:17.399Z"
   },
   {
    "duration": 8,
    "start_time": "2022-09-01T09:27:17.407Z"
   },
   {
    "duration": 366,
    "start_time": "2022-09-01T09:27:17.416Z"
   },
   {
    "duration": 19,
    "start_time": "2022-09-01T09:27:17.784Z"
   },
   {
    "duration": 8,
    "start_time": "2022-09-01T09:27:17.804Z"
   },
   {
    "duration": 148,
    "start_time": "2022-09-01T09:27:17.815Z"
   },
   {
    "duration": 10,
    "start_time": "2022-09-01T09:27:17.964Z"
   },
   {
    "duration": 151,
    "start_time": "2022-09-01T09:27:17.975Z"
   },
   {
    "duration": 9,
    "start_time": "2022-09-01T09:27:18.127Z"
   },
   {
    "duration": 253,
    "start_time": "2022-09-01T09:27:18.137Z"
   },
   {
    "duration": 16,
    "start_time": "2022-09-01T09:27:18.392Z"
   },
   {
    "duration": 156,
    "start_time": "2022-09-01T09:27:18.410Z"
   },
   {
    "duration": 12,
    "start_time": "2022-09-01T09:27:18.567Z"
   },
   {
    "duration": 153,
    "start_time": "2022-09-01T09:27:18.580Z"
   },
   {
    "duration": 5,
    "start_time": "2022-09-01T09:27:18.735Z"
   },
   {
    "duration": 12,
    "start_time": "2022-09-01T09:27:18.741Z"
   },
   {
    "duration": 149,
    "start_time": "2022-09-01T09:27:18.754Z"
   },
   {
    "duration": 6,
    "start_time": "2022-09-01T09:27:18.904Z"
   },
   {
    "duration": 10,
    "start_time": "2022-09-01T09:27:18.912Z"
   },
   {
    "duration": 146,
    "start_time": "2022-09-01T09:27:18.923Z"
   },
   {
    "duration": 5,
    "start_time": "2022-09-01T09:27:19.071Z"
   },
   {
    "duration": 9,
    "start_time": "2022-09-01T09:27:19.077Z"
   },
   {
    "duration": 124,
    "start_time": "2022-09-01T09:27:19.100Z"
   },
   {
    "duration": 8,
    "start_time": "2022-09-01T09:27:19.226Z"
   },
   {
    "duration": 134,
    "start_time": "2022-09-01T09:27:19.236Z"
   },
   {
    "duration": 5,
    "start_time": "2022-09-01T09:27:19.372Z"
   },
   {
    "duration": 25,
    "start_time": "2022-09-01T09:27:19.378Z"
   },
   {
    "duration": 146,
    "start_time": "2022-09-01T09:27:19.404Z"
   },
   {
    "duration": 10,
    "start_time": "2022-09-01T09:27:19.551Z"
   },
   {
    "duration": 122,
    "start_time": "2022-09-01T09:27:19.562Z"
   },
   {
    "duration": 21,
    "start_time": "2022-09-01T09:27:19.685Z"
   },
   {
    "duration": 129,
    "start_time": "2022-09-01T09:27:19.707Z"
   },
   {
    "duration": 6,
    "start_time": "2022-09-01T09:27:19.838Z"
   },
   {
    "duration": 139,
    "start_time": "2022-09-01T09:27:19.846Z"
   },
   {
    "duration": 13,
    "start_time": "2022-09-01T09:27:19.987Z"
   },
   {
    "duration": 206,
    "start_time": "2022-09-01T09:27:20.002Z"
   },
   {
    "duration": 9,
    "start_time": "2022-09-01T09:27:20.209Z"
   },
   {
    "duration": 223,
    "start_time": "2022-09-01T09:27:20.219Z"
   },
   {
    "duration": 6,
    "start_time": "2022-09-01T09:27:20.443Z"
   },
   {
    "duration": 147,
    "start_time": "2022-09-01T09:27:20.450Z"
   },
   {
    "duration": 9,
    "start_time": "2022-09-01T09:27:20.599Z"
   },
   {
    "duration": 93,
    "start_time": "2022-09-01T09:27:20.609Z"
   },
   {
    "duration": 0,
    "start_time": "2022-09-01T09:27:20.704Z"
   },
   {
    "duration": 1,
    "start_time": "2022-09-01T09:27:20.704Z"
   },
   {
    "duration": 0,
    "start_time": "2022-09-01T09:27:20.705Z"
   },
   {
    "duration": 0,
    "start_time": "2022-09-01T09:27:20.706Z"
   },
   {
    "duration": 0,
    "start_time": "2022-09-01T09:27:20.707Z"
   },
   {
    "duration": 0,
    "start_time": "2022-09-01T09:27:20.708Z"
   },
   {
    "duration": 0,
    "start_time": "2022-09-01T09:27:20.709Z"
   },
   {
    "duration": 0,
    "start_time": "2022-09-01T09:27:20.710Z"
   },
   {
    "duration": 0,
    "start_time": "2022-09-01T09:27:20.711Z"
   },
   {
    "duration": 0,
    "start_time": "2022-09-01T09:27:20.712Z"
   },
   {
    "duration": 0,
    "start_time": "2022-09-01T09:27:20.713Z"
   },
   {
    "duration": 0,
    "start_time": "2022-09-01T09:27:20.714Z"
   },
   {
    "duration": 0,
    "start_time": "2022-09-01T09:27:20.714Z"
   },
   {
    "duration": 0,
    "start_time": "2022-09-01T09:27:20.715Z"
   },
   {
    "duration": 0,
    "start_time": "2022-09-01T09:27:20.716Z"
   },
   {
    "duration": 18,
    "start_time": "2022-09-01T09:27:22.048Z"
   },
   {
    "duration": 69,
    "start_time": "2022-09-01T09:27:27.453Z"
   },
   {
    "duration": 9,
    "start_time": "2022-09-01T09:27:39.820Z"
   },
   {
    "duration": 9,
    "start_time": "2022-09-01T09:28:13.185Z"
   },
   {
    "duration": 9,
    "start_time": "2022-09-01T09:28:30.682Z"
   },
   {
    "duration": 10,
    "start_time": "2022-09-01T09:28:44.675Z"
   },
   {
    "duration": 10,
    "start_time": "2022-09-01T09:28:55.482Z"
   },
   {
    "duration": 670,
    "start_time": "2022-09-01T09:29:10.947Z"
   },
   {
    "duration": 30,
    "start_time": "2022-09-01T09:29:11.618Z"
   },
   {
    "duration": 1725,
    "start_time": "2022-09-01T09:29:11.650Z"
   },
   {
    "duration": 10,
    "start_time": "2022-09-01T09:29:13.377Z"
   },
   {
    "duration": 12,
    "start_time": "2022-09-01T09:29:13.388Z"
   },
   {
    "duration": 4,
    "start_time": "2022-09-01T09:29:13.401Z"
   },
   {
    "duration": 15,
    "start_time": "2022-09-01T09:29:13.406Z"
   },
   {
    "duration": 4,
    "start_time": "2022-09-01T09:29:13.422Z"
   },
   {
    "duration": 14,
    "start_time": "2022-09-01T09:29:13.427Z"
   },
   {
    "duration": 12,
    "start_time": "2022-09-01T09:29:13.444Z"
   },
   {
    "duration": 50,
    "start_time": "2022-09-01T09:29:13.458Z"
   },
   {
    "duration": 14,
    "start_time": "2022-09-01T09:29:13.510Z"
   },
   {
    "duration": 8,
    "start_time": "2022-09-01T09:29:13.525Z"
   },
   {
    "duration": 12,
    "start_time": "2022-09-01T09:29:13.534Z"
   },
   {
    "duration": 9,
    "start_time": "2022-09-01T09:29:13.547Z"
   },
   {
    "duration": 62,
    "start_time": "2022-09-01T09:29:13.558Z"
   },
   {
    "duration": 114,
    "start_time": "2022-09-01T09:29:13.621Z"
   },
   {
    "duration": 5,
    "start_time": "2022-09-01T09:29:13.737Z"
   },
   {
    "duration": 17,
    "start_time": "2022-09-01T09:29:13.743Z"
   },
   {
    "duration": 44,
    "start_time": "2022-09-01T09:29:13.761Z"
   },
   {
    "duration": 4,
    "start_time": "2022-09-01T09:29:13.806Z"
   },
   {
    "duration": 15,
    "start_time": "2022-09-01T09:29:13.811Z"
   },
   {
    "duration": 10,
    "start_time": "2022-09-01T09:29:13.828Z"
   },
   {
    "duration": 9,
    "start_time": "2022-09-01T09:29:13.839Z"
   },
   {
    "duration": 354,
    "start_time": "2022-09-01T09:29:13.850Z"
   },
   {
    "duration": 13,
    "start_time": "2022-09-01T09:29:14.206Z"
   },
   {
    "duration": 7,
    "start_time": "2022-09-01T09:29:14.221Z"
   },
   {
    "duration": 152,
    "start_time": "2022-09-01T09:29:14.232Z"
   },
   {
    "duration": 16,
    "start_time": "2022-09-01T09:29:14.385Z"
   },
   {
    "duration": 133,
    "start_time": "2022-09-01T09:29:14.403Z"
   },
   {
    "duration": 10,
    "start_time": "2022-09-01T09:29:14.538Z"
   },
   {
    "duration": 252,
    "start_time": "2022-09-01T09:29:14.550Z"
   },
   {
    "duration": 11,
    "start_time": "2022-09-01T09:29:14.804Z"
   },
   {
    "duration": 148,
    "start_time": "2022-09-01T09:29:14.817Z"
   },
   {
    "duration": 10,
    "start_time": "2022-09-01T09:29:14.967Z"
   },
   {
    "duration": 165,
    "start_time": "2022-09-01T09:29:14.979Z"
   },
   {
    "duration": 7,
    "start_time": "2022-09-01T09:29:15.146Z"
   },
   {
    "duration": 10,
    "start_time": "2022-09-01T09:29:15.155Z"
   },
   {
    "duration": 149,
    "start_time": "2022-09-01T09:29:15.167Z"
   },
   {
    "duration": 8,
    "start_time": "2022-09-01T09:29:15.318Z"
   },
   {
    "duration": 11,
    "start_time": "2022-09-01T09:29:15.328Z"
   },
   {
    "duration": 148,
    "start_time": "2022-09-01T09:29:15.341Z"
   },
   {
    "duration": 10,
    "start_time": "2022-09-01T09:29:15.491Z"
   },
   {
    "duration": 12,
    "start_time": "2022-09-01T09:29:15.503Z"
   },
   {
    "duration": 136,
    "start_time": "2022-09-01T09:29:15.517Z"
   },
   {
    "duration": 10,
    "start_time": "2022-09-01T09:29:15.656Z"
   },
   {
    "duration": 140,
    "start_time": "2022-09-01T09:29:15.668Z"
   },
   {
    "duration": 7,
    "start_time": "2022-09-01T09:29:15.810Z"
   },
   {
    "duration": 13,
    "start_time": "2022-09-01T09:29:15.818Z"
   },
   {
    "duration": 143,
    "start_time": "2022-09-01T09:29:15.833Z"
   },
   {
    "duration": 26,
    "start_time": "2022-09-01T09:29:15.978Z"
   },
   {
    "duration": 119,
    "start_time": "2022-09-01T09:29:16.006Z"
   },
   {
    "duration": 9,
    "start_time": "2022-09-01T09:29:16.126Z"
   },
   {
    "duration": 147,
    "start_time": "2022-09-01T09:29:16.137Z"
   },
   {
    "duration": 18,
    "start_time": "2022-09-01T09:29:16.285Z"
   },
   {
    "duration": 128,
    "start_time": "2022-09-01T09:29:16.304Z"
   },
   {
    "duration": 7,
    "start_time": "2022-09-01T09:29:16.434Z"
   },
   {
    "duration": 209,
    "start_time": "2022-09-01T09:29:16.442Z"
   },
   {
    "duration": 8,
    "start_time": "2022-09-01T09:29:16.653Z"
   },
   {
    "duration": 216,
    "start_time": "2022-09-01T09:29:16.663Z"
   },
   {
    "duration": 21,
    "start_time": "2022-09-01T09:29:16.881Z"
   },
   {
    "duration": 143,
    "start_time": "2022-09-01T09:29:16.903Z"
   },
   {
    "duration": 6,
    "start_time": "2022-09-01T09:29:17.047Z"
   },
   {
    "duration": 71,
    "start_time": "2022-09-01T09:29:17.054Z"
   },
   {
    "duration": 0,
    "start_time": "2022-09-01T09:29:17.126Z"
   },
   {
    "duration": 0,
    "start_time": "2022-09-01T09:29:17.128Z"
   },
   {
    "duration": 0,
    "start_time": "2022-09-01T09:29:17.129Z"
   },
   {
    "duration": 0,
    "start_time": "2022-09-01T09:29:17.130Z"
   },
   {
    "duration": 0,
    "start_time": "2022-09-01T09:29:17.132Z"
   },
   {
    "duration": 0,
    "start_time": "2022-09-01T09:29:17.133Z"
   },
   {
    "duration": 1,
    "start_time": "2022-09-01T09:29:17.133Z"
   },
   {
    "duration": 1,
    "start_time": "2022-09-01T09:29:17.134Z"
   },
   {
    "duration": 0,
    "start_time": "2022-09-01T09:29:17.136Z"
   },
   {
    "duration": 0,
    "start_time": "2022-09-01T09:29:17.137Z"
   },
   {
    "duration": 0,
    "start_time": "2022-09-01T09:29:17.138Z"
   },
   {
    "duration": 0,
    "start_time": "2022-09-01T09:29:17.139Z"
   },
   {
    "duration": 0,
    "start_time": "2022-09-01T09:29:17.140Z"
   },
   {
    "duration": 0,
    "start_time": "2022-09-01T09:29:17.141Z"
   },
   {
    "duration": 134,
    "start_time": "2022-09-01T09:30:16.448Z"
   },
   {
    "duration": 148,
    "start_time": "2022-09-01T09:30:44.869Z"
   },
   {
    "duration": 129,
    "start_time": "2022-09-01T09:30:48.274Z"
   },
   {
    "duration": 137,
    "start_time": "2022-09-01T09:30:52.072Z"
   },
   {
    "duration": 6,
    "start_time": "2022-09-01T09:30:55.098Z"
   },
   {
    "duration": 5,
    "start_time": "2022-09-01T09:30:58.743Z"
   },
   {
    "duration": 141,
    "start_time": "2022-09-01T09:31:01.911Z"
   },
   {
    "duration": 152,
    "start_time": "2022-09-01T09:31:10.680Z"
   },
   {
    "duration": 168,
    "start_time": "2022-09-01T09:31:13.281Z"
   },
   {
    "duration": 223,
    "start_time": "2022-09-01T09:31:15.545Z"
   },
   {
    "duration": 17,
    "start_time": "2022-09-01T09:31:42.783Z"
   },
   {
    "duration": 8,
    "start_time": "2022-09-01T09:32:07.010Z"
   },
   {
    "duration": 7,
    "start_time": "2022-09-01T09:34:17.873Z"
   },
   {
    "duration": 7,
    "start_time": "2022-09-01T09:34:28.204Z"
   },
   {
    "duration": 18,
    "start_time": "2022-09-01T09:34:31.578Z"
   },
   {
    "duration": 9,
    "start_time": "2022-09-01T09:37:01.882Z"
   },
   {
    "duration": 7,
    "start_time": "2022-09-01T09:37:21.354Z"
   },
   {
    "duration": 63,
    "start_time": "2022-09-01T09:41:10.685Z"
   },
   {
    "duration": 9,
    "start_time": "2022-09-01T09:42:10.209Z"
   },
   {
    "duration": 7,
    "start_time": "2022-09-01T09:50:21.295Z"
   },
   {
    "duration": 10,
    "start_time": "2022-09-01T09:50:30.537Z"
   },
   {
    "duration": 37,
    "start_time": "2022-09-01T09:51:00.316Z"
   },
   {
    "duration": 23,
    "start_time": "2022-09-01T09:51:09.599Z"
   },
   {
    "duration": 5,
    "start_time": "2022-09-01T09:52:06.589Z"
   },
   {
    "duration": 16,
    "start_time": "2022-09-01T09:52:35.499Z"
   },
   {
    "duration": 8,
    "start_time": "2022-09-01T09:53:17.040Z"
   },
   {
    "duration": 5,
    "start_time": "2022-09-01T09:53:24.907Z"
   },
   {
    "duration": 125,
    "start_time": "2022-09-01T09:53:29.706Z"
   },
   {
    "duration": 82,
    "start_time": "2022-09-01T09:54:09.581Z"
   },
   {
    "duration": 58,
    "start_time": "2022-09-01T09:57:31.837Z"
   },
   {
    "duration": 1157,
    "start_time": "2022-09-01T11:13:31.266Z"
   },
   {
    "duration": 36,
    "start_time": "2022-09-01T11:13:32.426Z"
   },
   {
    "duration": 2211,
    "start_time": "2022-09-01T11:13:32.464Z"
   },
   {
    "duration": 11,
    "start_time": "2022-09-01T11:13:34.677Z"
   },
   {
    "duration": 13,
    "start_time": "2022-09-01T11:13:34.690Z"
   },
   {
    "duration": 6,
    "start_time": "2022-09-01T11:13:34.705Z"
   },
   {
    "duration": 20,
    "start_time": "2022-09-01T11:13:34.713Z"
   },
   {
    "duration": 8,
    "start_time": "2022-09-01T11:13:34.735Z"
   },
   {
    "duration": 15,
    "start_time": "2022-09-01T11:13:34.745Z"
   },
   {
    "duration": 36,
    "start_time": "2022-09-01T11:13:34.763Z"
   },
   {
    "duration": 13,
    "start_time": "2022-09-01T11:13:34.801Z"
   },
   {
    "duration": 12,
    "start_time": "2022-09-01T11:13:34.816Z"
   },
   {
    "duration": 8,
    "start_time": "2022-09-01T11:13:34.830Z"
   },
   {
    "duration": 15,
    "start_time": "2022-09-01T11:13:34.840Z"
   },
   {
    "duration": 41,
    "start_time": "2022-09-01T11:13:34.856Z"
   },
   {
    "duration": 51,
    "start_time": "2022-09-01T11:13:34.899Z"
   },
   {
    "duration": 135,
    "start_time": "2022-09-01T11:13:34.951Z"
   },
   {
    "duration": 8,
    "start_time": "2022-09-01T11:13:35.087Z"
   },
   {
    "duration": 15,
    "start_time": "2022-09-01T11:13:35.097Z"
   },
   {
    "duration": 24,
    "start_time": "2022-09-01T11:13:35.113Z"
   },
   {
    "duration": 4,
    "start_time": "2022-09-01T11:13:35.139Z"
   },
   {
    "duration": 14,
    "start_time": "2022-09-01T11:13:35.144Z"
   },
   {
    "duration": 7,
    "start_time": "2022-09-01T11:13:35.193Z"
   },
   {
    "duration": 6,
    "start_time": "2022-09-01T11:13:35.202Z"
   },
   {
    "duration": 448,
    "start_time": "2022-09-01T11:13:35.210Z"
   },
   {
    "duration": 16,
    "start_time": "2022-09-01T11:13:35.660Z"
   },
   {
    "duration": 20,
    "start_time": "2022-09-01T11:13:35.678Z"
   },
   {
    "duration": 161,
    "start_time": "2022-09-01T11:13:35.702Z"
   },
   {
    "duration": 10,
    "start_time": "2022-09-01T11:13:35.865Z"
   },
   {
    "duration": 159,
    "start_time": "2022-09-01T11:13:35.876Z"
   },
   {
    "duration": 9,
    "start_time": "2022-09-01T11:13:36.038Z"
   },
   {
    "duration": 245,
    "start_time": "2022-09-01T11:13:36.049Z"
   },
   {
    "duration": 11,
    "start_time": "2022-09-01T11:13:36.295Z"
   },
   {
    "duration": 160,
    "start_time": "2022-09-01T11:13:36.307Z"
   },
   {
    "duration": 12,
    "start_time": "2022-09-01T11:13:36.469Z"
   },
   {
    "duration": 158,
    "start_time": "2022-09-01T11:13:36.492Z"
   },
   {
    "duration": 5,
    "start_time": "2022-09-01T11:13:36.652Z"
   },
   {
    "duration": 18,
    "start_time": "2022-09-01T11:13:36.659Z"
   },
   {
    "duration": 153,
    "start_time": "2022-09-01T11:13:36.678Z"
   },
   {
    "duration": 8,
    "start_time": "2022-09-01T11:13:36.833Z"
   },
   {
    "duration": 11,
    "start_time": "2022-09-01T11:13:36.843Z"
   },
   {
    "duration": 159,
    "start_time": "2022-09-01T11:13:36.856Z"
   },
   {
    "duration": 6,
    "start_time": "2022-09-01T11:13:37.017Z"
   },
   {
    "duration": 15,
    "start_time": "2022-09-01T11:13:37.024Z"
   },
   {
    "duration": 146,
    "start_time": "2022-09-01T11:13:37.040Z"
   },
   {
    "duration": 10,
    "start_time": "2022-09-01T11:13:37.191Z"
   },
   {
    "duration": 149,
    "start_time": "2022-09-01T11:13:37.203Z"
   },
   {
    "duration": 6,
    "start_time": "2022-09-01T11:13:37.353Z"
   },
   {
    "duration": 25,
    "start_time": "2022-09-01T11:13:37.360Z"
   },
   {
    "duration": 146,
    "start_time": "2022-09-01T11:13:37.393Z"
   },
   {
    "duration": 10,
    "start_time": "2022-09-01T11:13:37.541Z"
   },
   {
    "duration": 147,
    "start_time": "2022-09-01T11:13:37.552Z"
   },
   {
    "duration": 9,
    "start_time": "2022-09-01T11:13:37.701Z"
   },
   {
    "duration": 168,
    "start_time": "2022-09-01T11:13:37.712Z"
   },
   {
    "duration": 13,
    "start_time": "2022-09-01T11:13:37.882Z"
   },
   {
    "duration": 159,
    "start_time": "2022-09-01T11:13:37.897Z"
   },
   {
    "duration": 7,
    "start_time": "2022-09-01T11:13:38.058Z"
   },
   {
    "duration": 237,
    "start_time": "2022-09-01T11:13:38.067Z"
   },
   {
    "duration": 10,
    "start_time": "2022-09-01T11:13:38.306Z"
   },
   {
    "duration": 263,
    "start_time": "2022-09-01T11:13:38.318Z"
   },
   {
    "duration": 13,
    "start_time": "2022-09-01T11:13:38.584Z"
   },
   {
    "duration": 168,
    "start_time": "2022-09-01T11:13:38.599Z"
   },
   {
    "duration": 5,
    "start_time": "2022-09-01T11:13:38.769Z"
   },
   {
    "duration": 76,
    "start_time": "2022-09-01T11:13:38.775Z"
   },
   {
    "duration": 0,
    "start_time": "2022-09-01T11:13:38.853Z"
   },
   {
    "duration": 0,
    "start_time": "2022-09-01T11:13:38.855Z"
   },
   {
    "duration": 0,
    "start_time": "2022-09-01T11:13:38.856Z"
   },
   {
    "duration": 0,
    "start_time": "2022-09-01T11:13:38.858Z"
   },
   {
    "duration": 0,
    "start_time": "2022-09-01T11:13:38.859Z"
   },
   {
    "duration": 0,
    "start_time": "2022-09-01T11:13:38.860Z"
   },
   {
    "duration": 0,
    "start_time": "2022-09-01T11:13:38.862Z"
   },
   {
    "duration": 0,
    "start_time": "2022-09-01T11:13:38.863Z"
   },
   {
    "duration": 0,
    "start_time": "2022-09-01T11:13:38.865Z"
   },
   {
    "duration": 0,
    "start_time": "2022-09-01T11:13:38.866Z"
   },
   {
    "duration": 0,
    "start_time": "2022-09-01T11:13:38.868Z"
   },
   {
    "duration": 0,
    "start_time": "2022-09-01T11:13:38.869Z"
   },
   {
    "duration": 0,
    "start_time": "2022-09-01T11:13:38.870Z"
   },
   {
    "duration": 0,
    "start_time": "2022-09-01T11:13:38.871Z"
   },
   {
    "duration": 0,
    "start_time": "2022-09-01T11:13:38.873Z"
   },
   {
    "duration": 0,
    "start_time": "2022-09-01T11:13:38.874Z"
   },
   {
    "duration": 0,
    "start_time": "2022-09-01T11:13:38.875Z"
   },
   {
    "duration": 0,
    "start_time": "2022-09-01T11:13:38.877Z"
   },
   {
    "duration": 0,
    "start_time": "2022-09-01T11:13:38.879Z"
   },
   {
    "duration": 16,
    "start_time": "2022-09-01T11:15:43.378Z"
   },
   {
    "duration": 28,
    "start_time": "2022-09-01T11:15:50.534Z"
   },
   {
    "duration": 127,
    "start_time": "2022-09-01T11:20:27.884Z"
   },
   {
    "duration": 932,
    "start_time": "2022-09-01T12:03:40.982Z"
   },
   {
    "duration": 43,
    "start_time": "2022-09-01T12:03:41.916Z"
   },
   {
    "duration": 3023,
    "start_time": "2022-09-01T12:03:41.961Z"
   },
   {
    "duration": 10,
    "start_time": "2022-09-01T12:03:44.986Z"
   },
   {
    "duration": 7,
    "start_time": "2022-09-01T12:03:44.998Z"
   },
   {
    "duration": 4,
    "start_time": "2022-09-01T12:03:45.007Z"
   },
   {
    "duration": 28,
    "start_time": "2022-09-01T12:03:45.013Z"
   },
   {
    "duration": 4,
    "start_time": "2022-09-01T12:03:45.043Z"
   },
   {
    "duration": 20,
    "start_time": "2022-09-01T12:03:45.048Z"
   },
   {
    "duration": 29,
    "start_time": "2022-09-01T12:03:45.071Z"
   },
   {
    "duration": 13,
    "start_time": "2022-09-01T12:03:45.102Z"
   },
   {
    "duration": 12,
    "start_time": "2022-09-01T12:03:45.116Z"
   },
   {
    "duration": 8,
    "start_time": "2022-09-01T12:03:45.130Z"
   },
   {
    "duration": 12,
    "start_time": "2022-09-01T12:03:45.140Z"
   },
   {
    "duration": 11,
    "start_time": "2022-09-01T12:03:45.154Z"
   },
   {
    "duration": 62,
    "start_time": "2022-09-01T12:03:45.167Z"
   },
   {
    "duration": 139,
    "start_time": "2022-09-01T12:03:45.231Z"
   },
   {
    "duration": 7,
    "start_time": "2022-09-01T12:03:45.371Z"
   },
   {
    "duration": 23,
    "start_time": "2022-09-01T12:03:45.379Z"
   },
   {
    "duration": 25,
    "start_time": "2022-09-01T12:03:45.404Z"
   },
   {
    "duration": 4,
    "start_time": "2022-09-01T12:03:45.431Z"
   },
   {
    "duration": 9,
    "start_time": "2022-09-01T12:03:45.436Z"
   },
   {
    "duration": 5,
    "start_time": "2022-09-01T12:03:45.447Z"
   },
   {
    "duration": 7,
    "start_time": "2022-09-01T12:03:45.454Z"
   },
   {
    "duration": 392,
    "start_time": "2022-09-01T12:03:45.491Z"
   },
   {
    "duration": 15,
    "start_time": "2022-09-01T12:03:45.885Z"
   },
   {
    "duration": 10,
    "start_time": "2022-09-01T12:03:45.901Z"
   },
   {
    "duration": 155,
    "start_time": "2022-09-01T12:03:45.915Z"
   },
   {
    "duration": 19,
    "start_time": "2022-09-01T12:03:46.072Z"
   },
   {
    "duration": 133,
    "start_time": "2022-09-01T12:03:46.093Z"
   },
   {
    "duration": 9,
    "start_time": "2022-09-01T12:03:46.228Z"
   },
   {
    "duration": 245,
    "start_time": "2022-09-01T12:03:46.238Z"
   },
   {
    "duration": 17,
    "start_time": "2022-09-01T12:03:46.485Z"
   },
   {
    "duration": 152,
    "start_time": "2022-09-01T12:03:46.503Z"
   },
   {
    "duration": 9,
    "start_time": "2022-09-01T12:03:46.657Z"
   },
   {
    "duration": 158,
    "start_time": "2022-09-01T12:03:46.667Z"
   },
   {
    "duration": 7,
    "start_time": "2022-09-01T12:03:46.827Z"
   },
   {
    "duration": 20,
    "start_time": "2022-09-01T12:03:46.835Z"
   },
   {
    "duration": 163,
    "start_time": "2022-09-01T12:03:46.857Z"
   },
   {
    "duration": 6,
    "start_time": "2022-09-01T12:03:47.022Z"
   },
   {
    "duration": 11,
    "start_time": "2022-09-01T12:03:47.030Z"
   },
   {
    "duration": 159,
    "start_time": "2022-09-01T12:03:47.043Z"
   },
   {
    "duration": 6,
    "start_time": "2022-09-01T12:03:47.204Z"
   },
   {
    "duration": 23,
    "start_time": "2022-09-01T12:03:47.212Z"
   },
   {
    "duration": 135,
    "start_time": "2022-09-01T12:03:47.237Z"
   },
   {
    "duration": 9,
    "start_time": "2022-09-01T12:03:47.374Z"
   },
   {
    "duration": 136,
    "start_time": "2022-09-01T12:03:47.392Z"
   },
   {
    "duration": 5,
    "start_time": "2022-09-01T12:03:47.530Z"
   },
   {
    "duration": 22,
    "start_time": "2022-09-01T12:03:47.537Z"
   },
   {
    "duration": 141,
    "start_time": "2022-09-01T12:03:47.560Z"
   },
   {
    "duration": 9,
    "start_time": "2022-09-01T12:03:47.703Z"
   },
   {
    "duration": 130,
    "start_time": "2022-09-01T12:03:47.713Z"
   },
   {
    "duration": 10,
    "start_time": "2022-09-01T12:03:47.844Z"
   },
   {
    "duration": 157,
    "start_time": "2022-09-01T12:03:47.855Z"
   },
   {
    "duration": 7,
    "start_time": "2022-09-01T12:03:48.014Z"
   },
   {
    "duration": 153,
    "start_time": "2022-09-01T12:03:48.023Z"
   },
   {
    "duration": 7,
    "start_time": "2022-09-01T12:03:48.178Z"
   },
   {
    "duration": 197,
    "start_time": "2022-09-01T12:03:48.187Z"
   },
   {
    "duration": 8,
    "start_time": "2022-09-01T12:03:48.391Z"
   },
   {
    "duration": 246,
    "start_time": "2022-09-01T12:03:48.401Z"
   },
   {
    "duration": 7,
    "start_time": "2022-09-01T12:03:48.648Z"
   },
   {
    "duration": 167,
    "start_time": "2022-09-01T12:03:48.657Z"
   },
   {
    "duration": 5,
    "start_time": "2022-09-01T12:03:48.826Z"
   },
   {
    "duration": 183,
    "start_time": "2022-09-01T12:03:48.832Z"
   },
   {
    "duration": 5,
    "start_time": "2022-09-01T12:03:49.017Z"
   },
   {
    "duration": 168,
    "start_time": "2022-09-01T12:03:49.024Z"
   },
   {
    "duration": 6,
    "start_time": "2022-09-01T12:03:49.193Z"
   },
   {
    "duration": 173,
    "start_time": "2022-09-01T12:03:49.200Z"
   },
   {
    "duration": 5,
    "start_time": "2022-09-01T12:03:49.375Z"
   },
   {
    "duration": 162,
    "start_time": "2022-09-01T12:03:49.392Z"
   },
   {
    "duration": 179,
    "start_time": "2022-09-01T12:03:49.556Z"
   },
   {
    "duration": 203,
    "start_time": "2022-09-01T12:03:49.737Z"
   },
   {
    "duration": 174,
    "start_time": "2022-09-01T12:03:49.942Z"
   },
   {
    "duration": 21,
    "start_time": "2022-09-01T12:03:50.118Z"
   },
   {
    "duration": 8,
    "start_time": "2022-09-01T12:03:50.141Z"
   },
   {
    "duration": 118,
    "start_time": "2022-09-01T12:03:50.151Z"
   },
   {
    "duration": 9,
    "start_time": "2022-09-01T12:03:50.271Z"
   },
   {
    "duration": 152,
    "start_time": "2022-09-01T12:03:50.282Z"
   },
   {
    "duration": 232,
    "start_time": "2022-09-02T08:20:17.320Z"
   },
   {
    "duration": 221,
    "start_time": "2022-09-02T08:20:57.578Z"
   },
   {
    "duration": 139,
    "start_time": "2022-09-02T08:23:42.363Z"
   },
   {
    "duration": 137,
    "start_time": "2022-09-02T08:23:47.416Z"
   }
  ],
  "kernelspec": {
   "display_name": "Python 3 (ipykernel)",
   "language": "python",
   "name": "python3"
  },
  "language_info": {
   "codemirror_mode": {
    "name": "ipython",
    "version": 3
   },
   "file_extension": ".py",
   "mimetype": "text/x-python",
   "name": "python",
   "nbconvert_exporter": "python",
   "pygments_lexer": "ipython3",
   "version": "3.9.5"
  },
  "toc": {
   "base_numbering": 1,
   "nav_menu": {},
   "number_sections": true,
   "sideBar": true,
   "skip_h1_title": true,
   "title_cell": "Table of Contents",
   "title_sidebar": "Contents",
   "toc_cell": false,
   "toc_position": {
    "height": "calc(100% - 180px)",
    "left": "10px",
    "top": "150px",
    "width": "165px"
   },
   "toc_section_display": true,
   "toc_window_display": true
  }
 },
 "nbformat": 4,
 "nbformat_minor": 2
}
