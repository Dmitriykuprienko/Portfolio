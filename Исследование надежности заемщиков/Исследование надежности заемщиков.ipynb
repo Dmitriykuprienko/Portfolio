{
 "cells": [
  {
   "cell_type": "markdown",
   "id": "c5041dc7",
   "metadata": {
    "deletable": false,
    "editable": false,
    "id": "c81daeeb"
   },
   "source": [
    "# Исследование надежности заемщиков\n"
   ]
  },
  {
   "cell_type": "markdown",
   "id": "c6a2615e",
   "metadata": {},
   "source": [
    "Заказчик — кредитный отдел банка.\n",
    "\n",
    "Цель исследования - узнать, влияет ли семейное положение и количество детей клиента на факт погашения кредита в срок. Входные данные от банка — статистика о платёжеспособности клиентов.\n",
    "\n",
    "Результаты исследования будут учтены при построении модели кредитного скоринга — специальной системы, которая оценивает способность потенциального заёмщика вернуть кредит банку."
   ]
  },
  {
   "cell_type": "markdown",
   "id": "f95a55df",
   "metadata": {
    "deletable": false,
    "editable": false,
    "id": "827c20bf"
   },
   "source": [
    "Во второй части проекта вы выполните шаги 3 и 4. Их вручную проверит ревьюер.\n",
    "Чтобы вам не пришлось писать код заново для шагов 1 и 2, мы добавили авторские решения в ячейки с кодом. \n",
    "\n"
   ]
  },
  {
   "cell_type": "markdown",
   "id": "be4ae73d",
   "metadata": {
    "deletable": false,
    "editable": false,
    "id": "744d7639"
   },
   "source": [
    "## Откройте таблицу и изучите общую информацию о данных"
   ]
  },
  {
   "cell_type": "markdown",
   "id": "60b1603f",
   "metadata": {
    "deletable": false,
    "editable": false,
    "id": "e7a14c31"
   },
   "source": [
    "**Задание 1. Импортируйте библиотеку pandas. Считайте данные из csv-файла в датафрейм и сохраните в переменную `data`. Путь к файлу:**\n",
    "\n",
    "`/datasets/data.csv`"
   ]
  },
  {
   "cell_type": "code",
   "execution_count": 1,
   "id": "6bf615b2",
   "metadata": {
    "deletable": false,
    "id": "7bcf75c9"
   },
   "outputs": [],
   "source": [
    "import pandas as pd\n",
    "\n",
    "try:\n",
    "    data = pd.read_csv('/datasets/data.csv')\n",
    "except:\n",
    "    data = pd.read_csv('https://code.s3.yandex.net/datasets/data.csv')"
   ]
  },
  {
   "cell_type": "markdown",
   "id": "2f0953ce",
   "metadata": {
    "deletable": false,
    "editable": false,
    "id": "b8038fe3"
   },
   "source": [
    "**Задание 2. Выведите первые 20 строчек датафрейма `data` на экран.**"
   ]
  },
  {
   "cell_type": "code",
   "execution_count": 2,
   "id": "2d71e825",
   "metadata": {
    "deletable": false,
    "id": "2a7cab99",
    "outputId": "1a8f3ef2-d323-4ec2-ddf7-89670b5944c4"
   },
   "outputs": [
    {
     "data": {
      "text/html": [
       "<div>\n",
       "<style scoped>\n",
       "    .dataframe tbody tr th:only-of-type {\n",
       "        vertical-align: middle;\n",
       "    }\n",
       "\n",
       "    .dataframe tbody tr th {\n",
       "        vertical-align: top;\n",
       "    }\n",
       "\n",
       "    .dataframe thead th {\n",
       "        text-align: right;\n",
       "    }\n",
       "</style>\n",
       "<table border=\"1\" class=\"dataframe\">\n",
       "  <thead>\n",
       "    <tr style=\"text-align: right;\">\n",
       "      <th></th>\n",
       "      <th>children</th>\n",
       "      <th>days_employed</th>\n",
       "      <th>dob_years</th>\n",
       "      <th>education</th>\n",
       "      <th>education_id</th>\n",
       "      <th>family_status</th>\n",
       "      <th>family_status_id</th>\n",
       "      <th>gender</th>\n",
       "      <th>income_type</th>\n",
       "      <th>debt</th>\n",
       "      <th>total_income</th>\n",
       "      <th>purpose</th>\n",
       "    </tr>\n",
       "  </thead>\n",
       "  <tbody>\n",
       "    <tr>\n",
       "      <th>0</th>\n",
       "      <td>1</td>\n",
       "      <td>-8437.673028</td>\n",
       "      <td>42</td>\n",
       "      <td>высшее</td>\n",
       "      <td>0</td>\n",
       "      <td>женат / замужем</td>\n",
       "      <td>0</td>\n",
       "      <td>F</td>\n",
       "      <td>сотрудник</td>\n",
       "      <td>0</td>\n",
       "      <td>253875.639453</td>\n",
       "      <td>покупка жилья</td>\n",
       "    </tr>\n",
       "    <tr>\n",
       "      <th>1</th>\n",
       "      <td>1</td>\n",
       "      <td>-4024.803754</td>\n",
       "      <td>36</td>\n",
       "      <td>среднее</td>\n",
       "      <td>1</td>\n",
       "      <td>женат / замужем</td>\n",
       "      <td>0</td>\n",
       "      <td>F</td>\n",
       "      <td>сотрудник</td>\n",
       "      <td>0</td>\n",
       "      <td>112080.014102</td>\n",
       "      <td>приобретение автомобиля</td>\n",
       "    </tr>\n",
       "    <tr>\n",
       "      <th>2</th>\n",
       "      <td>0</td>\n",
       "      <td>-5623.422610</td>\n",
       "      <td>33</td>\n",
       "      <td>Среднее</td>\n",
       "      <td>1</td>\n",
       "      <td>женат / замужем</td>\n",
       "      <td>0</td>\n",
       "      <td>M</td>\n",
       "      <td>сотрудник</td>\n",
       "      <td>0</td>\n",
       "      <td>145885.952297</td>\n",
       "      <td>покупка жилья</td>\n",
       "    </tr>\n",
       "    <tr>\n",
       "      <th>3</th>\n",
       "      <td>3</td>\n",
       "      <td>-4124.747207</td>\n",
       "      <td>32</td>\n",
       "      <td>среднее</td>\n",
       "      <td>1</td>\n",
       "      <td>женат / замужем</td>\n",
       "      <td>0</td>\n",
       "      <td>M</td>\n",
       "      <td>сотрудник</td>\n",
       "      <td>0</td>\n",
       "      <td>267628.550329</td>\n",
       "      <td>дополнительное образование</td>\n",
       "    </tr>\n",
       "    <tr>\n",
       "      <th>4</th>\n",
       "      <td>0</td>\n",
       "      <td>340266.072047</td>\n",
       "      <td>53</td>\n",
       "      <td>среднее</td>\n",
       "      <td>1</td>\n",
       "      <td>гражданский брак</td>\n",
       "      <td>1</td>\n",
       "      <td>F</td>\n",
       "      <td>пенсионер</td>\n",
       "      <td>0</td>\n",
       "      <td>158616.077870</td>\n",
       "      <td>сыграть свадьбу</td>\n",
       "    </tr>\n",
       "    <tr>\n",
       "      <th>5</th>\n",
       "      <td>0</td>\n",
       "      <td>-926.185831</td>\n",
       "      <td>27</td>\n",
       "      <td>высшее</td>\n",
       "      <td>0</td>\n",
       "      <td>гражданский брак</td>\n",
       "      <td>1</td>\n",
       "      <td>M</td>\n",
       "      <td>компаньон</td>\n",
       "      <td>0</td>\n",
       "      <td>255763.565419</td>\n",
       "      <td>покупка жилья</td>\n",
       "    </tr>\n",
       "    <tr>\n",
       "      <th>6</th>\n",
       "      <td>0</td>\n",
       "      <td>-2879.202052</td>\n",
       "      <td>43</td>\n",
       "      <td>высшее</td>\n",
       "      <td>0</td>\n",
       "      <td>женат / замужем</td>\n",
       "      <td>0</td>\n",
       "      <td>F</td>\n",
       "      <td>компаньон</td>\n",
       "      <td>0</td>\n",
       "      <td>240525.971920</td>\n",
       "      <td>операции с жильем</td>\n",
       "    </tr>\n",
       "    <tr>\n",
       "      <th>7</th>\n",
       "      <td>0</td>\n",
       "      <td>-152.779569</td>\n",
       "      <td>50</td>\n",
       "      <td>СРЕДНЕЕ</td>\n",
       "      <td>1</td>\n",
       "      <td>женат / замужем</td>\n",
       "      <td>0</td>\n",
       "      <td>M</td>\n",
       "      <td>сотрудник</td>\n",
       "      <td>0</td>\n",
       "      <td>135823.934197</td>\n",
       "      <td>образование</td>\n",
       "    </tr>\n",
       "    <tr>\n",
       "      <th>8</th>\n",
       "      <td>2</td>\n",
       "      <td>-6929.865299</td>\n",
       "      <td>35</td>\n",
       "      <td>ВЫСШЕЕ</td>\n",
       "      <td>0</td>\n",
       "      <td>гражданский брак</td>\n",
       "      <td>1</td>\n",
       "      <td>F</td>\n",
       "      <td>сотрудник</td>\n",
       "      <td>0</td>\n",
       "      <td>95856.832424</td>\n",
       "      <td>на проведение свадьбы</td>\n",
       "    </tr>\n",
       "    <tr>\n",
       "      <th>9</th>\n",
       "      <td>0</td>\n",
       "      <td>-2188.756445</td>\n",
       "      <td>41</td>\n",
       "      <td>среднее</td>\n",
       "      <td>1</td>\n",
       "      <td>женат / замужем</td>\n",
       "      <td>0</td>\n",
       "      <td>M</td>\n",
       "      <td>сотрудник</td>\n",
       "      <td>0</td>\n",
       "      <td>144425.938277</td>\n",
       "      <td>покупка жилья для семьи</td>\n",
       "    </tr>\n",
       "    <tr>\n",
       "      <th>10</th>\n",
       "      <td>2</td>\n",
       "      <td>-4171.483647</td>\n",
       "      <td>36</td>\n",
       "      <td>высшее</td>\n",
       "      <td>0</td>\n",
       "      <td>женат / замужем</td>\n",
       "      <td>0</td>\n",
       "      <td>M</td>\n",
       "      <td>компаньон</td>\n",
       "      <td>0</td>\n",
       "      <td>113943.491460</td>\n",
       "      <td>покупка недвижимости</td>\n",
       "    </tr>\n",
       "    <tr>\n",
       "      <th>11</th>\n",
       "      <td>0</td>\n",
       "      <td>-792.701887</td>\n",
       "      <td>40</td>\n",
       "      <td>среднее</td>\n",
       "      <td>1</td>\n",
       "      <td>женат / замужем</td>\n",
       "      <td>0</td>\n",
       "      <td>F</td>\n",
       "      <td>сотрудник</td>\n",
       "      <td>0</td>\n",
       "      <td>77069.234271</td>\n",
       "      <td>покупка коммерческой недвижимости</td>\n",
       "    </tr>\n",
       "    <tr>\n",
       "      <th>12</th>\n",
       "      <td>0</td>\n",
       "      <td>NaN</td>\n",
       "      <td>65</td>\n",
       "      <td>среднее</td>\n",
       "      <td>1</td>\n",
       "      <td>гражданский брак</td>\n",
       "      <td>1</td>\n",
       "      <td>M</td>\n",
       "      <td>пенсионер</td>\n",
       "      <td>0</td>\n",
       "      <td>NaN</td>\n",
       "      <td>сыграть свадьбу</td>\n",
       "    </tr>\n",
       "    <tr>\n",
       "      <th>13</th>\n",
       "      <td>0</td>\n",
       "      <td>-1846.641941</td>\n",
       "      <td>54</td>\n",
       "      <td>неоконченное высшее</td>\n",
       "      <td>2</td>\n",
       "      <td>женат / замужем</td>\n",
       "      <td>0</td>\n",
       "      <td>F</td>\n",
       "      <td>сотрудник</td>\n",
       "      <td>0</td>\n",
       "      <td>130458.228857</td>\n",
       "      <td>приобретение автомобиля</td>\n",
       "    </tr>\n",
       "    <tr>\n",
       "      <th>14</th>\n",
       "      <td>0</td>\n",
       "      <td>-1844.956182</td>\n",
       "      <td>56</td>\n",
       "      <td>высшее</td>\n",
       "      <td>0</td>\n",
       "      <td>гражданский брак</td>\n",
       "      <td>1</td>\n",
       "      <td>F</td>\n",
       "      <td>компаньон</td>\n",
       "      <td>1</td>\n",
       "      <td>165127.911772</td>\n",
       "      <td>покупка жилой недвижимости</td>\n",
       "    </tr>\n",
       "    <tr>\n",
       "      <th>15</th>\n",
       "      <td>1</td>\n",
       "      <td>-972.364419</td>\n",
       "      <td>26</td>\n",
       "      <td>среднее</td>\n",
       "      <td>1</td>\n",
       "      <td>женат / замужем</td>\n",
       "      <td>0</td>\n",
       "      <td>F</td>\n",
       "      <td>сотрудник</td>\n",
       "      <td>0</td>\n",
       "      <td>116820.904450</td>\n",
       "      <td>строительство собственной недвижимости</td>\n",
       "    </tr>\n",
       "    <tr>\n",
       "      <th>16</th>\n",
       "      <td>0</td>\n",
       "      <td>-1719.934226</td>\n",
       "      <td>35</td>\n",
       "      <td>среднее</td>\n",
       "      <td>1</td>\n",
       "      <td>женат / замужем</td>\n",
       "      <td>0</td>\n",
       "      <td>F</td>\n",
       "      <td>сотрудник</td>\n",
       "      <td>0</td>\n",
       "      <td>289202.704229</td>\n",
       "      <td>недвижимость</td>\n",
       "    </tr>\n",
       "    <tr>\n",
       "      <th>17</th>\n",
       "      <td>0</td>\n",
       "      <td>-2369.999720</td>\n",
       "      <td>33</td>\n",
       "      <td>высшее</td>\n",
       "      <td>0</td>\n",
       "      <td>гражданский брак</td>\n",
       "      <td>1</td>\n",
       "      <td>M</td>\n",
       "      <td>сотрудник</td>\n",
       "      <td>0</td>\n",
       "      <td>90410.586745</td>\n",
       "      <td>строительство недвижимости</td>\n",
       "    </tr>\n",
       "    <tr>\n",
       "      <th>18</th>\n",
       "      <td>0</td>\n",
       "      <td>400281.136913</td>\n",
       "      <td>53</td>\n",
       "      <td>среднее</td>\n",
       "      <td>1</td>\n",
       "      <td>вдовец / вдова</td>\n",
       "      <td>2</td>\n",
       "      <td>F</td>\n",
       "      <td>пенсионер</td>\n",
       "      <td>0</td>\n",
       "      <td>56823.777243</td>\n",
       "      <td>на покупку подержанного автомобиля</td>\n",
       "    </tr>\n",
       "    <tr>\n",
       "      <th>19</th>\n",
       "      <td>0</td>\n",
       "      <td>-10038.818549</td>\n",
       "      <td>48</td>\n",
       "      <td>СРЕДНЕЕ</td>\n",
       "      <td>1</td>\n",
       "      <td>в разводе</td>\n",
       "      <td>3</td>\n",
       "      <td>F</td>\n",
       "      <td>сотрудник</td>\n",
       "      <td>0</td>\n",
       "      <td>242831.107982</td>\n",
       "      <td>на покупку своего автомобиля</td>\n",
       "    </tr>\n",
       "  </tbody>\n",
       "</table>\n",
       "</div>"
      ],
      "text/plain": [
       "    children  days_employed  dob_years            education  education_id  \\\n",
       "0          1   -8437.673028         42               высшее             0   \n",
       "1          1   -4024.803754         36              среднее             1   \n",
       "2          0   -5623.422610         33              Среднее             1   \n",
       "3          3   -4124.747207         32              среднее             1   \n",
       "4          0  340266.072047         53              среднее             1   \n",
       "5          0    -926.185831         27               высшее             0   \n",
       "6          0   -2879.202052         43               высшее             0   \n",
       "7          0    -152.779569         50              СРЕДНЕЕ             1   \n",
       "8          2   -6929.865299         35               ВЫСШЕЕ             0   \n",
       "9          0   -2188.756445         41              среднее             1   \n",
       "10         2   -4171.483647         36               высшее             0   \n",
       "11         0    -792.701887         40              среднее             1   \n",
       "12         0            NaN         65              среднее             1   \n",
       "13         0   -1846.641941         54  неоконченное высшее             2   \n",
       "14         0   -1844.956182         56               высшее             0   \n",
       "15         1    -972.364419         26              среднее             1   \n",
       "16         0   -1719.934226         35              среднее             1   \n",
       "17         0   -2369.999720         33               высшее             0   \n",
       "18         0  400281.136913         53              среднее             1   \n",
       "19         0  -10038.818549         48              СРЕДНЕЕ             1   \n",
       "\n",
       "       family_status  family_status_id gender income_type  debt  \\\n",
       "0    женат / замужем                 0      F   сотрудник     0   \n",
       "1    женат / замужем                 0      F   сотрудник     0   \n",
       "2    женат / замужем                 0      M   сотрудник     0   \n",
       "3    женат / замужем                 0      M   сотрудник     0   \n",
       "4   гражданский брак                 1      F   пенсионер     0   \n",
       "5   гражданский брак                 1      M   компаньон     0   \n",
       "6    женат / замужем                 0      F   компаньон     0   \n",
       "7    женат / замужем                 0      M   сотрудник     0   \n",
       "8   гражданский брак                 1      F   сотрудник     0   \n",
       "9    женат / замужем                 0      M   сотрудник     0   \n",
       "10   женат / замужем                 0      M   компаньон     0   \n",
       "11   женат / замужем                 0      F   сотрудник     0   \n",
       "12  гражданский брак                 1      M   пенсионер     0   \n",
       "13   женат / замужем                 0      F   сотрудник     0   \n",
       "14  гражданский брак                 1      F   компаньон     1   \n",
       "15   женат / замужем                 0      F   сотрудник     0   \n",
       "16   женат / замужем                 0      F   сотрудник     0   \n",
       "17  гражданский брак                 1      M   сотрудник     0   \n",
       "18    вдовец / вдова                 2      F   пенсионер     0   \n",
       "19         в разводе                 3      F   сотрудник     0   \n",
       "\n",
       "     total_income                                 purpose  \n",
       "0   253875.639453                           покупка жилья  \n",
       "1   112080.014102                 приобретение автомобиля  \n",
       "2   145885.952297                           покупка жилья  \n",
       "3   267628.550329              дополнительное образование  \n",
       "4   158616.077870                         сыграть свадьбу  \n",
       "5   255763.565419                           покупка жилья  \n",
       "6   240525.971920                       операции с жильем  \n",
       "7   135823.934197                             образование  \n",
       "8    95856.832424                   на проведение свадьбы  \n",
       "9   144425.938277                 покупка жилья для семьи  \n",
       "10  113943.491460                    покупка недвижимости  \n",
       "11   77069.234271       покупка коммерческой недвижимости  \n",
       "12            NaN                         сыграть свадьбу  \n",
       "13  130458.228857                 приобретение автомобиля  \n",
       "14  165127.911772              покупка жилой недвижимости  \n",
       "15  116820.904450  строительство собственной недвижимости  \n",
       "16  289202.704229                            недвижимость  \n",
       "17   90410.586745              строительство недвижимости  \n",
       "18   56823.777243      на покупку подержанного автомобиля  \n",
       "19  242831.107982            на покупку своего автомобиля  "
      ]
     },
     "execution_count": 2,
     "metadata": {},
     "output_type": "execute_result"
    }
   ],
   "source": [
    "data.head(20)"
   ]
  },
  {
   "cell_type": "markdown",
   "id": "60cedaaf",
   "metadata": {
    "deletable": false,
    "editable": false,
    "id": "1c12e233"
   },
   "source": [
    "**Задание 3. Выведите основную информацию о датафрейме с помощью метода `info()`.**"
   ]
  },
  {
   "cell_type": "code",
   "execution_count": 3,
   "id": "f1d47a4b",
   "metadata": {
    "deletable": false,
    "id": "2b757bca",
    "outputId": "15376089-8dad-46c9-b520-c05248d43158"
   },
   "outputs": [
    {
     "name": "stdout",
     "output_type": "stream",
     "text": [
      "<class 'pandas.core.frame.DataFrame'>\n",
      "RangeIndex: 21525 entries, 0 to 21524\n",
      "Data columns (total 12 columns):\n",
      " #   Column            Non-Null Count  Dtype  \n",
      "---  ------            --------------  -----  \n",
      " 0   children          21525 non-null  int64  \n",
      " 1   days_employed     19351 non-null  float64\n",
      " 2   dob_years         21525 non-null  int64  \n",
      " 3   education         21525 non-null  object \n",
      " 4   education_id      21525 non-null  int64  \n",
      " 5   family_status     21525 non-null  object \n",
      " 6   family_status_id  21525 non-null  int64  \n",
      " 7   gender            21525 non-null  object \n",
      " 8   income_type       21525 non-null  object \n",
      " 9   debt              21525 non-null  int64  \n",
      " 10  total_income      19351 non-null  float64\n",
      " 11  purpose           21525 non-null  object \n",
      "dtypes: float64(2), int64(5), object(5)\n",
      "memory usage: 2.0+ MB\n"
     ]
    }
   ],
   "source": [
    "data.info()"
   ]
  },
  {
   "cell_type": "markdown",
   "id": "5c454218",
   "metadata": {
    "deletable": false,
    "editable": false,
    "id": "333ec665"
   },
   "source": [
    "## Предобработка данных"
   ]
  },
  {
   "cell_type": "markdown",
   "id": "d1148f8b",
   "metadata": {
    "deletable": false,
    "editable": false,
    "id": "02d92d53"
   },
   "source": [
    "### Удаление пропусков"
   ]
  },
  {
   "cell_type": "markdown",
   "id": "68c60d61",
   "metadata": {
    "deletable": false,
    "editable": false,
    "id": "cd84967c"
   },
   "source": [
    "**Задание 4. Выведите количество пропущенных значений для каждого столбца. Используйте комбинацию двух методов.**"
   ]
  },
  {
   "cell_type": "code",
   "execution_count": 4,
   "id": "ee66b9d4",
   "metadata": {
    "deletable": false,
    "id": "7f9b2309",
    "outputId": "81f4d817-781c-465c-ed15-91ce4446810d"
   },
   "outputs": [
    {
     "data": {
      "text/plain": [
       "children               0\n",
       "days_employed       2174\n",
       "dob_years              0\n",
       "education              0\n",
       "education_id           0\n",
       "family_status          0\n",
       "family_status_id       0\n",
       "gender                 0\n",
       "income_type            0\n",
       "debt                   0\n",
       "total_income        2174\n",
       "purpose                0\n",
       "dtype: int64"
      ]
     },
     "execution_count": 4,
     "metadata": {},
     "output_type": "execute_result"
    }
   ],
   "source": [
    "data.isna().sum()"
   ]
  },
  {
   "cell_type": "markdown",
   "id": "f8185006",
   "metadata": {
    "deletable": false,
    "editable": false,
    "id": "db86e27b"
   },
   "source": [
    "**Задание 5. В двух столбцах есть пропущенные значения. Один из них — `days_employed`. Пропуски в этом столбце вы обработаете на следующем этапе. Другой столбец с пропущенными значениями — `total_income` — хранит данные о доходах. На сумму дохода сильнее всего влияет тип занятости, поэтому заполнить пропуски в этом столбце нужно медианным значением по каждому типу из столбца `income_type`. Например, у человека с типом занятости `сотрудник` пропуск в столбце `total_income` должен быть заполнен медианным доходом среди всех записей с тем же типом.**"
   ]
  },
  {
   "cell_type": "code",
   "execution_count": 5,
   "id": "ee71371f",
   "metadata": {
    "deletable": false,
    "id": "42006a93"
   },
   "outputs": [],
   "source": [
    "for t in data['income_type'].unique():\n",
    "    data.loc[(data['income_type'] == t) & (data['total_income'].isna()), 'total_income'] = \\\n",
    "    data.loc[(data['income_type'] == t), 'total_income'].median()"
   ]
  },
  {
   "cell_type": "markdown",
   "id": "bd458343",
   "metadata": {
    "deletable": false,
    "editable": false,
    "id": "89da5ece"
   },
   "source": [
    "### Обработка аномальных значений"
   ]
  },
  {
   "cell_type": "markdown",
   "id": "80abc636",
   "metadata": {
    "deletable": false,
    "editable": false,
    "id": "57964554"
   },
   "source": [
    "**Задание 6. В данных могут встречаться артефакты (аномалии) — значения, которые не отражают действительность и появились по какой-то ошибке. таким артефактом будет отрицательное количество дней трудового стажа в столбце `days_employed`. Для реальных данных это нормально. Обработайте значения в этом столбце: замените все отрицательные значения положительными с помощью метода `abs()`.**"
   ]
  },
  {
   "cell_type": "code",
   "execution_count": 6,
   "id": "1f9b320c",
   "metadata": {
    "deletable": false,
    "id": "f6f055bf"
   },
   "outputs": [],
   "source": [
    "data['days_employed'] = data['days_employed'].abs()"
   ]
  },
  {
   "cell_type": "markdown",
   "id": "936a3b35",
   "metadata": {
    "deletable": false,
    "editable": false,
    "id": "6107dd2f"
   },
   "source": [
    "**Задание 7. Для каждого типа занятости выведите медианное значение трудового стажа `days_employed` в днях.**"
   ]
  },
  {
   "cell_type": "code",
   "execution_count": 7,
   "id": "9b945cce",
   "metadata": {
    "deletable": false,
    "id": "85a5faf6",
    "outputId": "801ef80e-522b-4668-f34e-565af7432bcf"
   },
   "outputs": [
    {
     "data": {
      "text/plain": [
       "income_type\n",
       "безработный        366413.652744\n",
       "в декрете            3296.759962\n",
       "госслужащий          2689.368353\n",
       "компаньон            1547.382223\n",
       "пенсионер          365213.306266\n",
       "предприниматель       520.848083\n",
       "сотрудник            1574.202821\n",
       "студент               578.751554\n",
       "Name: days_employed, dtype: float64"
      ]
     },
     "execution_count": 7,
     "metadata": {},
     "output_type": "execute_result"
    }
   ],
   "source": [
    "data.groupby('income_type')['days_employed'].agg('median')"
   ]
  },
  {
   "cell_type": "markdown",
   "id": "021919b4",
   "metadata": {
    "deletable": false,
    "editable": false,
    "id": "38d1a030"
   },
   "source": [
    "У двух типов (безработные и пенсионеры) получатся аномально большие значения. Исправить такие значения сложно, поэтому оставьте их как есть. Тем более этот столбец не понадобится вам для исследования."
   ]
  },
  {
   "cell_type": "markdown",
   "id": "2d66858d",
   "metadata": {
    "deletable": false,
    "editable": false,
    "id": "d8a9f147"
   },
   "source": [
    "**Задание 8. Выведите перечень уникальных значений столбца `children`.**"
   ]
  },
  {
   "cell_type": "code",
   "execution_count": 8,
   "id": "2943cddb",
   "metadata": {
    "deletable": false,
    "id": "ef5056eb",
    "outputId": "6975b15c-7f95-4697-d16d-a0c79b657b03"
   },
   "outputs": [
    {
     "data": {
      "text/plain": [
       "array([ 1,  0,  3,  2, -1,  4, 20,  5])"
      ]
     },
     "execution_count": 8,
     "metadata": {},
     "output_type": "execute_result"
    }
   ],
   "source": [
    "data['children'].unique()"
   ]
  },
  {
   "cell_type": "markdown",
   "id": "13dd2111",
   "metadata": {
    "deletable": false,
    "editable": false,
    "id": "40b9ebf2"
   },
   "source": [
    "**Задание 9. В столбце `children` есть два аномальных значения. Удалите строки, в которых встречаются такие аномальные значения из датафрейма `data`.**"
   ]
  },
  {
   "cell_type": "code",
   "execution_count": 9,
   "id": "bf44eb27",
   "metadata": {
    "deletable": false,
    "id": "3ff9801d"
   },
   "outputs": [],
   "source": [
    "data = data[(data['children'] != -1) & (data['children'] != 20)]"
   ]
  },
  {
   "cell_type": "markdown",
   "id": "cc41a42d",
   "metadata": {
    "deletable": false,
    "editable": false,
    "id": "bbc4d0ce"
   },
   "source": [
    "**Задание 10. Ещё раз выведите перечень уникальных значений столбца `children`, чтобы убедиться, что артефакты удалены.**"
   ]
  },
  {
   "cell_type": "code",
   "execution_count": 10,
   "id": "6c1f1d28",
   "metadata": {
    "deletable": false,
    "id": "ad4fa8b7",
    "outputId": "b2097101-d49d-44d9-901b-32a65c9463d1"
   },
   "outputs": [
    {
     "data": {
      "text/plain": [
       "array([1, 0, 3, 2, 4, 5])"
      ]
     },
     "execution_count": 10,
     "metadata": {},
     "output_type": "execute_result"
    }
   ],
   "source": [
    "data['children'].unique()"
   ]
  },
  {
   "cell_type": "markdown",
   "id": "ea128946",
   "metadata": {
    "deletable": false,
    "editable": false,
    "id": "75440b63"
   },
   "source": [
    "### Удаление пропусков (продолжение)"
   ]
  },
  {
   "cell_type": "markdown",
   "id": "aee65919",
   "metadata": {
    "deletable": false,
    "editable": false,
    "id": "f4ea573f"
   },
   "source": [
    "**Задание 11. Заполните пропуски в столбце `days_employed` медианными значениями по каждого типа занятости `income_type`.**"
   ]
  },
  {
   "cell_type": "code",
   "execution_count": 11,
   "id": "34126b1d",
   "metadata": {
    "deletable": false,
    "id": "af6b1a7e"
   },
   "outputs": [],
   "source": [
    "for t in data['income_type'].unique():\n",
    "    data.loc[(data['income_type'] == t) & (data['days_employed'].isna()), 'days_employed'] = \\\n",
    "    data.loc[(data['income_type'] == t), 'days_employed'].median()"
   ]
  },
  {
   "cell_type": "markdown",
   "id": "9fe3d3fd",
   "metadata": {
    "deletable": false,
    "editable": false,
    "id": "2753f40d"
   },
   "source": [
    "**Задание 12. Убедитесь, что все пропуски заполнены. Проверьте себя и ещё раз выведите количество пропущенных значений для каждого столбца с помощью двух методов.**"
   ]
  },
  {
   "cell_type": "code",
   "execution_count": 12,
   "id": "c3f7439e",
   "metadata": {
    "deletable": false,
    "id": "55f78bc2",
    "outputId": "8da1e4e1-358e-4e87-98c9-f261bce0a7b2"
   },
   "outputs": [
    {
     "data": {
      "text/plain": [
       "children            0\n",
       "days_employed       0\n",
       "dob_years           0\n",
       "education           0\n",
       "education_id        0\n",
       "family_status       0\n",
       "family_status_id    0\n",
       "gender              0\n",
       "income_type         0\n",
       "debt                0\n",
       "total_income        0\n",
       "purpose             0\n",
       "dtype: int64"
      ]
     },
     "execution_count": 12,
     "metadata": {},
     "output_type": "execute_result"
    }
   ],
   "source": [
    "data.isna().sum()"
   ]
  },
  {
   "cell_type": "markdown",
   "id": "e73ba812",
   "metadata": {
    "deletable": false,
    "editable": false,
    "id": "ddc81e43"
   },
   "source": [
    "### Изменение типов данных"
   ]
  },
  {
   "cell_type": "markdown",
   "id": "9b2c2bf1",
   "metadata": {
    "deletable": false,
    "editable": false,
    "id": "42d19d24"
   },
   "source": [
    "**Задание 13. Замените вещественный тип данных в столбце `total_income` на целочисленный с помощью метода `astype()`.**"
   ]
  },
  {
   "cell_type": "code",
   "execution_count": 13,
   "id": "af139309",
   "metadata": {
    "deletable": false,
    "id": "920b65ad"
   },
   "outputs": [],
   "source": [
    "data['total_income'] = data['total_income'].astype(int)"
   ]
  },
  {
   "cell_type": "markdown",
   "id": "ec5abed6",
   "metadata": {
    "deletable": false,
    "editable": false,
    "id": "80c420ba"
   },
   "source": [
    "### Обработка дубликатов"
   ]
  },
  {
   "cell_type": "markdown",
   "id": "9df602ee",
   "metadata": {
    "deletable": false,
    "editable": false
   },
   "source": [
    "**Задание 14. Обработайте неявные дубликаты в столбце `education`. В этом столбце есть одни и те же значения, но записанные по-разному: с использованием заглавных и строчных букв. Приведите их к нижнему регистру. Проверьте остальные столбцы.**"
   ]
  },
  {
   "cell_type": "code",
   "execution_count": 14,
   "id": "8e345ae3",
   "metadata": {
    "deletable": false
   },
   "outputs": [],
   "source": [
    "data['education'] = data['education'].str.lower()"
   ]
  },
  {
   "cell_type": "markdown",
   "id": "a476e211",
   "metadata": {
    "deletable": false,
    "editable": false,
    "id": "dc587695"
   },
   "source": [
    "**Задание 15. Выведите на экран количество строк-дубликатов в данных. Если такие строки присутствуют, удалите их.**"
   ]
  },
  {
   "cell_type": "code",
   "execution_count": 15,
   "id": "8fd98e43",
   "metadata": {
    "deletable": false,
    "id": "3ee445e4",
    "outputId": "9684deba-1934-42d1-99e1-cda61740f822"
   },
   "outputs": [
    {
     "data": {
      "text/plain": [
       "71"
      ]
     },
     "execution_count": 15,
     "metadata": {},
     "output_type": "execute_result"
    }
   ],
   "source": [
    "data.duplicated().sum()"
   ]
  },
  {
   "cell_type": "code",
   "execution_count": 16,
   "id": "2de3494a",
   "metadata": {
    "deletable": false,
    "id": "8575fe05"
   },
   "outputs": [],
   "source": [
    "data = data.drop_duplicates()"
   ]
  },
  {
   "cell_type": "markdown",
   "id": "d3b7f534",
   "metadata": {
    "deletable": false,
    "editable": false,
    "id": "9904cf55"
   },
   "source": [
    "### Категоризация данных"
   ]
  },
  {
   "cell_type": "markdown",
   "id": "9a182300",
   "metadata": {
    "deletable": false,
    "editable": false,
    "id": "72fcc8a2"
   },
   "source": [
    "**Задание 16. На основании диапазонов, указанных ниже, создайте в датафрейме `data` столбец `total_income_category` с категориями:**\n",
    "\n",
    "- 0–30000 — `'E'`;\n",
    "- 30001–50000 — `'D'`;\n",
    "- 50001–200000 — `'C'`;\n",
    "- 200001–1000000 — `'B'`;\n",
    "- 1000001 и выше — `'A'`.\n",
    "\n",
    "\n",
    "**Например, кредитополучателю с доходом 25000 нужно назначить категорию `'E'`, а клиенту, получающему 235000, — `'B'`. Используйте собственную функцию с именем `categorize_income()` и метод `apply()`.**"
   ]
  },
  {
   "cell_type": "code",
   "execution_count": 17,
   "id": "b28059f7",
   "metadata": {
    "deletable": false,
    "id": "e1771346"
   },
   "outputs": [],
   "source": [
    "def categorize_income(income):\n",
    "    try:\n",
    "        if 0 <= income <= 30000:\n",
    "            return 'E'\n",
    "        elif 30001 <= income <= 50000:\n",
    "            return 'D'\n",
    "        elif 50001 <= income <= 200000:\n",
    "            return 'C'\n",
    "        elif 200001 <= income <= 1000000:\n",
    "            return 'B'\n",
    "        elif income >= 1000001:\n",
    "            return 'A'\n",
    "    except:\n",
    "        pass"
   ]
  },
  {
   "cell_type": "code",
   "execution_count": 18,
   "id": "51498123",
   "metadata": {
    "deletable": false,
    "id": "d5f3586d"
   },
   "outputs": [],
   "source": [
    "data['total_income_category'] = data['total_income'].apply(categorize_income)"
   ]
  },
  {
   "cell_type": "markdown",
   "id": "851be3e1",
   "metadata": {
    "deletable": false,
    "editable": false,
    "id": "dde49b5c"
   },
   "source": [
    "**Задание 17. Выведите на экран перечень уникальных целей взятия кредита из столбца `purpose`.**"
   ]
  },
  {
   "cell_type": "code",
   "execution_count": 19,
   "id": "e71fb8cb",
   "metadata": {
    "deletable": false,
    "id": "f67ce9b3",
    "outputId": "673c12d9-7d7e-4ae0-9812-c622c89dd244"
   },
   "outputs": [
    {
     "data": {
      "text/plain": [
       "array(['покупка жилья', 'приобретение автомобиля',\n",
       "       'дополнительное образование', 'сыграть свадьбу',\n",
       "       'операции с жильем', 'образование', 'на проведение свадьбы',\n",
       "       'покупка жилья для семьи', 'покупка недвижимости',\n",
       "       'покупка коммерческой недвижимости', 'покупка жилой недвижимости',\n",
       "       'строительство собственной недвижимости', 'недвижимость',\n",
       "       'строительство недвижимости', 'на покупку подержанного автомобиля',\n",
       "       'на покупку своего автомобиля',\n",
       "       'операции с коммерческой недвижимостью',\n",
       "       'строительство жилой недвижимости', 'жилье',\n",
       "       'операции со своей недвижимостью', 'автомобили',\n",
       "       'заняться образованием', 'сделка с подержанным автомобилем',\n",
       "       'получение образования', 'автомобиль', 'свадьба',\n",
       "       'получение дополнительного образования', 'покупка своего жилья',\n",
       "       'операции с недвижимостью', 'получение высшего образования',\n",
       "       'свой автомобиль', 'сделка с автомобилем',\n",
       "       'профильное образование', 'высшее образование',\n",
       "       'покупка жилья для сдачи', 'на покупку автомобиля', 'ремонт жилью',\n",
       "       'заняться высшим образованием'], dtype=object)"
      ]
     },
     "execution_count": 19,
     "metadata": {},
     "output_type": "execute_result"
    }
   ],
   "source": [
    "data['purpose'].unique()"
   ]
  },
  {
   "cell_type": "markdown",
   "id": "6af98296",
   "metadata": {
    "deletable": false,
    "editable": false,
    "id": "85d0aef0"
   },
   "source": [
    "**Задание 18. Создайте функцию, которая на основании данных из столбца `purpose` сформирует новый столбец `purpose_category`, в который войдут следующие категории:**\n",
    "\n",
    "- `'операции с автомобилем'`,\n",
    "- `'операции с недвижимостью'`,\n",
    "- `'проведение свадьбы'`,\n",
    "- `'получение образования'`.\n",
    "\n",
    "**Например, если в столбце `purpose` находится подстрока `'на покупку автомобиля'`, то в столбце `purpose_category` должна появиться строка `'операции с автомобилем'`.**\n",
    "\n",
    "**Используйте собственную функцию с именем `categorize_purpose()` и метод `apply()`. Изучите данные в столбце `purpose` и определите, какие подстроки помогут вам правильно определить категорию.**"
   ]
  },
  {
   "cell_type": "code",
   "execution_count": 20,
   "id": "cb5d7097",
   "metadata": {
    "deletable": false,
    "id": "e149fab4"
   },
   "outputs": [],
   "source": [
    "def categorize_purpose(row):\n",
    "    try:\n",
    "        if 'автом' in row:\n",
    "            return 'операции с автомобилем'\n",
    "        elif 'жил' in row or 'недвиж' in row:\n",
    "            return 'операции с недвижимостью'\n",
    "        elif 'свад' in row:\n",
    "            return 'проведение свадьбы'\n",
    "        elif 'образов' in row:\n",
    "            return 'получение образования'\n",
    "    except:\n",
    "        return 'нет категории'"
   ]
  },
  {
   "cell_type": "code",
   "execution_count": 21,
   "id": "f402b0d2",
   "metadata": {
    "deletable": false,
    "id": "bf36e69b"
   },
   "outputs": [],
   "source": [
    "data['purpose_category'] = data['purpose'].apply(categorize_purpose)"
   ]
  },
  {
   "cell_type": "markdown",
   "id": "3c4e3062",
   "metadata": {
    "deletable": false,
    "editable": false,
    "id": "09b242bf"
   },
   "source": [
    "### Шаг 3. Исследуйте данные и ответьте на вопросы"
   ]
  },
  {
   "cell_type": "markdown",
   "id": "8fa04527",
   "metadata": {
    "deletable": false,
    "editable": false,
    "id": "c5d66278"
   },
   "source": [
    "#### 3.1 Есть ли зависимость между количеством детей и возвратом кредита в срок?"
   ]
  },
  {
   "cell_type": "code",
   "execution_count": 22,
   "id": "24379379",
   "metadata": {
    "deletable": false,
    "id": "2cacfc4a"
   },
   "outputs": [
    {
     "data": {
      "text/plain": [
       "'Общее количества людей сгруппировано по группам количества у них детей'"
      ]
     },
     "metadata": {},
     "output_type": "display_data"
    },
    {
     "data": {
      "text/plain": [
       "children\n",
       "0    14091\n",
       "1     4808\n",
       "2     2052\n",
       "3      330\n",
       "4       41\n",
       "5        9\n",
       "Name: children, dtype: int64"
      ]
     },
     "metadata": {},
     "output_type": "display_data"
    },
    {
     "data": {
      "text/plain": [
       "'Общее количества людей с задолжностями сгруппировано по количеству у них детей'"
      ]
     },
     "metadata": {},
     "output_type": "display_data"
    },
    {
     "data": {
      "text/plain": [
       "children\n",
       "0    1063\n",
       "1     444\n",
       "2     194\n",
       "3      27\n",
       "4       4\n",
       "5       0\n",
       "Name: debt, dtype: int64"
      ]
     },
     "metadata": {},
     "output_type": "display_data"
    },
    {
     "data": {
      "text/plain": [
       "'Отношения невозвратов кредитов по количеству у них детей'"
      ]
     },
     "metadata": {},
     "output_type": "display_data"
    },
    {
     "data": {
      "text/plain": [
       "children\n",
       "0    7.543822\n",
       "1    9.234609\n",
       "2    9.454191\n",
       "3    8.181818\n",
       "4    9.756098\n",
       "5    0.000000\n",
       "dtype: float64"
      ]
     },
     "metadata": {},
     "output_type": "display_data"
    }
   ],
   "source": [
    "children_group = data.groupby('children')['children'].count()\n",
    "children_group_dept = data.groupby('children')['debt'].sum()\n",
    "debt_group = children_group_dept/children_group*100\n",
    "display(\"Общее количества людей сгруппировано по группам количества у них детей\", children_group)\n",
    "display()\n",
    "display(\"Общее количества людей с задолжностями сгруппировано по количеству у них детей\", children_group_dept)\n",
    "display()\n",
    "display(\"Отношения невозвратов кредитов по количеству у них детей\",debt_group)"
   ]
  },
  {
   "cell_type": "markdown",
   "id": "0d29af8a",
   "metadata": {
    "deletable": false,
    "id": "3a6b99ec"
   },
   "source": [
    "**Вывод:** Люди без детей чаще возвращают долги, семьи у кого 5 детей не имели просрочек по кредиту,возможно это не объективная информация, так как была маленькая выборка"
   ]
  },
  {
   "cell_type": "markdown",
   "id": "6d5ab93b",
   "metadata": {
    "deletable": false,
    "editable": false,
    "id": "97be82ca"
   },
   "source": [
    "#### 3.2 Есть ли зависимость между семейным положением и возвратом кредита в срок?"
   ]
  },
  {
   "cell_type": "code",
   "execution_count": 23,
   "id": "8c5c1bbd",
   "metadata": {
    "deletable": false,
    "id": "dc3f7ee8"
   },
   "outputs": [
    {
     "data": {
      "text/plain": [
       "'Общее количества людей сгруппировано по семейным статусам'"
      ]
     },
     "metadata": {},
     "output_type": "display_data"
    },
    {
     "data": {
      "text/plain": [
       "family_status\n",
       "Не женат / не замужем     2796\n",
       "в разводе                 1189\n",
       "вдовец / вдова             951\n",
       "гражданский брак          4134\n",
       "женат / замужем          12261\n",
       "Name: family_status, dtype: int64"
      ]
     },
     "metadata": {},
     "output_type": "display_data"
    },
    {
     "data": {
      "text/plain": [
       "'Общее количества людей с задолжностями сгруппировано по их семейному статусу'"
      ]
     },
     "metadata": {},
     "output_type": "display_data"
    },
    {
     "data": {
      "text/plain": [
       "family_status\n",
       "Не женат / не замужем    273\n",
       "в разводе                 84\n",
       "вдовец / вдова            63\n",
       "гражданский брак         385\n",
       "женат / замужем          927\n",
       "Name: debt, dtype: int64"
      ]
     },
     "metadata": {},
     "output_type": "display_data"
    },
    {
     "data": {
      "text/plain": [
       "'Отношения невозвратов кредитов по семейному положению'"
      ]
     },
     "metadata": {},
     "output_type": "display_data"
    },
    {
     "data": {
      "text/plain": [
       "family_status\n",
       "Не женат / не замужем    9.763948\n",
       "в разводе                7.064760\n",
       "вдовец / вдова           6.624606\n",
       "гражданский брак         9.313014\n",
       "женат / замужем          7.560558\n",
       "dtype: float64"
      ]
     },
     "metadata": {},
     "output_type": "display_data"
    }
   ],
   "source": [
    "family_status = data.groupby('family_status')['family_status'].count()\n",
    "family_status_group_dept = data.groupby('family_status')['debt'].sum()\n",
    "debt_group = family_status_group_dept/family_status*100\n",
    "display(\"Общее количества людей сгруппировано по семейным статусам\", family_status)\n",
    "display()\n",
    "display(\"Общее количества людей с задолжностями сгруппировано по их семейному статусу\", family_status_group_dept)\n",
    "display()\n",
    "display(\"Отношения невозвратов кредитов по семейному положению\",debt_group)"
   ]
  },
  {
   "cell_type": "markdown",
   "id": "8ddc7686",
   "metadata": {
    "deletable": false,
    "id": "1cef7837"
   },
   "source": [
    "**Вывод:** самый низкий процент невозвратов у людей которые потеряли пару, а самый высокий процент невозвратов у одиночек"
   ]
  },
  {
   "cell_type": "markdown",
   "id": "e62cd1d9",
   "metadata": {
    "deletable": false,
    "editable": false,
    "id": "1e8b2fca"
   },
   "source": [
    "#### 3.3 Есть ли зависимость между уровнем дохода и возвратом кредита в срок?"
   ]
  },
  {
   "cell_type": "code",
   "execution_count": 24,
   "id": "573a757d",
   "metadata": {
    "deletable": false,
    "id": "cd7e3720"
   },
   "outputs": [
    {
     "data": {
      "text/plain": [
       "'Общее количества людей сгруппировано по категориям уровня дохода'"
      ]
     },
     "metadata": {},
     "output_type": "display_data"
    },
    {
     "data": {
      "text/plain": [
       "total_income_category\n",
       "A       25\n",
       "B     5014\n",
       "C    15921\n",
       "D      349\n",
       "E       22\n",
       "Name: total_income_category, dtype: int64"
      ]
     },
     "metadata": {},
     "output_type": "display_data"
    },
    {
     "data": {
      "text/plain": [
       "'Общее количества людей с задолжностями сгруппировано по уровню дохода'"
      ]
     },
     "metadata": {},
     "output_type": "display_data"
    },
    {
     "data": {
      "text/plain": [
       "total_income_category\n",
       "A       2\n",
       "B     354\n",
       "C    1353\n",
       "D      21\n",
       "E       2\n",
       "Name: debt, dtype: int64"
      ]
     },
     "metadata": {},
     "output_type": "display_data"
    },
    {
     "data": {
      "text/plain": [
       "'Отношения невозвратов кредитов по уровню доходов'"
      ]
     },
     "metadata": {},
     "output_type": "display_data"
    },
    {
     "data": {
      "text/plain": [
       "total_income_category\n",
       "A    8.000000\n",
       "B    7.060231\n",
       "C    8.498210\n",
       "D    6.017192\n",
       "E    9.090909\n",
       "dtype: float64"
      ]
     },
     "metadata": {},
     "output_type": "display_data"
    }
   ],
   "source": [
    "total_income = data.groupby('total_income_category')['total_income_category'].count()\n",
    "total_income_group_dept = data.groupby('total_income_category')['debt'].sum()\n",
    "debt_group = total_income_group_dept/total_income*100\n",
    "display(\"Общее количества людей сгруппировано по категориям уровня дохода\", total_income)\n",
    "display()\n",
    "display(\"Общее количества людей с задолжностями сгруппировано по уровню дохода\", total_income_group_dept)\n",
    "display()\n",
    "display(\"Отношения невозвратов кредитов по уровню доходов\",debt_group)"
   ]
  },
  {
   "cell_type": "markdown",
   "id": "af3ffb72",
   "metadata": {
    "deletable": false,
    "id": "e8593def"
   },
   "source": [
    "**Вывод:** Люди с самым маленьким доходом имееют больше всех задолжности"
   ]
  },
  {
   "cell_type": "markdown",
   "id": "9475a460",
   "metadata": {
    "deletable": false,
    "editable": false,
    "id": "99ecbd1f"
   },
   "source": [
    "#### 3.4 Как разные цели кредита влияют на его возврат в срок?"
   ]
  },
  {
   "cell_type": "code",
   "execution_count": 25,
   "id": "2285021f",
   "metadata": {
    "deletable": false,
    "id": "2b687290"
   },
   "outputs": [
    {
     "data": {
      "text/plain": [
       "'Общее количества людей сгруппировано по целям кредита'"
      ]
     },
     "metadata": {},
     "output_type": "display_data"
    },
    {
     "data": {
      "text/plain": [
       "purpose_category\n",
       "операции с автомобилем       4279\n",
       "операции с недвижимостью    10751\n",
       "получение образования        3988\n",
       "проведение свадьбы           2313\n",
       "Name: purpose_category, dtype: int64"
      ]
     },
     "metadata": {},
     "output_type": "display_data"
    },
    {
     "data": {
      "text/plain": [
       "'Общее количества людей с задолжностями сгруппировано целям кредита'"
      ]
     },
     "metadata": {},
     "output_type": "display_data"
    },
    {
     "data": {
      "text/plain": [
       "purpose_category\n",
       "операции с автомобилем      400\n",
       "операции с недвижимостью    780\n",
       "получение образования       369\n",
       "проведение свадьбы          183\n",
       "Name: debt, dtype: int64"
      ]
     },
     "metadata": {},
     "output_type": "display_data"
    },
    {
     "data": {
      "text/plain": [
       "'Отношения невозвратов кредитов по целям кредита'"
      ]
     },
     "metadata": {},
     "output_type": "display_data"
    },
    {
     "data": {
      "text/plain": [
       "purpose_category\n",
       "операции с автомобилем      9.347978\n",
       "операции с недвижимостью    7.255139\n",
       "получение образования       9.252758\n",
       "проведение свадьбы          7.911803\n",
       "dtype: float64"
      ]
     },
     "metadata": {},
     "output_type": "display_data"
    }
   ],
   "source": [
    "total_income = data.groupby('purpose_category')['purpose_category'].count()\n",
    "total_income_group_dept = data.groupby('purpose_category')['debt'].sum()\n",
    "debt_group = total_income_group_dept/total_income*100\n",
    "display(\"Общее количества людей сгруппировано по целям кредита\", total_income)\n",
    "display()\n",
    "display(\"Общее количества людей с задолжностями сгруппировано целям кредита\", total_income_group_dept)\n",
    "display()\n",
    "display(\"Отношения невозвратов кредитов по целям кредита\",debt_group)"
   ]
  },
  {
   "cell_type": "markdown",
   "id": "d50f6548",
   "metadata": {
    "deletable": false,
    "id": "b4bb2ce6"
   },
   "source": [
    "**Вывод:** Люди, которые берут кредит на операции с автомобилем хуже других возращают долг в срок, люди берущие кредит на операции с недвижимостью более ответственные"
   ]
  },
  {
   "cell_type": "markdown",
   "id": "ffe479f1",
   "metadata": {
    "deletable": false,
    "editable": false,
    "id": "09c3ac4c"
   },
   "source": [
    "#### 3.5 Приведите возможные причины появления пропусков в исходных данных."
   ]
  },
  {
   "cell_type": "markdown",
   "id": "c277f9d9",
   "metadata": {
    "deletable": false,
    "id": "9da2ceda"
   },
   "source": [
    "*Ответ:* Возможные причины появления пропусков в исходных данных делятся по технологическим причинам (при копировании, считывании, смене формата, записи данных), и вызванные человеческим фактором (опечатка в тексте, ошибется в порядке величин, чисел). Возможно человек просто не захотел вводить свои данные по своим каким то причинам"
   ]
  },
  {
   "cell_type": "markdown",
   "id": "e740224d",
   "metadata": {
    "deletable": false,
    "editable": false,
    "id": "7b0487d6"
   },
   "source": [
    "#### 3.6 Объясните, почему заполнить пропуски медианным значением — лучшее решение для количественных переменных."
   ]
  },
  {
   "cell_type": "markdown",
   "id": "031ecf73",
   "metadata": {
    "deletable": false,
    "id": "7ecf2b8e"
   },
   "source": [
    "*Ответ:* Медианное значение по сравнению со средним значением даст более точный результат при большом количестве разнящихся значений(всплесков), что в свою очередь по сравнению с другими вариантами будет меньше искажать полученные данные"
   ]
  },
  {
   "cell_type": "markdown",
   "id": "760406b5",
   "metadata": {
    "deletable": false,
    "editable": false,
    "id": "6db5255a"
   },
   "source": [
    "### Шаг 4: общий вывод."
   ]
  },
  {
   "cell_type": "markdown",
   "id": "8c6ef5b8",
   "metadata": {
    "deletable": false,
    "id": "bad65432"
   },
   "source": [
    "Провели исследование данных о клиентах на взамосвязь разных критериев на возврат кредитных средств в срок. Представленные данные были не совсем коректные- пропуски, артефакты, ошибки. Данные были обработаны и исправлены. \n",
    "По итогам  исследования:\n",
    "\n",
    "***Чаще всего не возвращают кредит в срок:***\n",
    "- люди с 4 детьми\n",
    "- со семейным статусом (не женат / не замужем)\n",
    "- люди с маленьким доходом (до 30000)\n",
    "- с целью кредита(на операции с автомобилем)\n",
    "\n",
    "***Чаще всего возвращают кредит в срок:***\n",
    "- люди без детей\n",
    "- со семейным статусом (вдовец/вдова)\n",
    "- люди с небольшим доходом (от 30000 до 50000)\n",
    "- с целью кредита(на операции с недвижимостью)\n"
   ]
  },
  {
   "cell_type": "markdown",
   "id": "4c50ac4c",
   "metadata": {},
   "source": [
    "***Новый общий вывод***\n",
    "\n",
    "Провели исследование данных о клиентах на взамосвязь разных критериев на возврат кредитных средств в срок. Представленные данные (статистика о платежноспособности клиентов) были не совсем корректные - пропуски, артефакты, ошибки. Данные были обработаны и исправлены. Результаты исследования будут учтены при построении модели кредитного скоринга - специальной системы, которая оценивает способность потенциального заёмщика вернуть кредит банку.\n",
    "\n",
    "Перед проведением исследования были поставлены несколько гипотез:\n",
    "\n",
    "- Гипотеза 1: количество детей влияет на факт погошения кредита в срок;   \n",
    "- Гипотеза 2: семейное положение влияет на факт погошения кредита в срок;     \n",
    "- Гипотеза 3: уровень дохода влияет на факт погошения кредита в срок;     \n",
    "- Гипотеза 4: цель кредита влияет на факт погошения кредита в срок.\n",
    "\n",
    "В результате исследования удалось выявить зависимости\n",
    "\n",
    "**Гипотеза 1 частично подтверждена:** \n",
    "- 7,5 % доля просроченных кредитов у заемщика без детей\n",
    "- 9,2 % доля просроченных кредитов у заемщика с 1 ребенком\n",
    "- 9,4 % доля просроченных кредитов у заемщика с 2 детьми\n",
    "- 8,2 % доля просроченных кредитов у заемщика с 3 детьми\n",
    "- 9,7 % доля просроченных кредитов у заемщика с 4 детьми\n",
    "- 0,0 % доля просроченных кредитов у заемщика с 5 детьми\n",
    "\n",
    "Вывод: С увеличением количества детей увеличивается процент невозвратов кредита в срок\n",
    "\n",
    "Рекомендация: Для более точных выводов необходимо больше данных по клиентам с 3, 4, и особенно с 5 детьми (очень маленькая выборка). Необходимо провести дополнительное исследование на большей выборке данных\n",
    "\n",
    "**Гипотеза 2 подтверждена:** \n",
    "- 9,7 % доля просроченных кредитов у заемщика с семейным статусом \"Не женат / не замужем\"\n",
    "- 7,1 % доля просроченных кредитов у заемщика с семейным статусом \"в разводе\"\n",
    "- 6,6 % доля просроченных кредитов у заемщика с семейным статусом \"вдовец / вдова\"\n",
    "- 9,3 % доля просроченных кредитов у заемщика с семейным статусом \"гражданский брак\"\n",
    "- 7,5 % доля просроченных кредитов у заемщика с семейным статусом \"женат / замужем\"\n",
    "\n",
    "Вывод: \n",
    "- У не женатых и не замужних клиентов, и у тех, кто официально не зарегистрован в браке выше шанс стать должником\n",
    "- Те клиенты кто в разводе, в оффициальном браке или вдовец/вдова вероятность стать должником меньше\n",
    "\n",
    "Рекомендация: Разница между 2 пунктами категорий в выводе небольшая, всего 3 %. Я бы не рекомендовал наделять этой зависимоти высокий вес при принятии решения о кредитоспособности\n",
    "\n",
    "**Гипотеза 3 частично подтверждена:** \n",
    "- 8,0 % доля просроченных кредитов у заемщика с уровнем дохода более 1000000, категория A\n",
    "- 7,1 % доля просроченных кредитов у заемщика с уровнем дохода от 200000 до 1000000, категория B\n",
    "- 8,5 % доля просроченных кредитов у заемщика с уровнем дохода от 50000 до 200000, категория C\n",
    "- 6,0 % доля просроченных кредитов у заемщика с уровнем дохода от 30000 до 50000, категория D\n",
    "- 9,1 % доля просроченных кредитов у заемщика с уровнем дохода менее 30000, категория E\n",
    "\n",
    "Вывод: По категориям дохода A, D, E нельзя дать определенных ответов, так как была маленькая выборка,  хотя логично что у людей с меньшим доходам больше шанса не вернуть кредит в долг, что видно по категориям B и С, где выборка довольно больше чем в других катеориях.\n",
    "\n",
    "Рекомендация: Для более точных выводов необходимо больше данных по клиентам с категорий дохода A, D, E. Необходимо провести дополнительные исследования на большьей выборке данных.\n",
    "\n",
    "**Гипотеза 4 подтверждена:** \n",
    "- 7,2 % доля просроченных кредитов у заемщика, целью которых были операции с недвижимостью\n",
    "- 7,9 % доля просроченных кредитов у заемщика, целью которых было проведение свадьбы\n",
    "- 9,3 % доля просроченных кредитов у заемщика, целью которых были операции с автомобилем\n",
    "- 9,2 % доля просроченных кредитов у заемщика, целью которых было получения образования\n",
    "\n",
    "Вывод: \n",
    "- У людей кто берет кредит на покупку автомобиля и получения образования выше шанс стать должником\n",
    "- У людей кто берет кредит на покупку недвижимости и свадьбу вероятность стать должником меньше\n",
    "\n",
    "Рекомендация: Разница между 2 пунктами категорий в выводе небольшая, всего 2 %. Я бы не рекомендовал наделять этой зависимоти высокий вес при принятии решения о кредитоспособности\n",
    "\n",
    "**Общие рекомендации:**\n",
    "1. Специалистам, которые занимаются построением модели кредитного скоринга можно использовать зависимости из 2 и 4 гипотезы\n",
    "2. По 1 и 3 гипотезе необходимо собрать более полную выборку для повторной проверки данных гипотез\n"
   ]
  },
  {
   "cell_type": "code",
   "execution_count": null,
   "id": "52338272",
   "metadata": {},
   "outputs": [],
   "source": []
  }
 ],
 "metadata": {
  "ExecuteTimeLog": [
   {
    "duration": 45,
    "start_time": "2022-08-17T07:14:03.444Z"
   },
   {
    "duration": 8,
    "start_time": "2022-08-17T07:16:52.130Z"
   },
   {
    "duration": 459,
    "start_time": "2022-08-17T07:17:03.626Z"
   },
   {
    "duration": 27,
    "start_time": "2022-08-17T07:17:04.086Z"
   },
   {
    "duration": 18,
    "start_time": "2022-08-17T07:17:04.116Z"
   },
   {
    "duration": 10,
    "start_time": "2022-08-17T07:17:04.137Z"
   },
   {
    "duration": 69,
    "start_time": "2022-08-17T07:17:04.148Z"
   },
   {
    "duration": 3,
    "start_time": "2022-08-17T07:17:04.219Z"
   },
   {
    "duration": 14,
    "start_time": "2022-08-17T07:17:04.224Z"
   },
   {
    "duration": 10,
    "start_time": "2022-08-17T07:17:04.239Z"
   },
   {
    "duration": 14,
    "start_time": "2022-08-17T07:17:04.251Z"
   },
   {
    "duration": 9,
    "start_time": "2022-08-17T07:17:04.267Z"
   },
   {
    "duration": 45,
    "start_time": "2022-08-17T07:17:04.277Z"
   },
   {
    "duration": 11,
    "start_time": "2022-08-17T07:17:04.323Z"
   },
   {
    "duration": 4,
    "start_time": "2022-08-17T07:17:04.336Z"
   },
   {
    "duration": 18,
    "start_time": "2022-08-17T07:17:04.342Z"
   },
   {
    "duration": 50,
    "start_time": "2022-08-17T07:17:04.362Z"
   },
   {
    "duration": 23,
    "start_time": "2022-08-17T07:17:04.414Z"
   },
   {
    "duration": 4,
    "start_time": "2022-08-17T07:17:04.439Z"
   },
   {
    "duration": 14,
    "start_time": "2022-08-17T07:17:04.444Z"
   },
   {
    "duration": 5,
    "start_time": "2022-08-17T07:17:04.459Z"
   },
   {
    "duration": 30,
    "start_time": "2022-08-17T07:17:04.466Z"
   },
   {
    "duration": 23,
    "start_time": "2022-08-17T07:17:04.498Z"
   },
   {
    "duration": 14,
    "start_time": "2022-08-17T07:17:04.522Z"
   },
   {
    "duration": 17,
    "start_time": "2022-08-17T07:17:04.538Z"
   },
   {
    "duration": 2,
    "start_time": "2022-08-17T07:17:04.557Z"
   },
   {
    "duration": 5,
    "start_time": "2022-08-17T07:17:04.560Z"
   },
   {
    "duration": 5,
    "start_time": "2022-08-17T07:23:56.345Z"
   },
   {
    "duration": 5,
    "start_time": "2022-08-17T07:24:10.757Z"
   },
   {
    "duration": 9,
    "start_time": "2022-08-17T07:31:37.795Z"
   },
   {
    "duration": 10,
    "start_time": "2022-08-17T07:31:47.915Z"
   },
   {
    "duration": 9,
    "start_time": "2022-08-17T07:32:11.186Z"
   },
   {
    "duration": 8,
    "start_time": "2022-08-17T07:32:18.206Z"
   },
   {
    "duration": 10,
    "start_time": "2022-08-17T07:34:46.578Z"
   },
   {
    "duration": 9,
    "start_time": "2022-08-17T07:44:48.333Z"
   },
   {
    "duration": 8,
    "start_time": "2022-08-17T07:47:23.119Z"
   },
   {
    "duration": 8,
    "start_time": "2022-08-17T07:48:27.750Z"
   },
   {
    "duration": 62,
    "start_time": "2022-08-17T07:50:21.661Z"
   },
   {
    "duration": 9,
    "start_time": "2022-08-17T07:50:30.759Z"
   },
   {
    "duration": 12,
    "start_time": "2022-08-17T07:50:57.529Z"
   },
   {
    "duration": 8,
    "start_time": "2022-08-17T07:51:03.243Z"
   },
   {
    "duration": 9,
    "start_time": "2022-08-17T07:52:59.494Z"
   },
   {
    "duration": 17,
    "start_time": "2022-08-17T07:53:46.830Z"
   },
   {
    "duration": 12,
    "start_time": "2022-08-17T08:06:39.632Z"
   },
   {
    "duration": 13,
    "start_time": "2022-08-17T08:09:19.895Z"
   },
   {
    "duration": 14,
    "start_time": "2022-08-17T08:20:19.058Z"
   },
   {
    "duration": 14,
    "start_time": "2022-08-17T08:25:18.673Z"
   },
   {
    "duration": 17,
    "start_time": "2022-08-17T08:27:27.725Z"
   },
   {
    "duration": 13,
    "start_time": "2022-08-17T08:28:45.575Z"
   },
   {
    "duration": 49,
    "start_time": "2022-08-17T08:30:23.007Z"
   },
   {
    "duration": 15,
    "start_time": "2022-08-17T08:30:35.590Z"
   },
   {
    "duration": 52,
    "start_time": "2022-08-17T08:34:06.252Z"
   },
   {
    "duration": 51,
    "start_time": "2022-08-17T08:34:17.674Z"
   },
   {
    "duration": 816,
    "start_time": "2022-08-17T08:34:27.003Z"
   },
   {
    "duration": 8,
    "start_time": "2022-08-17T08:36:33.600Z"
   },
   {
    "duration": 84,
    "start_time": "2022-08-17T08:40:45.896Z"
   },
   {
    "duration": 79,
    "start_time": "2022-08-17T08:40:56.658Z"
   },
   {
    "duration": 18,
    "start_time": "2022-08-17T08:43:16.157Z"
   },
   {
    "duration": 15,
    "start_time": "2022-08-17T08:43:36.778Z"
   },
   {
    "duration": 15,
    "start_time": "2022-08-17T08:43:39.734Z"
   },
   {
    "duration": 466,
    "start_time": "2022-08-17T08:43:48.494Z"
   },
   {
    "duration": 28,
    "start_time": "2022-08-17T08:43:48.962Z"
   },
   {
    "duration": 21,
    "start_time": "2022-08-17T08:43:48.992Z"
   },
   {
    "duration": 14,
    "start_time": "2022-08-17T08:43:49.015Z"
   },
   {
    "duration": 56,
    "start_time": "2022-08-17T08:43:49.031Z"
   },
   {
    "duration": 4,
    "start_time": "2022-08-17T08:43:49.089Z"
   },
   {
    "duration": 14,
    "start_time": "2022-08-17T08:43:49.095Z"
   },
   {
    "duration": 5,
    "start_time": "2022-08-17T08:43:49.111Z"
   },
   {
    "duration": 13,
    "start_time": "2022-08-17T08:43:49.118Z"
   },
   {
    "duration": 5,
    "start_time": "2022-08-17T08:43:49.132Z"
   },
   {
    "duration": 51,
    "start_time": "2022-08-17T08:43:49.139Z"
   },
   {
    "duration": 10,
    "start_time": "2022-08-17T08:43:49.191Z"
   },
   {
    "duration": 8,
    "start_time": "2022-08-17T08:43:49.202Z"
   },
   {
    "duration": 12,
    "start_time": "2022-08-17T08:43:49.212Z"
   },
   {
    "duration": 20,
    "start_time": "2022-08-17T08:43:49.225Z"
   },
   {
    "duration": 16,
    "start_time": "2022-08-17T08:43:49.247Z"
   },
   {
    "duration": 22,
    "start_time": "2022-08-17T08:43:49.265Z"
   },
   {
    "duration": 14,
    "start_time": "2022-08-17T08:43:49.289Z"
   },
   {
    "duration": 7,
    "start_time": "2022-08-17T08:43:49.304Z"
   },
   {
    "duration": 17,
    "start_time": "2022-08-17T08:43:49.312Z"
   },
   {
    "duration": 47,
    "start_time": "2022-08-17T08:43:49.330Z"
   },
   {
    "duration": 55,
    "start_time": "2022-08-17T08:43:49.379Z"
   },
   {
    "duration": 47,
    "start_time": "2022-08-17T08:43:49.436Z"
   },
   {
    "duration": 19,
    "start_time": "2022-08-17T08:43:49.485Z"
   },
   {
    "duration": 18,
    "start_time": "2022-08-17T08:43:49.506Z"
   },
   {
    "duration": 22,
    "start_time": "2022-08-17T08:44:59.171Z"
   },
   {
    "duration": 20,
    "start_time": "2022-08-17T08:45:15.701Z"
   },
   {
    "duration": 15,
    "start_time": "2022-08-17T08:45:49.519Z"
   },
   {
    "duration": 18,
    "start_time": "2022-08-17T08:46:02.525Z"
   },
   {
    "duration": 16,
    "start_time": "2022-08-17T08:46:14.547Z"
   },
   {
    "duration": 14,
    "start_time": "2022-08-17T08:46:20.122Z"
   },
   {
    "duration": 16,
    "start_time": "2022-08-17T08:46:27.642Z"
   },
   {
    "duration": 20,
    "start_time": "2022-08-17T08:47:42.051Z"
   },
   {
    "duration": 4,
    "start_time": "2022-08-17T08:50:29.690Z"
   },
   {
    "duration": 15,
    "start_time": "2022-08-17T08:53:44.974Z"
   },
   {
    "duration": 16,
    "start_time": "2022-08-17T08:53:51.401Z"
   },
   {
    "duration": 18,
    "start_time": "2022-08-17T08:56:01.547Z"
   },
   {
    "duration": 18,
    "start_time": "2022-08-17T08:56:51.672Z"
   },
   {
    "duration": 17,
    "start_time": "2022-08-17T08:58:15.129Z"
   },
   {
    "duration": 16,
    "start_time": "2022-08-17T09:13:29.022Z"
   },
   {
    "duration": 16,
    "start_time": "2022-08-17T09:22:42.996Z"
   },
   {
    "duration": 40,
    "start_time": "2022-08-17T09:23:08.015Z"
   },
   {
    "duration": 22,
    "start_time": "2022-08-17T09:25:50.141Z"
   },
   {
    "duration": 19,
    "start_time": "2022-08-17T09:31:39.122Z"
   },
   {
    "duration": 23,
    "start_time": "2022-08-17T09:32:37.182Z"
   },
   {
    "duration": 586,
    "start_time": "2022-08-17T11:36:44.278Z"
   },
   {
    "duration": 41,
    "start_time": "2022-08-17T11:36:44.866Z"
   },
   {
    "duration": 29,
    "start_time": "2022-08-17T11:36:44.909Z"
   },
   {
    "duration": 9,
    "start_time": "2022-08-17T11:36:44.940Z"
   },
   {
    "duration": 36,
    "start_time": "2022-08-17T11:36:44.951Z"
   },
   {
    "duration": 3,
    "start_time": "2022-08-17T11:36:44.989Z"
   },
   {
    "duration": 39,
    "start_time": "2022-08-17T11:36:45.004Z"
   },
   {
    "duration": 10,
    "start_time": "2022-08-17T11:36:45.045Z"
   },
   {
    "duration": 16,
    "start_time": "2022-08-17T11:36:45.056Z"
   },
   {
    "duration": 5,
    "start_time": "2022-08-17T11:36:45.077Z"
   },
   {
    "duration": 52,
    "start_time": "2022-08-17T11:36:45.083Z"
   },
   {
    "duration": 9,
    "start_time": "2022-08-17T11:36:45.136Z"
   },
   {
    "duration": 4,
    "start_time": "2022-08-17T11:36:45.147Z"
   },
   {
    "duration": 22,
    "start_time": "2022-08-17T11:36:45.153Z"
   },
   {
    "duration": 47,
    "start_time": "2022-08-17T11:36:45.177Z"
   },
   {
    "duration": 23,
    "start_time": "2022-08-17T11:36:45.225Z"
   },
   {
    "duration": 4,
    "start_time": "2022-08-17T11:36:45.249Z"
   },
   {
    "duration": 18,
    "start_time": "2022-08-17T11:36:45.255Z"
   },
   {
    "duration": 7,
    "start_time": "2022-08-17T11:36:45.274Z"
   },
   {
    "duration": 7,
    "start_time": "2022-08-17T11:36:45.283Z"
   },
   {
    "duration": 46,
    "start_time": "2022-08-17T11:36:45.291Z"
   },
   {
    "duration": 19,
    "start_time": "2022-08-17T11:36:45.338Z"
   },
   {
    "duration": 16,
    "start_time": "2022-08-17T11:36:45.359Z"
   },
   {
    "duration": 43,
    "start_time": "2022-08-17T11:36:45.377Z"
   },
   {
    "duration": 19,
    "start_time": "2022-08-17T11:36:45.422Z"
   },
   {
    "duration": 16,
    "start_time": "2023-03-23T10:07:55.734Z"
   }
  ],
  "colab": {
   "name": "dpp_template_part2.ipynb",
   "provenance": []
  },
  "kernelspec": {
   "display_name": "Python 3 (ipykernel)",
   "language": "python",
   "name": "python3"
  },
  "language_info": {
   "codemirror_mode": {
    "name": "ipython",
    "version": 3
   },
   "file_extension": ".py",
   "mimetype": "text/x-python",
   "name": "python",
   "nbconvert_exporter": "python",
   "pygments_lexer": "ipython3",
   "version": "3.9.5"
  },
  "toc": {
   "base_numbering": 1,
   "nav_menu": {},
   "number_sections": true,
   "sideBar": true,
   "skip_h1_title": true,
   "title_cell": "Table of Contents",
   "title_sidebar": "Contents",
   "toc_cell": false,
   "toc_position": {},
   "toc_section_display": true,
   "toc_window_display": true
  }
 },
 "nbformat": 4,
 "nbformat_minor": 5
}
