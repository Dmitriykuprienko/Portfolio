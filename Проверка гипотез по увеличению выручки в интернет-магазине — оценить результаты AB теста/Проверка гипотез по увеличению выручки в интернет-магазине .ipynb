{
 "cells": [
  {
   "cell_type": "markdown",
   "metadata": {},
   "source": [
    "# Описание проекта"
   ]
  },
  {
   "cell_type": "markdown",
   "metadata": {},
   "source": [
    "Вы — аналитик крупного интернет-магазина. Вместе с отделом маркетинга вы подготовили список гипотез для увеличения выручки. Приоритизируйте гипотезы, запустите A/B-тест и проанализируйте результаты."
   ]
  },
  {
   "cell_type": "markdown",
   "metadata": {},
   "source": [
    "## Часть 1. Приоритизация гипотез. "
   ]
  },
  {
   "cell_type": "markdown",
   "metadata": {},
   "source": [
    "*В файле /datasets/hypothesis.csv 9 гипотез по увеличению выручки интернет-магазина с указанными параметрами Reach, Impact, Confidence, Effort.*"
   ]
  },
  {
   "cell_type": "markdown",
   "metadata": {},
   "source": [
    "### Задача:"
   ]
  },
  {
   "cell_type": "markdown",
   "metadata": {},
   "source": [
    "Примените фреймворк ICE для приоритизации гипотез. Отсортируйте их по убыванию приоритета.             \n",
    "Примените фреймворк RICE для приоритизации гипотез. Отсортируйте их по убыванию приоритета.              \n",
    "Укажите, как изменилась приоритизация гипотез при применении RICE вместо ICE. Объясните, почему так произошло."
   ]
  },
  {
   "cell_type": "markdown",
   "metadata": {},
   "source": [
    "## Часть 2. Анализ A/B-теста"
   ]
  },
  {
   "cell_type": "markdown",
   "metadata": {},
   "source": [
    "*Вы провели A/B-тест и получили результаты, которые описаны в файлах /datasets/orders.csv и /datasets/visitors.csv.*"
   ]
  },
  {
   "cell_type": "markdown",
   "metadata": {},
   "source": [
    " ### Задача:"
   ]
  },
  {
   "cell_type": "markdown",
   "metadata": {},
   "source": [
    "**Проанализируйте A/B-тест:**"
   ]
  },
  {
   "cell_type": "markdown",
   "metadata": {},
   "source": [
    "* Постройте график кумулятивной выручки по группам. Сделайте выводы и предположения.  \n",
    "* Постройте график кумулятивного среднего чека по группам. Сделайте выводы и предположения. \n",
    "* Постройте график относительного изменения кумулятивного среднего чека группы B к группе A. Сделайте выводы и предположения.  \n",
    "* Постройте график кумулятивной конверсии по группам. Сделайте выводы и предположения.  \\n\",\n",
    "* Постройте график относительного изменения кумулятивной конверсии группы B к группе A. Сделайте выводы и предположения.  \n",
    "* Постройте точечный график количества заказов по пользователям. Сделайте выводы и предположения. \n",
    "* Посчитайте 95-й и 99-й перцентили количества заказов на пользователя. Выберите границу для определения аномальных пользователей. \n",
    "* Постройте точечный график стоимостей заказов. Сделайте выводы и предположения.  \n",
    "* Посчитайте 95-й и 99-й перцентили стоимости заказов. Выберите границу для определения аномальных заказов.  \n",
    "* Посчитайте статистическую значимость различий в конверсии между группами по «сырым» данным. Сделайте выводы и предположения. \n",
    "* Посчитайте статистическую значимость различий в среднем чеке заказа между группами по «сырым» данным. Сделайте выводы и предположения.  \n",
    "* Посчитайте статистическую значимость различий в конверсии между группами по «очищенным» данным. Сделайте выводы и предположения.  \n",
    "* Посчитайте статистическую значимость различий в среднем чеке заказа между группами по «очищенным» данным. Сделайте выводы и предположения."
   ]
  },
  {
   "cell_type": "markdown",
   "metadata": {},
   "source": [
    "### Описание данных"
   ]
  },
  {
   "cell_type": "markdown",
   "metadata": {},
   "source": [
    "***Данные для первой части***\n",
    "Файл /datasets/hypothesis.csv. Скачать датасет              \n",
    "Hypothesis — краткое описание гипотезы;       \n",
    "Reach — охват пользователей по 10-балльной шкале;          \n",
    "Impact — влияние на пользователей по 10-балльной шкале;    \n",
    "Confidence — уверенность в гипотезе по 10-балльной шкале;                            \n",
    "Efforts — затраты ресурсов на проверку гипотезы по 10-балльной шкале. Чем больше значение Efforts, тем дороже проверка гипотезы"
   ]
  },
  {
   "cell_type": "markdown",
   "metadata": {},
   "source": [
    "***Данные для второй части***                      \n",
    "Файл /datasets/orders.csv. Скачать датасет                \n",
    "transactionId — идентификатор заказа;             \n",
    "visitorId — идентификатор пользователя, совершившего заказ;               \n",
    "date — дата, когда был совершён заказ;                    \n",
    "revenue — выручка заказа;              \n",
    "group — группа A/B-теста, в которую попал заказ.                  \n",
    "Файл /datasets/visitors.csv. Скачать датасет           \n",
    "date — дата;                \n",
    "group — группа A/B-теста;                 \n",
    "visitors — количество пользователей в указанную дату в указанной группе A/B-теста"
   ]
  },
  {
   "cell_type": "markdown",
   "metadata": {},
   "source": [
    "### Шаг 1. Загрузка данных и подготовка их к анализу"
   ]
  },
  {
   "cell_type": "code",
   "execution_count": 1,
   "metadata": {},
   "outputs": [],
   "source": [
    "import numpy as np\n",
    "import pandas as pd\n",
    "\n",
    "import seaborn as sns\n",
    "from matplotlib import pyplot as plt\n",
    "from IPython.display import display\n",
    "\n",
    "import scipy.stats as stats\n",
    "import datetime as dt\n"
   ]
  },
  {
   "cell_type": "code",
   "execution_count": 2,
   "metadata": {},
   "outputs": [],
   "source": [
    "hypothesis = pd.read_csv('/datasets/hypothesis.csv')\n",
    "orders = pd.read_csv('/datasets/orders.csv')\n",
    "visitors = pd.read_csv('/datasets/visitors.csv')"
   ]
  },
  {
   "cell_type": "markdown",
   "metadata": {},
   "source": [
    "### Предобработка таблицы hypothesis - гипотезы"
   ]
  },
  {
   "cell_type": "code",
   "execution_count": 3,
   "metadata": {},
   "outputs": [
    {
     "name": "stdout",
     "output_type": "stream",
     "text": [
      "<class 'pandas.core.frame.DataFrame'>\n",
      "RangeIndex: 9 entries, 0 to 8\n",
      "Data columns (total 5 columns):\n",
      " #   Column      Non-Null Count  Dtype \n",
      "---  ------      --------------  ----- \n",
      " 0   Hypothesis  9 non-null      object\n",
      " 1   Reach       9 non-null      int64 \n",
      " 2   Impact      9 non-null      int64 \n",
      " 3   Confidence  9 non-null      int64 \n",
      " 4   Efforts     9 non-null      int64 \n",
      "dtypes: int64(4), object(1)\n",
      "memory usage: 488.0+ bytes\n"
     ]
    }
   ],
   "source": [
    "hypothesis.info()"
   ]
  },
  {
   "cell_type": "code",
   "execution_count": 4,
   "metadata": {},
   "outputs": [
    {
     "data": {
      "text/html": [
       "<div>\n",
       "<style scoped>\n",
       "    .dataframe tbody tr th:only-of-type {\n",
       "        vertical-align: middle;\n",
       "    }\n",
       "\n",
       "    .dataframe tbody tr th {\n",
       "        vertical-align: top;\n",
       "    }\n",
       "\n",
       "    .dataframe thead th {\n",
       "        text-align: right;\n",
       "    }\n",
       "</style>\n",
       "<table border=\"1\" class=\"dataframe\">\n",
       "  <thead>\n",
       "    <tr style=\"text-align: right;\">\n",
       "      <th></th>\n",
       "      <th>Hypothesis</th>\n",
       "      <th>Reach</th>\n",
       "      <th>Impact</th>\n",
       "      <th>Confidence</th>\n",
       "      <th>Efforts</th>\n",
       "    </tr>\n",
       "  </thead>\n",
       "  <tbody>\n",
       "    <tr>\n",
       "      <th>0</th>\n",
       "      <td>Добавить два новых канала привлечения трафика,...</td>\n",
       "      <td>3</td>\n",
       "      <td>10</td>\n",
       "      <td>8</td>\n",
       "      <td>6</td>\n",
       "    </tr>\n",
       "    <tr>\n",
       "      <th>1</th>\n",
       "      <td>Запустить собственную службу доставки, что сок...</td>\n",
       "      <td>2</td>\n",
       "      <td>5</td>\n",
       "      <td>4</td>\n",
       "      <td>10</td>\n",
       "    </tr>\n",
       "    <tr>\n",
       "      <th>2</th>\n",
       "      <td>Добавить блоки рекомендаций товаров на сайт ин...</td>\n",
       "      <td>8</td>\n",
       "      <td>3</td>\n",
       "      <td>7</td>\n",
       "      <td>3</td>\n",
       "    </tr>\n",
       "    <tr>\n",
       "      <th>3</th>\n",
       "      <td>Изменить структура категорий, что увеличит кон...</td>\n",
       "      <td>8</td>\n",
       "      <td>3</td>\n",
       "      <td>3</td>\n",
       "      <td>8</td>\n",
       "    </tr>\n",
       "    <tr>\n",
       "      <th>4</th>\n",
       "      <td>Изменить цвет фона главной страницы, чтобы уве...</td>\n",
       "      <td>3</td>\n",
       "      <td>1</td>\n",
       "      <td>1</td>\n",
       "      <td>1</td>\n",
       "    </tr>\n",
       "    <tr>\n",
       "      <th>5</th>\n",
       "      <td>Добавить страницу отзывов клиентов о магазине,...</td>\n",
       "      <td>3</td>\n",
       "      <td>2</td>\n",
       "      <td>2</td>\n",
       "      <td>3</td>\n",
       "    </tr>\n",
       "    <tr>\n",
       "      <th>6</th>\n",
       "      <td>Показать на главной странице баннеры с актуаль...</td>\n",
       "      <td>5</td>\n",
       "      <td>3</td>\n",
       "      <td>8</td>\n",
       "      <td>3</td>\n",
       "    </tr>\n",
       "    <tr>\n",
       "      <th>7</th>\n",
       "      <td>Добавить форму подписки на все основные страни...</td>\n",
       "      <td>10</td>\n",
       "      <td>7</td>\n",
       "      <td>8</td>\n",
       "      <td>5</td>\n",
       "    </tr>\n",
       "    <tr>\n",
       "      <th>8</th>\n",
       "      <td>Запустить акцию, дающую скидку на товар в день...</td>\n",
       "      <td>1</td>\n",
       "      <td>9</td>\n",
       "      <td>9</td>\n",
       "      <td>5</td>\n",
       "    </tr>\n",
       "  </tbody>\n",
       "</table>\n",
       "</div>"
      ],
      "text/plain": [
       "                                          Hypothesis  Reach  Impact  \\\n",
       "0  Добавить два новых канала привлечения трафика,...      3      10   \n",
       "1  Запустить собственную службу доставки, что сок...      2       5   \n",
       "2  Добавить блоки рекомендаций товаров на сайт ин...      8       3   \n",
       "3  Изменить структура категорий, что увеличит кон...      8       3   \n",
       "4  Изменить цвет фона главной страницы, чтобы уве...      3       1   \n",
       "5  Добавить страницу отзывов клиентов о магазине,...      3       2   \n",
       "6  Показать на главной странице баннеры с актуаль...      5       3   \n",
       "7  Добавить форму подписки на все основные страни...     10       7   \n",
       "8  Запустить акцию, дающую скидку на товар в день...      1       9   \n",
       "\n",
       "   Confidence  Efforts  \n",
       "0           8        6  \n",
       "1           4       10  \n",
       "2           7        3  \n",
       "3           3        8  \n",
       "4           1        1  \n",
       "5           2        3  \n",
       "6           8        3  \n",
       "7           8        5  \n",
       "8           9        5  "
      ]
     },
     "execution_count": 4,
     "metadata": {},
     "output_type": "execute_result"
    }
   ],
   "source": [
    "hypothesis"
   ]
  },
  {
   "cell_type": "markdown",
   "metadata": {},
   "source": [
    "*Данные целостные, корректные, типы правильные, дубликатов нет - таблица готова к анализу*"
   ]
  },
  {
   "cell_type": "markdown",
   "metadata": {},
   "source": [
    "### Предобработка таблицы orders - заказы"
   ]
  },
  {
   "cell_type": "code",
   "execution_count": 5,
   "metadata": {},
   "outputs": [
    {
     "name": "stdout",
     "output_type": "stream",
     "text": [
      "<class 'pandas.core.frame.DataFrame'>\n",
      "RangeIndex: 1197 entries, 0 to 1196\n",
      "Data columns (total 5 columns):\n",
      " #   Column         Non-Null Count  Dtype \n",
      "---  ------         --------------  ----- \n",
      " 0   transactionId  1197 non-null   int64 \n",
      " 1   visitorId      1197 non-null   int64 \n",
      " 2   date           1197 non-null   object\n",
      " 3   revenue        1197 non-null   int64 \n",
      " 4   group          1197 non-null   object\n",
      "dtypes: int64(3), object(2)\n",
      "memory usage: 46.9+ KB\n"
     ]
    }
   ],
   "source": [
    "orders.info()"
   ]
  },
  {
   "cell_type": "code",
   "execution_count": 6,
   "metadata": {},
   "outputs": [
    {
     "data": {
      "text/html": [
       "<div>\n",
       "<style scoped>\n",
       "    .dataframe tbody tr th:only-of-type {\n",
       "        vertical-align: middle;\n",
       "    }\n",
       "\n",
       "    .dataframe tbody tr th {\n",
       "        vertical-align: top;\n",
       "    }\n",
       "\n",
       "    .dataframe thead th {\n",
       "        text-align: right;\n",
       "    }\n",
       "</style>\n",
       "<table border=\"1\" class=\"dataframe\">\n",
       "  <thead>\n",
       "    <tr style=\"text-align: right;\">\n",
       "      <th></th>\n",
       "      <th>transactionId</th>\n",
       "      <th>visitorId</th>\n",
       "      <th>date</th>\n",
       "      <th>revenue</th>\n",
       "      <th>group</th>\n",
       "    </tr>\n",
       "  </thead>\n",
       "  <tbody>\n",
       "    <tr>\n",
       "      <th>0</th>\n",
       "      <td>3667963787</td>\n",
       "      <td>3312258926</td>\n",
       "      <td>2019-08-15</td>\n",
       "      <td>1650</td>\n",
       "      <td>B</td>\n",
       "    </tr>\n",
       "    <tr>\n",
       "      <th>1</th>\n",
       "      <td>2804400009</td>\n",
       "      <td>3642806036</td>\n",
       "      <td>2019-08-15</td>\n",
       "      <td>730</td>\n",
       "      <td>B</td>\n",
       "    </tr>\n",
       "    <tr>\n",
       "      <th>2</th>\n",
       "      <td>2961555356</td>\n",
       "      <td>4069496402</td>\n",
       "      <td>2019-08-15</td>\n",
       "      <td>400</td>\n",
       "      <td>A</td>\n",
       "    </tr>\n",
       "    <tr>\n",
       "      <th>3</th>\n",
       "      <td>3797467345</td>\n",
       "      <td>1196621759</td>\n",
       "      <td>2019-08-15</td>\n",
       "      <td>9759</td>\n",
       "      <td>B</td>\n",
       "    </tr>\n",
       "    <tr>\n",
       "      <th>4</th>\n",
       "      <td>2282983706</td>\n",
       "      <td>2322279887</td>\n",
       "      <td>2019-08-15</td>\n",
       "      <td>2308</td>\n",
       "      <td>B</td>\n",
       "    </tr>\n",
       "  </tbody>\n",
       "</table>\n",
       "</div>"
      ],
      "text/plain": [
       "   transactionId   visitorId        date  revenue group\n",
       "0     3667963787  3312258926  2019-08-15     1650     B\n",
       "1     2804400009  3642806036  2019-08-15      730     B\n",
       "2     2961555356  4069496402  2019-08-15      400     A\n",
       "3     3797467345  1196621759  2019-08-15     9759     B\n",
       "4     2282983706  2322279887  2019-08-15     2308     B"
      ]
     },
     "execution_count": 6,
     "metadata": {},
     "output_type": "execute_result"
    }
   ],
   "source": [
    "orders.head()"
   ]
  },
  {
   "cell_type": "code",
   "execution_count": 7,
   "metadata": {},
   "outputs": [],
   "source": [
    "orders[\"date\"] = orders[\"date\"].map(lambda x: dt.datetime.strptime(x, '%Y-%m-%d')) # Поменяем тип столбца \"date\" на datetime"
   ]
  },
  {
   "cell_type": "code",
   "execution_count": 8,
   "metadata": {},
   "outputs": [
    {
     "name": "stdout",
     "output_type": "stream",
     "text": [
      "<class 'pandas.core.frame.DataFrame'>\n",
      "RangeIndex: 1197 entries, 0 to 1196\n",
      "Data columns (total 5 columns):\n",
      " #   Column         Non-Null Count  Dtype         \n",
      "---  ------         --------------  -----         \n",
      " 0   transactionId  1197 non-null   int64         \n",
      " 1   visitorId      1197 non-null   int64         \n",
      " 2   date           1197 non-null   datetime64[ns]\n",
      " 3   revenue        1197 non-null   int64         \n",
      " 4   group          1197 non-null   object        \n",
      "dtypes: datetime64[ns](1), int64(3), object(1)\n",
      "memory usage: 46.9+ KB\n"
     ]
    }
   ],
   "source": [
    "orders.info()"
   ]
  },
  {
   "cell_type": "code",
   "execution_count": 9,
   "metadata": {},
   "outputs": [
    {
     "data": {
      "text/html": [
       "<div>\n",
       "<style scoped>\n",
       "    .dataframe tbody tr th:only-of-type {\n",
       "        vertical-align: middle;\n",
       "    }\n",
       "\n",
       "    .dataframe tbody tr th {\n",
       "        vertical-align: top;\n",
       "    }\n",
       "\n",
       "    .dataframe thead th {\n",
       "        text-align: right;\n",
       "    }\n",
       "</style>\n",
       "<table border=\"1\" class=\"dataframe\">\n",
       "  <thead>\n",
       "    <tr style=\"text-align: right;\">\n",
       "      <th></th>\n",
       "      <th>transactionId</th>\n",
       "      <th>visitorId</th>\n",
       "      <th>revenue</th>\n",
       "    </tr>\n",
       "  </thead>\n",
       "  <tbody>\n",
       "    <tr>\n",
       "      <th>count</th>\n",
       "      <td>1.197000e+03</td>\n",
       "      <td>1.197000e+03</td>\n",
       "      <td>1.197000e+03</td>\n",
       "    </tr>\n",
       "    <tr>\n",
       "      <th>mean</th>\n",
       "      <td>2.155621e+09</td>\n",
       "      <td>2.165960e+09</td>\n",
       "      <td>8.348006e+03</td>\n",
       "    </tr>\n",
       "    <tr>\n",
       "      <th>std</th>\n",
       "      <td>1.229085e+09</td>\n",
       "      <td>1.236014e+09</td>\n",
       "      <td>3.919113e+04</td>\n",
       "    </tr>\n",
       "    <tr>\n",
       "      <th>min</th>\n",
       "      <td>1.062393e+06</td>\n",
       "      <td>5.114589e+06</td>\n",
       "      <td>5.000000e+01</td>\n",
       "    </tr>\n",
       "    <tr>\n",
       "      <th>25%</th>\n",
       "      <td>1.166776e+09</td>\n",
       "      <td>1.111826e+09</td>\n",
       "      <td>1.220000e+03</td>\n",
       "    </tr>\n",
       "    <tr>\n",
       "      <th>50%</th>\n",
       "      <td>2.145194e+09</td>\n",
       "      <td>2.217985e+09</td>\n",
       "      <td>2.978000e+03</td>\n",
       "    </tr>\n",
       "    <tr>\n",
       "      <th>75%</th>\n",
       "      <td>3.237740e+09</td>\n",
       "      <td>3.177606e+09</td>\n",
       "      <td>8.290000e+03</td>\n",
       "    </tr>\n",
       "    <tr>\n",
       "      <th>max</th>\n",
       "      <td>4.293856e+09</td>\n",
       "      <td>4.283872e+09</td>\n",
       "      <td>1.294500e+06</td>\n",
       "    </tr>\n",
       "  </tbody>\n",
       "</table>\n",
       "</div>"
      ],
      "text/plain": [
       "       transactionId     visitorId       revenue\n",
       "count   1.197000e+03  1.197000e+03  1.197000e+03\n",
       "mean    2.155621e+09  2.165960e+09  8.348006e+03\n",
       "std     1.229085e+09  1.236014e+09  3.919113e+04\n",
       "min     1.062393e+06  5.114589e+06  5.000000e+01\n",
       "25%     1.166776e+09  1.111826e+09  1.220000e+03\n",
       "50%     2.145194e+09  2.217985e+09  2.978000e+03\n",
       "75%     3.237740e+09  3.177606e+09  8.290000e+03\n",
       "max     4.293856e+09  4.283872e+09  1.294500e+06"
      ]
     },
     "execution_count": 9,
     "metadata": {},
     "output_type": "execute_result"
    }
   ],
   "source": [
    "orders.describe()"
   ]
  },
  {
   "cell_type": "code",
   "execution_count": 10,
   "metadata": {},
   "outputs": [
    {
     "data": {
      "text/plain": [
       "0"
      ]
     },
     "execution_count": 10,
     "metadata": {},
     "output_type": "execute_result"
    }
   ],
   "source": [
    "orders.duplicated().sum() # Проверим дубликаты"
   ]
  },
  {
   "cell_type": "markdown",
   "metadata": {},
   "source": [
    "*Все данные корректны, целостны, дубликатов нет - и готовы к анализу. В процессе предобработки был поменян только тип столбца \"date\" на datetime*"
   ]
  },
  {
   "cell_type": "markdown",
   "metadata": {},
   "source": [
    "### Предобработка таблицы visitors - посетители"
   ]
  },
  {
   "cell_type": "code",
   "execution_count": 11,
   "metadata": {},
   "outputs": [
    {
     "name": "stdout",
     "output_type": "stream",
     "text": [
      "<class 'pandas.core.frame.DataFrame'>\n",
      "RangeIndex: 62 entries, 0 to 61\n",
      "Data columns (total 3 columns):\n",
      " #   Column    Non-Null Count  Dtype \n",
      "---  ------    --------------  ----- \n",
      " 0   date      62 non-null     object\n",
      " 1   group     62 non-null     object\n",
      " 2   visitors  62 non-null     int64 \n",
      "dtypes: int64(1), object(2)\n",
      "memory usage: 1.6+ KB\n"
     ]
    }
   ],
   "source": [
    "visitors.info()"
   ]
  },
  {
   "cell_type": "code",
   "execution_count": 12,
   "metadata": {},
   "outputs": [
    {
     "data": {
      "text/html": [
       "<div>\n",
       "<style scoped>\n",
       "    .dataframe tbody tr th:only-of-type {\n",
       "        vertical-align: middle;\n",
       "    }\n",
       "\n",
       "    .dataframe tbody tr th {\n",
       "        vertical-align: top;\n",
       "    }\n",
       "\n",
       "    .dataframe thead th {\n",
       "        text-align: right;\n",
       "    }\n",
       "</style>\n",
       "<table border=\"1\" class=\"dataframe\">\n",
       "  <thead>\n",
       "    <tr style=\"text-align: right;\">\n",
       "      <th></th>\n",
       "      <th>date</th>\n",
       "      <th>group</th>\n",
       "      <th>visitors</th>\n",
       "    </tr>\n",
       "  </thead>\n",
       "  <tbody>\n",
       "    <tr>\n",
       "      <th>0</th>\n",
       "      <td>2019-08-01</td>\n",
       "      <td>A</td>\n",
       "      <td>719</td>\n",
       "    </tr>\n",
       "    <tr>\n",
       "      <th>1</th>\n",
       "      <td>2019-08-02</td>\n",
       "      <td>A</td>\n",
       "      <td>619</td>\n",
       "    </tr>\n",
       "    <tr>\n",
       "      <th>2</th>\n",
       "      <td>2019-08-03</td>\n",
       "      <td>A</td>\n",
       "      <td>507</td>\n",
       "    </tr>\n",
       "    <tr>\n",
       "      <th>3</th>\n",
       "      <td>2019-08-04</td>\n",
       "      <td>A</td>\n",
       "      <td>717</td>\n",
       "    </tr>\n",
       "    <tr>\n",
       "      <th>4</th>\n",
       "      <td>2019-08-05</td>\n",
       "      <td>A</td>\n",
       "      <td>756</td>\n",
       "    </tr>\n",
       "  </tbody>\n",
       "</table>\n",
       "</div>"
      ],
      "text/plain": [
       "         date group  visitors\n",
       "0  2019-08-01     A       719\n",
       "1  2019-08-02     A       619\n",
       "2  2019-08-03     A       507\n",
       "3  2019-08-04     A       717\n",
       "4  2019-08-05     A       756"
      ]
     },
     "execution_count": 12,
     "metadata": {},
     "output_type": "execute_result"
    }
   ],
   "source": [
    "visitors.head()"
   ]
  },
  {
   "cell_type": "code",
   "execution_count": 13,
   "metadata": {},
   "outputs": [],
   "source": [
    "visitors[\"date\"] = visitors[\"date\"].map(lambda x: dt.datetime.strptime(x, '%Y-%m-%d'))"
   ]
  },
  {
   "cell_type": "code",
   "execution_count": 14,
   "metadata": {},
   "outputs": [
    {
     "name": "stdout",
     "output_type": "stream",
     "text": [
      "<class 'pandas.core.frame.DataFrame'>\n",
      "RangeIndex: 62 entries, 0 to 61\n",
      "Data columns (total 3 columns):\n",
      " #   Column    Non-Null Count  Dtype         \n",
      "---  ------    --------------  -----         \n",
      " 0   date      62 non-null     datetime64[ns]\n",
      " 1   group     62 non-null     object        \n",
      " 2   visitors  62 non-null     int64         \n",
      "dtypes: datetime64[ns](1), int64(1), object(1)\n",
      "memory usage: 1.6+ KB\n"
     ]
    }
   ],
   "source": [
    "visitors.info()"
   ]
  },
  {
   "cell_type": "code",
   "execution_count": 15,
   "metadata": {},
   "outputs": [
    {
     "data": {
      "text/html": [
       "<div>\n",
       "<style scoped>\n",
       "    .dataframe tbody tr th:only-of-type {\n",
       "        vertical-align: middle;\n",
       "    }\n",
       "\n",
       "    .dataframe tbody tr th {\n",
       "        vertical-align: top;\n",
       "    }\n",
       "\n",
       "    .dataframe thead th {\n",
       "        text-align: right;\n",
       "    }\n",
       "</style>\n",
       "<table border=\"1\" class=\"dataframe\">\n",
       "  <thead>\n",
       "    <tr style=\"text-align: right;\">\n",
       "      <th></th>\n",
       "      <th>visitors</th>\n",
       "    </tr>\n",
       "  </thead>\n",
       "  <tbody>\n",
       "    <tr>\n",
       "      <th>count</th>\n",
       "      <td>62.000000</td>\n",
       "    </tr>\n",
       "    <tr>\n",
       "      <th>mean</th>\n",
       "      <td>607.290323</td>\n",
       "    </tr>\n",
       "    <tr>\n",
       "      <th>std</th>\n",
       "      <td>114.400560</td>\n",
       "    </tr>\n",
       "    <tr>\n",
       "      <th>min</th>\n",
       "      <td>361.000000</td>\n",
       "    </tr>\n",
       "    <tr>\n",
       "      <th>25%</th>\n",
       "      <td>534.000000</td>\n",
       "    </tr>\n",
       "    <tr>\n",
       "      <th>50%</th>\n",
       "      <td>624.500000</td>\n",
       "    </tr>\n",
       "    <tr>\n",
       "      <th>75%</th>\n",
       "      <td>710.500000</td>\n",
       "    </tr>\n",
       "    <tr>\n",
       "      <th>max</th>\n",
       "      <td>770.000000</td>\n",
       "    </tr>\n",
       "  </tbody>\n",
       "</table>\n",
       "</div>"
      ],
      "text/plain": [
       "         visitors\n",
       "count   62.000000\n",
       "mean   607.290323\n",
       "std    114.400560\n",
       "min    361.000000\n",
       "25%    534.000000\n",
       "50%    624.500000\n",
       "75%    710.500000\n",
       "max    770.000000"
      ]
     },
     "execution_count": 15,
     "metadata": {},
     "output_type": "execute_result"
    }
   ],
   "source": [
    "visitors.describe()"
   ]
  },
  {
   "cell_type": "code",
   "execution_count": 16,
   "metadata": {},
   "outputs": [
    {
     "data": {
      "text/plain": [
       "0"
      ]
     },
     "execution_count": 16,
     "metadata": {},
     "output_type": "execute_result"
    }
   ],
   "source": [
    "visitors.duplicated().sum()"
   ]
  },
  {
   "cell_type": "markdown",
   "metadata": {},
   "source": [
    "*Все данные корректны, целостны, дубликатов нет - и готовы к анализу. В процессе предобработки был поменян только тип столбца \"date\" на datetime*"
   ]
  },
  {
   "cell_type": "markdown",
   "metadata": {},
   "source": [
    "### Шаг 2. Приоритизация гипотез"
   ]
  },
  {
   "cell_type": "markdown",
   "metadata": {},
   "source": [
    "- Примените фреймворк ICE для приоритизации гипотез. Отсортируйте их по убыванию приоритета.\n",
    "-  Примените фреймворк RICE для приоритизации гипотез. Отсортируйте их по убыванию приоритета.\n",
    "-  Укажите, как изменилась приоритизация гипотез при применении RICE вместо ICE. Объясните, почему так произошло."
   ]
  },
  {
   "cell_type": "code",
   "execution_count": 17,
   "metadata": {},
   "outputs": [
    {
     "data": {
      "text/html": [
       "<div>\n",
       "<style scoped>\n",
       "    .dataframe tbody tr th:only-of-type {\n",
       "        vertical-align: middle;\n",
       "    }\n",
       "\n",
       "    .dataframe tbody tr th {\n",
       "        vertical-align: top;\n",
       "    }\n",
       "\n",
       "    .dataframe thead th {\n",
       "        text-align: right;\n",
       "    }\n",
       "</style>\n",
       "<table border=\"1\" class=\"dataframe\">\n",
       "  <thead>\n",
       "    <tr style=\"text-align: right;\">\n",
       "      <th></th>\n",
       "      <th>Hypothesis</th>\n",
       "      <th>Reach</th>\n",
       "      <th>Impact</th>\n",
       "      <th>Confidence</th>\n",
       "      <th>Efforts</th>\n",
       "    </tr>\n",
       "  </thead>\n",
       "  <tbody>\n",
       "    <tr>\n",
       "      <th>0</th>\n",
       "      <td>Добавить два новых канала привлечения трафика, что позволит привлекать на 30% больше пользователей</td>\n",
       "      <td>3</td>\n",
       "      <td>10</td>\n",
       "      <td>8</td>\n",
       "      <td>6</td>\n",
       "    </tr>\n",
       "    <tr>\n",
       "      <th>1</th>\n",
       "      <td>Запустить собственную службу доставки, что сократит срок доставки заказов</td>\n",
       "      <td>2</td>\n",
       "      <td>5</td>\n",
       "      <td>4</td>\n",
       "      <td>10</td>\n",
       "    </tr>\n",
       "    <tr>\n",
       "      <th>2</th>\n",
       "      <td>Добавить блоки рекомендаций товаров на сайт интернет магазина, чтобы повысить конверсию и средний чек заказа</td>\n",
       "      <td>8</td>\n",
       "      <td>3</td>\n",
       "      <td>7</td>\n",
       "      <td>3</td>\n",
       "    </tr>\n",
       "    <tr>\n",
       "      <th>3</th>\n",
       "      <td>Изменить структура категорий, что увеличит конверсию, т.к. пользователи быстрее найдут нужный товар</td>\n",
       "      <td>8</td>\n",
       "      <td>3</td>\n",
       "      <td>3</td>\n",
       "      <td>8</td>\n",
       "    </tr>\n",
       "    <tr>\n",
       "      <th>4</th>\n",
       "      <td>Изменить цвет фона главной страницы, чтобы увеличить вовлеченность пользователей</td>\n",
       "      <td>3</td>\n",
       "      <td>1</td>\n",
       "      <td>1</td>\n",
       "      <td>1</td>\n",
       "    </tr>\n",
       "    <tr>\n",
       "      <th>5</th>\n",
       "      <td>Добавить страницу отзывов клиентов о магазине, что позволит увеличить количество заказов</td>\n",
       "      <td>3</td>\n",
       "      <td>2</td>\n",
       "      <td>2</td>\n",
       "      <td>3</td>\n",
       "    </tr>\n",
       "    <tr>\n",
       "      <th>6</th>\n",
       "      <td>Показать на главной странице баннеры с актуальными акциями и распродажами, чтобы увеличить конверсию</td>\n",
       "      <td>5</td>\n",
       "      <td>3</td>\n",
       "      <td>8</td>\n",
       "      <td>3</td>\n",
       "    </tr>\n",
       "    <tr>\n",
       "      <th>7</th>\n",
       "      <td>Добавить форму подписки на все основные страницы, чтобы собрать базу клиентов для email-рассылок</td>\n",
       "      <td>10</td>\n",
       "      <td>7</td>\n",
       "      <td>8</td>\n",
       "      <td>5</td>\n",
       "    </tr>\n",
       "    <tr>\n",
       "      <th>8</th>\n",
       "      <td>Запустить акцию, дающую скидку на товар в день рождения</td>\n",
       "      <td>1</td>\n",
       "      <td>9</td>\n",
       "      <td>9</td>\n",
       "      <td>5</td>\n",
       "    </tr>\n",
       "  </tbody>\n",
       "</table>\n",
       "</div>"
      ],
      "text/plain": [
       "                                                                                                     Hypothesis  \\\n",
       "0            Добавить два новых канала привлечения трафика, что позволит привлекать на 30% больше пользователей   \n",
       "1                                     Запустить собственную службу доставки, что сократит срок доставки заказов   \n",
       "2  Добавить блоки рекомендаций товаров на сайт интернет магазина, чтобы повысить конверсию и средний чек заказа   \n",
       "3           Изменить структура категорий, что увеличит конверсию, т.к. пользователи быстрее найдут нужный товар   \n",
       "4                              Изменить цвет фона главной страницы, чтобы увеличить вовлеченность пользователей   \n",
       "5                      Добавить страницу отзывов клиентов о магазине, что позволит увеличить количество заказов   \n",
       "6          Показать на главной странице баннеры с актуальными акциями и распродажами, чтобы увеличить конверсию   \n",
       "7              Добавить форму подписки на все основные страницы, чтобы собрать базу клиентов для email-рассылок   \n",
       "8                                                       Запустить акцию, дающую скидку на товар в день рождения   \n",
       "\n",
       "   Reach  Impact  Confidence  Efforts  \n",
       "0      3      10           8        6  \n",
       "1      2       5           4       10  \n",
       "2      8       3           7        3  \n",
       "3      8       3           3        8  \n",
       "4      3       1           1        1  \n",
       "5      3       2           2        3  \n",
       "6      5       3           8        3  \n",
       "7     10       7           8        5  \n",
       "8      1       9           9        5  "
      ]
     },
     "execution_count": 17,
     "metadata": {},
     "output_type": "execute_result"
    }
   ],
   "source": [
    "pd.set_option('display.max_colwidth', 200)\n",
    "hypothesis"
   ]
  },
  {
   "cell_type": "code",
   "execution_count": 18,
   "metadata": {},
   "outputs": [],
   "source": [
    "hypothesis['ICE'] = ((hypothesis['Impact'] * hypothesis['Confidence']) / hypothesis['Efforts']).round(1)\n",
    "hypothesis['RICE'] = (hypothesis['Reach']  *hypothesis['Impact'] * hypothesis['Confidence']) / hypothesis['Efforts']"
   ]
  },
  {
   "cell_type": "code",
   "execution_count": 19,
   "metadata": {},
   "outputs": [
    {
     "data": {
      "text/html": [
       "<div>\n",
       "<style scoped>\n",
       "    .dataframe tbody tr th:only-of-type {\n",
       "        vertical-align: middle;\n",
       "    }\n",
       "\n",
       "    .dataframe tbody tr th {\n",
       "        vertical-align: top;\n",
       "    }\n",
       "\n",
       "    .dataframe thead th {\n",
       "        text-align: right;\n",
       "    }\n",
       "</style>\n",
       "<table border=\"1\" class=\"dataframe\">\n",
       "  <thead>\n",
       "    <tr style=\"text-align: right;\">\n",
       "      <th></th>\n",
       "      <th>ICE</th>\n",
       "      <th>Hypothesis</th>\n",
       "      <th>Reach</th>\n",
       "    </tr>\n",
       "  </thead>\n",
       "  <tbody>\n",
       "    <tr>\n",
       "      <th>8</th>\n",
       "      <td>16.2</td>\n",
       "      <td>Запустить акцию, дающую скидку на товар в день рождения</td>\n",
       "      <td>1</td>\n",
       "    </tr>\n",
       "    <tr>\n",
       "      <th>0</th>\n",
       "      <td>13.3</td>\n",
       "      <td>Добавить два новых канала привлечения трафика, что позволит привлекать на 30% больше пользователей</td>\n",
       "      <td>3</td>\n",
       "    </tr>\n",
       "    <tr>\n",
       "      <th>7</th>\n",
       "      <td>11.2</td>\n",
       "      <td>Добавить форму подписки на все основные страницы, чтобы собрать базу клиентов для email-рассылок</td>\n",
       "      <td>10</td>\n",
       "    </tr>\n",
       "    <tr>\n",
       "      <th>6</th>\n",
       "      <td>8.0</td>\n",
       "      <td>Показать на главной странице баннеры с актуальными акциями и распродажами, чтобы увеличить конверсию</td>\n",
       "      <td>5</td>\n",
       "    </tr>\n",
       "    <tr>\n",
       "      <th>2</th>\n",
       "      <td>7.0</td>\n",
       "      <td>Добавить блоки рекомендаций товаров на сайт интернет магазина, чтобы повысить конверсию и средний чек заказа</td>\n",
       "      <td>8</td>\n",
       "    </tr>\n",
       "    <tr>\n",
       "      <th>1</th>\n",
       "      <td>2.0</td>\n",
       "      <td>Запустить собственную службу доставки, что сократит срок доставки заказов</td>\n",
       "      <td>2</td>\n",
       "    </tr>\n",
       "    <tr>\n",
       "      <th>5</th>\n",
       "      <td>1.3</td>\n",
       "      <td>Добавить страницу отзывов клиентов о магазине, что позволит увеличить количество заказов</td>\n",
       "      <td>3</td>\n",
       "    </tr>\n",
       "    <tr>\n",
       "      <th>3</th>\n",
       "      <td>1.1</td>\n",
       "      <td>Изменить структура категорий, что увеличит конверсию, т.к. пользователи быстрее найдут нужный товар</td>\n",
       "      <td>8</td>\n",
       "    </tr>\n",
       "    <tr>\n",
       "      <th>4</th>\n",
       "      <td>1.0</td>\n",
       "      <td>Изменить цвет фона главной страницы, чтобы увеличить вовлеченность пользователей</td>\n",
       "      <td>3</td>\n",
       "    </tr>\n",
       "  </tbody>\n",
       "</table>\n",
       "</div>"
      ],
      "text/plain": [
       "    ICE  \\\n",
       "8  16.2   \n",
       "0  13.3   \n",
       "7  11.2   \n",
       "6   8.0   \n",
       "2   7.0   \n",
       "1   2.0   \n",
       "5   1.3   \n",
       "3   1.1   \n",
       "4   1.0   \n",
       "\n",
       "                                                                                                     Hypothesis  \\\n",
       "8                                                       Запустить акцию, дающую скидку на товар в день рождения   \n",
       "0            Добавить два новых канала привлечения трафика, что позволит привлекать на 30% больше пользователей   \n",
       "7              Добавить форму подписки на все основные страницы, чтобы собрать базу клиентов для email-рассылок   \n",
       "6          Показать на главной странице баннеры с актуальными акциями и распродажами, чтобы увеличить конверсию   \n",
       "2  Добавить блоки рекомендаций товаров на сайт интернет магазина, чтобы повысить конверсию и средний чек заказа   \n",
       "1                                     Запустить собственную службу доставки, что сократит срок доставки заказов   \n",
       "5                      Добавить страницу отзывов клиентов о магазине, что позволит увеличить количество заказов   \n",
       "3           Изменить структура категорий, что увеличит конверсию, т.к. пользователи быстрее найдут нужный товар   \n",
       "4                              Изменить цвет фона главной страницы, чтобы увеличить вовлеченность пользователей   \n",
       "\n",
       "   Reach  \n",
       "8      1  \n",
       "0      3  \n",
       "7     10  \n",
       "6      5  \n",
       "2      8  \n",
       "1      2  \n",
       "5      3  \n",
       "3      8  \n",
       "4      3  "
      ]
     },
     "metadata": {},
     "output_type": "display_data"
    }
   ],
   "source": [
    "pd.set_option('display.max_colwidth', 200)\n",
    "display(hypothesis[['ICE', 'Hypothesis', 'Reach']].sort_values(by='ICE', ascending=False))"
   ]
  },
  {
   "cell_type": "code",
   "execution_count": 20,
   "metadata": {},
   "outputs": [
    {
     "data": {
      "text/html": [
       "<div>\n",
       "<style scoped>\n",
       "    .dataframe tbody tr th:only-of-type {\n",
       "        vertical-align: middle;\n",
       "    }\n",
       "\n",
       "    .dataframe tbody tr th {\n",
       "        vertical-align: top;\n",
       "    }\n",
       "\n",
       "    .dataframe thead th {\n",
       "        text-align: right;\n",
       "    }\n",
       "</style>\n",
       "<table border=\"1\" class=\"dataframe\">\n",
       "  <thead>\n",
       "    <tr style=\"text-align: right;\">\n",
       "      <th></th>\n",
       "      <th>RICE</th>\n",
       "      <th>Hypothesis</th>\n",
       "      <th>Reach</th>\n",
       "    </tr>\n",
       "  </thead>\n",
       "  <tbody>\n",
       "    <tr>\n",
       "      <th>7</th>\n",
       "      <td>112.0</td>\n",
       "      <td>Добавить форму подписки на все основные страницы, чтобы собрать базу клиентов для email-рассылок</td>\n",
       "      <td>10</td>\n",
       "    </tr>\n",
       "    <tr>\n",
       "      <th>2</th>\n",
       "      <td>56.0</td>\n",
       "      <td>Добавить блоки рекомендаций товаров на сайт интернет магазина, чтобы повысить конверсию и средний чек заказа</td>\n",
       "      <td>8</td>\n",
       "    </tr>\n",
       "    <tr>\n",
       "      <th>0</th>\n",
       "      <td>40.0</td>\n",
       "      <td>Добавить два новых канала привлечения трафика, что позволит привлекать на 30% больше пользователей</td>\n",
       "      <td>3</td>\n",
       "    </tr>\n",
       "    <tr>\n",
       "      <th>6</th>\n",
       "      <td>40.0</td>\n",
       "      <td>Показать на главной странице баннеры с актуальными акциями и распродажами, чтобы увеличить конверсию</td>\n",
       "      <td>5</td>\n",
       "    </tr>\n",
       "    <tr>\n",
       "      <th>8</th>\n",
       "      <td>16.2</td>\n",
       "      <td>Запустить акцию, дающую скидку на товар в день рождения</td>\n",
       "      <td>1</td>\n",
       "    </tr>\n",
       "    <tr>\n",
       "      <th>3</th>\n",
       "      <td>9.0</td>\n",
       "      <td>Изменить структура категорий, что увеличит конверсию, т.к. пользователи быстрее найдут нужный товар</td>\n",
       "      <td>8</td>\n",
       "    </tr>\n",
       "    <tr>\n",
       "      <th>1</th>\n",
       "      <td>4.0</td>\n",
       "      <td>Запустить собственную службу доставки, что сократит срок доставки заказов</td>\n",
       "      <td>2</td>\n",
       "    </tr>\n",
       "    <tr>\n",
       "      <th>5</th>\n",
       "      <td>4.0</td>\n",
       "      <td>Добавить страницу отзывов клиентов о магазине, что позволит увеличить количество заказов</td>\n",
       "      <td>3</td>\n",
       "    </tr>\n",
       "    <tr>\n",
       "      <th>4</th>\n",
       "      <td>3.0</td>\n",
       "      <td>Изменить цвет фона главной страницы, чтобы увеличить вовлеченность пользователей</td>\n",
       "      <td>3</td>\n",
       "    </tr>\n",
       "  </tbody>\n",
       "</table>\n",
       "</div>"
      ],
      "text/plain": [
       "    RICE  \\\n",
       "7  112.0   \n",
       "2   56.0   \n",
       "0   40.0   \n",
       "6   40.0   \n",
       "8   16.2   \n",
       "3    9.0   \n",
       "1    4.0   \n",
       "5    4.0   \n",
       "4    3.0   \n",
       "\n",
       "                                                                                                     Hypothesis  \\\n",
       "7              Добавить форму подписки на все основные страницы, чтобы собрать базу клиентов для email-рассылок   \n",
       "2  Добавить блоки рекомендаций товаров на сайт интернет магазина, чтобы повысить конверсию и средний чек заказа   \n",
       "0            Добавить два новых канала привлечения трафика, что позволит привлекать на 30% больше пользователей   \n",
       "6          Показать на главной странице баннеры с актуальными акциями и распродажами, чтобы увеличить конверсию   \n",
       "8                                                       Запустить акцию, дающую скидку на товар в день рождения   \n",
       "3           Изменить структура категорий, что увеличит конверсию, т.к. пользователи быстрее найдут нужный товар   \n",
       "1                                     Запустить собственную службу доставки, что сократит срок доставки заказов   \n",
       "5                      Добавить страницу отзывов клиентов о магазине, что позволит увеличить количество заказов   \n",
       "4                              Изменить цвет фона главной страницы, чтобы увеличить вовлеченность пользователей   \n",
       "\n",
       "   Reach  \n",
       "7     10  \n",
       "2      8  \n",
       "0      3  \n",
       "6      5  \n",
       "8      1  \n",
       "3      8  \n",
       "1      2  \n",
       "5      3  \n",
       "4      3  "
      ]
     },
     "execution_count": 20,
     "metadata": {},
     "output_type": "execute_result"
    }
   ],
   "source": [
    "pd.set_option('display.max_colwidth', 200)\n",
    "hypothesis[['RICE', 'Hypothesis', 'Reach']].sort_values(by='RICE', ascending=False)"
   ]
  },
  {
   "cell_type": "markdown",
   "metadata": {},
   "source": [
    "**Вывод:** Таблицы RICE и ICE по приоритизации различаются.Тройка лидеров у всех разная : в ICE это гипотезы с индексами 8, 0, 7 ,  в RICE - 7, 2, 0. Данное розичие продиктовано, тем что в фреймворке RICE мы учитываем такой параметр как- Reach (скольких пользователей затронет изменение, которое вы хотите внести), и в гипотезах 7 и 2 он очень высок (в 7 он = 10 из 10 А в 2 он =8 из 10, а в лидере ICE - в 8 он минимальный =1 из 10.  В итоге следует присмотреться к гипотезам 7 и 2."
   ]
  },
  {
   "cell_type": "markdown",
   "metadata": {},
   "source": [
    "# Шаг 3. Анализ A/B-теста"
   ]
  },
  {
   "cell_type": "markdown",
   "metadata": {},
   "source": [
    "### 3.1 График кумулятивной выручки"
   ]
  },
  {
   "cell_type": "code",
   "execution_count": 21,
   "metadata": {},
   "outputs": [
    {
     "data": {
      "text/html": [
       "<div>\n",
       "<style scoped>\n",
       "    .dataframe tbody tr th:only-of-type {\n",
       "        vertical-align: middle;\n",
       "    }\n",
       "\n",
       "    .dataframe tbody tr th {\n",
       "        vertical-align: top;\n",
       "    }\n",
       "\n",
       "    .dataframe thead th {\n",
       "        text-align: right;\n",
       "    }\n",
       "</style>\n",
       "<table border=\"1\" class=\"dataframe\">\n",
       "  <thead>\n",
       "    <tr style=\"text-align: right;\">\n",
       "      <th></th>\n",
       "      <th>transactionId</th>\n",
       "      <th>visitorId</th>\n",
       "      <th>date</th>\n",
       "      <th>revenue</th>\n",
       "      <th>group</th>\n",
       "    </tr>\n",
       "  </thead>\n",
       "  <tbody>\n",
       "    <tr>\n",
       "      <th>0</th>\n",
       "      <td>3667963787</td>\n",
       "      <td>3312258926</td>\n",
       "      <td>2019-08-15</td>\n",
       "      <td>1650</td>\n",
       "      <td>B</td>\n",
       "    </tr>\n",
       "    <tr>\n",
       "      <th>1</th>\n",
       "      <td>2804400009</td>\n",
       "      <td>3642806036</td>\n",
       "      <td>2019-08-15</td>\n",
       "      <td>730</td>\n",
       "      <td>B</td>\n",
       "    </tr>\n",
       "    <tr>\n",
       "      <th>2</th>\n",
       "      <td>2961555356</td>\n",
       "      <td>4069496402</td>\n",
       "      <td>2019-08-15</td>\n",
       "      <td>400</td>\n",
       "      <td>A</td>\n",
       "    </tr>\n",
       "    <tr>\n",
       "      <th>3</th>\n",
       "      <td>3797467345</td>\n",
       "      <td>1196621759</td>\n",
       "      <td>2019-08-15</td>\n",
       "      <td>9759</td>\n",
       "      <td>B</td>\n",
       "    </tr>\n",
       "    <tr>\n",
       "      <th>4</th>\n",
       "      <td>2282983706</td>\n",
       "      <td>2322279887</td>\n",
       "      <td>2019-08-15</td>\n",
       "      <td>2308</td>\n",
       "      <td>B</td>\n",
       "    </tr>\n",
       "  </tbody>\n",
       "</table>\n",
       "</div>"
      ],
      "text/plain": [
       "   transactionId   visitorId       date  revenue group\n",
       "0     3667963787  3312258926 2019-08-15     1650     B\n",
       "1     2804400009  3642806036 2019-08-15      730     B\n",
       "2     2961555356  4069496402 2019-08-15      400     A\n",
       "3     3797467345  1196621759 2019-08-15     9759     B\n",
       "4     2282983706  2322279887 2019-08-15     2308     B"
      ]
     },
     "execution_count": 21,
     "metadata": {},
     "output_type": "execute_result"
    }
   ],
   "source": [
    "orders.head()"
   ]
  },
  {
   "cell_type": "code",
   "execution_count": 22,
   "metadata": {},
   "outputs": [
    {
     "data": {
      "text/html": [
       "<div>\n",
       "<style scoped>\n",
       "    .dataframe tbody tr th:only-of-type {\n",
       "        vertical-align: middle;\n",
       "    }\n",
       "\n",
       "    .dataframe tbody tr th {\n",
       "        vertical-align: top;\n",
       "    }\n",
       "\n",
       "    .dataframe thead th {\n",
       "        text-align: right;\n",
       "    }\n",
       "</style>\n",
       "<table border=\"1\" class=\"dataframe\">\n",
       "  <thead>\n",
       "    <tr style=\"text-align: right;\">\n",
       "      <th></th>\n",
       "      <th>date</th>\n",
       "      <th>group</th>\n",
       "      <th>visitors</th>\n",
       "    </tr>\n",
       "  </thead>\n",
       "  <tbody>\n",
       "    <tr>\n",
       "      <th>0</th>\n",
       "      <td>2019-08-01</td>\n",
       "      <td>A</td>\n",
       "      <td>719</td>\n",
       "    </tr>\n",
       "    <tr>\n",
       "      <th>1</th>\n",
       "      <td>2019-08-02</td>\n",
       "      <td>A</td>\n",
       "      <td>619</td>\n",
       "    </tr>\n",
       "    <tr>\n",
       "      <th>2</th>\n",
       "      <td>2019-08-03</td>\n",
       "      <td>A</td>\n",
       "      <td>507</td>\n",
       "    </tr>\n",
       "    <tr>\n",
       "      <th>3</th>\n",
       "      <td>2019-08-04</td>\n",
       "      <td>A</td>\n",
       "      <td>717</td>\n",
       "    </tr>\n",
       "    <tr>\n",
       "      <th>4</th>\n",
       "      <td>2019-08-05</td>\n",
       "      <td>A</td>\n",
       "      <td>756</td>\n",
       "    </tr>\n",
       "  </tbody>\n",
       "</table>\n",
       "</div>"
      ],
      "text/plain": [
       "        date group  visitors\n",
       "0 2019-08-01     A       719\n",
       "1 2019-08-02     A       619\n",
       "2 2019-08-03     A       507\n",
       "3 2019-08-04     A       717\n",
       "4 2019-08-05     A       756"
      ]
     },
     "execution_count": 22,
     "metadata": {},
     "output_type": "execute_result"
    }
   ],
   "source": [
    "visitors.head()"
   ]
  },
  {
   "cell_type": "code",
   "execution_count": 23,
   "metadata": {},
   "outputs": [
    {
     "data": {
      "text/html": [
       "<div>\n",
       "<style scoped>\n",
       "    .dataframe tbody tr th:only-of-type {\n",
       "        vertical-align: middle;\n",
       "    }\n",
       "\n",
       "    .dataframe tbody tr th {\n",
       "        vertical-align: top;\n",
       "    }\n",
       "\n",
       "    .dataframe thead th {\n",
       "        text-align: right;\n",
       "    }\n",
       "</style>\n",
       "<table border=\"1\" class=\"dataframe\">\n",
       "  <thead>\n",
       "    <tr style=\"text-align: right;\">\n",
       "      <th></th>\n",
       "      <th>date</th>\n",
       "      <th>group</th>\n",
       "      <th>orders</th>\n",
       "      <th>buyers</th>\n",
       "      <th>revenue</th>\n",
       "      <th>visitors</th>\n",
       "    </tr>\n",
       "  </thead>\n",
       "  <tbody>\n",
       "    <tr>\n",
       "      <th>0</th>\n",
       "      <td>2019-08-01</td>\n",
       "      <td>A</td>\n",
       "      <td>24</td>\n",
       "      <td>20</td>\n",
       "      <td>148579</td>\n",
       "      <td>719</td>\n",
       "    </tr>\n",
       "    <tr>\n",
       "      <th>1</th>\n",
       "      <td>2019-08-01</td>\n",
       "      <td>B</td>\n",
       "      <td>21</td>\n",
       "      <td>20</td>\n",
       "      <td>101217</td>\n",
       "      <td>713</td>\n",
       "    </tr>\n",
       "    <tr>\n",
       "      <th>2</th>\n",
       "      <td>2019-08-02</td>\n",
       "      <td>A</td>\n",
       "      <td>44</td>\n",
       "      <td>38</td>\n",
       "      <td>242401</td>\n",
       "      <td>1338</td>\n",
       "    </tr>\n",
       "    <tr>\n",
       "      <th>3</th>\n",
       "      <td>2019-08-02</td>\n",
       "      <td>B</td>\n",
       "      <td>45</td>\n",
       "      <td>43</td>\n",
       "      <td>266748</td>\n",
       "      <td>1294</td>\n",
       "    </tr>\n",
       "    <tr>\n",
       "      <th>4</th>\n",
       "      <td>2019-08-03</td>\n",
       "      <td>A</td>\n",
       "      <td>68</td>\n",
       "      <td>62</td>\n",
       "      <td>354874</td>\n",
       "      <td>1845</td>\n",
       "    </tr>\n",
       "  </tbody>\n",
       "</table>\n",
       "</div>"
      ],
      "text/plain": [
       "        date group  orders  buyers  revenue  visitors\n",
       "0 2019-08-01     A      24      20   148579       719\n",
       "1 2019-08-01     B      21      20   101217       713\n",
       "2 2019-08-02     A      44      38   242401      1338\n",
       "3 2019-08-02     B      45      43   266748      1294\n",
       "4 2019-08-03     A      68      62   354874      1845"
      ]
     },
     "execution_count": 23,
     "metadata": {},
     "output_type": "execute_result"
    }
   ],
   "source": [
    "datesGroups = orders[['date','group']].drop_duplicates()\n",
    "\n",
    "ordersAggregated = datesGroups.apply(lambda x: orders[np.logical_and(orders['date'] <= x['date'], orders['group'] == x['group'])]. \\\n",
    "                                     agg({'date' : 'max', \n",
    "                                          'group' : 'max', \n",
    "                                          'transactionId' : pd.Series.nunique, \n",
    "                                          'visitorId' : pd.Series.nunique, \n",
    "                                          'revenue' : 'sum'}), axis=1).sort_values(by=['date','group'])\n",
    "\n",
    "visitorsAggregated = datesGroups.apply(lambda x: visitors[np.logical_and(visitors['date'] <= x['date'], visitors['group'] == x['group'])]. \\\n",
    "                                       agg({'date' : 'max', \n",
    "                                            'group' : 'max', \n",
    "                                            'visitors' : 'sum'}), axis=1).sort_values(by=['date','group'])\n",
    "\n",
    "cumulativeData = ordersAggregated.merge(visitorsAggregated, left_on=['date', 'group'], right_on=['date', 'group'])\n",
    "cumulativeData.columns = ['date', 'group', 'orders', 'buyers', 'revenue', 'visitors']\n",
    "\n",
    "cumulativeData.head(5)"
   ]
  },
  {
   "cell_type": "code",
   "execution_count": 24,
   "metadata": {},
   "outputs": [
    {
     "data": {
      "image/png": "[encoded data removed]",
      "text/plain": [
       "<Figure size 1080x360 with 1 Axes>"
      ]
     },
     "metadata": {
      "needs_background": "light"
     },
     "output_type": "display_data"
    }
   ],
   "source": [
    "cumulativeRevenueA = cumulativeData[cumulativeData['group']=='A'][['date','revenue', 'orders']]\n",
    "cumulativeRevenueB = cumulativeData[cumulativeData['group']=='B'][['date','revenue', 'orders']]\n",
    "\n",
    "from pandas.plotting import register_matplotlib_converters\n",
    "register_matplotlib_converters()\n",
    "\n",
    "plt.figure(figsize=(15,5))\n",
    "plt.plot(cumulativeRevenueA['date'], cumulativeRevenueA['revenue'], label='Кум.выручка группы A')\n",
    "plt.plot(cumulativeRevenueB['date'], cumulativeRevenueB['revenue'], label='Кум.выручка группы B')\n",
    "plt.grid()\n",
    "plt.legend()\n",
    "plt.title('График кумулятивной выручки групп \"B\" и \"А\"')\n",
    "plt.show()"
   ]
  },
  {
   "cell_type": "markdown",
   "metadata": {},
   "source": [
    "*По графику видно что выручка в группе \"B\" растёт чуть быстрее, чем в \"A\". 13 августа выручки примерно равны. А  после 13 августа в группе \"B\" выручка начинает расти значительно больше.Стоит отметить сильный всплеск выручки в группе \"B\" 19 августа, возможно был крупный заказ.*"
   ]
  },
  {
   "cell_type": "markdown",
   "metadata": {},
   "source": [
    "Посмотрим какие заказы были в районе 19 августа"
   ]
  },
  {
   "cell_type": "code",
   "execution_count": 25,
   "metadata": {},
   "outputs": [
    {
     "data": {
      "text/html": [
       "<div>\n",
       "<style scoped>\n",
       "    .dataframe tbody tr th:only-of-type {\n",
       "        vertical-align: middle;\n",
       "    }\n",
       "\n",
       "    .dataframe tbody tr th {\n",
       "        vertical-align: top;\n",
       "    }\n",
       "\n",
       "    .dataframe thead th {\n",
       "        text-align: right;\n",
       "    }\n",
       "</style>\n",
       "<table border=\"1\" class=\"dataframe\">\n",
       "  <thead>\n",
       "    <tr style=\"text-align: right;\">\n",
       "      <th></th>\n",
       "      <th>date</th>\n",
       "      <th>revenue</th>\n",
       "      <th>orders</th>\n",
       "    </tr>\n",
       "  </thead>\n",
       "  <tbody>\n",
       "    <tr>\n",
       "      <th>33</th>\n",
       "      <td>2019-08-17</td>\n",
       "      <td>2620790</td>\n",
       "      <td>373</td>\n",
       "    </tr>\n",
       "    <tr>\n",
       "      <th>35</th>\n",
       "      <td>2019-08-18</td>\n",
       "      <td>2686621</td>\n",
       "      <td>382</td>\n",
       "    </tr>\n",
       "    <tr>\n",
       "      <th>37</th>\n",
       "      <td>2019-08-19</td>\n",
       "      <td>4116541</td>\n",
       "      <td>403</td>\n",
       "    </tr>\n",
       "    <tr>\n",
       "      <th>39</th>\n",
       "      <td>2019-08-20</td>\n",
       "      <td>4263815</td>\n",
       "      <td>423</td>\n",
       "    </tr>\n",
       "    <tr>\n",
       "      <th>41</th>\n",
       "      <td>2019-08-21</td>\n",
       "      <td>4426892</td>\n",
       "      <td>437</td>\n",
       "    </tr>\n",
       "  </tbody>\n",
       "</table>\n",
       "</div>"
      ],
      "text/plain": [
       "         date  revenue  orders\n",
       "33 2019-08-17  2620790     373\n",
       "35 2019-08-18  2686621     382\n",
       "37 2019-08-19  4116541     403\n",
       "39 2019-08-20  4263815     423\n",
       "41 2019-08-21  4426892     437"
      ]
     },
     "execution_count": 25,
     "metadata": {},
     "output_type": "execute_result"
    }
   ],
   "source": [
    "cumulativeRevenueB.query(' \"2019-08-17\" <= date <= \"2019-08-21\" ')"
   ]
  },
  {
   "cell_type": "code",
   "execution_count": 26,
   "metadata": {},
   "outputs": [
    {
     "name": "stdout",
     "output_type": "stream",
     "text": [
      "Медианное значение одного заказа 19 августа = 2630.0\n"
     ]
    },
    {
     "data": {
      "text/html": [
       "<div>\n",
       "<style scoped>\n",
       "    .dataframe tbody tr th:only-of-type {\n",
       "        vertical-align: middle;\n",
       "    }\n",
       "\n",
       "    .dataframe tbody tr th {\n",
       "        vertical-align: top;\n",
       "    }\n",
       "\n",
       "    .dataframe thead th {\n",
       "        text-align: right;\n",
       "    }\n",
       "</style>\n",
       "<table border=\"1\" class=\"dataframe\">\n",
       "  <thead>\n",
       "    <tr style=\"text-align: right;\">\n",
       "      <th></th>\n",
       "      <th>transactionId</th>\n",
       "      <th>visitorId</th>\n",
       "      <th>date</th>\n",
       "      <th>revenue</th>\n",
       "      <th>group</th>\n",
       "    </tr>\n",
       "  </thead>\n",
       "  <tbody>\n",
       "    <tr>\n",
       "      <th>425</th>\n",
       "      <td>590470918</td>\n",
       "      <td>1920142716</td>\n",
       "      <td>2019-08-19</td>\n",
       "      <td>1294500</td>\n",
       "      <td>B</td>\n",
       "    </tr>\n",
       "    <tr>\n",
       "      <th>530</th>\n",
       "      <td>3970235543</td>\n",
       "      <td>2912540959</td>\n",
       "      <td>2019-08-19</td>\n",
       "      <td>43990</td>\n",
       "      <td>A</td>\n",
       "    </tr>\n",
       "    <tr>\n",
       "      <th>527</th>\n",
       "      <td>1570513684</td>\n",
       "      <td>2837914161</td>\n",
       "      <td>2019-08-19</td>\n",
       "      <td>33405</td>\n",
       "      <td>B</td>\n",
       "    </tr>\n",
       "    <tr>\n",
       "      <th>421</th>\n",
       "      <td>3765974140</td>\n",
       "      <td>1357170471</td>\n",
       "      <td>2019-08-19</td>\n",
       "      <td>31680</td>\n",
       "      <td>A</td>\n",
       "    </tr>\n",
       "    <tr>\n",
       "      <th>461</th>\n",
       "      <td>2683113224</td>\n",
       "      <td>154576532</td>\n",
       "      <td>2019-08-19</td>\n",
       "      <td>26550</td>\n",
       "      <td>B</td>\n",
       "    </tr>\n",
       "    <tr>\n",
       "      <th>525</th>\n",
       "      <td>3031564664</td>\n",
       "      <td>393266494</td>\n",
       "      <td>2019-08-19</td>\n",
       "      <td>21550</td>\n",
       "      <td>A</td>\n",
       "    </tr>\n",
       "    <tr>\n",
       "      <th>368</th>\n",
       "      <td>3268879337</td>\n",
       "      <td>2536252163</td>\n",
       "      <td>2019-08-19</td>\n",
       "      <td>20026</td>\n",
       "      <td>B</td>\n",
       "    </tr>\n",
       "    <tr>\n",
       "      <th>366</th>\n",
       "      <td>2037051350</td>\n",
       "      <td>1957949546</td>\n",
       "      <td>2019-08-19</td>\n",
       "      <td>16770</td>\n",
       "      <td>A</td>\n",
       "    </tr>\n",
       "    <tr>\n",
       "      <th>463</th>\n",
       "      <td>4170537404</td>\n",
       "      <td>290022471</td>\n",
       "      <td>2019-08-19</td>\n",
       "      <td>16480</td>\n",
       "      <td>B</td>\n",
       "    </tr>\n",
       "    <tr>\n",
       "      <th>531</th>\n",
       "      <td>4016435970</td>\n",
       "      <td>4017075195</td>\n",
       "      <td>2019-08-19</td>\n",
       "      <td>13390</td>\n",
       "      <td>A</td>\n",
       "    </tr>\n",
       "  </tbody>\n",
       "</table>\n",
       "</div>"
      ],
      "text/plain": [
       "     transactionId   visitorId       date  revenue group\n",
       "425      590470918  1920142716 2019-08-19  1294500     B\n",
       "530     3970235543  2912540959 2019-08-19    43990     A\n",
       "527     1570513684  2837914161 2019-08-19    33405     B\n",
       "421     3765974140  1357170471 2019-08-19    31680     A\n",
       "461     2683113224   154576532 2019-08-19    26550     B\n",
       "525     3031564664   393266494 2019-08-19    21550     A\n",
       "368     3268879337  2536252163 2019-08-19    20026     B\n",
       "366     2037051350  1957949546 2019-08-19    16770     A\n",
       "463     4170537404   290022471 2019-08-19    16480     B\n",
       "531     4016435970  4017075195 2019-08-19    13390     A"
      ]
     },
     "execution_count": 26,
     "metadata": {},
     "output_type": "execute_result"
    }
   ],
   "source": [
    "print('Медианное значение одного заказа 19 августа =',orders.query(' date == \"2019-08-19\" ')['revenue'].median())\n",
    "orders.query(' date == \"2019-08-19\" ').sort_values(by='revenue', ascending=False).head(10)"
   ]
  },
  {
   "cell_type": "markdown",
   "metadata": {},
   "source": [
    "*В таблице есть один заказ №425 на ~1,3млн в группе \"B\" 19 августа (в 492 раза больше медианы=2630 за этот день) в то время как остальные заказы не больше 44 тысяч . Поскольку этот заказ один, то его в принципе можно считать выбросом и при дальнейшем анализе это надо учитывать.*"
   ]
  },
  {
   "cell_type": "markdown",
   "metadata": {},
   "source": [
    "### 3.2 График кумулятивного среднего чека"
   ]
  },
  {
   "cell_type": "code",
   "execution_count": 27,
   "metadata": {},
   "outputs": [
    {
     "data": {
      "image/png": "[encoded data removed]",
      "text/plain": [
       "<Figure size 1080x360 with 1 Axes>"
      ]
     },
     "metadata": {
      "needs_background": "light"
     },
     "output_type": "display_data"
    }
   ],
   "source": [
    "plt.figure(figsize=(15,5))\n",
    "plt.grid()\n",
    "plt.plot(cumulativeRevenueA['date'], cumulativeRevenueA['revenue']/cumulativeRevenueA['orders'], label='средний кумулятивный чек группы A')\n",
    "plt.plot(cumulativeRevenueB['date'], cumulativeRevenueB['revenue']/cumulativeRevenueB['orders'], label='средний кумулятивный чек группы B')\n",
    "plt.legend()\n",
    "plt.title('График кумулятивного среденго чека групп \"B\" и \"А\"')\n",
    "plt.show()"
   ]
  },
  {
   "cell_type": "markdown",
   "metadata": {},
   "source": [
    "*Данный график похож с графиком кум.выручки. В первой половине в группе \"B\" чек преимущественно больше, но есть даты где и наоборот - чек больше в \"A\" - это 1 августа и 12-14 августа. Далее чек группы \"B\" резко начинает расти. Но также на графике видно сильное влияние на ср.чек огромного заказа №425, кстати после этого заказа (19 августа) средний чек в \"B\" постепенно начинает снижаться, в то время как в \"A\" он с 18 августа постепенно начинает расти.*"
   ]
  },
  {
   "cell_type": "markdown",
   "metadata": {},
   "source": [
    "### 3.3 График относительного изменения кумулятивного среднего чека"
   ]
  },
  {
   "cell_type": "code",
   "execution_count": 28,
   "metadata": {},
   "outputs": [
    {
     "data": {
      "image/png": "[encoded data removed]",
      "text/plain": [
       "<Figure size 1080x360 with 1 Axes>"
      ]
     },
     "metadata": {
      "needs_background": "light"
     },
     "output_type": "display_data"
    }
   ],
   "source": [
    "mergedCumulativeRevenue = cumulativeRevenueA.merge(cumulativeRevenueB, left_on='date', right_on='date', how='left', suffixes=['A', 'B'])\n",
    "\n",
    "plt.figure(figsize=(15,5))\n",
    "plt.grid()\n",
    "plt.plot(mergedCumulativeRevenue['date'], (mergedCumulativeRevenue['revenueB']/mergedCumulativeRevenue['ordersB'])/ \\\n",
    "         (mergedCumulativeRevenue['revenueA']/mergedCumulativeRevenue['ordersA'])-1)\n",
    "plt.title('Относительное изменение кумулятивного среднего чека групп \"B\" к \"А\"')\n",
    "plt.axhline(y=0, color='black', linestyle='--') \n",
    "plt.show();"
   ]
  },
  {
   "cell_type": "markdown",
   "metadata": {},
   "source": [
    "*Средний чек \"B\" рос с 1 августа, 2 августа уже превысил \"A\" и рос до 7 августа. 7-8 начал падать до 13 августа, при этом 3 дня 12-14 акгуста средний чек \"A\" был больше \"B\". С 13 чек \"B\" опять начал расти и 15 августа  чек \"B\" стал больше и находился больше \"A\" до конца месяца. Опять же хорошо видно, что 19 августа был сильный всплеск за счет заказа №425 , а после средний чек \"B\" также начал снижаться.*"
   ]
  },
  {
   "cell_type": "markdown",
   "metadata": {},
   "source": [
    "### 3.4 График кумулятивной конверсии"
   ]
  },
  {
   "cell_type": "code",
   "execution_count": 29,
   "metadata": {},
   "outputs": [
    {
     "data": {
      "image/png": "[encoded data removed]",
      "text/plain": [
       "<Figure size 1080x360 with 1 Axes>"
      ]
     },
     "metadata": {
      "needs_background": "light"
     },
     "output_type": "display_data"
    }
   ],
   "source": [
    "cumulativeData['conversion'] = cumulativeData['orders']/cumulativeData['visitors']\n",
    "\n",
    "cumulativeDataA = cumulativeData[cumulativeData['group']=='A']\n",
    "cumulativeDataB = cumulativeData[cumulativeData['group']=='B']\n",
    "\n",
    "plt.figure(figsize=(15,5))\n",
    "plt.grid()\n",
    "plt.plot(cumulativeDataA['date'], cumulativeDataA['conversion'], label='кумулятивная конверсия A')\n",
    "plt.plot(cumulativeDataB['date'], cumulativeDataB['conversion'], label='кумулятивная конверсия B')\n",
    "plt.title('Кумулятивная конверсия')\n",
    "plt.legend()\n",
    "plt.show();\n"
   ]
  },
  {
   "cell_type": "markdown",
   "metadata": {},
   "source": [
    "*С 1-6 августа конверсия \"A\" была больше \"В\". Начиная с 6 августа и до конца месяца конверсия \"В\" преобладает над \"А\". При этом \"В\" в большей части находился в длиапазоне от 0.033-0.036, а \"А\"  от 0.031- 0.030 и ниже. Можно сделать вывод - конверсия группы \"B\" в целом значительно больше \"A\".*"
   ]
  },
  {
   "cell_type": "markdown",
   "metadata": {},
   "source": [
    "### 3.5 График относительного изменения кумулятивной конверсии"
   ]
  },
  {
   "cell_type": "code",
   "execution_count": 30,
   "metadata": {},
   "outputs": [
    {
     "data": {
      "image/png": "[encoded data removed]",
      "text/plain": [
       "<Figure size 1080x360 with 1 Axes>"
      ]
     },
     "metadata": {
      "needs_background": "light"
     },
     "output_type": "display_data"
    }
   ],
   "source": [
    "mergedCumulativeConversions = cumulativeDataA[['date','conversion']].merge(cumulativeDataB[['date','conversion']], \\\n",
    "                                                    left_on='date', right_on='date', how='left', suffixes=['A', 'B'])\n",
    "plt.figure(figsize=(15,5))\n",
    "plt.grid()\n",
    "plt.plot(mergedCumulativeConversions['date'], mergedCumulativeConversions['conversionB']/mergedCumulativeConversions['conversionA']-1, label=\"Относительный прирост конверсии группы B относительно группы A\")\n",
    "\n",
    "plt.title('Относительное изменение кумулятивной конверсии группы B к группе A')\n",
    "\n",
    "plt.axhline(y=0, color='black', linestyle='--') \n",
    "plt.axhline(y=0.1, color='grey', linestyle='--')\n",
    "plt.axhline(y=0.21, color='grey', linestyle='--')\n",
    "plt.axhline(y=0.057, color='grey', linestyle='--')\n",
    "plt.show();"
   ]
  },
  {
   "cell_type": "markdown",
   "metadata": {},
   "source": [
    "*Данный график похож на график 3.4, то выводы будут схожи. С 1 по 5 августа - несколько дней когда конверсия в \"A\" была больше на 5-10%; но исключение в этот период это 2 августа - был  рост конверсии в группе \"B\" и по итогу дня результат \"B\" был на 5% больше \"A\". Начиная с 6 августа группа \"B\" лидировала до конца периода; её конверсия росла до 15 августа и разница с \"A\" на максимуме составила 21%, затем пошло постепенное снижение отностельной конверсии до 10%-14%.*"
   ]
  },
  {
   "cell_type": "markdown",
   "metadata": {},
   "source": [
    "### 3.6 График количества заказов по пользователям"
   ]
  },
  {
   "cell_type": "code",
   "execution_count": 31,
   "metadata": {},
   "outputs": [
    {
     "data": {
      "text/html": [
       "<div>\n",
       "<style scoped>\n",
       "    .dataframe tbody tr th:only-of-type {\n",
       "        vertical-align: middle;\n",
       "    }\n",
       "\n",
       "    .dataframe tbody tr th {\n",
       "        vertical-align: top;\n",
       "    }\n",
       "\n",
       "    .dataframe thead th {\n",
       "        text-align: right;\n",
       "    }\n",
       "</style>\n",
       "<table border=\"1\" class=\"dataframe\">\n",
       "  <thead>\n",
       "    <tr style=\"text-align: right;\">\n",
       "      <th></th>\n",
       "      <th>user_id</th>\n",
       "      <th>orders</th>\n",
       "    </tr>\n",
       "  </thead>\n",
       "  <tbody>\n",
       "    <tr>\n",
       "      <th>1023</th>\n",
       "      <td>4256040402</td>\n",
       "      <td>11</td>\n",
       "    </tr>\n",
       "    <tr>\n",
       "      <th>591</th>\n",
       "      <td>2458001652</td>\n",
       "      <td>11</td>\n",
       "    </tr>\n",
       "    <tr>\n",
       "      <th>569</th>\n",
       "      <td>2378935119</td>\n",
       "      <td>9</td>\n",
       "    </tr>\n",
       "    <tr>\n",
       "      <th>487</th>\n",
       "      <td>2038680547</td>\n",
       "      <td>8</td>\n",
       "    </tr>\n",
       "    <tr>\n",
       "      <th>44</th>\n",
       "      <td>199603092</td>\n",
       "      <td>5</td>\n",
       "    </tr>\n",
       "    <tr>\n",
       "      <th>744</th>\n",
       "      <td>3062433592</td>\n",
       "      <td>5</td>\n",
       "    </tr>\n",
       "    <tr>\n",
       "      <th>55</th>\n",
       "      <td>237748145</td>\n",
       "      <td>5</td>\n",
       "    </tr>\n",
       "    <tr>\n",
       "      <th>917</th>\n",
       "      <td>3803269165</td>\n",
       "      <td>5</td>\n",
       "    </tr>\n",
       "    <tr>\n",
       "      <th>299</th>\n",
       "      <td>1230306981</td>\n",
       "      <td>5</td>\n",
       "    </tr>\n",
       "    <tr>\n",
       "      <th>897</th>\n",
       "      <td>3717692402</td>\n",
       "      <td>5</td>\n",
       "    </tr>\n",
       "  </tbody>\n",
       "</table>\n",
       "</div>"
      ],
      "text/plain": [
       "         user_id  orders\n",
       "1023  4256040402      11\n",
       "591   2458001652      11\n",
       "569   2378935119       9\n",
       "487   2038680547       8\n",
       "44     199603092       5\n",
       "744   3062433592       5\n",
       "55     237748145       5\n",
       "917   3803269165       5\n",
       "299   1230306981       5\n",
       "897   3717692402       5"
      ]
     },
     "execution_count": 31,
     "metadata": {},
     "output_type": "execute_result"
    }
   ],
   "source": [
    "ordersByUsers = orders.drop(['group', 'revenue', 'date'], axis=1).groupby('visitorId', as_index=False). \\\n",
    "                                                                        agg({'transactionId' : pd.Series.nunique})\n",
    "\n",
    "ordersByUsers.columns = ['user_id','orders']\n",
    "\n",
    "ordersByUsers.sort_values(by='orders',ascending=False).head(10)"
   ]
  },
  {
   "cell_type": "code",
   "execution_count": 32,
   "metadata": {},
   "outputs": [
    {
     "data": {
      "image/png": "[encoded data removed]",
      "text/plain": [
       "<Figure size 1080x360 with 1 Axes>"
      ]
     },
     "metadata": {
      "needs_background": "light"
     },
     "output_type": "display_data"
    }
   ],
   "source": [
    "x_values = pd.Series(range(0,len(ordersByUsers)))\n",
    "\n",
    "plt.figure(figsize=(15,5))\n",
    "plt.grid()\n",
    "plt.title('График количества заказов по пользователям')\n",
    "plt.scatter(x_values, ordersByUsers['orders'], alpha=0.5) ;"
   ]
  },
  {
   "cell_type": "markdown",
   "metadata": {},
   "source": [
    "*Больше всего пользователей совершили 1 заказ. Тех кто совершили 2 заказа уже намного меньше. И уже те кто совершил 3 заказа и более только уменьшается. Можно предположить что выше 3 заказов это аномалия.*"
   ]
  },
  {
   "cell_type": "markdown",
   "metadata": {},
   "source": [
    "### 3.7 Граница заказов для определения аномальных пользователей"
   ]
  },
  {
   "cell_type": "code",
   "execution_count": 33,
   "metadata": {},
   "outputs": [
    {
     "name": "stdout",
     "output_type": "stream",
     "text": [
      "Рассчитаем 95 и 99 перцентили по заказам :  [2. 4.]\n"
     ]
    }
   ],
   "source": [
    "print('Рассчитаем 95 и 99 перцентили по заказам : ', np.percentile(ordersByUsers['orders'], [95, 99])) "
   ]
  },
  {
   "cell_type": "code",
   "execution_count": 34,
   "metadata": {},
   "outputs": [
    {
     "name": "stdout",
     "output_type": "stream",
     "text": [
      "перцентили c 95 по 99 (по заказам) :  [2. 2. 2. 3. 4.]\n"
     ]
    }
   ],
   "source": [
    "print('перцентили c 95 по 99 (по заказам) : ', np.percentile(ordersByUsers['orders'], [95,96,97,98, 99]))"
   ]
  },
  {
   "cell_type": "markdown",
   "metadata": {},
   "source": [
    "*Большинство пользователей (98%) делают 1 или 2 заказа. Всё что выше - это аномалия*"
   ]
  },
  {
   "cell_type": "markdown",
   "metadata": {},
   "source": [
    "### 3.8 График стоимостей заказов"
   ]
  },
  {
   "cell_type": "code",
   "execution_count": 35,
   "metadata": {},
   "outputs": [
    {
     "data": {
      "image/png": "[encoded data removed]",
      "text/plain": [
       "<Figure size 1080x360 with 1 Axes>"
      ]
     },
     "metadata": {
      "needs_background": "light"
     },
     "output_type": "display_data"
    }
   ],
   "source": [
    "x_values = pd.Series(range(0,len(orders['revenue'])))\n",
    "plt.figure(figsize=(15,5))\n",
    "plt.grid()\n",
    "plt.title('График стоимостей заказов')\n",
    "plt.scatter(x_values, orders['revenue'], alpha=0.5);"
   ]
  },
  {
   "cell_type": "code",
   "execution_count": 36,
   "metadata": {},
   "outputs": [
    {
     "data": {
      "image/png": "[encoded data removed]",
      "text/plain": [
       "<Figure size 1080x360 with 1 Axes>"
      ]
     },
     "metadata": {
      "needs_background": "light"
     },
     "output_type": "display_data"
    }
   ],
   "source": [
    "norm_orders = orders[orders['revenue']<=195000]['revenue']\n",
    "xn_values = pd.Series(range(0,len(norm_orders)))\n",
    "plt.figure(figsize=(15,5))\n",
    "plt.grid()\n",
    "plt.title('График стоимостей заказов')\n",
    "plt.scatter(xn_values, norm_orders, alpha=0.5);"
   ]
  },
  {
   "cell_type": "markdown",
   "metadata": {},
   "source": [
    "*На графике виден тот самый аномальный заказ №425 (1.3 млн) и еще один на ~200 тысяц, остальные примерно не больше 100 тысяч.*"
   ]
  },
  {
   "cell_type": "markdown",
   "metadata": {},
   "source": [
    "### 3.9 Граница для определения аномальных заказов (по выручке)"
   ]
  },
  {
   "cell_type": "code",
   "execution_count": 37,
   "metadata": {},
   "outputs": [
    {
     "name": "stdout",
     "output_type": "stream",
     "text": [
      "Рассчитаем 95 и 99 перцентили по выручке заказов :  [28000.  58233.2]\n"
     ]
    }
   ],
   "source": [
    "print('Рассчитаем 95 и 99 перцентили по выручке заказов : ', np.percentile(orders['revenue'], [95, 99]))"
   ]
  },
  {
   "cell_type": "markdown",
   "metadata": {},
   "source": [
    "*99% заказов меньше суммы 58233.2, установим ее в качестве границы выбросов*"
   ]
  },
  {
   "cell_type": "markdown",
   "metadata": {},
   "source": [
    "### 3.10 Различия в конверсии между группами по «сырым» данным"
   ]
  },
  {
   "cell_type": "code",
   "execution_count": 38,
   "metadata": {},
   "outputs": [
    {
     "data": {
      "text/html": [
       "<div>\n",
       "<style scoped>\n",
       "    .dataframe tbody tr th:only-of-type {\n",
       "        vertical-align: middle;\n",
       "    }\n",
       "\n",
       "    .dataframe tbody tr th {\n",
       "        vertical-align: top;\n",
       "    }\n",
       "\n",
       "    .dataframe thead th {\n",
       "        text-align: right;\n",
       "    }\n",
       "</style>\n",
       "<table border=\"1\" class=\"dataframe\">\n",
       "  <thead>\n",
       "    <tr style=\"text-align: right;\">\n",
       "      <th></th>\n",
       "      <th>date</th>\n",
       "      <th>group</th>\n",
       "      <th>visitors</th>\n",
       "    </tr>\n",
       "  </thead>\n",
       "  <tbody>\n",
       "    <tr>\n",
       "      <th>0</th>\n",
       "      <td>2019-08-01</td>\n",
       "      <td>A</td>\n",
       "      <td>719</td>\n",
       "    </tr>\n",
       "    <tr>\n",
       "      <th>1</th>\n",
       "      <td>2019-08-02</td>\n",
       "      <td>A</td>\n",
       "      <td>619</td>\n",
       "    </tr>\n",
       "    <tr>\n",
       "      <th>2</th>\n",
       "      <td>2019-08-03</td>\n",
       "      <td>A</td>\n",
       "      <td>507</td>\n",
       "    </tr>\n",
       "    <tr>\n",
       "      <th>3</th>\n",
       "      <td>2019-08-04</td>\n",
       "      <td>A</td>\n",
       "      <td>717</td>\n",
       "    </tr>\n",
       "    <tr>\n",
       "      <th>4</th>\n",
       "      <td>2019-08-05</td>\n",
       "      <td>A</td>\n",
       "      <td>756</td>\n",
       "    </tr>\n",
       "  </tbody>\n",
       "</table>\n",
       "</div>"
      ],
      "text/plain": [
       "        date group  visitors\n",
       "0 2019-08-01     A       719\n",
       "1 2019-08-02     A       619\n",
       "2 2019-08-03     A       507\n",
       "3 2019-08-04     A       717\n",
       "4 2019-08-05     A       756"
      ]
     },
     "execution_count": 38,
     "metadata": {},
     "output_type": "execute_result"
    }
   ],
   "source": [
    "visitors.head()"
   ]
  },
  {
   "cell_type": "code",
   "execution_count": 39,
   "metadata": {},
   "outputs": [
    {
     "data": {
      "text/html": [
       "<div>\n",
       "<style scoped>\n",
       "    .dataframe tbody tr th:only-of-type {\n",
       "        vertical-align: middle;\n",
       "    }\n",
       "\n",
       "    .dataframe tbody tr th {\n",
       "        vertical-align: top;\n",
       "    }\n",
       "\n",
       "    .dataframe thead th {\n",
       "        text-align: right;\n",
       "    }\n",
       "</style>\n",
       "<table border=\"1\" class=\"dataframe\">\n",
       "  <thead>\n",
       "    <tr style=\"text-align: right;\">\n",
       "      <th></th>\n",
       "      <th>transactionId</th>\n",
       "      <th>visitorId</th>\n",
       "      <th>date</th>\n",
       "      <th>revenue</th>\n",
       "      <th>group</th>\n",
       "    </tr>\n",
       "  </thead>\n",
       "  <tbody>\n",
       "    <tr>\n",
       "      <th>0</th>\n",
       "      <td>3667963787</td>\n",
       "      <td>3312258926</td>\n",
       "      <td>2019-08-15</td>\n",
       "      <td>1650</td>\n",
       "      <td>B</td>\n",
       "    </tr>\n",
       "    <tr>\n",
       "      <th>1</th>\n",
       "      <td>2804400009</td>\n",
       "      <td>3642806036</td>\n",
       "      <td>2019-08-15</td>\n",
       "      <td>730</td>\n",
       "      <td>B</td>\n",
       "    </tr>\n",
       "    <tr>\n",
       "      <th>2</th>\n",
       "      <td>2961555356</td>\n",
       "      <td>4069496402</td>\n",
       "      <td>2019-08-15</td>\n",
       "      <td>400</td>\n",
       "      <td>A</td>\n",
       "    </tr>\n",
       "    <tr>\n",
       "      <th>3</th>\n",
       "      <td>3797467345</td>\n",
       "      <td>1196621759</td>\n",
       "      <td>2019-08-15</td>\n",
       "      <td>9759</td>\n",
       "      <td>B</td>\n",
       "    </tr>\n",
       "    <tr>\n",
       "      <th>4</th>\n",
       "      <td>2282983706</td>\n",
       "      <td>2322279887</td>\n",
       "      <td>2019-08-15</td>\n",
       "      <td>2308</td>\n",
       "      <td>B</td>\n",
       "    </tr>\n",
       "  </tbody>\n",
       "</table>\n",
       "</div>"
      ],
      "text/plain": [
       "   transactionId   visitorId       date  revenue group\n",
       "0     3667963787  3312258926 2019-08-15     1650     B\n",
       "1     2804400009  3642806036 2019-08-15      730     B\n",
       "2     2961555356  4069496402 2019-08-15      400     A\n",
       "3     3797467345  1196621759 2019-08-15     9759     B\n",
       "4     2282983706  2322279887 2019-08-15     2308     B"
      ]
     },
     "execution_count": 39,
     "metadata": {},
     "output_type": "execute_result"
    }
   ],
   "source": [
    "orders.head()"
   ]
  },
  {
   "cell_type": "code",
   "execution_count": 40,
   "metadata": {},
   "outputs": [],
   "source": [
    "# Соберем все данные по заказам и визитам (а также добавим кумулятивные показатели) в одну таблицу\n",
    "visitorsADaily = visitors[visitors['group']=='A'][['date', 'visitors']]\n",
    "visitorsADaily.columns = ['date', 'visitorsPerDateA']\n",
    "\n",
    "visitorsACummulative = visitorsADaily.apply(lambda x: visitorsADaily[visitorsADaily['date'] <= x['date']]. \\\n",
    "                                            agg({'date' : 'max', 'visitorsPerDateA' : 'sum'}), axis=1)\n",
    "visitorsACummulative.columns = ['date', 'visitorsCummulativeA']\n",
    "\n",
    "visitorsBDaily = visitors[visitors['group']=='B'][['date', 'visitors']]\n",
    "visitorsBDaily.columns = ['date', 'visitorsPerDateB']\n",
    "\n",
    "visitorsBCummulative = visitorsBDaily.apply(lambda x: visitorsBDaily[visitorsBDaily['date'] <= x['date']]. \\\n",
    "                                            agg({'date' : 'max', 'visitorsPerDateB' : 'sum'}), axis=1)\n",
    "visitorsBCummulative.columns = ['date', 'visitorsCummulativeB']\n",
    "\n",
    "\n",
    "ordersADaily = orders[orders['group']=='A'][['date', 'transactionId', 'visitorId', 'revenue']]\\\n",
    "    .groupby('date', as_index=False)\\\n",
    "    .agg({'transactionId' : pd.Series.nunique, 'revenue' : 'sum'})\n",
    "ordersADaily.columns = ['date', 'ordersPerDateA', 'revenuePerDateA']\n",
    "\n",
    "ordersACummulative = ordersADaily.apply(\n",
    "    lambda x: \\\n",
    "        ordersADaily[ordersADaily['date'] <= x['date']]\\\n",
    "            .agg({\n",
    "                'date' : 'max',\n",
    "                'ordersPerDateA' : 'sum',\n",
    "                'revenuePerDateA' : 'sum'}), axis=1).sort_values(by=['date'])\n",
    "ordersACummulative.columns = ['date', 'ordersCummulativeA', 'revenueCummulativeA']\n",
    "\n",
    "ordersBDaily = orders[orders['group']=='B'][['date', 'transactionId', 'visitorId', 'revenue']]\\\n",
    "    .groupby('date', as_index=False)\\\n",
    "    .agg({'transactionId' : pd.Series.nunique, 'revenue' : 'sum'})\n",
    "ordersBDaily.columns = ['date', 'ordersPerDateB', 'revenuePerDateB']\n",
    "\n",
    "ordersBCummulative = ordersBDaily.apply(\n",
    "    lambda x: \\\n",
    "        ordersBDaily[ordersBDaily['date'] <= x['date']]\\\n",
    "            .agg({\n",
    "                'date' : 'max',\n",
    "                'ordersPerDateB' : 'sum',\n",
    "                'revenuePerDateB' : 'sum'}), axis=1).sort_values(by=['date'])\n",
    "ordersBCummulative.columns = ['date', 'ordersCummulativeB', 'revenueCummulativeB']"
   ]
  },
  {
   "cell_type": "code",
   "execution_count": 41,
   "metadata": {},
   "outputs": [
    {
     "data": {
      "text/html": [
       "<div>\n",
       "<style scoped>\n",
       "    .dataframe tbody tr th:only-of-type {\n",
       "        vertical-align: middle;\n",
       "    }\n",
       "\n",
       "    .dataframe tbody tr th {\n",
       "        vertical-align: top;\n",
       "    }\n",
       "\n",
       "    .dataframe thead th {\n",
       "        text-align: right;\n",
       "    }\n",
       "</style>\n",
       "<table border=\"1\" class=\"dataframe\">\n",
       "  <thead>\n",
       "    <tr style=\"text-align: right;\">\n",
       "      <th></th>\n",
       "      <th>date</th>\n",
       "      <th>ordersPerDateA</th>\n",
       "      <th>revenuePerDateA</th>\n",
       "      <th>ordersPerDateB</th>\n",
       "      <th>revenuePerDateB</th>\n",
       "      <th>ordersCummulativeA</th>\n",
       "      <th>revenueCummulativeA</th>\n",
       "      <th>ordersCummulativeB</th>\n",
       "      <th>revenueCummulativeB</th>\n",
       "      <th>visitorsPerDateA</th>\n",
       "      <th>visitorsPerDateB</th>\n",
       "      <th>visitorsCummulativeA</th>\n",
       "      <th>visitorsCummulativeB</th>\n",
       "    </tr>\n",
       "  </thead>\n",
       "  <tbody>\n",
       "    <tr>\n",
       "      <th>0</th>\n",
       "      <td>2019-08-01</td>\n",
       "      <td>24</td>\n",
       "      <td>148579</td>\n",
       "      <td>21</td>\n",
       "      <td>101217</td>\n",
       "      <td>24</td>\n",
       "      <td>148579</td>\n",
       "      <td>21</td>\n",
       "      <td>101217</td>\n",
       "      <td>719</td>\n",
       "      <td>713</td>\n",
       "      <td>719</td>\n",
       "      <td>713</td>\n",
       "    </tr>\n",
       "    <tr>\n",
       "      <th>1</th>\n",
       "      <td>2019-08-02</td>\n",
       "      <td>20</td>\n",
       "      <td>93822</td>\n",
       "      <td>24</td>\n",
       "      <td>165531</td>\n",
       "      <td>44</td>\n",
       "      <td>242401</td>\n",
       "      <td>45</td>\n",
       "      <td>266748</td>\n",
       "      <td>619</td>\n",
       "      <td>581</td>\n",
       "      <td>1338</td>\n",
       "      <td>1294</td>\n",
       "    </tr>\n",
       "    <tr>\n",
       "      <th>2</th>\n",
       "      <td>2019-08-03</td>\n",
       "      <td>24</td>\n",
       "      <td>112473</td>\n",
       "      <td>16</td>\n",
       "      <td>114248</td>\n",
       "      <td>68</td>\n",
       "      <td>354874</td>\n",
       "      <td>61</td>\n",
       "      <td>380996</td>\n",
       "      <td>507</td>\n",
       "      <td>509</td>\n",
       "      <td>1845</td>\n",
       "      <td>1803</td>\n",
       "    </tr>\n",
       "    <tr>\n",
       "      <th>3</th>\n",
       "      <td>2019-08-04</td>\n",
       "      <td>16</td>\n",
       "      <td>70825</td>\n",
       "      <td>17</td>\n",
       "      <td>108571</td>\n",
       "      <td>84</td>\n",
       "      <td>425699</td>\n",
       "      <td>78</td>\n",
       "      <td>489567</td>\n",
       "      <td>717</td>\n",
       "      <td>770</td>\n",
       "      <td>2562</td>\n",
       "      <td>2573</td>\n",
       "    </tr>\n",
       "    <tr>\n",
       "      <th>4</th>\n",
       "      <td>2019-08-05</td>\n",
       "      <td>25</td>\n",
       "      <td>124218</td>\n",
       "      <td>23</td>\n",
       "      <td>92428</td>\n",
       "      <td>109</td>\n",
       "      <td>549917</td>\n",
       "      <td>101</td>\n",
       "      <td>581995</td>\n",
       "      <td>756</td>\n",
       "      <td>707</td>\n",
       "      <td>3318</td>\n",
       "      <td>3280</td>\n",
       "    </tr>\n",
       "  </tbody>\n",
       "</table>\n",
       "</div>"
      ],
      "text/plain": [
       "        date  ordersPerDateA  revenuePerDateA  ordersPerDateB  \\\n",
       "0 2019-08-01              24           148579              21   \n",
       "1 2019-08-02              20            93822              24   \n",
       "2 2019-08-03              24           112473              16   \n",
       "3 2019-08-04              16            70825              17   \n",
       "4 2019-08-05              25           124218              23   \n",
       "\n",
       "   revenuePerDateB  ordersCummulativeA  revenueCummulativeA  \\\n",
       "0           101217                  24               148579   \n",
       "1           165531                  44               242401   \n",
       "2           114248                  68               354874   \n",
       "3           108571                  84               425699   \n",
       "4            92428                 109               549917   \n",
       "\n",
       "   ordersCummulativeB  revenueCummulativeB  visitorsPerDateA  \\\n",
       "0                  21               101217               719   \n",
       "1                  45               266748               619   \n",
       "2                  61               380996               507   \n",
       "3                  78               489567               717   \n",
       "4                 101               581995               756   \n",
       "\n",
       "   visitorsPerDateB  visitorsCummulativeA  visitorsCummulativeB  \n",
       "0               713                   719                   713  \n",
       "1               581                  1338                  1294  \n",
       "2               509                  1845                  1803  \n",
       "3               770                  2562                  2573  \n",
       "4               707                  3318                  3280  "
      ]
     },
     "execution_count": 41,
     "metadata": {},
     "output_type": "execute_result"
    }
   ],
   "source": [
    "data = ordersADaily.merge(ordersBDaily, left_on='date', right_on='date', how='left')\\\n",
    "    .merge(ordersACummulative, left_on='date', right_on='date', how='left')\\\n",
    "    .merge(ordersBCummulative, left_on='date', right_on='date', how='left')\\\n",
    "    .merge(visitorsADaily, left_on='date', right_on='date', how='left')\\\n",
    "    .merge(visitorsBDaily, left_on='date', right_on='date', how='left')\\\n",
    "    .merge(visitorsACummulative, left_on='date', right_on='date', how='left')\\\n",
    "    .merge(visitorsBCummulative, left_on='date', right_on='date', how='left')\n",
    "data.head()"
   ]
  },
  {
   "cell_type": "markdown",
   "metadata": {},
   "source": [
    "**Применим критерий и отформатируем p-value, округлив его до трёх знаков после запятой. В sampleA сохраним выборку, где каждый элемент — число заказов определённого пользователя, в том числе 0. Значит, число элементов sampleA — это количество пользователей, сумма всех элементов — количество заказов. Чтобы получить конверсию в группе, поделим сумму заказов на число пользователей — найдём среднее в выборке sampleA методом mean(). Аналогично найдём конверсию группы B: SampleB.mean().\n",
    "Выведем относительный прирост конверсии группы B: конверсия группы B / конверсия группы A - 1. Округлим до трёх знаков после запятой (пороговое значение возьмём равное 5%).**\n",
    "\n",
    "**За нулевую гипотезу возьмём что: \"статистически значимых различий в конверсии между группами нет\"; тогда альтернативная гипотеза будет гласить - статистически значимые различия есть.**"
   ]
  },
  {
   "cell_type": "code",
   "execution_count": 42,
   "metadata": {},
   "outputs": [
    {
     "name": "stdout",
     "output_type": "stream",
     "text": [
      "alpha = 0.05\n",
      "p-value = 0.017\n",
      "Относительный показатель 'B' и 'A' = 0.138\n"
     ]
    }
   ],
   "source": [
    "ordersByUsersA = orders[orders['group']=='A'].groupby('visitorId', as_index=False).agg({'transactionId' : pd.Series.nunique})\n",
    "ordersByUsersA.columns = ['userId', 'orders']\n",
    "\n",
    "ordersByUsersB = orders[orders['group']=='B'].groupby('visitorId', as_index=False).agg({'transactionId' : pd.Series.nunique})\n",
    "ordersByUsersB.columns = ['userId', 'orders']\n",
    "\n",
    "sampleA = pd.concat([ordersByUsersA['orders'],pd.Series(0, index=np.arange(data['visitorsPerDateA'].sum() - len(ordersByUsersA['orders'])), name='orders')],axis=0)\n",
    "\n",
    "sampleB = pd.concat([ordersByUsersB['orders'],pd.Series(0, index=np.arange(data['visitorsPerDateB'].sum() - len(ordersByUsersB['orders'])), name='orders')],axis=0)\n",
    "\n",
    "print(\"alpha =\",0.05)\n",
    "print(\"p-value = {0:.3f}\".format(stats.mannwhitneyu(sampleA, sampleB, alternative = 'two-sided')[1]))\n",
    "print(\"Относительный показатель 'B' и 'A' = {0:.3f}\".format(sampleB.mean()/sampleA.mean()-1)) "
   ]
  },
  {
   "cell_type": "markdown",
   "metadata": {},
   "source": [
    "*Вывод: p-value = 0.017 меньше 0.05. Значит, нулевую гипотезу о том, что статистически значимых различий в конверсии между группами нет, - отвергаем.Получается: по «сырым» данным различия в конверсии групп A и B есть. А относительный выигрыш группы \"B\" над \"A\" равен 13.8% .*"
   ]
  },
  {
   "cell_type": "markdown",
   "metadata": {},
   "source": [
    "### 3.11 Статистическая значимость различий в среднем чеке заказа между группами по «сырым» данным"
   ]
  },
  {
   "cell_type": "markdown",
   "metadata": {},
   "source": [
    "Чтобы рассчитать статистическую значимость различий в среднем чеке между группами, передадим критерию mannwhitneyu() данные о выручке с заказов (пороговое значение возьмём равное 5%). И найдём относительные различия в среднем чеке между группами.\n",
    "\n",
    "За нулевую гипотезу возьмём что: \"статистически значимых различий в средних чеках между группами нет\"; тогда альтернативная гипотеза будет гласить - статистически значимые различия есть."
   ]
  },
  {
   "cell_type": "code",
   "execution_count": 43,
   "metadata": {},
   "outputs": [
    {
     "name": "stdout",
     "output_type": "stream",
     "text": [
      "alpha = 0.05\n",
      "p-value = 0.729\n",
      "Относительный показатель 'B' и 'A' = 0.259\n"
     ]
    }
   ],
   "source": [
    "print(\"alpha =\",0.05)\n",
    "print(\"p-value = {0:.3f}\".format(stats.mannwhitneyu(orders[orders['group']=='A']['revenue'], orders[orders['group']=='B']['revenue'], alternative = 'two-sided')[1]))\n",
    "print(\"Относительный показатель 'B' и 'A' = {0:.3f}\".format(orders[orders['group']=='B']['revenue'].mean()/orders[orders['group']=='A']['revenue'].mean()-1)) "
   ]
  },
  {
   "cell_type": "markdown",
   "metadata": {},
   "source": [
    "*P-value значительно больше 0.05. Значит, мы не можем отвергать нулевую гипотезу. То есть средние чеки по \"сырым\" данным схожи. И при этом, средний чек группы B значительно выше среднего чека группы A (на 26%).*"
   ]
  },
  {
   "cell_type": "markdown",
   "metadata": {},
   "source": [
    "### 3.12 Различия в конверсии между группами по «очищенным» данным"
   ]
  },
  {
   "cell_type": "markdown",
   "metadata": {},
   "source": [
    "Вспомним - из предыдущих пунктов мы приняли за аномальных пользователей тех, кто совершил 3 и больше заказов или совершил заказ дороже 58233.2 рублей. Сделаем срезы пользователей с числом заказов больше 2 — usersWithManyOrders и пользователей, совершивших заказы дороже 58233.2 — usersWithExpensiveOrders. Объединим их в таблице abnormalUsers. Узнаем, сколько всего аномальных пользователей методом shape()."
   ]
  },
  {
   "cell_type": "code",
   "execution_count": 44,
   "metadata": {},
   "outputs": [
    {
     "name": "stdout",
     "output_type": "stream",
     "text": [
      "1099    148427295\n",
      "18      199603092\n",
      "23      237748145\n",
      "37      249864742\n",
      "68      457167155\n",
      "dtype: int64\n",
      "Всего 'ненормальных' пользователей = 31\n"
     ]
    }
   ],
   "source": [
    "usersWithManyOrders = pd.concat([ordersByUsersA[ordersByUsersA['orders'] > 2]['userId'], ordersByUsersB[ordersByUsersB['orders'] > 2]['userId']], axis = 0)\n",
    "usersWithExpensiveOrders = orders[orders['revenue'] > 58233.2]['visitorId']\n",
    "abnormalUsers = pd.concat([usersWithManyOrders, usersWithExpensiveOrders], axis = 0).drop_duplicates().sort_values()\n",
    "print(abnormalUsers.head(5))\n",
    "print(\"Всего 'ненормальных' пользователей =\" ,len(abnormalUsers)) "
   ]
  },
  {
   "cell_type": "markdown",
   "metadata": {},
   "source": [
    "Узнаем, как их действия повлияли на результаты теста. Посчитаем статистическую значимость различий в конверсии между группами теста по очищенным данным. Сначала подготовим выборки количества заказов по пользователям по группам теста:"
   ]
  },
  {
   "cell_type": "code",
   "execution_count": 45,
   "metadata": {},
   "outputs": [],
   "source": [
    "sampleAFiltered = pd.concat([ordersByUsersA[np.logical_not(ordersByUsersA['userId'].isin(abnormalUsers))]['orders'], \\\n",
    "                             pd.Series(0, index=np.arange(data['visitorsPerDateA'].sum() - len(ordersByUsersA['orders'])), \\\n",
    "                                       name='orders')],axis=0)\n",
    "\n",
    "sampleBFiltered = pd.concat([ordersByUsersB[np.logical_not(ordersByUsersB['userId'].isin(abnormalUsers))]['orders'], \\\n",
    "                             pd.Series(0, index=np.arange(data['visitorsPerDateB'].sum() - len(ordersByUsersB['orders'])), \\\n",
    "                                       name='orders')],axis=0) \n"
   ]
  },
  {
   "cell_type": "markdown",
   "metadata": {},
   "source": [
    "Применим статистический критерий Манна-Уитни к полученным выборкам,\n",
    "\n",
    "За нулевую гипотезу возьмём что: \"статистически значимых различий в конверсии между группами нет\"; тогда альтернативная гипотеза будет гласить - статистически значимые различия есть."
   ]
  },
  {
   "cell_type": "code",
   "execution_count": 46,
   "metadata": {},
   "outputs": [
    {
     "name": "stdout",
     "output_type": "stream",
     "text": [
      "alpha = 0.05\n",
      "p-value = 0.010\n",
      "Относительный показатель 'B' и 'A' = 0.174\n"
     ]
    }
   ],
   "source": [
    "print(\"alpha =\",0.05)\n",
    "print(\"p-value = {0:.3f}\".format(stats.mannwhitneyu(sampleAFiltered, sampleBFiltered, alternative = 'two-sided')[1]))\n",
    "print(\"Относительный показатель 'B' и 'A' = {0:.3f}\".format(sampleBFiltered.mean()/sampleAFiltered.mean()-1)) "
   ]
  },
  {
   "cell_type": "markdown",
   "metadata": {},
   "source": [
    "*Вывод: p-value = 0.01 меньше 0.05. Значит, нулевую гипотезу  - отвергаем. Это значит: что по «очищенным» данным различия в конверсии групп A и B есть. А относительный выигрыш группы \"B\" над \"A\" равен 17,4% (выше, чем с «сырыми» данными - 13.8%) .*"
   ]
  },
  {
   "cell_type": "markdown",
   "metadata": {},
   "source": [
    "### 3.13 Статистическая значимость различий в среднем чеке заказа между группами по «очищенным» данным"
   ]
  },
  {
   "cell_type": "markdown",
   "metadata": {},
   "source": [
    "А теперь п     осмотрим произошло ли что-нибудь с результатами по среднему чеку?\n",
    "\n",
    "За нулевую гипотезу возьмём что: \"статистически значимых различий в средних чеках между группами нет\"; тогда альтернативная гипотеза будет гласить - статистически значимые различия есть."
   ]
  },
  {
   "cell_type": "code",
   "execution_count": 47,
   "metadata": {},
   "outputs": [
    {
     "name": "stdout",
     "output_type": "stream",
     "text": [
      "alpha = 0.05\n",
      "p-value = 0.798\n",
      "Относительный показатель 'B' и 'A' = -0.020\n"
     ]
    }
   ],
   "source": [
    "print(\"alpha =\",0.05)\n",
    "print(\"p-value = {0:.3f}\".format(stats.mannwhitneyu(\n",
    "    orders[np.logical_and(\n",
    "        orders['group']=='A',\n",
    "        np.logical_not(orders['visitorId'].isin(abnormalUsers)))]['revenue'],\n",
    "    orders[np.logical_and(\n",
    "        orders['group']=='B',\n",
    "        np.logical_not(orders['visitorId'].isin(abnormalUsers)))]['revenue'], alternative = 'two-sided')[1]))\n",
    "\n",
    "print(\"Относительный показатель 'B' и 'A' = {0:.3f}\".format(\n",
    "    orders[np.logical_and(orders['group']=='B',np.logical_not(orders['visitorId'].isin(abnormalUsers)))]['revenue'].mean()/\n",
    "    orders[np.logical_and(\n",
    "        orders['group']=='A',\n",
    "        np.logical_not(orders['visitorId'].isin(abnormalUsers)))]['revenue'].mean() - 1)) "
   ]
  },
  {
   "cell_type": "markdown",
   "metadata": {},
   "source": [
    "*P-value значительно больше 0.05. Значит, причин отвергать нулевую гипотезу нет (как и с \"Сырыми\" данными). А вот средний чек группы B оказался незначительно (на 2%) ниже среднего чека группы A, в то время как по \"сырым\" данным, он был больше аж на ~26%, - и всё это из-за одного того самого аномального заказа №425 на 1,3 млн !*"
   ]
  },
  {
   "cell_type": "markdown",
   "metadata": {},
   "source": [
    "### 3.14 Решение по результатам теста"
   ]
  },
  {
   "cell_type": "markdown",
   "metadata": {},
   "source": [
    "## По результатам тестирования было выявлено:"
   ]
  },
  {
   "cell_type": "markdown",
   "metadata": {},
   "source": [
    "- Есть различия в конверсии групп A и B есть по \"сырым\" и \"очищенным\" данным. Относительный выигрыш группы \"B\" над \"A\" равен 17,4% по \"очищенным\" и 13.8% по \"сырым\" данным.\n",
    "\n",
    "- По \"сырым\" и \"очищенным\" данным различия в средних чеках групп A и B отстутствуют, несмотря на то, что средний чек группы B оказался незначительно (на 2%) ниже среднего чека группы A по \"очищенным\" данным, в то время как по \"сырым\" данным, он был больше аж на 26%, - и всё это из-за аномального заказа №425 на 1,3 млн. Всё логично аномальный заказ убрали и чеки сравнялись.\n",
    "\n",
    "*В итоге можно принять решение остановить тестирование и констатировать победу группы B : группа B значительно лучше  группы A по конверсии, хотя по среднему чеку группы примерно равны.*"
   ]
  }
 ],
 "metadata": {
  "ExecuteTimeLog": [
   {
    "duration": 863,
    "start_time": "2023-04-13T08:07:24.317Z"
   },
   {
    "duration": 1949,
    "start_time": "2023-04-13T08:25:26.970Z"
   },
   {
    "duration": 247,
    "start_time": "2023-04-13T08:25:35.413Z"
   },
   {
    "duration": 14,
    "start_time": "2023-04-13T08:29:46.653Z"
   },
   {
    "duration": 19,
    "start_time": "2023-04-13T08:30:03.123Z"
   },
   {
    "duration": 11,
    "start_time": "2023-04-13T08:38:06.025Z"
   },
   {
    "duration": 8,
    "start_time": "2023-04-13T08:38:16.114Z"
   },
   {
    "duration": 16,
    "start_time": "2023-04-13T08:38:40.263Z"
   },
   {
    "duration": 11,
    "start_time": "2023-04-13T08:39:03.929Z"
   },
   {
    "duration": 277,
    "start_time": "2023-04-13T08:39:16.235Z"
   },
   {
    "duration": 20,
    "start_time": "2023-04-13T08:39:41.572Z"
   },
   {
    "duration": 10,
    "start_time": "2023-04-13T08:39:52.929Z"
   },
   {
    "duration": 9,
    "start_time": "2023-04-13T08:40:05.134Z"
   },
   {
    "duration": 8,
    "start_time": "2023-04-13T08:40:33.213Z"
   },
   {
    "duration": 11,
    "start_time": "2023-04-13T08:41:21.632Z"
   },
   {
    "duration": 8,
    "start_time": "2023-04-13T08:41:29.075Z"
   },
   {
    "duration": 6,
    "start_time": "2023-04-13T08:41:41.122Z"
   },
   {
    "duration": 1281,
    "start_time": "2023-04-13T08:41:51.046Z"
   },
   {
    "duration": 786,
    "start_time": "2023-04-13T08:42:07.058Z"
   },
   {
    "duration": 2183,
    "start_time": "2023-04-13T08:42:49.718Z"
   },
   {
    "duration": 11,
    "start_time": "2023-04-13T08:42:59.914Z"
   },
   {
    "duration": 1645,
    "start_time": "2023-04-13T08:43:14.994Z"
   },
   {
    "duration": 1287,
    "start_time": "2023-04-13T08:44:01.274Z"
   },
   {
    "duration": 9,
    "start_time": "2023-04-13T08:44:21.936Z"
   },
   {
    "duration": 1507,
    "start_time": "2023-04-13T08:44:37.275Z"
   },
   {
    "duration": 84,
    "start_time": "2023-04-13T08:44:38.785Z"
   },
   {
    "duration": 16,
    "start_time": "2023-04-13T08:44:38.871Z"
   },
   {
    "duration": 37,
    "start_time": "2023-04-13T08:44:38.889Z"
   },
   {
    "duration": 21,
    "start_time": "2023-04-13T08:44:38.930Z"
   },
   {
    "duration": 32,
    "start_time": "2023-04-13T08:44:38.953Z"
   },
   {
    "duration": 25,
    "start_time": "2023-04-13T08:44:38.987Z"
   },
   {
    "duration": 41,
    "start_time": "2023-04-13T08:44:39.014Z"
   },
   {
    "duration": 38,
    "start_time": "2023-04-13T08:44:39.057Z"
   },
   {
    "duration": 25,
    "start_time": "2023-04-13T08:44:39.097Z"
   },
   {
    "duration": 8,
    "start_time": "2023-04-13T08:44:39.124Z"
   },
   {
    "duration": 8,
    "start_time": "2023-04-13T08:44:39.134Z"
   },
   {
    "duration": 12,
    "start_time": "2023-04-13T08:44:39.144Z"
   },
   {
    "duration": 30,
    "start_time": "2023-04-13T08:44:39.160Z"
   },
   {
    "duration": 12,
    "start_time": "2023-04-13T08:44:39.192Z"
   },
   {
    "duration": 15,
    "start_time": "2023-04-13T08:44:39.205Z"
   },
   {
    "duration": 10,
    "start_time": "2023-04-13T08:44:39.222Z"
   },
   {
    "duration": 12,
    "start_time": "2023-04-13T08:44:54.877Z"
   },
   {
    "duration": 10,
    "start_time": "2023-04-13T08:45:11.720Z"
   },
   {
    "duration": 9,
    "start_time": "2023-04-13T08:45:26.747Z"
   },
   {
    "duration": 3,
    "start_time": "2023-04-13T08:45:42.755Z"
   },
   {
    "duration": 6,
    "start_time": "2023-04-13T08:45:45.841Z"
   },
   {
    "duration": 9,
    "start_time": "2023-04-13T08:46:25.202Z"
   },
   {
    "duration": 9,
    "start_time": "2023-04-13T08:46:28.517Z"
   },
   {
    "duration": 10,
    "start_time": "2023-04-13T09:08:30.480Z"
   },
   {
    "duration": 6,
    "start_time": "2023-04-13T09:08:47.209Z"
   },
   {
    "duration": 12,
    "start_time": "2023-04-13T09:08:53.834Z"
   },
   {
    "duration": 4,
    "start_time": "2023-04-13T09:09:24.720Z"
   },
   {
    "duration": 11,
    "start_time": "2023-04-13T09:10:55.270Z"
   },
   {
    "duration": 12,
    "start_time": "2023-04-13T09:31:35.334Z"
   },
   {
    "duration": 11,
    "start_time": "2023-04-13T09:31:53.662Z"
   },
   {
    "duration": 8,
    "start_time": "2023-04-13T09:32:46.938Z"
   },
   {
    "duration": 15,
    "start_time": "2023-04-13T09:33:06.323Z"
   },
   {
    "duration": 25,
    "start_time": "2023-04-13T09:33:31.200Z"
   },
   {
    "duration": 5,
    "start_time": "2023-04-13T09:33:40.950Z"
   },
   {
    "duration": 292,
    "start_time": "2023-04-13T09:33:56.438Z"
   },
   {
    "duration": 317,
    "start_time": "2023-04-13T09:34:33.103Z"
   },
   {
    "duration": 312,
    "start_time": "2023-04-13T09:34:49.929Z"
   },
   {
    "duration": 15,
    "start_time": "2023-04-13T09:59:04.431Z"
   },
   {
    "duration": 19,
    "start_time": "2023-04-13T09:59:22.534Z"
   },
   {
    "duration": 246,
    "start_time": "2023-04-13T10:00:06.773Z"
   },
   {
    "duration": 320,
    "start_time": "2023-04-13T10:02:09.110Z"
   },
   {
    "duration": 258,
    "start_time": "2023-04-13T10:02:50.243Z"
   },
   {
    "duration": 348,
    "start_time": "2023-04-13T10:03:23.371Z"
   },
   {
    "duration": 134,
    "start_time": "2023-04-13T10:03:58.849Z"
   },
   {
    "duration": 142,
    "start_time": "2023-04-13T10:04:07.211Z"
   },
   {
    "duration": 6,
    "start_time": "2023-04-13T10:04:44.734Z"
   },
   {
    "duration": 5,
    "start_time": "2023-04-13T10:04:56.273Z"
   },
   {
    "duration": 159,
    "start_time": "2023-04-13T10:05:24.609Z"
   },
   {
    "duration": 193,
    "start_time": "2023-04-13T10:05:37.710Z"
   },
   {
    "duration": 5,
    "start_time": "2023-04-13T10:06:45.507Z"
   },
   {
    "duration": 8,
    "start_time": "2023-04-13T10:07:22.471Z"
   },
   {
    "duration": 9,
    "start_time": "2023-04-13T10:07:30.712Z"
   },
   {
    "duration": 290,
    "start_time": "2023-04-13T10:07:43.674Z"
   },
   {
    "duration": 29,
    "start_time": "2023-04-13T10:08:18.112Z"
   },
   {
    "duration": 184,
    "start_time": "2023-04-13T10:08:51.132Z"
   },
   {
    "duration": 8,
    "start_time": "2023-04-13T10:09:21.928Z"
   },
   {
    "duration": 13,
    "start_time": "2023-04-13T12:34:35.011Z"
   },
   {
    "duration": 13,
    "start_time": "2023-04-13T12:35:26.607Z"
   },
   {
    "duration": 8,
    "start_time": "2023-04-13T12:35:52.346Z"
   },
   {
    "duration": 25,
    "start_time": "2023-04-13T12:36:11.337Z"
   },
   {
    "duration": 85,
    "start_time": "2023-04-13T12:36:20.060Z"
   },
   {
    "duration": 15,
    "start_time": "2023-04-13T12:37:01.001Z"
   },
   {
    "duration": 120,
    "start_time": "2023-04-13T12:37:42.603Z"
   },
   {
    "duration": 82,
    "start_time": "2023-04-18T05:53:57.597Z"
   },
   {
    "duration": 8,
    "start_time": "2023-04-18T05:54:03.707Z"
   },
   {
    "duration": 1278,
    "start_time": "2023-04-18T05:54:11.790Z"
   },
   {
    "duration": 200,
    "start_time": "2023-04-18T05:54:13.070Z"
   },
   {
    "duration": 13,
    "start_time": "2023-04-18T05:54:13.271Z"
   },
   {
    "duration": 13,
    "start_time": "2023-04-18T05:54:13.286Z"
   },
   {
    "duration": 17,
    "start_time": "2023-04-18T05:54:13.301Z"
   },
   {
    "duration": 16,
    "start_time": "2023-04-18T05:54:13.320Z"
   },
   {
    "duration": 17,
    "start_time": "2023-04-18T05:54:13.338Z"
   },
   {
    "duration": 16,
    "start_time": "2023-04-18T05:54:13.357Z"
   },
   {
    "duration": 11,
    "start_time": "2023-04-18T05:54:13.374Z"
   },
   {
    "duration": 18,
    "start_time": "2023-04-18T05:54:13.387Z"
   },
   {
    "duration": 6,
    "start_time": "2023-04-18T05:54:13.406Z"
   },
   {
    "duration": 24,
    "start_time": "2023-04-18T05:54:13.413Z"
   },
   {
    "duration": 22,
    "start_time": "2023-04-18T05:54:13.439Z"
   },
   {
    "duration": 4,
    "start_time": "2023-04-18T05:54:13.465Z"
   },
   {
    "duration": 25,
    "start_time": "2023-04-18T05:54:13.470Z"
   },
   {
    "duration": 9,
    "start_time": "2023-04-18T05:54:13.496Z"
   },
   {
    "duration": 11,
    "start_time": "2023-04-18T05:54:13.506Z"
   },
   {
    "duration": 17,
    "start_time": "2023-04-18T05:54:13.519Z"
   },
   {
    "duration": 7,
    "start_time": "2023-04-18T05:54:13.538Z"
   },
   {
    "duration": 14,
    "start_time": "2023-04-18T05:54:13.547Z"
   },
   {
    "duration": 40,
    "start_time": "2023-04-18T05:54:13.562Z"
   },
   {
    "duration": 18,
    "start_time": "2023-04-18T05:54:13.603Z"
   },
   {
    "duration": 12,
    "start_time": "2023-04-18T05:54:13.622Z"
   },
   {
    "duration": 9,
    "start_time": "2023-04-18T05:54:13.636Z"
   },
   {
    "duration": 7,
    "start_time": "2023-04-18T05:54:13.646Z"
   },
   {
    "duration": 31,
    "start_time": "2023-04-18T05:54:13.655Z"
   },
   {
    "duration": 17,
    "start_time": "2023-04-18T05:54:13.688Z"
   },
   {
    "duration": 4,
    "start_time": "2023-04-18T05:54:13.706Z"
   },
   {
    "duration": 299,
    "start_time": "2023-04-18T05:54:13.712Z"
   },
   {
    "duration": 292,
    "start_time": "2023-04-18T05:54:14.013Z"
   },
   {
    "duration": 11,
    "start_time": "2023-04-18T05:54:14.308Z"
   },
   {
    "duration": 20,
    "start_time": "2023-04-18T05:54:14.321Z"
   },
   {
    "duration": 225,
    "start_time": "2023-04-18T05:54:14.342Z"
   },
   {
    "duration": 353,
    "start_time": "2023-04-18T05:54:14.569Z"
   },
   {
    "duration": 238,
    "start_time": "2023-04-18T05:54:14.924Z"
   },
   {
    "duration": 319,
    "start_time": "2023-04-18T05:54:15.163Z"
   },
   {
    "duration": 147,
    "start_time": "2023-04-18T05:54:15.483Z"
   },
   {
    "duration": 160,
    "start_time": "2023-04-18T05:54:15.632Z"
   },
   {
    "duration": 4,
    "start_time": "2023-04-18T05:54:15.794Z"
   },
   {
    "duration": 5,
    "start_time": "2023-04-18T05:54:15.800Z"
   },
   {
    "duration": 179,
    "start_time": "2023-04-18T05:54:15.810Z"
   },
   {
    "duration": 194,
    "start_time": "2023-04-18T05:54:15.991Z"
   },
   {
    "duration": 5,
    "start_time": "2023-04-18T05:54:16.186Z"
   },
   {
    "duration": 15,
    "start_time": "2023-04-18T05:54:16.192Z"
   },
   {
    "duration": 17,
    "start_time": "2023-04-18T05:54:16.209Z"
   },
   {
    "duration": 281,
    "start_time": "2023-04-18T05:54:16.228Z"
   },
   {
    "duration": 27,
    "start_time": "2023-04-18T05:54:16.511Z"
   },
   {
    "duration": 179,
    "start_time": "2023-04-18T05:54:16.540Z"
   },
   {
    "duration": 5,
    "start_time": "2023-04-18T05:54:16.721Z"
   },
   {
    "duration": 25,
    "start_time": "2023-04-18T05:54:16.728Z"
   },
   {
    "duration": 8,
    "start_time": "2023-04-18T05:54:16.759Z"
   },
   {
    "duration": 7,
    "start_time": "2023-04-18T05:54:16.769Z"
   },
   {
    "duration": 28,
    "start_time": "2023-04-18T05:54:16.777Z"
   },
   {
    "duration": 13,
    "start_time": "2023-04-18T05:54:16.806Z"
   },
   {
    "duration": 10,
    "start_time": "2023-04-18T05:54:28.069Z"
   },
   {
    "duration": 11,
    "start_time": "2023-04-18T05:54:37.965Z"
   },
   {
    "duration": 12,
    "start_time": "2023-04-18T05:54:46.244Z"
   },
   {
    "duration": 11,
    "start_time": "2023-04-18T05:54:53.101Z"
   },
   {
    "duration": 11,
    "start_time": "2023-04-18T05:54:59.981Z"
   },
   {
    "duration": 9,
    "start_time": "2023-04-18T06:34:21.186Z"
   },
   {
    "duration": 10,
    "start_time": "2023-04-18T06:34:21.874Z"
   },
   {
    "duration": 8,
    "start_time": "2023-04-18T06:34:25.379Z"
   },
   {
    "duration": 9,
    "start_time": "2023-04-18T06:34:53.219Z"
   },
   {
    "duration": 48,
    "start_time": "2023-04-19T11:17:21.488Z"
   },
   {
    "duration": 1306,
    "start_time": "2023-04-19T11:17:34.693Z"
   },
   {
    "duration": 204,
    "start_time": "2023-04-19T11:17:36.001Z"
   },
   {
    "duration": 13,
    "start_time": "2023-04-19T11:17:36.207Z"
   },
   {
    "duration": 23,
    "start_time": "2023-04-19T11:17:36.222Z"
   },
   {
    "duration": 12,
    "start_time": "2023-04-19T11:17:36.247Z"
   },
   {
    "duration": 21,
    "start_time": "2023-04-19T11:17:36.260Z"
   },
   {
    "duration": 33,
    "start_time": "2023-04-19T11:17:36.283Z"
   },
   {
    "duration": 27,
    "start_time": "2023-04-19T11:17:36.318Z"
   },
   {
    "duration": 35,
    "start_time": "2023-04-19T11:17:36.347Z"
   },
   {
    "duration": 15,
    "start_time": "2023-04-19T11:17:36.383Z"
   },
   {
    "duration": 29,
    "start_time": "2023-04-19T11:17:36.400Z"
   },
   {
    "duration": 19,
    "start_time": "2023-04-19T11:17:36.432Z"
   },
   {
    "duration": 14,
    "start_time": "2023-04-19T11:17:36.452Z"
   },
   {
    "duration": 21,
    "start_time": "2023-04-19T11:17:36.469Z"
   },
   {
    "duration": 26,
    "start_time": "2023-04-19T11:17:36.492Z"
   },
   {
    "duration": 18,
    "start_time": "2023-04-19T11:17:36.520Z"
   },
   {
    "duration": 16,
    "start_time": "2023-04-19T11:17:36.540Z"
   },
   {
    "duration": 28,
    "start_time": "2023-04-19T11:17:36.557Z"
   },
   {
    "duration": 14,
    "start_time": "2023-04-19T11:17:36.586Z"
   },
   {
    "duration": 22,
    "start_time": "2023-04-19T11:17:36.601Z"
   },
   {
    "duration": 19,
    "start_time": "2023-04-19T11:17:36.625Z"
   },
   {
    "duration": 24,
    "start_time": "2023-04-19T11:17:36.646Z"
   },
   {
    "duration": 10,
    "start_time": "2023-04-19T11:17:36.672Z"
   },
   {
    "duration": 34,
    "start_time": "2023-04-19T11:17:36.684Z"
   },
   {
    "duration": 22,
    "start_time": "2023-04-19T11:17:36.720Z"
   },
   {
    "duration": 7,
    "start_time": "2023-04-19T11:17:36.743Z"
   },
   {
    "duration": 297,
    "start_time": "2023-04-19T11:17:36.751Z"
   },
   {
    "duration": 295,
    "start_time": "2023-04-19T11:17:37.051Z"
   },
   {
    "duration": 16,
    "start_time": "2023-04-19T11:17:37.348Z"
   },
   {
    "duration": 16,
    "start_time": "2023-04-19T11:17:37.365Z"
   },
   {
    "duration": 281,
    "start_time": "2023-04-19T11:17:37.382Z"
   },
   {
    "duration": 346,
    "start_time": "2023-04-19T11:17:37.665Z"
   },
   {
    "duration": 237,
    "start_time": "2023-04-19T11:17:38.013Z"
   },
   {
    "duration": 353,
    "start_time": "2023-04-19T11:17:38.251Z"
   },
   {
    "duration": 127,
    "start_time": "2023-04-19T11:17:38.606Z"
   },
   {
    "duration": 154,
    "start_time": "2023-04-19T11:17:38.735Z"
   },
   {
    "duration": 5,
    "start_time": "2023-04-19T11:17:38.890Z"
   },
   {
    "duration": 14,
    "start_time": "2023-04-19T11:17:38.896Z"
   },
   {
    "duration": 164,
    "start_time": "2023-04-19T11:17:38.911Z"
   },
   {
    "duration": 175,
    "start_time": "2023-04-19T11:17:39.077Z"
   },
   {
    "duration": 5,
    "start_time": "2023-04-19T11:17:39.256Z"
   },
   {
    "duration": 23,
    "start_time": "2023-04-19T11:17:39.263Z"
   },
   {
    "duration": 43,
    "start_time": "2023-04-19T11:17:39.288Z"
   },
   {
    "duration": 300,
    "start_time": "2023-04-19T11:17:39.333Z"
   },
   {
    "duration": 35,
    "start_time": "2023-04-19T11:17:39.635Z"
   },
   {
    "duration": 156,
    "start_time": "2023-04-19T11:17:39.672Z"
   },
   {
    "duration": 6,
    "start_time": "2023-04-19T11:17:39.829Z"
   },
   {
    "duration": 26,
    "start_time": "2023-04-19T11:17:39.837Z"
   },
   {
    "duration": 11,
    "start_time": "2023-04-19T11:17:39.865Z"
   },
   {
    "duration": 23,
    "start_time": "2023-04-19T11:17:39.878Z"
   },
   {
    "duration": 33,
    "start_time": "2023-04-19T11:17:39.903Z"
   },
   {
    "duration": 14,
    "start_time": "2023-04-19T11:17:39.938Z"
   },
   {
    "duration": 8,
    "start_time": "2023-04-19T11:18:11.975Z"
   },
   {
    "duration": 50,
    "start_time": "2023-04-23T07:08:36.229Z"
   },
   {
    "duration": 7,
    "start_time": "2023-04-23T07:08:41.489Z"
   },
   {
    "duration": 1526,
    "start_time": "2023-04-23T07:08:49.543Z"
   },
   {
    "duration": 258,
    "start_time": "2023-04-23T07:08:51.072Z"
   },
   {
    "duration": 14,
    "start_time": "2023-04-23T07:08:51.332Z"
   },
   {
    "duration": 18,
    "start_time": "2023-04-23T07:08:51.348Z"
   },
   {
    "duration": 17,
    "start_time": "2023-04-23T07:08:51.368Z"
   },
   {
    "duration": 16,
    "start_time": "2023-04-23T07:08:51.387Z"
   },
   {
    "duration": 29,
    "start_time": "2023-04-23T07:08:51.405Z"
   },
   {
    "duration": 22,
    "start_time": "2023-04-23T07:08:51.436Z"
   },
   {
    "duration": 40,
    "start_time": "2023-04-23T07:08:51.461Z"
   },
   {
    "duration": 15,
    "start_time": "2023-04-23T07:08:51.503Z"
   },
   {
    "duration": 27,
    "start_time": "2023-04-23T07:08:51.520Z"
   },
   {
    "duration": 32,
    "start_time": "2023-04-23T07:08:51.549Z"
   },
   {
    "duration": 18,
    "start_time": "2023-04-23T07:08:51.584Z"
   },
   {
    "duration": 15,
    "start_time": "2023-04-23T07:08:51.606Z"
   },
   {
    "duration": 35,
    "start_time": "2023-04-23T07:08:51.623Z"
   },
   {
    "duration": 16,
    "start_time": "2023-04-23T07:08:51.660Z"
   },
   {
    "duration": 28,
    "start_time": "2023-04-23T07:08:51.678Z"
   },
   {
    "duration": 13,
    "start_time": "2023-04-23T07:08:51.709Z"
   },
   {
    "duration": 17,
    "start_time": "2023-04-23T07:08:51.724Z"
   },
   {
    "duration": 19,
    "start_time": "2023-04-23T07:08:51.743Z"
   },
   {
    "duration": 37,
    "start_time": "2023-04-23T07:08:51.764Z"
   },
   {
    "duration": 14,
    "start_time": "2023-04-23T07:08:51.803Z"
   },
   {
    "duration": 390,
    "start_time": "2023-04-23T07:08:51.819Z"
   },
   {
    "duration": 424,
    "start_time": "2023-04-23T07:08:52.211Z"
   },
   {
    "duration": 13,
    "start_time": "2023-04-23T07:08:52.636Z"
   },
   {
    "duration": 38,
    "start_time": "2023-04-23T07:08:52.651Z"
   },
   {
    "duration": 278,
    "start_time": "2023-04-23T07:08:52.691Z"
   },
   {
    "duration": 385,
    "start_time": "2023-04-23T07:08:52.970Z"
   },
   {
    "duration": 258,
    "start_time": "2023-04-23T07:08:53.356Z"
   },
   {
    "duration": 315,
    "start_time": "2023-04-23T07:08:53.616Z"
   },
   {
    "duration": 150,
    "start_time": "2023-04-23T07:08:53.933Z"
   },
   {
    "duration": 178,
    "start_time": "2023-04-23T07:08:54.084Z"
   },
   {
    "duration": 5,
    "start_time": "2023-04-23T07:08:54.264Z"
   },
   {
    "duration": 18,
    "start_time": "2023-04-23T07:08:54.271Z"
   },
   {
    "duration": 173,
    "start_time": "2023-04-23T07:08:54.291Z"
   },
   {
    "duration": 225,
    "start_time": "2023-04-23T07:08:54.466Z"
   },
   {
    "duration": 4,
    "start_time": "2023-04-23T07:08:54.693Z"
   },
   {
    "duration": 21,
    "start_time": "2023-04-23T07:08:54.699Z"
   },
   {
    "duration": 26,
    "start_time": "2023-04-23T07:08:54.722Z"
   },
   {
    "duration": 292,
    "start_time": "2023-04-23T07:08:54.750Z"
   },
   {
    "duration": 42,
    "start_time": "2023-04-23T07:08:55.046Z"
   },
   {
    "duration": 188,
    "start_time": "2023-04-23T07:08:55.091Z"
   },
   {
    "duration": 7,
    "start_time": "2023-04-23T07:08:55.287Z"
   },
   {
    "duration": 18,
    "start_time": "2023-04-23T07:08:55.295Z"
   },
   {
    "duration": 10,
    "start_time": "2023-04-23T07:08:55.315Z"
   },
   {
    "duration": 11,
    "start_time": "2023-04-23T07:08:55.327Z"
   },
   {
    "duration": 51,
    "start_time": "2023-04-23T07:08:55.339Z"
   },
   {
    "duration": 18,
    "start_time": "2023-04-23T07:08:55.392Z"
   },
   {
    "duration": 16,
    "start_time": "2023-04-23T07:09:16.117Z"
   },
   {
    "duration": 9,
    "start_time": "2023-04-23T08:18:03.046Z"
   },
   {
    "duration": 11,
    "start_time": "2023-04-23T08:18:07.367Z"
   },
   {
    "duration": 34,
    "start_time": "2023-04-23T08:22:36.782Z"
   },
   {
    "duration": 9,
    "start_time": "2023-04-23T08:40:31.607Z"
   },
   {
    "duration": 9,
    "start_time": "2023-04-23T08:40:48.897Z"
   },
   {
    "duration": 1574,
    "start_time": "2023-04-23T11:28:54.588Z"
   },
   {
    "duration": 246,
    "start_time": "2023-04-23T11:28:56.164Z"
   },
   {
    "duration": 16,
    "start_time": "2023-04-23T11:28:56.412Z"
   },
   {
    "duration": 15,
    "start_time": "2023-04-23T11:28:56.431Z"
   },
   {
    "duration": 12,
    "start_time": "2023-04-23T11:28:56.448Z"
   },
   {
    "duration": 9,
    "start_time": "2023-04-23T11:28:56.463Z"
   },
   {
    "duration": 40,
    "start_time": "2023-04-23T11:28:56.473Z"
   },
   {
    "duration": 16,
    "start_time": "2023-04-23T11:28:56.516Z"
   },
   {
    "duration": 21,
    "start_time": "2023-04-23T11:28:56.535Z"
   },
   {
    "duration": 32,
    "start_time": "2023-04-23T11:28:56.559Z"
   },
   {
    "duration": 24,
    "start_time": "2023-04-23T11:28:56.592Z"
   },
   {
    "duration": 9,
    "start_time": "2023-04-23T11:28:56.619Z"
   },
   {
    "duration": 5,
    "start_time": "2023-04-23T11:28:56.631Z"
   },
   {
    "duration": 17,
    "start_time": "2023-04-23T11:28:56.638Z"
   },
   {
    "duration": 43,
    "start_time": "2023-04-23T11:28:56.656Z"
   },
   {
    "duration": 15,
    "start_time": "2023-04-23T11:28:56.701Z"
   },
   {
    "duration": 13,
    "start_time": "2023-04-23T11:28:56.718Z"
   },
   {
    "duration": 32,
    "start_time": "2023-04-23T11:28:56.734Z"
   },
   {
    "duration": 47,
    "start_time": "2023-04-23T11:28:56.768Z"
   },
   {
    "duration": 12,
    "start_time": "2023-04-23T11:28:56.818Z"
   },
   {
    "duration": 12,
    "start_time": "2023-04-23T11:28:56.833Z"
   },
   {
    "duration": 8,
    "start_time": "2023-04-23T11:28:56.847Z"
   },
   {
    "duration": 367,
    "start_time": "2023-04-23T11:28:56.857Z"
   },
   {
    "duration": 355,
    "start_time": "2023-04-23T11:28:57.226Z"
   },
   {
    "duration": 19,
    "start_time": "2023-04-23T11:28:57.583Z"
   },
   {
    "duration": 20,
    "start_time": "2023-04-23T11:28:57.607Z"
   },
   {
    "duration": 255,
    "start_time": "2023-04-23T11:28:57.630Z"
   },
   {
    "duration": 361,
    "start_time": "2023-04-23T11:28:57.889Z"
   },
   {
    "duration": 285,
    "start_time": "2023-04-23T11:28:58.252Z"
   },
   {
    "duration": 335,
    "start_time": "2023-04-23T11:28:58.539Z"
   },
   {
    "duration": 176,
    "start_time": "2023-04-23T11:28:58.876Z"
   },
   {
    "duration": 179,
    "start_time": "2023-04-23T11:28:59.054Z"
   },
   {
    "duration": 5,
    "start_time": "2023-04-23T11:28:59.235Z"
   },
   {
    "duration": 5,
    "start_time": "2023-04-23T11:28:59.242Z"
   },
   {
    "duration": 209,
    "start_time": "2023-04-23T11:28:59.248Z"
   },
   {
    "duration": 211,
    "start_time": "2023-04-23T11:28:59.459Z"
   },
   {
    "duration": 5,
    "start_time": "2023-04-23T11:28:59.672Z"
   },
   {
    "duration": 11,
    "start_time": "2023-04-23T11:28:59.679Z"
   },
   {
    "duration": 18,
    "start_time": "2023-04-23T11:28:59.692Z"
   },
   {
    "duration": 352,
    "start_time": "2023-04-23T11:28:59.713Z"
   },
   {
    "duration": 45,
    "start_time": "2023-04-23T11:29:00.067Z"
   },
   {
    "duration": 194,
    "start_time": "2023-04-23T11:29:00.114Z"
   },
   {
    "duration": 20,
    "start_time": "2023-04-23T11:29:00.316Z"
   },
   {
    "duration": 16,
    "start_time": "2023-04-23T11:29:00.338Z"
   },
   {
    "duration": 31,
    "start_time": "2023-04-23T11:29:00.356Z"
   },
   {
    "duration": 44,
    "start_time": "2023-04-23T11:29:00.394Z"
   },
   {
    "duration": 24,
    "start_time": "2023-04-23T11:29:00.440Z"
   },
   {
    "duration": 1544,
    "start_time": "2023-04-26T14:33:38.741Z"
   },
   {
    "duration": 246,
    "start_time": "2023-04-26T14:33:40.287Z"
   },
   {
    "duration": 14,
    "start_time": "2023-04-26T14:33:40.536Z"
   },
   {
    "duration": 49,
    "start_time": "2023-04-26T14:33:40.552Z"
   },
   {
    "duration": 39,
    "start_time": "2023-04-26T14:33:40.603Z"
   },
   {
    "duration": 20,
    "start_time": "2023-04-26T14:33:40.644Z"
   },
   {
    "duration": 32,
    "start_time": "2023-04-26T14:33:40.666Z"
   },
   {
    "duration": 36,
    "start_time": "2023-04-26T14:33:40.700Z"
   },
   {
    "duration": 35,
    "start_time": "2023-04-26T14:33:40.739Z"
   },
   {
    "duration": 6,
    "start_time": "2023-04-26T14:33:40.778Z"
   },
   {
    "duration": 21,
    "start_time": "2023-04-26T14:33:40.786Z"
   },
   {
    "duration": 38,
    "start_time": "2023-04-26T14:33:40.808Z"
   },
   {
    "duration": 16,
    "start_time": "2023-04-26T14:33:40.848Z"
   },
   {
    "duration": 26,
    "start_time": "2023-04-26T14:33:40.867Z"
   },
   {
    "duration": 20,
    "start_time": "2023-04-26T14:33:40.895Z"
   },
   {
    "duration": 29,
    "start_time": "2023-04-26T14:33:40.917Z"
   },
   {
    "duration": 16,
    "start_time": "2023-04-26T14:33:40.948Z"
   },
   {
    "duration": 9,
    "start_time": "2023-04-26T14:33:40.965Z"
   },
   {
    "duration": 14,
    "start_time": "2023-04-26T14:33:40.976Z"
   },
   {
    "duration": 34,
    "start_time": "2023-04-26T14:33:40.993Z"
   },
   {
    "duration": 39,
    "start_time": "2023-04-26T14:33:41.029Z"
   },
   {
    "duration": 13,
    "start_time": "2023-04-26T14:33:41.070Z"
   },
   {
    "duration": 406,
    "start_time": "2023-04-26T14:33:41.085Z"
   },
   {
    "duration": 370,
    "start_time": "2023-04-26T14:33:41.493Z"
   },
   {
    "duration": 10,
    "start_time": "2023-04-26T14:33:41.865Z"
   },
   {
    "duration": 89,
    "start_time": "2023-04-26T14:33:41.877Z"
   },
   {
    "duration": 286,
    "start_time": "2023-04-26T14:33:41.968Z"
   },
   {
    "duration": 449,
    "start_time": "2023-04-26T14:33:42.260Z"
   },
   {
    "duration": 330,
    "start_time": "2023-04-26T14:33:42.712Z"
   },
   {
    "duration": 348,
    "start_time": "2023-04-26T14:33:43.044Z"
   },
   {
    "duration": 188,
    "start_time": "2023-04-26T14:33:43.394Z"
   },
   {
    "duration": 190,
    "start_time": "2023-04-26T14:33:43.583Z"
   },
   {
    "duration": 5,
    "start_time": "2023-04-26T14:33:43.774Z"
   },
   {
    "duration": 18,
    "start_time": "2023-04-26T14:33:43.781Z"
   },
   {
    "duration": 251,
    "start_time": "2023-04-26T14:33:43.801Z"
   },
   {
    "duration": 241,
    "start_time": "2023-04-26T14:33:44.055Z"
   },
   {
    "duration": 4,
    "start_time": "2023-04-26T14:33:44.299Z"
   },
   {
    "duration": 59,
    "start_time": "2023-04-26T14:33:44.305Z"
   },
   {
    "duration": 31,
    "start_time": "2023-04-26T14:33:44.365Z"
   },
   {
    "duration": 331,
    "start_time": "2023-04-26T14:33:44.399Z"
   },
   {
    "duration": 34,
    "start_time": "2023-04-26T14:33:44.735Z"
   },
   {
    "duration": 203,
    "start_time": "2023-04-26T14:33:44.771Z"
   },
   {
    "duration": 11,
    "start_time": "2023-04-26T14:33:44.977Z"
   },
   {
    "duration": 55,
    "start_time": "2023-04-26T14:33:44.990Z"
   },
   {
    "duration": 28,
    "start_time": "2023-04-26T14:33:45.047Z"
   },
   {
    "duration": 84,
    "start_time": "2023-04-26T14:33:45.077Z"
   },
   {
    "duration": 23,
    "start_time": "2023-04-26T14:33:45.163Z"
   },
   {
    "duration": 14,
    "start_time": "2023-04-26T14:39:42.585Z"
   },
   {
    "duration": 259,
    "start_time": "2023-04-26T14:49:56.569Z"
   },
   {
    "duration": 227,
    "start_time": "2023-04-26T14:53:14.763Z"
   },
   {
    "duration": 225,
    "start_time": "2023-04-26T14:53:54.640Z"
   },
   {
    "duration": 259,
    "start_time": "2023-04-26T14:54:56.212Z"
   },
   {
    "duration": 275,
    "start_time": "2023-04-26T14:56:01.380Z"
   },
   {
    "duration": 343,
    "start_time": "2023-04-26T14:58:37.138Z"
   },
   {
    "duration": 367,
    "start_time": "2023-04-26T14:59:25.609Z"
   },
   {
    "duration": 1267,
    "start_time": "2023-04-26T15:07:19.690Z"
   },
   {
    "duration": 94,
    "start_time": "2023-04-26T15:07:20.960Z"
   },
   {
    "duration": 13,
    "start_time": "2023-04-26T15:07:21.055Z"
   },
   {
    "duration": 20,
    "start_time": "2023-04-26T15:07:21.070Z"
   },
   {
    "duration": 29,
    "start_time": "2023-04-26T15:07:21.092Z"
   },
   {
    "duration": 61,
    "start_time": "2023-04-26T15:07:21.123Z"
   },
   {
    "duration": 47,
    "start_time": "2023-04-26T15:07:21.186Z"
   },
   {
    "duration": 35,
    "start_time": "2023-04-26T15:07:21.243Z"
   },
   {
    "duration": 31,
    "start_time": "2023-04-26T15:07:21.280Z"
   },
   {
    "duration": 13,
    "start_time": "2023-04-26T15:07:21.315Z"
   },
   {
    "duration": 55,
    "start_time": "2023-04-26T15:07:21.336Z"
   },
   {
    "duration": 26,
    "start_time": "2023-04-26T15:07:21.393Z"
   },
   {
    "duration": 77,
    "start_time": "2023-04-26T15:07:21.420Z"
   },
   {
    "duration": 66,
    "start_time": "2023-04-26T15:07:21.499Z"
   },
   {
    "duration": 23,
    "start_time": "2023-04-26T15:07:21.566Z"
   },
   {
    "duration": 21,
    "start_time": "2023-04-26T15:07:21.591Z"
   },
   {
    "duration": 46,
    "start_time": "2023-04-26T15:07:21.614Z"
   },
   {
    "duration": 7,
    "start_time": "2023-04-26T15:07:21.662Z"
   },
   {
    "duration": 29,
    "start_time": "2023-04-26T15:07:21.671Z"
   },
   {
    "duration": 23,
    "start_time": "2023-04-26T15:07:21.702Z"
   },
   {
    "duration": 38,
    "start_time": "2023-04-26T15:07:21.729Z"
   },
   {
    "duration": 45,
    "start_time": "2023-04-26T15:07:21.770Z"
   },
   {
    "duration": 439,
    "start_time": "2023-04-26T15:07:21.816Z"
   },
   {
    "duration": 415,
    "start_time": "2023-04-26T15:07:22.257Z"
   },
   {
    "duration": 13,
    "start_time": "2023-04-26T15:07:22.673Z"
   },
   {
    "duration": 44,
    "start_time": "2023-04-26T15:07:22.688Z"
   },
   {
    "duration": 313,
    "start_time": "2023-04-26T15:07:22.734Z"
   },
   {
    "duration": 329,
    "start_time": "2023-04-26T15:07:23.051Z"
   },
   {
    "duration": 281,
    "start_time": "2023-04-26T15:07:23.382Z"
   },
   {
    "duration": 319,
    "start_time": "2023-04-26T15:07:23.664Z"
   },
   {
    "duration": 165,
    "start_time": "2023-04-26T15:07:23.985Z"
   },
   {
    "duration": 172,
    "start_time": "2023-04-26T15:07:24.152Z"
   },
   {
    "duration": 13,
    "start_time": "2023-04-26T15:07:24.326Z"
   },
   {
    "duration": 18,
    "start_time": "2023-04-26T15:07:24.345Z"
   },
   {
    "duration": 193,
    "start_time": "2023-04-26T15:07:24.364Z"
   },
   {
    "duration": 242,
    "start_time": "2023-04-26T15:07:24.558Z"
   },
   {
    "duration": 6,
    "start_time": "2023-04-26T15:07:24.802Z"
   },
   {
    "duration": 52,
    "start_time": "2023-04-26T15:07:24.809Z"
   },
   {
    "duration": 20,
    "start_time": "2023-04-26T15:07:24.863Z"
   },
   {
    "duration": 313,
    "start_time": "2023-04-26T15:07:24.885Z"
   },
   {
    "duration": 44,
    "start_time": "2023-04-26T15:07:25.200Z"
   },
   {
    "duration": 199,
    "start_time": "2023-04-26T15:07:25.248Z"
   },
   {
    "duration": 13,
    "start_time": "2023-04-26T15:07:25.448Z"
   },
   {
    "duration": 35,
    "start_time": "2023-04-26T15:07:25.462Z"
   },
   {
    "duration": 9,
    "start_time": "2023-04-26T15:07:25.499Z"
   },
   {
    "duration": 64,
    "start_time": "2023-04-26T15:07:25.510Z"
   },
   {
    "duration": 14,
    "start_time": "2023-04-26T15:07:25.575Z"
   },
   {
    "duration": 1358,
    "start_time": "2023-04-26T18:01:08.134Z"
   },
   {
    "duration": 256,
    "start_time": "2023-04-26T18:01:09.495Z"
   },
   {
    "duration": 13,
    "start_time": "2023-04-26T18:01:09.753Z"
   },
   {
    "duration": 20,
    "start_time": "2023-04-26T18:01:09.769Z"
   },
   {
    "duration": 14,
    "start_time": "2023-04-26T18:01:09.791Z"
   },
   {
    "duration": 20,
    "start_time": "2023-04-26T18:01:09.807Z"
   },
   {
    "duration": 19,
    "start_time": "2023-04-26T18:01:09.829Z"
   },
   {
    "duration": 33,
    "start_time": "2023-04-26T18:01:09.850Z"
   },
   {
    "duration": 24,
    "start_time": "2023-04-26T18:01:09.885Z"
   },
   {
    "duration": 7,
    "start_time": "2023-04-26T18:01:09.912Z"
   },
   {
    "duration": 29,
    "start_time": "2023-04-26T18:01:09.920Z"
   },
   {
    "duration": 25,
    "start_time": "2023-04-26T18:01:09.952Z"
   },
   {
    "duration": 22,
    "start_time": "2023-04-26T18:01:09.979Z"
   },
   {
    "duration": 32,
    "start_time": "2023-04-26T18:01:10.003Z"
   },
   {
    "duration": 39,
    "start_time": "2023-04-26T18:01:10.037Z"
   },
   {
    "duration": 12,
    "start_time": "2023-04-26T18:01:10.078Z"
   },
   {
    "duration": 18,
    "start_time": "2023-04-26T18:01:10.091Z"
   },
   {
    "duration": 23,
    "start_time": "2023-04-26T18:01:10.111Z"
   },
   {
    "duration": 18,
    "start_time": "2023-04-26T18:01:10.136Z"
   },
   {
    "duration": 17,
    "start_time": "2023-04-26T18:01:10.156Z"
   },
   {
    "duration": 9,
    "start_time": "2023-04-26T18:01:10.175Z"
   },
   {
    "duration": 10,
    "start_time": "2023-04-26T18:01:10.186Z"
   },
   {
    "duration": 326,
    "start_time": "2023-04-26T18:01:10.197Z"
   },
   {
    "duration": 309,
    "start_time": "2023-04-26T18:01:10.525Z"
   },
   {
    "duration": 10,
    "start_time": "2023-04-26T18:01:10.836Z"
   },
   {
    "duration": 29,
    "start_time": "2023-04-26T18:01:10.848Z"
   },
   {
    "duration": 233,
    "start_time": "2023-04-26T18:01:10.879Z"
   },
   {
    "duration": 429,
    "start_time": "2023-04-26T18:01:11.116Z"
   },
   {
    "duration": 231,
    "start_time": "2023-04-26T18:01:11.546Z"
   },
   {
    "duration": 330,
    "start_time": "2023-04-26T18:01:11.779Z"
   },
   {
    "duration": 135,
    "start_time": "2023-04-26T18:01:12.110Z"
   },
   {
    "duration": 163,
    "start_time": "2023-04-26T18:01:12.247Z"
   },
   {
    "duration": 4,
    "start_time": "2023-04-26T18:01:12.412Z"
   },
   {
    "duration": 6,
    "start_time": "2023-04-26T18:01:12.417Z"
   },
   {
    "duration": 195,
    "start_time": "2023-04-26T18:01:12.425Z"
   },
   {
    "duration": 227,
    "start_time": "2023-04-26T18:01:12.622Z"
   },
   {
    "duration": 5,
    "start_time": "2023-04-26T18:01:12.851Z"
   },
   {
    "duration": 12,
    "start_time": "2023-04-26T18:01:12.857Z"
   },
   {
    "duration": 8,
    "start_time": "2023-04-26T18:01:12.871Z"
   },
   {
    "duration": 294,
    "start_time": "2023-04-26T18:01:12.881Z"
   },
   {
    "duration": 39,
    "start_time": "2023-04-26T18:01:13.177Z"
   },
   {
    "duration": 175,
    "start_time": "2023-04-26T18:01:13.217Z"
   },
   {
    "duration": 11,
    "start_time": "2023-04-26T18:01:13.394Z"
   },
   {
    "duration": 13,
    "start_time": "2023-04-26T18:01:13.406Z"
   },
   {
    "duration": 15,
    "start_time": "2023-04-26T18:01:13.420Z"
   },
   {
    "duration": 46,
    "start_time": "2023-04-26T18:01:13.437Z"
   },
   {
    "duration": 14,
    "start_time": "2023-04-26T18:01:13.485Z"
   },
   {
    "duration": 66,
    "start_time": "2023-08-21T08:53:53.854Z"
   },
   {
    "duration": 11,
    "start_time": "2023-08-21T08:53:54.640Z"
   },
   {
    "duration": 1475,
    "start_time": "2023-08-21T08:54:01.422Z"
   },
   {
    "duration": 210,
    "start_time": "2023-08-21T08:54:02.900Z"
   },
   {
    "duration": 14,
    "start_time": "2023-08-21T08:54:03.112Z"
   },
   {
    "duration": 128,
    "start_time": "2023-08-21T08:54:03.127Z"
   },
   {
    "duration": 125,
    "start_time": "2023-08-21T08:54:03.258Z"
   },
   {
    "duration": 70,
    "start_time": "2023-08-21T08:54:03.385Z"
   },
   {
    "duration": 69,
    "start_time": "2023-08-21T08:54:03.457Z"
   },
   {
    "duration": 66,
    "start_time": "2023-08-21T08:54:03.529Z"
   },
   {
    "duration": 74,
    "start_time": "2023-08-21T08:54:03.598Z"
   },
   {
    "duration": 10,
    "start_time": "2023-08-21T08:54:03.673Z"
   },
   {
    "duration": 43,
    "start_time": "2023-08-21T08:54:03.686Z"
   },
   {
    "duration": 35,
    "start_time": "2023-08-21T08:54:03.731Z"
   },
   {
    "duration": 51,
    "start_time": "2023-08-21T08:54:03.769Z"
   },
   {
    "duration": 45,
    "start_time": "2023-08-21T08:54:03.823Z"
   },
   {
    "duration": 69,
    "start_time": "2023-08-21T08:54:03.874Z"
   },
   {
    "duration": 35,
    "start_time": "2023-08-21T08:54:03.946Z"
   },
   {
    "duration": 48,
    "start_time": "2023-08-21T08:54:03.986Z"
   },
   {
    "duration": 49,
    "start_time": "2023-08-21T08:54:04.036Z"
   },
   {
    "duration": 39,
    "start_time": "2023-08-21T08:54:04.086Z"
   },
   {
    "duration": 59,
    "start_time": "2023-08-21T08:54:04.128Z"
   },
   {
    "duration": 25,
    "start_time": "2023-08-21T08:54:04.189Z"
   },
   {
    "duration": 14,
    "start_time": "2023-08-21T08:54:04.216Z"
   },
   {
    "duration": 340,
    "start_time": "2023-08-21T08:54:04.232Z"
   },
   {
    "duration": 360,
    "start_time": "2023-08-21T08:54:04.574Z"
   },
   {
    "duration": 14,
    "start_time": "2023-08-21T08:54:04.937Z"
   },
   {
    "duration": 20,
    "start_time": "2023-08-21T08:54:04.968Z"
   },
   {
    "duration": 247,
    "start_time": "2023-08-21T08:54:04.990Z"
   },
   {
    "duration": 387,
    "start_time": "2023-08-21T08:54:05.239Z"
   },
   {
    "duration": 265,
    "start_time": "2023-08-21T08:54:05.628Z"
   },
   {
    "duration": 316,
    "start_time": "2023-08-21T08:54:05.894Z"
   },
   {
    "duration": 151,
    "start_time": "2023-08-21T08:54:06.212Z"
   },
   {
    "duration": 160,
    "start_time": "2023-08-21T08:54:06.365Z"
   },
   {
    "duration": 5,
    "start_time": "2023-08-21T08:54:06.527Z"
   },
   {
    "duration": 18,
    "start_time": "2023-08-21T08:54:06.533Z"
   },
   {
    "duration": 175,
    "start_time": "2023-08-21T08:54:06.553Z"
   },
   {
    "duration": 215,
    "start_time": "2023-08-21T08:54:06.730Z"
   },
   {
    "duration": 5,
    "start_time": "2023-08-21T08:54:06.947Z"
   },
   {
    "duration": 36,
    "start_time": "2023-08-21T08:54:06.954Z"
   },
   {
    "duration": 28,
    "start_time": "2023-08-21T08:54:06.992Z"
   },
   {
    "duration": 308,
    "start_time": "2023-08-21T08:54:07.021Z"
   },
   {
    "duration": 44,
    "start_time": "2023-08-21T08:54:07.334Z"
   },
   {
    "duration": 175,
    "start_time": "2023-08-21T08:54:07.379Z"
   },
   {
    "duration": 29,
    "start_time": "2023-08-21T08:54:07.556Z"
   },
   {
    "duration": 35,
    "start_time": "2023-08-21T08:54:07.586Z"
   },
   {
    "duration": 16,
    "start_time": "2023-08-21T08:54:07.622Z"
   },
   {
    "duration": 67,
    "start_time": "2023-08-21T08:54:07.640Z"
   },
   {
    "duration": 15,
    "start_time": "2023-08-21T08:54:07.710Z"
   }
  ],
  "kernelspec": {
   "display_name": "Python 3 (ipykernel)",
   "language": "python",
   "name": "python3"
  },
  "language_info": {
   "codemirror_mode": {
    "name": "ipython",
    "version": 3
   },
   "file_extension": ".py",
   "mimetype": "text/x-python",
   "name": "python",
   "nbconvert_exporter": "python",
   "pygments_lexer": "ipython3",
   "version": "3.9.12"
  },
  "toc": {
   "base_numbering": 1,
   "nav_menu": {},
   "number_sections": false,
   "sideBar": true,
   "skip_h1_title": true,
   "title_cell": "Table of Contents",
   "title_sidebar": "Contents",
   "toc_cell": false,
   "toc_position": {},
   "toc_section_display": true,
   "toc_window_display": false
  }
 },
 "nbformat": 4,
 "nbformat_minor": 2
}
