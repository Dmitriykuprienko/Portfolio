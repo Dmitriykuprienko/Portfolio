{
 "cells": [
  {
   "cell_type": "markdown",
   "metadata": {},
   "source": [
    "# Описание проекта"
   ]
  },
  {
   "cell_type": "markdown",
   "metadata": {},
   "source": [
    "Вы — аналитик крупного интернет-магазина. Вместе с отделом маркетинга вы подготовили список гипотез для увеличения выручки. Приоритизируйте гипотезы, запустите A/B-тест и проанализируйте результаты."
   ]
  },
  {
   "cell_type": "markdown",
   "metadata": {},
   "source": [
    "## Часть 1. Приоритизация гипотез. "
   ]
  },
  {
   "cell_type": "markdown",
   "metadata": {},
   "source": [
    "*В файле /datasets/hypothesis.csv 9 гипотез по увеличению выручки интернет-магазина с указанными параметрами Reach, Impact, Confidence, Effort.*"
   ]
  },
  {
   "cell_type": "markdown",
   "metadata": {},
   "source": [
    "### Задача:"
   ]
  },
  {
   "cell_type": "markdown",
   "metadata": {},
   "source": [
    "Примените фреймворк ICE для приоритизации гипотез. Отсортируйте их по убыванию приоритета.             \n",
    "Примените фреймворк RICE для приоритизации гипотез. Отсортируйте их по убыванию приоритета.              \n",
    "Укажите, как изменилась приоритизация гипотез при применении RICE вместо ICE. Объясните, почему так произошло."
   ]
  },
  {
   "cell_type": "markdown",
   "metadata": {},
   "source": [
    "## Часть 2. Анализ A/B-теста"
   ]
  },
  {
   "cell_type": "markdown",
   "metadata": {},
   "source": [
    "*Вы провели A/B-тест и получили результаты, которые описаны в файлах /datasets/orders.csv и /datasets/visitors.csv.*"
   ]
  },
  {
   "cell_type": "markdown",
   "metadata": {},
   "source": [
    " ### Задача:"
   ]
  },
  {
   "cell_type": "markdown",
   "metadata": {},
   "source": [
    "**Проанализируйте A/B-тест:**"
   ]
  },
  {
   "cell_type": "markdown",
   "metadata": {},
   "source": [
    "* Постройте график кумулятивной выручки по группам. Сделайте выводы и предположения.  \n",
    "* Постройте график кумулятивного среднего чека по группам. Сделайте выводы и предположения. \n",
    "* Постройте график относительного изменения кумулятивного среднего чека группы B к группе A. Сделайте выводы и предположения.  \n",
    "* Постройте график кумулятивной конверсии по группам. Сделайте выводы и предположения.  \\n\",\n",
    "* Постройте график относительного изменения кумулятивной конверсии группы B к группе A. Сделайте выводы и предположения.  \n",
    "* Постройте точечный график количества заказов по пользователям. Сделайте выводы и предположения. \n",
    "* Посчитайте 95-й и 99-й перцентили количества заказов на пользователя. Выберите границу для определения аномальных пользователей. \n",
    "* Постройте точечный график стоимостей заказов. Сделайте выводы и предположения.  \n",
    "* Посчитайте 95-й и 99-й перцентили стоимости заказов. Выберите границу для определения аномальных заказов.  \n",
    "* Посчитайте статистическую значимость различий в конверсии между группами по «сырым» данным. Сделайте выводы и предположения. \n",
    "* Посчитайте статистическую значимость различий в среднем чеке заказа между группами по «сырым» данным. Сделайте выводы и предположения.  \n",
    "* Посчитайте статистическую значимость различий в конверсии между группами по «очищенным» данным. Сделайте выводы и предположения.  \n",
    "* Посчитайте статистическую значимость различий в среднем чеке заказа между группами по «очищенным» данным. Сделайте выводы и предположения."
   ]
  },
  {
   "cell_type": "markdown",
   "metadata": {},
   "source": [
    "### Описание данных"
   ]
  },
  {
   "cell_type": "markdown",
   "metadata": {},
   "source": [
    "***Данные для первой части***\n",
    "Файл /datasets/hypothesis.csv. Скачать датасет              \n",
    "Hypothesis — краткое описание гипотезы;       \n",
    "Reach — охват пользователей по 10-балльной шкале;          \n",
    "Impact — влияние на пользователей по 10-балльной шкале;    \n",
    "Confidence — уверенность в гипотезе по 10-балльной шкале;                            \n",
    "Efforts — затраты ресурсов на проверку гипотезы по 10-балльной шкале. Чем больше значение Efforts, тем дороже проверка гипотезы"
   ]
  },
  {
   "cell_type": "markdown",
   "metadata": {},
   "source": [
    "***Данные для второй части***                      \n",
    "Файл /datasets/orders.csv. Скачать датасет                \n",
    "transactionId — идентификатор заказа;             \n",
    "visitorId — идентификатор пользователя, совершившего заказ;               \n",
    "date — дата, когда был совершён заказ;                    \n",
    "revenue — выручка заказа;              \n",
    "group — группа A/B-теста, в которую попал заказ.                  \n",
    "Файл /datasets/visitors.csv. Скачать датасет           \n",
    "date — дата;                \n",
    "group — группа A/B-теста;                 \n",
    "visitors — количество пользователей в указанную дату в указанной группе A/B-теста"
   ]
  },
  {
   "cell_type": "markdown",
   "metadata": {},
   "source": [
    "### Шаг 1. Загрузка данных и подготовка их к анализу"
   ]
  },
  {
   "cell_type": "code",
   "execution_count": 1,
   "metadata": {},
   "outputs": [],
   "source": [
    "import numpy as np\n",
    "import pandas as pd\n",
    "\n",
    "import seaborn as sns\n",
    "from matplotlib import pyplot as plt\n",
    "from IPython.display import display\n",
    "\n",
    "import scipy.stats as stats\n",
    "import datetime as dt\n"
   ]
  },
  {
   "cell_type": "code",
   "execution_count": 2,
   "metadata": {},
   "outputs": [
    {
     "ename": "FileNotFoundError",
     "evalue": "[Errno 2] No such file or directory: '/datasets/hypothesis.csv'",
     "output_type": "error",
     "traceback": [
      "\u001b[1;31m---------------------------------------------------------------------------\u001b[0m",
      "\u001b[1;31mFileNotFoundError\u001b[0m                         Traceback (most recent call last)",
      "Input \u001b[1;32mIn [2]\u001b[0m, in \u001b[0;36m<cell line: 1>\u001b[1;34m()\u001b[0m\n\u001b[1;32m----> 1\u001b[0m hypothesis \u001b[38;5;241m=\u001b[39m \u001b[43mpd\u001b[49m\u001b[38;5;241;43m.\u001b[39;49m\u001b[43mread_csv\u001b[49m\u001b[43m(\u001b[49m\u001b[38;5;124;43m'\u001b[39;49m\u001b[38;5;124;43m/datasets/hypothesis.csv\u001b[39;49m\u001b[38;5;124;43m'\u001b[39;49m\u001b[43m)\u001b[49m\n\u001b[0;32m      2\u001b[0m orders \u001b[38;5;241m=\u001b[39m pd\u001b[38;5;241m.\u001b[39mread_csv(\u001b[38;5;124m'\u001b[39m\u001b[38;5;124m/datasets/orders.csv\u001b[39m\u001b[38;5;124m'\u001b[39m)\n\u001b[0;32m      3\u001b[0m visitors \u001b[38;5;241m=\u001b[39m pd\u001b[38;5;241m.\u001b[39mread_csv(\u001b[38;5;124m'\u001b[39m\u001b[38;5;124m/datasets/visitors.csv\u001b[39m\u001b[38;5;124m'\u001b[39m)\n",
      "File \u001b[1;32mD:\\YANDEX.DISK\\anaconda3\\lib\\site-packages\\pandas\\util\\_decorators.py:311\u001b[0m, in \u001b[0;36mdeprecate_nonkeyword_arguments.<locals>.decorate.<locals>.wrapper\u001b[1;34m(*args, **kwargs)\u001b[0m\n\u001b[0;32m    305\u001b[0m \u001b[38;5;28;01mif\u001b[39;00m \u001b[38;5;28mlen\u001b[39m(args) \u001b[38;5;241m>\u001b[39m num_allow_args:\n\u001b[0;32m    306\u001b[0m     warnings\u001b[38;5;241m.\u001b[39mwarn(\n\u001b[0;32m    307\u001b[0m         msg\u001b[38;5;241m.\u001b[39mformat(arguments\u001b[38;5;241m=\u001b[39marguments),\n\u001b[0;32m    308\u001b[0m         \u001b[38;5;167;01mFutureWarning\u001b[39;00m,\n\u001b[0;32m    309\u001b[0m         stacklevel\u001b[38;5;241m=\u001b[39mstacklevel,\n\u001b[0;32m    310\u001b[0m     )\n\u001b[1;32m--> 311\u001b[0m \u001b[38;5;28;01mreturn\u001b[39;00m func(\u001b[38;5;241m*\u001b[39margs, \u001b[38;5;241m*\u001b[39m\u001b[38;5;241m*\u001b[39mkwargs)\n",
      "File \u001b[1;32mD:\\YANDEX.DISK\\anaconda3\\lib\\site-packages\\pandas\\io\\parsers\\readers.py:680\u001b[0m, in \u001b[0;36mread_csv\u001b[1;34m(filepath_or_buffer, sep, delimiter, header, names, index_col, usecols, squeeze, prefix, mangle_dupe_cols, dtype, engine, converters, true_values, false_values, skipinitialspace, skiprows, skipfooter, nrows, na_values, keep_default_na, na_filter, verbose, skip_blank_lines, parse_dates, infer_datetime_format, keep_date_col, date_parser, dayfirst, cache_dates, iterator, chunksize, compression, thousands, decimal, lineterminator, quotechar, quoting, doublequote, escapechar, comment, encoding, encoding_errors, dialect, error_bad_lines, warn_bad_lines, on_bad_lines, delim_whitespace, low_memory, memory_map, float_precision, storage_options)\u001b[0m\n\u001b[0;32m    665\u001b[0m kwds_defaults \u001b[38;5;241m=\u001b[39m _refine_defaults_read(\n\u001b[0;32m    666\u001b[0m     dialect,\n\u001b[0;32m    667\u001b[0m     delimiter,\n\u001b[1;32m   (...)\u001b[0m\n\u001b[0;32m    676\u001b[0m     defaults\u001b[38;5;241m=\u001b[39m{\u001b[38;5;124m\"\u001b[39m\u001b[38;5;124mdelimiter\u001b[39m\u001b[38;5;124m\"\u001b[39m: \u001b[38;5;124m\"\u001b[39m\u001b[38;5;124m,\u001b[39m\u001b[38;5;124m\"\u001b[39m},\n\u001b[0;32m    677\u001b[0m )\n\u001b[0;32m    678\u001b[0m kwds\u001b[38;5;241m.\u001b[39mupdate(kwds_defaults)\n\u001b[1;32m--> 680\u001b[0m \u001b[38;5;28;01mreturn\u001b[39;00m \u001b[43m_read\u001b[49m\u001b[43m(\u001b[49m\u001b[43mfilepath_or_buffer\u001b[49m\u001b[43m,\u001b[49m\u001b[43m \u001b[49m\u001b[43mkwds\u001b[49m\u001b[43m)\u001b[49m\n",
      "File \u001b[1;32mD:\\YANDEX.DISK\\anaconda3\\lib\\site-packages\\pandas\\io\\parsers\\readers.py:575\u001b[0m, in \u001b[0;36m_read\u001b[1;34m(filepath_or_buffer, kwds)\u001b[0m\n\u001b[0;32m    572\u001b[0m _validate_names(kwds\u001b[38;5;241m.\u001b[39mget(\u001b[38;5;124m\"\u001b[39m\u001b[38;5;124mnames\u001b[39m\u001b[38;5;124m\"\u001b[39m, \u001b[38;5;28;01mNone\u001b[39;00m))\n\u001b[0;32m    574\u001b[0m \u001b[38;5;66;03m# Create the parser.\u001b[39;00m\n\u001b[1;32m--> 575\u001b[0m parser \u001b[38;5;241m=\u001b[39m TextFileReader(filepath_or_buffer, \u001b[38;5;241m*\u001b[39m\u001b[38;5;241m*\u001b[39mkwds)\n\u001b[0;32m    577\u001b[0m \u001b[38;5;28;01mif\u001b[39;00m chunksize \u001b[38;5;129;01mor\u001b[39;00m iterator:\n\u001b[0;32m    578\u001b[0m     \u001b[38;5;28;01mreturn\u001b[39;00m parser\n",
      "File \u001b[1;32mD:\\YANDEX.DISK\\anaconda3\\lib\\site-packages\\pandas\\io\\parsers\\readers.py:933\u001b[0m, in \u001b[0;36mTextFileReader.__init__\u001b[1;34m(self, f, engine, **kwds)\u001b[0m\n\u001b[0;32m    930\u001b[0m     \u001b[38;5;28mself\u001b[39m\u001b[38;5;241m.\u001b[39moptions[\u001b[38;5;124m\"\u001b[39m\u001b[38;5;124mhas_index_names\u001b[39m\u001b[38;5;124m\"\u001b[39m] \u001b[38;5;241m=\u001b[39m kwds[\u001b[38;5;124m\"\u001b[39m\u001b[38;5;124mhas_index_names\u001b[39m\u001b[38;5;124m\"\u001b[39m]\n\u001b[0;32m    932\u001b[0m \u001b[38;5;28mself\u001b[39m\u001b[38;5;241m.\u001b[39mhandles: IOHandles \u001b[38;5;241m|\u001b[39m \u001b[38;5;28;01mNone\u001b[39;00m \u001b[38;5;241m=\u001b[39m \u001b[38;5;28;01mNone\u001b[39;00m\n\u001b[1;32m--> 933\u001b[0m \u001b[38;5;28mself\u001b[39m\u001b[38;5;241m.\u001b[39m_engine \u001b[38;5;241m=\u001b[39m \u001b[38;5;28;43mself\u001b[39;49m\u001b[38;5;241;43m.\u001b[39;49m\u001b[43m_make_engine\u001b[49m\u001b[43m(\u001b[49m\u001b[43mf\u001b[49m\u001b[43m,\u001b[49m\u001b[43m \u001b[49m\u001b[38;5;28;43mself\u001b[39;49m\u001b[38;5;241;43m.\u001b[39;49m\u001b[43mengine\u001b[49m\u001b[43m)\u001b[49m\n",
      "File \u001b[1;32mD:\\YANDEX.DISK\\anaconda3\\lib\\site-packages\\pandas\\io\\parsers\\readers.py:1217\u001b[0m, in \u001b[0;36mTextFileReader._make_engine\u001b[1;34m(self, f, engine)\u001b[0m\n\u001b[0;32m   1213\u001b[0m     mode \u001b[38;5;241m=\u001b[39m \u001b[38;5;124m\"\u001b[39m\u001b[38;5;124mrb\u001b[39m\u001b[38;5;124m\"\u001b[39m\n\u001b[0;32m   1214\u001b[0m \u001b[38;5;66;03m# error: No overload variant of \"get_handle\" matches argument types\u001b[39;00m\n\u001b[0;32m   1215\u001b[0m \u001b[38;5;66;03m# \"Union[str, PathLike[str], ReadCsvBuffer[bytes], ReadCsvBuffer[str]]\"\u001b[39;00m\n\u001b[0;32m   1216\u001b[0m \u001b[38;5;66;03m# , \"str\", \"bool\", \"Any\", \"Any\", \"Any\", \"Any\", \"Any\"\u001b[39;00m\n\u001b[1;32m-> 1217\u001b[0m \u001b[38;5;28mself\u001b[39m\u001b[38;5;241m.\u001b[39mhandles \u001b[38;5;241m=\u001b[39m \u001b[43mget_handle\u001b[49m\u001b[43m(\u001b[49m\u001b[43m  \u001b[49m\u001b[38;5;66;43;03m# type: ignore[call-overload]\u001b[39;49;00m\n\u001b[0;32m   1218\u001b[0m \u001b[43m    \u001b[49m\u001b[43mf\u001b[49m\u001b[43m,\u001b[49m\n\u001b[0;32m   1219\u001b[0m \u001b[43m    \u001b[49m\u001b[43mmode\u001b[49m\u001b[43m,\u001b[49m\n\u001b[0;32m   1220\u001b[0m \u001b[43m    \u001b[49m\u001b[43mencoding\u001b[49m\u001b[38;5;241;43m=\u001b[39;49m\u001b[38;5;28;43mself\u001b[39;49m\u001b[38;5;241;43m.\u001b[39;49m\u001b[43moptions\u001b[49m\u001b[38;5;241;43m.\u001b[39;49m\u001b[43mget\u001b[49m\u001b[43m(\u001b[49m\u001b[38;5;124;43m\"\u001b[39;49m\u001b[38;5;124;43mencoding\u001b[39;49m\u001b[38;5;124;43m\"\u001b[39;49m\u001b[43m,\u001b[49m\u001b[43m \u001b[49m\u001b[38;5;28;43;01mNone\u001b[39;49;00m\u001b[43m)\u001b[49m\u001b[43m,\u001b[49m\n\u001b[0;32m   1221\u001b[0m \u001b[43m    \u001b[49m\u001b[43mcompression\u001b[49m\u001b[38;5;241;43m=\u001b[39;49m\u001b[38;5;28;43mself\u001b[39;49m\u001b[38;5;241;43m.\u001b[39;49m\u001b[43moptions\u001b[49m\u001b[38;5;241;43m.\u001b[39;49m\u001b[43mget\u001b[49m\u001b[43m(\u001b[49m\u001b[38;5;124;43m\"\u001b[39;49m\u001b[38;5;124;43mcompression\u001b[39;49m\u001b[38;5;124;43m\"\u001b[39;49m\u001b[43m,\u001b[49m\u001b[43m \u001b[49m\u001b[38;5;28;43;01mNone\u001b[39;49;00m\u001b[43m)\u001b[49m\u001b[43m,\u001b[49m\n\u001b[0;32m   1222\u001b[0m \u001b[43m    \u001b[49m\u001b[43mmemory_map\u001b[49m\u001b[38;5;241;43m=\u001b[39;49m\u001b[38;5;28;43mself\u001b[39;49m\u001b[38;5;241;43m.\u001b[39;49m\u001b[43moptions\u001b[49m\u001b[38;5;241;43m.\u001b[39;49m\u001b[43mget\u001b[49m\u001b[43m(\u001b[49m\u001b[38;5;124;43m\"\u001b[39;49m\u001b[38;5;124;43mmemory_map\u001b[39;49m\u001b[38;5;124;43m\"\u001b[39;49m\u001b[43m,\u001b[49m\u001b[43m \u001b[49m\u001b[38;5;28;43;01mFalse\u001b[39;49;00m\u001b[43m)\u001b[49m\u001b[43m,\u001b[49m\n\u001b[0;32m   1223\u001b[0m \u001b[43m    \u001b[49m\u001b[43mis_text\u001b[49m\u001b[38;5;241;43m=\u001b[39;49m\u001b[43mis_text\u001b[49m\u001b[43m,\u001b[49m\n\u001b[0;32m   1224\u001b[0m \u001b[43m    \u001b[49m\u001b[43merrors\u001b[49m\u001b[38;5;241;43m=\u001b[39;49m\u001b[38;5;28;43mself\u001b[39;49m\u001b[38;5;241;43m.\u001b[39;49m\u001b[43moptions\u001b[49m\u001b[38;5;241;43m.\u001b[39;49m\u001b[43mget\u001b[49m\u001b[43m(\u001b[49m\u001b[38;5;124;43m\"\u001b[39;49m\u001b[38;5;124;43mencoding_errors\u001b[39;49m\u001b[38;5;124;43m\"\u001b[39;49m\u001b[43m,\u001b[49m\u001b[43m \u001b[49m\u001b[38;5;124;43m\"\u001b[39;49m\u001b[38;5;124;43mstrict\u001b[39;49m\u001b[38;5;124;43m\"\u001b[39;49m\u001b[43m)\u001b[49m\u001b[43m,\u001b[49m\n\u001b[0;32m   1225\u001b[0m \u001b[43m    \u001b[49m\u001b[43mstorage_options\u001b[49m\u001b[38;5;241;43m=\u001b[39;49m\u001b[38;5;28;43mself\u001b[39;49m\u001b[38;5;241;43m.\u001b[39;49m\u001b[43moptions\u001b[49m\u001b[38;5;241;43m.\u001b[39;49m\u001b[43mget\u001b[49m\u001b[43m(\u001b[49m\u001b[38;5;124;43m\"\u001b[39;49m\u001b[38;5;124;43mstorage_options\u001b[39;49m\u001b[38;5;124;43m\"\u001b[39;49m\u001b[43m,\u001b[49m\u001b[43m \u001b[49m\u001b[38;5;28;43;01mNone\u001b[39;49;00m\u001b[43m)\u001b[49m\u001b[43m,\u001b[49m\n\u001b[0;32m   1226\u001b[0m \u001b[43m\u001b[49m\u001b[43m)\u001b[49m\n\u001b[0;32m   1227\u001b[0m \u001b[38;5;28;01massert\u001b[39;00m \u001b[38;5;28mself\u001b[39m\u001b[38;5;241m.\u001b[39mhandles \u001b[38;5;129;01mis\u001b[39;00m \u001b[38;5;129;01mnot\u001b[39;00m \u001b[38;5;28;01mNone\u001b[39;00m\n\u001b[0;32m   1228\u001b[0m f \u001b[38;5;241m=\u001b[39m \u001b[38;5;28mself\u001b[39m\u001b[38;5;241m.\u001b[39mhandles\u001b[38;5;241m.\u001b[39mhandle\n",
      "File \u001b[1;32mD:\\YANDEX.DISK\\anaconda3\\lib\\site-packages\\pandas\\io\\common.py:789\u001b[0m, in \u001b[0;36mget_handle\u001b[1;34m(path_or_buf, mode, encoding, compression, memory_map, is_text, errors, storage_options)\u001b[0m\n\u001b[0;32m    784\u001b[0m \u001b[38;5;28;01melif\u001b[39;00m \u001b[38;5;28misinstance\u001b[39m(handle, \u001b[38;5;28mstr\u001b[39m):\n\u001b[0;32m    785\u001b[0m     \u001b[38;5;66;03m# Check whether the filename is to be opened in binary mode.\u001b[39;00m\n\u001b[0;32m    786\u001b[0m     \u001b[38;5;66;03m# Binary mode does not support 'encoding' and 'newline'.\u001b[39;00m\n\u001b[0;32m    787\u001b[0m     \u001b[38;5;28;01mif\u001b[39;00m ioargs\u001b[38;5;241m.\u001b[39mencoding \u001b[38;5;129;01mand\u001b[39;00m \u001b[38;5;124m\"\u001b[39m\u001b[38;5;124mb\u001b[39m\u001b[38;5;124m\"\u001b[39m \u001b[38;5;129;01mnot\u001b[39;00m \u001b[38;5;129;01min\u001b[39;00m ioargs\u001b[38;5;241m.\u001b[39mmode:\n\u001b[0;32m    788\u001b[0m         \u001b[38;5;66;03m# Encoding\u001b[39;00m\n\u001b[1;32m--> 789\u001b[0m         handle \u001b[38;5;241m=\u001b[39m \u001b[38;5;28;43mopen\u001b[39;49m\u001b[43m(\u001b[49m\n\u001b[0;32m    790\u001b[0m \u001b[43m            \u001b[49m\u001b[43mhandle\u001b[49m\u001b[43m,\u001b[49m\n\u001b[0;32m    791\u001b[0m \u001b[43m            \u001b[49m\u001b[43mioargs\u001b[49m\u001b[38;5;241;43m.\u001b[39;49m\u001b[43mmode\u001b[49m\u001b[43m,\u001b[49m\n\u001b[0;32m    792\u001b[0m \u001b[43m            \u001b[49m\u001b[43mencoding\u001b[49m\u001b[38;5;241;43m=\u001b[39;49m\u001b[43mioargs\u001b[49m\u001b[38;5;241;43m.\u001b[39;49m\u001b[43mencoding\u001b[49m\u001b[43m,\u001b[49m\n\u001b[0;32m    793\u001b[0m \u001b[43m            \u001b[49m\u001b[43merrors\u001b[49m\u001b[38;5;241;43m=\u001b[39;49m\u001b[43merrors\u001b[49m\u001b[43m,\u001b[49m\n\u001b[0;32m    794\u001b[0m \u001b[43m            \u001b[49m\u001b[43mnewline\u001b[49m\u001b[38;5;241;43m=\u001b[39;49m\u001b[38;5;124;43m\"\u001b[39;49m\u001b[38;5;124;43m\"\u001b[39;49m\u001b[43m,\u001b[49m\n\u001b[0;32m    795\u001b[0m \u001b[43m        \u001b[49m\u001b[43m)\u001b[49m\n\u001b[0;32m    796\u001b[0m     \u001b[38;5;28;01melse\u001b[39;00m:\n\u001b[0;32m    797\u001b[0m         \u001b[38;5;66;03m# Binary mode\u001b[39;00m\n\u001b[0;32m    798\u001b[0m         handle \u001b[38;5;241m=\u001b[39m \u001b[38;5;28mopen\u001b[39m(handle, ioargs\u001b[38;5;241m.\u001b[39mmode)\n",
      "\u001b[1;31mFileNotFoundError\u001b[0m: [Errno 2] No such file or directory: '/datasets/hypothesis.csv'"
     ]
    }
   ],
   "source": [
    "hypothesis = pd.read_csv('/datasets/hypothesis.csv')\n",
    "orders = pd.read_csv('/datasets/orders.csv')\n",
    "visitors = pd.read_csv('/datasets/visitors.csv')"
   ]
  },
  {
   "cell_type": "markdown",
   "metadata": {},
   "source": [
    "### Предобработка таблицы hypothesis - гипотезы"
   ]
  },
  {
   "cell_type": "code",
   "execution_count": null,
   "metadata": {},
   "outputs": [],
   "source": [
    "hypothesis.info()"
   ]
  },
  {
   "cell_type": "code",
   "execution_count": null,
   "metadata": {},
   "outputs": [],
   "source": [
    "hypothesis"
   ]
  },
  {
   "cell_type": "markdown",
   "metadata": {},
   "source": [
    "*Данные целостные, корректные, типы правильные, дубликатов нет - таблица готова к анализу*"
   ]
  },
  {
   "cell_type": "markdown",
   "metadata": {},
   "source": [
    "### Предобработка таблицы orders - заказы"
   ]
  },
  {
   "cell_type": "code",
   "execution_count": null,
   "metadata": {},
   "outputs": [],
   "source": [
    "orders.info()"
   ]
  },
  {
   "cell_type": "code",
   "execution_count": null,
   "metadata": {},
   "outputs": [],
   "source": [
    "orders.head()"
   ]
  },
  {
   "cell_type": "code",
   "execution_count": null,
   "metadata": {},
   "outputs": [],
   "source": [
    "orders[\"date\"] = orders[\"date\"].map(lambda x: dt.datetime.strptime(x, '%Y-%m-%d')) # Поменяем тип столбца \"date\" на datetime"
   ]
  },
  {
   "cell_type": "code",
   "execution_count": null,
   "metadata": {},
   "outputs": [],
   "source": [
    "orders.info()"
   ]
  },
  {
   "cell_type": "code",
   "execution_count": null,
   "metadata": {},
   "outputs": [],
   "source": [
    "orders.describe()"
   ]
  },
  {
   "cell_type": "code",
   "execution_count": null,
   "metadata": {},
   "outputs": [],
   "source": [
    "orders.duplicated().sum() # Проверим дубликаты"
   ]
  },
  {
   "cell_type": "markdown",
   "metadata": {},
   "source": [
    "*Все данные корректны, целостны, дубликатов нет - и готовы к анализу. В процессе предобработки был поменян только тип столбца \"date\" на datetime*"
   ]
  },
  {
   "cell_type": "markdown",
   "metadata": {},
   "source": [
    "### Предобработка таблицы visitors - посетители"
   ]
  },
  {
   "cell_type": "code",
   "execution_count": null,
   "metadata": {},
   "outputs": [],
   "source": [
    "visitors.info()"
   ]
  },
  {
   "cell_type": "code",
   "execution_count": null,
   "metadata": {},
   "outputs": [],
   "source": [
    "visitors.head()"
   ]
  },
  {
   "cell_type": "code",
   "execution_count": null,
   "metadata": {},
   "outputs": [],
   "source": [
    "visitors[\"date\"] = visitors[\"date\"].map(lambda x: dt.datetime.strptime(x, '%Y-%m-%d'))"
   ]
  },
  {
   "cell_type": "code",
   "execution_count": null,
   "metadata": {},
   "outputs": [],
   "source": [
    "visitors.info()"
   ]
  },
  {
   "cell_type": "code",
   "execution_count": null,
   "metadata": {},
   "outputs": [],
   "source": [
    "visitors.describe()"
   ]
  },
  {
   "cell_type": "code",
   "execution_count": null,
   "metadata": {},
   "outputs": [],
   "source": [
    "visitors.duplicated().sum()"
   ]
  },
  {
   "cell_type": "markdown",
   "metadata": {},
   "source": [
    "*Все данные корректны, целостны, дубликатов нет - и готовы к анализу. В процессе предобработки был поменян только тип столбца \"date\" на datetime*"
   ]
  },
  {
   "cell_type": "markdown",
   "metadata": {},
   "source": [
    "### Шаг 2. Приоритизация гипотез"
   ]
  },
  {
   "cell_type": "markdown",
   "metadata": {},
   "source": [
    "- Примените фреймворк ICE для приоритизации гипотез. Отсортируйте их по убыванию приоритета.\n",
    "-  Примените фреймворк RICE для приоритизации гипотез. Отсортируйте их по убыванию приоритета.\n",
    "-  Укажите, как изменилась приоритизация гипотез при применении RICE вместо ICE. Объясните, почему так произошло."
   ]
  },
  {
   "cell_type": "code",
   "execution_count": null,
   "metadata": {},
   "outputs": [],
   "source": [
    "pd.set_option('display.max_colwidth', 200)\n",
    "hypothesis"
   ]
  },
  {
   "cell_type": "code",
   "execution_count": null,
   "metadata": {},
   "outputs": [],
   "source": [
    "hypothesis['ICE'] = ((hypothesis['Impact'] * hypothesis['Confidence']) / hypothesis['Efforts']).round(1)\n",
    "hypothesis['RICE'] = (hypothesis['Reach']  *hypothesis['Impact'] * hypothesis['Confidence']) / hypothesis['Efforts']"
   ]
  },
  {
   "cell_type": "code",
   "execution_count": null,
   "metadata": {},
   "outputs": [],
   "source": [
    "pd.set_option('display.max_colwidth', 200)\n",
    "display(hypothesis[['ICE', 'Hypothesis', 'Reach']].sort_values(by='ICE', ascending=False))"
   ]
  },
  {
   "cell_type": "code",
   "execution_count": null,
   "metadata": {},
   "outputs": [],
   "source": [
    "pd.set_option('display.max_colwidth', 200)\n",
    "hypothesis[['RICE', 'Hypothesis', 'Reach']].sort_values(by='RICE', ascending=False)"
   ]
  },
  {
   "cell_type": "markdown",
   "metadata": {},
   "source": [
    "**Вывод:** Таблицы RICE и ICE по приоритизации различаются.Тройка лидеров у всех разная : в ICE это гипотезы с индексами 8, 0, 7 ,  в RICE - 7, 2, 0. Данное розичие продиктовано, тем что в фреймворке RICE мы учитываем такой параметр как- Reach (скольких пользователей затронет изменение, которое вы хотите внести), и в гипотезах 7 и 2 он очень высок (в 7 он = 10 из 10 А в 2 он =8 из 10, а в лидере ICE - в 8 он минимальный =1 из 10.  В итоге следует присмотреться к гипотезам 7 и 2."
   ]
  },
  {
   "cell_type": "markdown",
   "metadata": {},
   "source": [
    "# Шаг 3. Анализ A/B-теста"
   ]
  },
  {
   "cell_type": "markdown",
   "metadata": {},
   "source": [
    "### 3.1 График кумулятивной выручки"
   ]
  },
  {
   "cell_type": "code",
   "execution_count": null,
   "metadata": {},
   "outputs": [],
   "source": [
    "orders.head()"
   ]
  },
  {
   "cell_type": "code",
   "execution_count": null,
   "metadata": {},
   "outputs": [],
   "source": [
    "visitors.head()"
   ]
  },
  {
   "cell_type": "code",
   "execution_count": null,
   "metadata": {},
   "outputs": [],
   "source": [
    "datesGroups = orders[['date','group']].drop_duplicates()\n",
    "\n",
    "ordersAggregated = datesGroups.apply(lambda x: orders[np.logical_and(orders['date'] <= x['date'], orders['group'] == x['group'])]. \\\n",
    "                                     agg({'date' : 'max', \n",
    "                                          'group' : 'max', \n",
    "                                          'transactionId' : pd.Series.nunique, \n",
    "                                          'visitorId' : pd.Series.nunique, \n",
    "                                          'revenue' : 'sum'}), axis=1).sort_values(by=['date','group'])\n",
    "\n",
    "visitorsAggregated = datesGroups.apply(lambda x: visitors[np.logical_and(visitors['date'] <= x['date'], visitors['group'] == x['group'])]. \\\n",
    "                                       agg({'date' : 'max', \n",
    "                                            'group' : 'max', \n",
    "                                            'visitors' : 'sum'}), axis=1).sort_values(by=['date','group'])\n",
    "\n",
    "cumulativeData = ordersAggregated.merge(visitorsAggregated, left_on=['date', 'group'], right_on=['date', 'group'])\n",
    "cumulativeData.columns = ['date', 'group', 'orders', 'buyers', 'revenue', 'visitors']\n",
    "\n",
    "cumulativeData.head(5)"
   ]
  },
  {
   "cell_type": "code",
   "execution_count": null,
   "metadata": {},
   "outputs": [],
   "source": [
    "cumulativeRevenueA = cumulativeData[cumulativeData['group']=='A'][['date','revenue', 'orders']]\n",
    "cumulativeRevenueB = cumulativeData[cumulativeData['group']=='B'][['date','revenue', 'orders']]\n",
    "\n",
    "from pandas.plotting import register_matplotlib_converters\n",
    "register_matplotlib_converters()\n",
    "\n",
    "plt.figure(figsize=(15,5))\n",
    "plt.plot(cumulativeRevenueA['date'], cumulativeRevenueA['revenue'], label='Кум.выручка группы A')\n",
    "plt.plot(cumulativeRevenueB['date'], cumulativeRevenueB['revenue'], label='Кум.выручка группы B')\n",
    "plt.grid()\n",
    "plt.legend()\n",
    "plt.title('График кумулятивной выручки групп \"B\" и \"А\"')\n",
    "plt.show()"
   ]
  },
  {
   "cell_type": "markdown",
   "metadata": {},
   "source": [
    "*По графику видно что выручка в группе \"B\" растёт чуть быстрее, чем в \"A\". 13 августа выручки примерно равны. А  после 13 августа в группе \"B\" выручка начинает расти значительно больше.Стоит отметить сильный всплеск выручки в группе \"B\" 19 августа, возможно был крупный заказ.*"
   ]
  },
  {
   "cell_type": "markdown",
   "metadata": {},
   "source": [
    "Посмотрим какие заказы были в районе 19 августа"
   ]
  },
  {
   "cell_type": "code",
   "execution_count": null,
   "metadata": {},
   "outputs": [],
   "source": [
    "cumulativeRevenueB.query(' \"2019-08-17\" <= date <= \"2019-08-21\" ')"
   ]
  },
  {
   "cell_type": "code",
   "execution_count": null,
   "metadata": {},
   "outputs": [],
   "source": [
    "print('Медианное значение одного заказа 19 августа =',orders.query(' date == \"2019-08-19\" ')['revenue'].median())\n",
    "orders.query(' date == \"2019-08-19\" ').sort_values(by='revenue', ascending=False).head(10)"
   ]
  },
  {
   "cell_type": "markdown",
   "metadata": {},
   "source": [
    "*В таблице есть один заказ №425 на ~1,3млн в группе \"B\" 19 августа (в 492 раза больше медианы=2630 за этот день) в то время как остальные заказы не больше 44 тысяч . Поскольку этот заказ один, то его в принципе можно считать выбросом и при дальнейшем анализе это надо учитывать.*"
   ]
  },
  {
   "cell_type": "markdown",
   "metadata": {},
   "source": [
    "### 3.2 График кумулятивного среднего чека"
   ]
  },
  {
   "cell_type": "code",
   "execution_count": null,
   "metadata": {},
   "outputs": [],
   "source": [
    "plt.figure(figsize=(15,5))\n",
    "plt.grid()\n",
    "plt.plot(cumulativeRevenueA['date'], cumulativeRevenueA['revenue']/cumulativeRevenueA['orders'], label='средний кумулятивный чек группы A')\n",
    "plt.plot(cumulativeRevenueB['date'], cumulativeRevenueB['revenue']/cumulativeRevenueB['orders'], label='средний кумулятивный чек группы B')\n",
    "plt.legend()\n",
    "plt.title('График кумулятивного среденго чека групп \"B\" и \"А\"')\n",
    "plt.show()"
   ]
  },
  {
   "cell_type": "markdown",
   "metadata": {},
   "source": [
    "*Данный график похож с графиком кум.выручки. В первой половине в группе \"B\" чек преимущественно больше, но есть даты где и наоборот - чек больше в \"A\" - это 1 августа и 12-14 августа. Далее чек группы \"B\" резко начинает расти. Но также на графике видно сильное влияние на ср.чек огромного заказа №425, кстати после этого заказа (19 августа) средний чек в \"B\" постепенно начинает снижаться, в то время как в \"A\" он с 18 августа постепенно начинает расти.*"
   ]
  },
  {
   "cell_type": "markdown",
   "metadata": {},
   "source": [
    "### 3.3 График относительного изменения кумулятивного среднего чека"
   ]
  },
  {
   "cell_type": "code",
   "execution_count": null,
   "metadata": {},
   "outputs": [],
   "source": [
    "mergedCumulativeRevenue = cumulativeRevenueA.merge(cumulativeRevenueB, left_on='date', right_on='date', how='left', suffixes=['A', 'B'])\n",
    "\n",
    "plt.figure(figsize=(15,5))\n",
    "plt.grid()\n",
    "plt.plot(mergedCumulativeRevenue['date'], (mergedCumulativeRevenue['revenueB']/mergedCumulativeRevenue['ordersB'])/ \\\n",
    "         (mergedCumulativeRevenue['revenueA']/mergedCumulativeRevenue['ordersA'])-1)\n",
    "plt.title('Относительное изменение кумулятивного среднего чека групп \"B\" к \"А\"')\n",
    "plt.axhline(y=0, color='black', linestyle='--') \n",
    "plt.show();"
   ]
  },
  {
   "cell_type": "markdown",
   "metadata": {},
   "source": [
    "*Средний чек \"B\" рос с 1 августа, 2 августа уже превысил \"A\" и рос до 7 августа. 7-8 начал падать до 13 августа, при этом 3 дня 12-14 акгуста средний чек \"A\" был больше \"B\". С 13 чек \"B\" опять начал расти и 15 августа  чек \"B\" стал больше и находился больше \"A\" до конца месяца. Опять же хорошо видно, что 19 августа был сильный всплеск за счет заказа №425 , а после средний чек \"B\" также начал снижаться.*"
   ]
  },
  {
   "cell_type": "markdown",
   "metadata": {},
   "source": [
    "### 3.4 График кумулятивной конверсии"
   ]
  },
  {
   "cell_type": "code",
   "execution_count": null,
   "metadata": {},
   "outputs": [],
   "source": [
    "cumulativeData['conversion'] = cumulativeData['orders']/cumulativeData['visitors']\n",
    "\n",
    "cumulativeDataA = cumulativeData[cumulativeData['group']=='A']\n",
    "cumulativeDataB = cumulativeData[cumulativeData['group']=='B']\n",
    "\n",
    "plt.figure(figsize=(15,5))\n",
    "plt.grid()\n",
    "plt.plot(cumulativeDataA['date'], cumulativeDataA['conversion'], label='кумулятивная конверсия A')\n",
    "plt.plot(cumulativeDataB['date'], cumulativeDataB['conversion'], label='кумулятивная конверсия B')\n",
    "plt.title('Кумулятивная конверсия')\n",
    "plt.legend()\n",
    "plt.show();\n"
   ]
  },
  {
   "cell_type": "markdown",
   "metadata": {},
   "source": [
    "*С 1-6 августа конверсия \"A\" была больше \"В\". Начиная с 6 августа и до конца месяца конверсия \"В\" преобладает над \"А\". При этом \"В\" в большей части находился в длиапазоне от 0.033-0.036, а \"А\"  от 0.031- 0.030 и ниже. Можно сделать вывод - конверсия группы \"B\" в целом значительно больше \"A\".*"
   ]
  },
  {
   "cell_type": "markdown",
   "metadata": {},
   "source": [
    "### 3.5 График относительного изменения кумулятивной конверсии"
   ]
  },
  {
   "cell_type": "code",
   "execution_count": null,
   "metadata": {},
   "outputs": [],
   "source": [
    "mergedCumulativeConversions = cumulativeDataA[['date','conversion']].merge(cumulativeDataB[['date','conversion']], \\\n",
    "                                                    left_on='date', right_on='date', how='left', suffixes=['A', 'B'])\n",
    "plt.figure(figsize=(15,5))\n",
    "plt.grid()\n",
    "plt.plot(mergedCumulativeConversions['date'], mergedCumulativeConversions['conversionB']/mergedCumulativeConversions['conversionA']-1, label=\"Относительный прирост конверсии группы B относительно группы A\")\n",
    "\n",
    "plt.title('Относительное изменение кумулятивной конверсии группы B к группе A')\n",
    "\n",
    "plt.axhline(y=0, color='black', linestyle='--') \n",
    "plt.axhline(y=0.1, color='grey', linestyle='--')\n",
    "plt.axhline(y=0.21, color='grey', linestyle='--')\n",
    "plt.axhline(y=0.057, color='grey', linestyle='--')\n",
    "plt.show();"
   ]
  },
  {
   "cell_type": "markdown",
   "metadata": {},
   "source": [
    "*Данный график похож на график 3.4, то выводы будут схожи. С 1 по 5 августа - несколько дней когда конверсия в \"A\" была больше на 5-10%; но исключение в этот период это 2 августа - был  рост конверсии в группе \"B\" и по итогу дня результат \"B\" был на 5% больше \"A\". Начиная с 6 августа группа \"B\" лидировала до конца периода; её конверсия росла до 15 августа и разница с \"A\" на максимуме составила 21%, затем пошло постепенное снижение отностельной конверсии до 10%-14%.*"
   ]
  },
  {
   "cell_type": "markdown",
   "metadata": {},
   "source": [
    "### 3.6 График количества заказов по пользователям"
   ]
  },
  {
   "cell_type": "code",
   "execution_count": null,
   "metadata": {},
   "outputs": [],
   "source": [
    "ordersByUsers = orders.drop(['group', 'revenue', 'date'], axis=1).groupby('visitorId', as_index=False). \\\n",
    "                                                                        agg({'transactionId' : pd.Series.nunique})\n",
    "\n",
    "ordersByUsers.columns = ['user_id','orders']\n",
    "\n",
    "ordersByUsers.sort_values(by='orders',ascending=False).head(10)"
   ]
  },
  {
   "cell_type": "code",
   "execution_count": null,
   "metadata": {},
   "outputs": [],
   "source": [
    "x_values = pd.Series(range(0,len(ordersByUsers)))\n",
    "\n",
    "plt.figure(figsize=(15,5))\n",
    "plt.grid()\n",
    "plt.title('График количества заказов по пользователям')\n",
    "plt.scatter(x_values, ordersByUsers['orders'], alpha=0.5) ;"
   ]
  },
  {
   "cell_type": "markdown",
   "metadata": {},
   "source": [
    "*Больше всего пользователей совершили 1 заказ. Тех кто совершили 2 заказа уже намного меньше. И уже те кто совершил 3 заказа и более только уменьшается. Можно предположить что выше 3 заказов это аномалия.*"
   ]
  },
  {
   "cell_type": "markdown",
   "metadata": {},
   "source": [
    "### 3.7 Граница заказов для определения аномальных пользователей"
   ]
  },
  {
   "cell_type": "code",
   "execution_count": null,
   "metadata": {},
   "outputs": [],
   "source": [
    "print('Рассчитаем 95 и 99 перцентили по заказам : ', np.percentile(ordersByUsers['orders'], [95, 99])) "
   ]
  },
  {
   "cell_type": "code",
   "execution_count": null,
   "metadata": {},
   "outputs": [],
   "source": [
    "print('перцентили c 95 по 99 (по заказам) : ', np.percentile(ordersByUsers['orders'], [95,96,97,98, 99]))"
   ]
  },
  {
   "cell_type": "markdown",
   "metadata": {},
   "source": [
    "*Большинство пользователей (98%) делают 1 или 2 заказа. Всё что выше - это аномалия*"
   ]
  },
  {
   "cell_type": "markdown",
   "metadata": {},
   "source": [
    "### 3.8 График стоимостей заказов"
   ]
  },
  {
   "cell_type": "code",
   "execution_count": null,
   "metadata": {},
   "outputs": [],
   "source": [
    "x_values = pd.Series(range(0,len(orders['revenue'])))\n",
    "plt.figure(figsize=(15,5))\n",
    "plt.grid()\n",
    "plt.title('График стоимостей заказов')\n",
    "plt.scatter(x_values, orders['revenue'], alpha=0.5);"
   ]
  },
  {
   "cell_type": "code",
   "execution_count": null,
   "metadata": {},
   "outputs": [],
   "source": [
    "norm_orders = orders[orders['revenue']<=195000]['revenue']\n",
    "xn_values = pd.Series(range(0,len(norm_orders)))\n",
    "plt.figure(figsize=(15,5))\n",
    "plt.grid()\n",
    "plt.title('График стоимостей заказов')\n",
    "plt.scatter(xn_values, norm_orders, alpha=0.5);"
   ]
  },
  {
   "cell_type": "markdown",
   "metadata": {},
   "source": [
    "*На графике виден тот самый аномальный заказ №425 (1.3 млн) и еще один на ~200 тысяц, остальные примерно не больше 100 тысяч.*"
   ]
  },
  {
   "cell_type": "markdown",
   "metadata": {},
   "source": [
    "### 3.9 Граница для определения аномальных заказов (по выручке)"
   ]
  },
  {
   "cell_type": "code",
   "execution_count": null,
   "metadata": {},
   "outputs": [],
   "source": [
    "print('Рассчитаем 95 и 99 перцентили по выручке заказов : ', np.percentile(orders['revenue'], [95, 99]))"
   ]
  },
  {
   "cell_type": "markdown",
   "metadata": {},
   "source": [
    "*99% заказов меньше суммы 58233.2, установим ее в качестве границы выбросов*"
   ]
  },
  {
   "cell_type": "markdown",
   "metadata": {},
   "source": [
    "### 3.10 Различия в конверсии между группами по «сырым» данным"
   ]
  },
  {
   "cell_type": "code",
   "execution_count": null,
   "metadata": {},
   "outputs": [],
   "source": [
    "visitors.head()"
   ]
  },
  {
   "cell_type": "code",
   "execution_count": null,
   "metadata": {},
   "outputs": [],
   "source": [
    "orders.head()"
   ]
  },
  {
   "cell_type": "code",
   "execution_count": null,
   "metadata": {},
   "outputs": [],
   "source": [
    "# Соберем все данные по заказам и визитам (а также добавим кумулятивные показатели) в одну таблицу\n",
    "visitorsADaily = visitors[visitors['group']=='A'][['date', 'visitors']]\n",
    "visitorsADaily.columns = ['date', 'visitorsPerDateA']\n",
    "\n",
    "visitorsACummulative = visitorsADaily.apply(lambda x: visitorsADaily[visitorsADaily['date'] <= x['date']]. \\\n",
    "                                            agg({'date' : 'max', 'visitorsPerDateA' : 'sum'}), axis=1)\n",
    "visitorsACummulative.columns = ['date', 'visitorsCummulativeA']\n",
    "\n",
    "visitorsBDaily = visitors[visitors['group']=='B'][['date', 'visitors']]\n",
    "visitorsBDaily.columns = ['date', 'visitorsPerDateB']\n",
    "\n",
    "visitorsBCummulative = visitorsBDaily.apply(lambda x: visitorsBDaily[visitorsBDaily['date'] <= x['date']]. \\\n",
    "                                            agg({'date' : 'max', 'visitorsPerDateB' : 'sum'}), axis=1)\n",
    "visitorsBCummulative.columns = ['date', 'visitorsCummulativeB']\n",
    "\n",
    "\n",
    "ordersADaily = orders[orders['group']=='A'][['date', 'transactionId', 'visitorId', 'revenue']]\\\n",
    "    .groupby('date', as_index=False)\\\n",
    "    .agg({'transactionId' : pd.Series.nunique, 'revenue' : 'sum'})\n",
    "ordersADaily.columns = ['date', 'ordersPerDateA', 'revenuePerDateA']\n",
    "\n",
    "ordersACummulative = ordersADaily.apply(\n",
    "    lambda x: \\\n",
    "        ordersADaily[ordersADaily['date'] <= x['date']]\\\n",
    "            .agg({\n",
    "                'date' : 'max',\n",
    "                'ordersPerDateA' : 'sum',\n",
    "                'revenuePerDateA' : 'sum'}), axis=1).sort_values(by=['date'])\n",
    "ordersACummulative.columns = ['date', 'ordersCummulativeA', 'revenueCummulativeA']\n",
    "\n",
    "ordersBDaily = orders[orders['group']=='B'][['date', 'transactionId', 'visitorId', 'revenue']]\\\n",
    "    .groupby('date', as_index=False)\\\n",
    "    .agg({'transactionId' : pd.Series.nunique, 'revenue' : 'sum'})\n",
    "ordersBDaily.columns = ['date', 'ordersPerDateB', 'revenuePerDateB']\n",
    "\n",
    "ordersBCummulative = ordersBDaily.apply(\n",
    "    lambda x: \\\n",
    "        ordersBDaily[ordersBDaily['date'] <= x['date']]\\\n",
    "            .agg({\n",
    "                'date' : 'max',\n",
    "                'ordersPerDateB' : 'sum',\n",
    "                'revenuePerDateB' : 'sum'}), axis=1).sort_values(by=['date'])\n",
    "ordersBCummulative.columns = ['date', 'ordersCummulativeB', 'revenueCummulativeB']"
   ]
  },
  {
   "cell_type": "code",
   "execution_count": null,
   "metadata": {},
   "outputs": [],
   "source": [
    "data = ordersADaily.merge(ordersBDaily, left_on='date', right_on='date', how='left')\\\n",
    "    .merge(ordersACummulative, left_on='date', right_on='date', how='left')\\\n",
    "    .merge(ordersBCummulative, left_on='date', right_on='date', how='left')\\\n",
    "    .merge(visitorsADaily, left_on='date', right_on='date', how='left')\\\n",
    "    .merge(visitorsBDaily, left_on='date', right_on='date', how='left')\\\n",
    "    .merge(visitorsACummulative, left_on='date', right_on='date', how='left')\\\n",
    "    .merge(visitorsBCummulative, left_on='date', right_on='date', how='left')\n",
    "data.head()"
   ]
  },
  {
   "cell_type": "markdown",
   "metadata": {},
   "source": [
    "**Применим критерий и отформатируем p-value, округлив его до трёх знаков после запятой. В sampleA сохраним выборку, где каждый элемент — число заказов определённого пользователя, в том числе 0. Значит, число элементов sampleA — это количество пользователей, сумма всех элементов — количество заказов. Чтобы получить конверсию в группе, поделим сумму заказов на число пользователей — найдём среднее в выборке sampleA методом mean(). Аналогично найдём конверсию группы B: SampleB.mean().\n",
    "Выведем относительный прирост конверсии группы B: конверсия группы B / конверсия группы A - 1. Округлим до трёх знаков после запятой (пороговое значение возьмём равное 5%).**\n",
    "\n",
    "**За нулевую гипотезу возьмём что: \"статистически значимых различий в конверсии между группами нет\"; тогда альтернативная гипотеза будет гласить - статистически значимые различия есть.**"
   ]
  },
  {
   "cell_type": "code",
   "execution_count": null,
   "metadata": {},
   "outputs": [],
   "source": [
    "ordersByUsersA = orders[orders['group']=='A'].groupby('visitorId', as_index=False).agg({'transactionId' : pd.Series.nunique})\n",
    "ordersByUsersA.columns = ['userId', 'orders']\n",
    "\n",
    "ordersByUsersB = orders[orders['group']=='B'].groupby('visitorId', as_index=False).agg({'transactionId' : pd.Series.nunique})\n",
    "ordersByUsersB.columns = ['userId', 'orders']\n",
    "\n",
    "sampleA = pd.concat([ordersByUsersA['orders'],pd.Series(0, index=np.arange(data['visitorsPerDateA'].sum() - len(ordersByUsersA['orders'])), name='orders')],axis=0)\n",
    "\n",
    "sampleB = pd.concat([ordersByUsersB['orders'],pd.Series(0, index=np.arange(data['visitorsPerDateB'].sum() - len(ordersByUsersB['orders'])), name='orders')],axis=0)\n",
    "\n",
    "print(\"alpha =\",0.05)\n",
    "print(\"p-value = {0:.3f}\".format(stats.mannwhitneyu(sampleA, sampleB, alternative = 'two-sided')[1]))\n",
    "print(\"Относительный показатель 'B' и 'A' = {0:.3f}\".format(sampleB.mean()/sampleA.mean()-1)) "
   ]
  },
  {
   "cell_type": "markdown",
   "metadata": {},
   "source": [
    "*Вывод: p-value = 0.017 меньше 0.05. Значит, нулевую гипотезу о том, что статистически значимых различий в конверсии между группами нет, - отвергаем.Получается: по «сырым» данным различия в конверсии групп A и B есть. А относительный выигрыш группы \"B\" над \"A\" равен 13.8% .*"
   ]
  },
  {
   "cell_type": "markdown",
   "metadata": {},
   "source": [
    "### 3.11 Статистическая значимость различий в среднем чеке заказа между группами по «сырым» данным"
   ]
  },
  {
   "cell_type": "markdown",
   "metadata": {},
   "source": [
    "Чтобы рассчитать статистическую значимость различий в среднем чеке между группами, передадим критерию mannwhitneyu() данные о выручке с заказов (пороговое значение возьмём равное 5%). И найдём относительные различия в среднем чеке между группами.\n",
    "\n",
    "За нулевую гипотезу возьмём что: \"статистически значимых различий в средних чеках между группами нет\"; тогда альтернативная гипотеза будет гласить - статистически значимые различия есть."
   ]
  },
  {
   "cell_type": "code",
   "execution_count": null,
   "metadata": {},
   "outputs": [],
   "source": [
    "print(\"alpha =\",0.05)\n",
    "print(\"p-value = {0:.3f}\".format(stats.mannwhitneyu(orders[orders['group']=='A']['revenue'], orders[orders['group']=='B']['revenue'], alternative = 'two-sided')[1]))\n",
    "print(\"Относительный показатель 'B' и 'A' = {0:.3f}\".format(orders[orders['group']=='B']['revenue'].mean()/orders[orders['group']=='A']['revenue'].mean()-1)) "
   ]
  },
  {
   "cell_type": "markdown",
   "metadata": {},
   "source": [
    "*P-value значительно больше 0.05. Значит, мы не можем отвергать нулевую гипотезу. То есть средние чеки по \"сырым\" данным схожи. И при этом, средний чек группы B значительно выше среднего чека группы A (на 26%).*"
   ]
  },
  {
   "cell_type": "markdown",
   "metadata": {},
   "source": [
    "### 3.12 Различия в конверсии между группами по «очищенным» данным"
   ]
  },
  {
   "cell_type": "markdown",
   "metadata": {},
   "source": [
    "Вспомним - из предыдущих пунктов мы приняли за аномальных пользователей тех, кто совершил 3 и больше заказов или совершил заказ дороже 58233.2 рублей. Сделаем срезы пользователей с числом заказов больше 2 — usersWithManyOrders и пользователей, совершивших заказы дороже 58233.2 — usersWithExpensiveOrders. Объединим их в таблице abnormalUsers. Узнаем, сколько всего аномальных пользователей методом shape()."
   ]
  },
  {
   "cell_type": "code",
   "execution_count": null,
   "metadata": {},
   "outputs": [],
   "source": [
    "usersWithManyOrders = pd.concat([ordersByUsersA[ordersByUsersA['orders'] > 2]['userId'], ordersByUsersB[ordersByUsersB['orders'] > 2]['userId']], axis = 0)\n",
    "usersWithExpensiveOrders = orders[orders['revenue'] > 58233.2]['visitorId']\n",
    "abnormalUsers = pd.concat([usersWithManyOrders, usersWithExpensiveOrders], axis = 0).drop_duplicates().sort_values()\n",
    "print(abnormalUsers.head(5))\n",
    "print(\"Всего 'ненормальных' пользователей =\" ,len(abnormalUsers)) "
   ]
  },
  {
   "cell_type": "markdown",
   "metadata": {},
   "source": [
    "Узнаем, как их действия повлияли на результаты теста. Посчитаем статистическую значимость различий в конверсии между группами теста по очищенным данным. Сначала подготовим выборки количества заказов по пользователям по группам теста:"
   ]
  },
  {
   "cell_type": "code",
   "execution_count": null,
   "metadata": {},
   "outputs": [],
   "source": [
    "sampleAFiltered = pd.concat([ordersByUsersA[np.logical_not(ordersByUsersA['userId'].isin(abnormalUsers))]['orders'], \\\n",
    "                             pd.Series(0, index=np.arange(data['visitorsPerDateA'].sum() - len(ordersByUsersA['orders'])), \\\n",
    "                                       name='orders')],axis=0)\n",
    "\n",
    "sampleBFiltered = pd.concat([ordersByUsersB[np.logical_not(ordersByUsersB['userId'].isin(abnormalUsers))]['orders'], \\\n",
    "                             pd.Series(0, index=np.arange(data['visitorsPerDateB'].sum() - len(ordersByUsersB['orders'])), \\\n",
    "                                       name='orders')],axis=0) \n"
   ]
  },
  {
   "cell_type": "markdown",
   "metadata": {},
   "source": [
    "Применим статистический критерий Манна-Уитни к полученным выборкам,\n",
    "\n",
    "За нулевую гипотезу возьмём что: \"статистически значимых различий в конверсии между группами нет\"; тогда альтернативная гипотеза будет гласить - статистически значимые различия есть."
   ]
  },
  {
   "cell_type": "code",
   "execution_count": null,
   "metadata": {},
   "outputs": [],
   "source": [
    "print(\"alpha =\",0.05)\n",
    "print(\"p-value = {0:.3f}\".format(stats.mannwhitneyu(sampleAFiltered, sampleBFiltered, alternative = 'two-sided')[1]))\n",
    "print(\"Относительный показатель 'B' и 'A' = {0:.3f}\".format(sampleBFiltered.mean()/sampleAFiltered.mean()-1)) "
   ]
  },
  {
   "cell_type": "markdown",
   "metadata": {},
   "source": [
    "*Вывод: p-value = 0.01 меньше 0.05. Значит, нулевую гипотезу  - отвергаем. Это значит: что по «очищенным» данным различия в конверсии групп A и B есть. А относительный выигрыш группы \"B\" над \"A\" равен 17,4% (выше, чем с «сырыми» данными - 13.8%) .*"
   ]
  },
  {
   "cell_type": "markdown",
   "metadata": {},
   "source": [
    "### 3.13 Статистическая значимость различий в среднем чеке заказа между группами по «очищенным» данным"
   ]
  },
  {
   "cell_type": "markdown",
   "metadata": {},
   "source": [
    "А теперь п     осмотрим произошло ли что-нибудь с результатами по среднему чеку?\n",
    "\n",
    "За нулевую гипотезу возьмём что: \"статистически значимых различий в средних чеках между группами нет\"; тогда альтернативная гипотеза будет гласить - статистически значимые различия есть."
   ]
  },
  {
   "cell_type": "code",
   "execution_count": null,
   "metadata": {},
   "outputs": [],
   "source": [
    "print(\"alpha =\",0.05)\n",
    "print(\"p-value = {0:.3f}\".format(stats.mannwhitneyu(\n",
    "    orders[np.logical_and(\n",
    "        orders['group']=='A',\n",
    "        np.logical_not(orders['visitorId'].isin(abnormalUsers)))]['revenue'],\n",
    "    orders[np.logical_and(\n",
    "        orders['group']=='B',\n",
    "        np.logical_not(orders['visitorId'].isin(abnormalUsers)))]['revenue'], alternative = 'two-sided')[1]))\n",
    "\n",
    "print(\"Относительный показатель 'B' и 'A' = {0:.3f}\".format(\n",
    "    orders[np.logical_and(orders['group']=='B',np.logical_not(orders['visitorId'].isin(abnormalUsers)))]['revenue'].mean()/\n",
    "    orders[np.logical_and(\n",
    "        orders['group']=='A',\n",
    "        np.logical_not(orders['visitorId'].isin(abnormalUsers)))]['revenue'].mean() - 1)) "
   ]
  },
  {
   "cell_type": "markdown",
   "metadata": {},
   "source": [
    "*P-value значительно больше 0.05. Значит, причин отвергать нулевую гипотезу нет (как и с \"Сырыми\" данными). А вот средний чек группы B оказался незначительно (на 2%) ниже среднего чека группы A, в то время как по \"сырым\" данным, он был больше аж на ~26%, - и всё это из-за одного того самого аномального заказа №425 на 1,3 млн !*"
   ]
  },
  {
   "cell_type": "markdown",
   "metadata": {},
   "source": [
    "### 3.14 Решение по результатам теста"
   ]
  },
  {
   "cell_type": "markdown",
   "metadata": {},
   "source": [
    "## По результатам тестирования было выявлено:"
   ]
  },
  {
   "cell_type": "markdown",
   "metadata": {},
   "source": [
    "- Есть различия в конверсии групп A и B есть по \"сырым\" и \"очищенным\" данным. Относительный выигрыш группы \"B\" над \"A\" равен 17,4% по \"очищенным\" и 13.8% по \"сырым\" данным.\n",
    "\n",
    "- По \"сырым\" и \"очищенным\" данным различия в средних чеках групп A и B отстутствуют, несмотря на то, что средний чек группы B оказался незначительно (на 2%) ниже среднего чека группы A по \"очищенным\" данным, в то время как по \"сырым\" данным, он был больше аж на 26%, - и всё это из-за аномального заказа №425 на 1,3 млн. Всё логично аномальный заказ убрали и чеки сравнялись.\n",
    "\n",
    "*В итоге можно принять решение остановить тестирование и констатировать победу группы B : группа B значительно лучше  группы A по конверсии, хотя по среднему чеку группы примерно равны.*"
   ]
  }
 ],
 "metadata": {
  "ExecuteTimeLog": [
   {
    "duration": 863,
    "start_time": "2023-04-13T08:07:24.317Z"
   },
   {
    "duration": 1949,
    "start_time": "2023-04-13T08:25:26.970Z"
   },
   {
    "duration": 247,
    "start_time": "2023-04-13T08:25:35.413Z"
   },
   {
    "duration": 14,
    "start_time": "2023-04-13T08:29:46.653Z"
   },
   {
    "duration": 19,
    "start_time": "2023-04-13T08:30:03.123Z"
   },
   {
    "duration": 11,
    "start_time": "2023-04-13T08:38:06.025Z"
   },
   {
    "duration": 8,
    "start_time": "2023-04-13T08:38:16.114Z"
   },
   {
    "duration": 16,
    "start_time": "2023-04-13T08:38:40.263Z"
   },
   {
    "duration": 11,
    "start_time": "2023-04-13T08:39:03.929Z"
   },
   {
    "duration": 277,
    "start_time": "2023-04-13T08:39:16.235Z"
   },
   {
    "duration": 20,
    "start_time": "2023-04-13T08:39:41.572Z"
   },
   {
    "duration": 10,
    "start_time": "2023-04-13T08:39:52.929Z"
   },
   {
    "duration": 9,
    "start_time": "2023-04-13T08:40:05.134Z"
   },
   {
    "duration": 8,
    "start_time": "2023-04-13T08:40:33.213Z"
   },
   {
    "duration": 11,
    "start_time": "2023-04-13T08:41:21.632Z"
   },
   {
    "duration": 8,
    "start_time": "2023-04-13T08:41:29.075Z"
   },
   {
    "duration": 6,
    "start_time": "2023-04-13T08:41:41.122Z"
   },
   {
    "duration": 1281,
    "start_time": "2023-04-13T08:41:51.046Z"
   },
   {
    "duration": 786,
    "start_time": "2023-04-13T08:42:07.058Z"
   },
   {
    "duration": 2183,
    "start_time": "2023-04-13T08:42:49.718Z"
   },
   {
    "duration": 11,
    "start_time": "2023-04-13T08:42:59.914Z"
   },
   {
    "duration": 1645,
    "start_time": "2023-04-13T08:43:14.994Z"
   },
   {
    "duration": 1287,
    "start_time": "2023-04-13T08:44:01.274Z"
   },
   {
    "duration": 9,
    "start_time": "2023-04-13T08:44:21.936Z"
   },
   {
    "duration": 1507,
    "start_time": "2023-04-13T08:44:37.275Z"
   },
   {
    "duration": 84,
    "start_time": "2023-04-13T08:44:38.785Z"
   },
   {
    "duration": 16,
    "start_time": "2023-04-13T08:44:38.871Z"
   },
   {
    "duration": 37,
    "start_time": "2023-04-13T08:44:38.889Z"
   },
   {
    "duration": 21,
    "start_time": "2023-04-13T08:44:38.930Z"
   },
   {
    "duration": 32,
    "start_time": "2023-04-13T08:44:38.953Z"
   },
   {
    "duration": 25,
    "start_time": "2023-04-13T08:44:38.987Z"
   },
   {
    "duration": 41,
    "start_time": "2023-04-13T08:44:39.014Z"
   },
   {
    "duration": 38,
    "start_time": "2023-04-13T08:44:39.057Z"
   },
   {
    "duration": 25,
    "start_time": "2023-04-13T08:44:39.097Z"
   },
   {
    "duration": 8,
    "start_time": "2023-04-13T08:44:39.124Z"
   },
   {
    "duration": 8,
    "start_time": "2023-04-13T08:44:39.134Z"
   },
   {
    "duration": 12,
    "start_time": "2023-04-13T08:44:39.144Z"
   },
   {
    "duration": 30,
    "start_time": "2023-04-13T08:44:39.160Z"
   },
   {
    "duration": 12,
    "start_time": "2023-04-13T08:44:39.192Z"
   },
   {
    "duration": 15,
    "start_time": "2023-04-13T08:44:39.205Z"
   },
   {
    "duration": 10,
    "start_time": "2023-04-13T08:44:39.222Z"
   },
   {
    "duration": 12,
    "start_time": "2023-04-13T08:44:54.877Z"
   },
   {
    "duration": 10,
    "start_time": "2023-04-13T08:45:11.720Z"
   },
   {
    "duration": 9,
    "start_time": "2023-04-13T08:45:26.747Z"
   },
   {
    "duration": 3,
    "start_time": "2023-04-13T08:45:42.755Z"
   },
   {
    "duration": 6,
    "start_time": "2023-04-13T08:45:45.841Z"
   },
   {
    "duration": 9,
    "start_time": "2023-04-13T08:46:25.202Z"
   },
   {
    "duration": 9,
    "start_time": "2023-04-13T08:46:28.517Z"
   },
   {
    "duration": 10,
    "start_time": "2023-04-13T09:08:30.480Z"
   },
   {
    "duration": 6,
    "start_time": "2023-04-13T09:08:47.209Z"
   },
   {
    "duration": 12,
    "start_time": "2023-04-13T09:08:53.834Z"
   },
   {
    "duration": 4,
    "start_time": "2023-04-13T09:09:24.720Z"
   },
   {
    "duration": 11,
    "start_time": "2023-04-13T09:10:55.270Z"
   },
   {
    "duration": 12,
    "start_time": "2023-04-13T09:31:35.334Z"
   },
   {
    "duration": 11,
    "start_time": "2023-04-13T09:31:53.662Z"
   },
   {
    "duration": 8,
    "start_time": "2023-04-13T09:32:46.938Z"
   },
   {
    "duration": 15,
    "start_time": "2023-04-13T09:33:06.323Z"
   },
   {
    "duration": 25,
    "start_time": "2023-04-13T09:33:31.200Z"
   },
   {
    "duration": 5,
    "start_time": "2023-04-13T09:33:40.950Z"
   },
   {
    "duration": 292,
    "start_time": "2023-04-13T09:33:56.438Z"
   },
   {
    "duration": 317,
    "start_time": "2023-04-13T09:34:33.103Z"
   },
   {
    "duration": 312,
    "start_time": "2023-04-13T09:34:49.929Z"
   },
   {
    "duration": 15,
    "start_time": "2023-04-13T09:59:04.431Z"
   },
   {
    "duration": 19,
    "start_time": "2023-04-13T09:59:22.534Z"
   },
   {
    "duration": 246,
    "start_time": "2023-04-13T10:00:06.773Z"
   },
   {
    "duration": 320,
    "start_time": "2023-04-13T10:02:09.110Z"
   },
   {
    "duration": 258,
    "start_time": "2023-04-13T10:02:50.243Z"
   },
   {
    "duration": 348,
    "start_time": "2023-04-13T10:03:23.371Z"
   },
   {
    "duration": 134,
    "start_time": "2023-04-13T10:03:58.849Z"
   },
   {
    "duration": 142,
    "start_time": "2023-04-13T10:04:07.211Z"
   },
   {
    "duration": 6,
    "start_time": "2023-04-13T10:04:44.734Z"
   },
   {
    "duration": 5,
    "start_time": "2023-04-13T10:04:56.273Z"
   },
   {
    "duration": 159,
    "start_time": "2023-04-13T10:05:24.609Z"
   },
   {
    "duration": 193,
    "start_time": "2023-04-13T10:05:37.710Z"
   },
   {
    "duration": 5,
    "start_time": "2023-04-13T10:06:45.507Z"
   },
   {
    "duration": 8,
    "start_time": "2023-04-13T10:07:22.471Z"
   },
   {
    "duration": 9,
    "start_time": "2023-04-13T10:07:30.712Z"
   },
   {
    "duration": 290,
    "start_time": "2023-04-13T10:07:43.674Z"
   },
   {
    "duration": 29,
    "start_time": "2023-04-13T10:08:18.112Z"
   },
   {
    "duration": 184,
    "start_time": "2023-04-13T10:08:51.132Z"
   },
   {
    "duration": 8,
    "start_time": "2023-04-13T10:09:21.928Z"
   },
   {
    "duration": 13,
    "start_time": "2023-04-13T12:34:35.011Z"
   },
   {
    "duration": 13,
    "start_time": "2023-04-13T12:35:26.607Z"
   },
   {
    "duration": 8,
    "start_time": "2023-04-13T12:35:52.346Z"
   },
   {
    "duration": 25,
    "start_time": "2023-04-13T12:36:11.337Z"
   },
   {
    "duration": 85,
    "start_time": "2023-04-13T12:36:20.060Z"
   },
   {
    "duration": 15,
    "start_time": "2023-04-13T12:37:01.001Z"
   },
   {
    "duration": 120,
    "start_time": "2023-04-13T12:37:42.603Z"
   },
   {
    "duration": 82,
    "start_time": "2023-04-18T05:53:57.597Z"
   },
   {
    "duration": 8,
    "start_time": "2023-04-18T05:54:03.707Z"
   },
   {
    "duration": 1278,
    "start_time": "2023-04-18T05:54:11.790Z"
   },
   {
    "duration": 200,
    "start_time": "2023-04-18T05:54:13.070Z"
   },
   {
    "duration": 13,
    "start_time": "2023-04-18T05:54:13.271Z"
   },
   {
    "duration": 13,
    "start_time": "2023-04-18T05:54:13.286Z"
   },
   {
    "duration": 17,
    "start_time": "2023-04-18T05:54:13.301Z"
   },
   {
    "duration": 16,
    "start_time": "2023-04-18T05:54:13.320Z"
   },
   {
    "duration": 17,
    "start_time": "2023-04-18T05:54:13.338Z"
   },
   {
    "duration": 16,
    "start_time": "2023-04-18T05:54:13.357Z"
   },
   {
    "duration": 11,
    "start_time": "2023-04-18T05:54:13.374Z"
   },
   {
    "duration": 18,
    "start_time": "2023-04-18T05:54:13.387Z"
   },
   {
    "duration": 6,
    "start_time": "2023-04-18T05:54:13.406Z"
   },
   {
    "duration": 24,
    "start_time": "2023-04-18T05:54:13.413Z"
   },
   {
    "duration": 22,
    "start_time": "2023-04-18T05:54:13.439Z"
   },
   {
    "duration": 4,
    "start_time": "2023-04-18T05:54:13.465Z"
   },
   {
    "duration": 25,
    "start_time": "2023-04-18T05:54:13.470Z"
   },
   {
    "duration": 9,
    "start_time": "2023-04-18T05:54:13.496Z"
   },
   {
    "duration": 11,
    "start_time": "2023-04-18T05:54:13.506Z"
   },
   {
    "duration": 17,
    "start_time": "2023-04-18T05:54:13.519Z"
   },
   {
    "duration": 7,
    "start_time": "2023-04-18T05:54:13.538Z"
   },
   {
    "duration": 14,
    "start_time": "2023-04-18T05:54:13.547Z"
   },
   {
    "duration": 40,
    "start_time": "2023-04-18T05:54:13.562Z"
   },
   {
    "duration": 18,
    "start_time": "2023-04-18T05:54:13.603Z"
   },
   {
    "duration": 12,
    "start_time": "2023-04-18T05:54:13.622Z"
   },
   {
    "duration": 9,
    "start_time": "2023-04-18T05:54:13.636Z"
   },
   {
    "duration": 7,
    "start_time": "2023-04-18T05:54:13.646Z"
   },
   {
    "duration": 31,
    "start_time": "2023-04-18T05:54:13.655Z"
   },
   {
    "duration": 17,
    "start_time": "2023-04-18T05:54:13.688Z"
   },
   {
    "duration": 4,
    "start_time": "2023-04-18T05:54:13.706Z"
   },
   {
    "duration": 299,
    "start_time": "2023-04-18T05:54:13.712Z"
   },
   {
    "duration": 292,
    "start_time": "2023-04-18T05:54:14.013Z"
   },
   {
    "duration": 11,
    "start_time": "2023-04-18T05:54:14.308Z"
   },
   {
    "duration": 20,
    "start_time": "2023-04-18T05:54:14.321Z"
   },
   {
    "duration": 225,
    "start_time": "2023-04-18T05:54:14.342Z"
   },
   {
    "duration": 353,
    "start_time": "2023-04-18T05:54:14.569Z"
   },
   {
    "duration": 238,
    "start_time": "2023-04-18T05:54:14.924Z"
   },
   {
    "duration": 319,
    "start_time": "2023-04-18T05:54:15.163Z"
   },
   {
    "duration": 147,
    "start_time": "2023-04-18T05:54:15.483Z"
   },
   {
    "duration": 160,
    "start_time": "2023-04-18T05:54:15.632Z"
   },
   {
    "duration": 4,
    "start_time": "2023-04-18T05:54:15.794Z"
   },
   {
    "duration": 5,
    "start_time": "2023-04-18T05:54:15.800Z"
   },
   {
    "duration": 179,
    "start_time": "2023-04-18T05:54:15.810Z"
   },
   {
    "duration": 194,
    "start_time": "2023-04-18T05:54:15.991Z"
   },
   {
    "duration": 5,
    "start_time": "2023-04-18T05:54:16.186Z"
   },
   {
    "duration": 15,
    "start_time": "2023-04-18T05:54:16.192Z"
   },
   {
    "duration": 17,
    "start_time": "2023-04-18T05:54:16.209Z"
   },
   {
    "duration": 281,
    "start_time": "2023-04-18T05:54:16.228Z"
   },
   {
    "duration": 27,
    "start_time": "2023-04-18T05:54:16.511Z"
   },
   {
    "duration": 179,
    "start_time": "2023-04-18T05:54:16.540Z"
   },
   {
    "duration": 5,
    "start_time": "2023-04-18T05:54:16.721Z"
   },
   {
    "duration": 25,
    "start_time": "2023-04-18T05:54:16.728Z"
   },
   {
    "duration": 8,
    "start_time": "2023-04-18T05:54:16.759Z"
   },
   {
    "duration": 7,
    "start_time": "2023-04-18T05:54:16.769Z"
   },
   {
    "duration": 28,
    "start_time": "2023-04-18T05:54:16.777Z"
   },
   {
    "duration": 13,
    "start_time": "2023-04-18T05:54:16.806Z"
   },
   {
    "duration": 10,
    "start_time": "2023-04-18T05:54:28.069Z"
   },
   {
    "duration": 11,
    "start_time": "2023-04-18T05:54:37.965Z"
   },
   {
    "duration": 12,
    "start_time": "2023-04-18T05:54:46.244Z"
   },
   {
    "duration": 11,
    "start_time": "2023-04-18T05:54:53.101Z"
   },
   {
    "duration": 11,
    "start_time": "2023-04-18T05:54:59.981Z"
   },
   {
    "duration": 9,
    "start_time": "2023-04-18T06:34:21.186Z"
   },
   {
    "duration": 10,
    "start_time": "2023-04-18T06:34:21.874Z"
   },
   {
    "duration": 8,
    "start_time": "2023-04-18T06:34:25.379Z"
   },
   {
    "duration": 9,
    "start_time": "2023-04-18T06:34:53.219Z"
   },
   {
    "duration": 48,
    "start_time": "2023-04-19T11:17:21.488Z"
   },
   {
    "duration": 1306,
    "start_time": "2023-04-19T11:17:34.693Z"
   },
   {
    "duration": 204,
    "start_time": "2023-04-19T11:17:36.001Z"
   },
   {
    "duration": 13,
    "start_time": "2023-04-19T11:17:36.207Z"
   },
   {
    "duration": 23,
    "start_time": "2023-04-19T11:17:36.222Z"
   },
   {
    "duration": 12,
    "start_time": "2023-04-19T11:17:36.247Z"
   },
   {
    "duration": 21,
    "start_time": "2023-04-19T11:17:36.260Z"
   },
   {
    "duration": 33,
    "start_time": "2023-04-19T11:17:36.283Z"
   },
   {
    "duration": 27,
    "start_time": "2023-04-19T11:17:36.318Z"
   },
   {
    "duration": 35,
    "start_time": "2023-04-19T11:17:36.347Z"
   },
   {
    "duration": 15,
    "start_time": "2023-04-19T11:17:36.383Z"
   },
   {
    "duration": 29,
    "start_time": "2023-04-19T11:17:36.400Z"
   },
   {
    "duration": 19,
    "start_time": "2023-04-19T11:17:36.432Z"
   },
   {
    "duration": 14,
    "start_time": "2023-04-19T11:17:36.452Z"
   },
   {
    "duration": 21,
    "start_time": "2023-04-19T11:17:36.469Z"
   },
   {
    "duration": 26,
    "start_time": "2023-04-19T11:17:36.492Z"
   },
   {
    "duration": 18,
    "start_time": "2023-04-19T11:17:36.520Z"
   },
   {
    "duration": 16,
    "start_time": "2023-04-19T11:17:36.540Z"
   },
   {
    "duration": 28,
    "start_time": "2023-04-19T11:17:36.557Z"
   },
   {
    "duration": 14,
    "start_time": "2023-04-19T11:17:36.586Z"
   },
   {
    "duration": 22,
    "start_time": "2023-04-19T11:17:36.601Z"
   },
   {
    "duration": 19,
    "start_time": "2023-04-19T11:17:36.625Z"
   },
   {
    "duration": 24,
    "start_time": "2023-04-19T11:17:36.646Z"
   },
   {
    "duration": 10,
    "start_time": "2023-04-19T11:17:36.672Z"
   },
   {
    "duration": 34,
    "start_time": "2023-04-19T11:17:36.684Z"
   },
   {
    "duration": 22,
    "start_time": "2023-04-19T11:17:36.720Z"
   },
   {
    "duration": 7,
    "start_time": "2023-04-19T11:17:36.743Z"
   },
   {
    "duration": 297,
    "start_time": "2023-04-19T11:17:36.751Z"
   },
   {
    "duration": 295,
    "start_time": "2023-04-19T11:17:37.051Z"
   },
   {
    "duration": 16,
    "start_time": "2023-04-19T11:17:37.348Z"
   },
   {
    "duration": 16,
    "start_time": "2023-04-19T11:17:37.365Z"
   },
   {
    "duration": 281,
    "start_time": "2023-04-19T11:17:37.382Z"
   },
   {
    "duration": 346,
    "start_time": "2023-04-19T11:17:37.665Z"
   },
   {
    "duration": 237,
    "start_time": "2023-04-19T11:17:38.013Z"
   },
   {
    "duration": 353,
    "start_time": "2023-04-19T11:17:38.251Z"
   },
   {
    "duration": 127,
    "start_time": "2023-04-19T11:17:38.606Z"
   },
   {
    "duration": 154,
    "start_time": "2023-04-19T11:17:38.735Z"
   },
   {
    "duration": 5,
    "start_time": "2023-04-19T11:17:38.890Z"
   },
   {
    "duration": 14,
    "start_time": "2023-04-19T11:17:38.896Z"
   },
   {
    "duration": 164,
    "start_time": "2023-04-19T11:17:38.911Z"
   },
   {
    "duration": 175,
    "start_time": "2023-04-19T11:17:39.077Z"
   },
   {
    "duration": 5,
    "start_time": "2023-04-19T11:17:39.256Z"
   },
   {
    "duration": 23,
    "start_time": "2023-04-19T11:17:39.263Z"
   },
   {
    "duration": 43,
    "start_time": "2023-04-19T11:17:39.288Z"
   },
   {
    "duration": 300,
    "start_time": "2023-04-19T11:17:39.333Z"
   },
   {
    "duration": 35,
    "start_time": "2023-04-19T11:17:39.635Z"
   },
   {
    "duration": 156,
    "start_time": "2023-04-19T11:17:39.672Z"
   },
   {
    "duration": 6,
    "start_time": "2023-04-19T11:17:39.829Z"
   },
   {
    "duration": 26,
    "start_time": "2023-04-19T11:17:39.837Z"
   },
   {
    "duration": 11,
    "start_time": "2023-04-19T11:17:39.865Z"
   },
   {
    "duration": 23,
    "start_time": "2023-04-19T11:17:39.878Z"
   },
   {
    "duration": 33,
    "start_time": "2023-04-19T11:17:39.903Z"
   },
   {
    "duration": 14,
    "start_time": "2023-04-19T11:17:39.938Z"
   },
   {
    "duration": 8,
    "start_time": "2023-04-19T11:18:11.975Z"
   },
   {
    "duration": 50,
    "start_time": "2023-04-23T07:08:36.229Z"
   },
   {
    "duration": 7,
    "start_time": "2023-04-23T07:08:41.489Z"
   },
   {
    "duration": 1526,
    "start_time": "2023-04-23T07:08:49.543Z"
   },
   {
    "duration": 258,
    "start_time": "2023-04-23T07:08:51.072Z"
   },
   {
    "duration": 14,
    "start_time": "2023-04-23T07:08:51.332Z"
   },
   {
    "duration": 18,
    "start_time": "2023-04-23T07:08:51.348Z"
   },
   {
    "duration": 17,
    "start_time": "2023-04-23T07:08:51.368Z"
   },
   {
    "duration": 16,
    "start_time": "2023-04-23T07:08:51.387Z"
   },
   {
    "duration": 29,
    "start_time": "2023-04-23T07:08:51.405Z"
   },
   {
    "duration": 22,
    "start_time": "2023-04-23T07:08:51.436Z"
   },
   {
    "duration": 40,
    "start_time": "2023-04-23T07:08:51.461Z"
   },
   {
    "duration": 15,
    "start_time": "2023-04-23T07:08:51.503Z"
   },
   {
    "duration": 27,
    "start_time": "2023-04-23T07:08:51.520Z"
   },
   {
    "duration": 32,
    "start_time": "2023-04-23T07:08:51.549Z"
   },
   {
    "duration": 18,
    "start_time": "2023-04-23T07:08:51.584Z"
   },
   {
    "duration": 15,
    "start_time": "2023-04-23T07:08:51.606Z"
   },
   {
    "duration": 35,
    "start_time": "2023-04-23T07:08:51.623Z"
   },
   {
    "duration": 16,
    "start_time": "2023-04-23T07:08:51.660Z"
   },
   {
    "duration": 28,
    "start_time": "2023-04-23T07:08:51.678Z"
   },
   {
    "duration": 13,
    "start_time": "2023-04-23T07:08:51.709Z"
   },
   {
    "duration": 17,
    "start_time": "2023-04-23T07:08:51.724Z"
   },
   {
    "duration": 19,
    "start_time": "2023-04-23T07:08:51.743Z"
   },
   {
    "duration": 37,
    "start_time": "2023-04-23T07:08:51.764Z"
   },
   {
    "duration": 14,
    "start_time": "2023-04-23T07:08:51.803Z"
   },
   {
    "duration": 390,
    "start_time": "2023-04-23T07:08:51.819Z"
   },
   {
    "duration": 424,
    "start_time": "2023-04-23T07:08:52.211Z"
   },
   {
    "duration": 13,
    "start_time": "2023-04-23T07:08:52.636Z"
   },
   {
    "duration": 38,
    "start_time": "2023-04-23T07:08:52.651Z"
   },
   {
    "duration": 278,
    "start_time": "2023-04-23T07:08:52.691Z"
   },
   {
    "duration": 385,
    "start_time": "2023-04-23T07:08:52.970Z"
   },
   {
    "duration": 258,
    "start_time": "2023-04-23T07:08:53.356Z"
   },
   {
    "duration": 315,
    "start_time": "2023-04-23T07:08:53.616Z"
   },
   {
    "duration": 150,
    "start_time": "2023-04-23T07:08:53.933Z"
   },
   {
    "duration": 178,
    "start_time": "2023-04-23T07:08:54.084Z"
   },
   {
    "duration": 5,
    "start_time": "2023-04-23T07:08:54.264Z"
   },
   {
    "duration": 18,
    "start_time": "2023-04-23T07:08:54.271Z"
   },
   {
    "duration": 173,
    "start_time": "2023-04-23T07:08:54.291Z"
   },
   {
    "duration": 225,
    "start_time": "2023-04-23T07:08:54.466Z"
   },
   {
    "duration": 4,
    "start_time": "2023-04-23T07:08:54.693Z"
   },
   {
    "duration": 21,
    "start_time": "2023-04-23T07:08:54.699Z"
   },
   {
    "duration": 26,
    "start_time": "2023-04-23T07:08:54.722Z"
   },
   {
    "duration": 292,
    "start_time": "2023-04-23T07:08:54.750Z"
   },
   {
    "duration": 42,
    "start_time": "2023-04-23T07:08:55.046Z"
   },
   {
    "duration": 188,
    "start_time": "2023-04-23T07:08:55.091Z"
   },
   {
    "duration": 7,
    "start_time": "2023-04-23T07:08:55.287Z"
   },
   {
    "duration": 18,
    "start_time": "2023-04-23T07:08:55.295Z"
   },
   {
    "duration": 10,
    "start_time": "2023-04-23T07:08:55.315Z"
   },
   {
    "duration": 11,
    "start_time": "2023-04-23T07:08:55.327Z"
   },
   {
    "duration": 51,
    "start_time": "2023-04-23T07:08:55.339Z"
   },
   {
    "duration": 18,
    "start_time": "2023-04-23T07:08:55.392Z"
   },
   {
    "duration": 16,
    "start_time": "2023-04-23T07:09:16.117Z"
   },
   {
    "duration": 9,
    "start_time": "2023-04-23T08:18:03.046Z"
   },
   {
    "duration": 11,
    "start_time": "2023-04-23T08:18:07.367Z"
   },
   {
    "duration": 34,
    "start_time": "2023-04-23T08:22:36.782Z"
   },
   {
    "duration": 9,
    "start_time": "2023-04-23T08:40:31.607Z"
   },
   {
    "duration": 9,
    "start_time": "2023-04-23T08:40:48.897Z"
   },
   {
    "duration": 1574,
    "start_time": "2023-04-23T11:28:54.588Z"
   },
   {
    "duration": 246,
    "start_time": "2023-04-23T11:28:56.164Z"
   },
   {
    "duration": 16,
    "start_time": "2023-04-23T11:28:56.412Z"
   },
   {
    "duration": 15,
    "start_time": "2023-04-23T11:28:56.431Z"
   },
   {
    "duration": 12,
    "start_time": "2023-04-23T11:28:56.448Z"
   },
   {
    "duration": 9,
    "start_time": "2023-04-23T11:28:56.463Z"
   },
   {
    "duration": 40,
    "start_time": "2023-04-23T11:28:56.473Z"
   },
   {
    "duration": 16,
    "start_time": "2023-04-23T11:28:56.516Z"
   },
   {
    "duration": 21,
    "start_time": "2023-04-23T11:28:56.535Z"
   },
   {
    "duration": 32,
    "start_time": "2023-04-23T11:28:56.559Z"
   },
   {
    "duration": 24,
    "start_time": "2023-04-23T11:28:56.592Z"
   },
   {
    "duration": 9,
    "start_time": "2023-04-23T11:28:56.619Z"
   },
   {
    "duration": 5,
    "start_time": "2023-04-23T11:28:56.631Z"
   },
   {
    "duration": 17,
    "start_time": "2023-04-23T11:28:56.638Z"
   },
   {
    "duration": 43,
    "start_time": "2023-04-23T11:28:56.656Z"
   },
   {
    "duration": 15,
    "start_time": "2023-04-23T11:28:56.701Z"
   },
   {
    "duration": 13,
    "start_time": "2023-04-23T11:28:56.718Z"
   },
   {
    "duration": 32,
    "start_time": "2023-04-23T11:28:56.734Z"
   },
   {
    "duration": 47,
    "start_time": "2023-04-23T11:28:56.768Z"
   },
   {
    "duration": 12,
    "start_time": "2023-04-23T11:28:56.818Z"
   },
   {
    "duration": 12,
    "start_time": "2023-04-23T11:28:56.833Z"
   },
   {
    "duration": 8,
    "start_time": "2023-04-23T11:28:56.847Z"
   },
   {
    "duration": 367,
    "start_time": "2023-04-23T11:28:56.857Z"
   },
   {
    "duration": 355,
    "start_time": "2023-04-23T11:28:57.226Z"
   },
   {
    "duration": 19,
    "start_time": "2023-04-23T11:28:57.583Z"
   },
   {
    "duration": 20,
    "start_time": "2023-04-23T11:28:57.607Z"
   },
   {
    "duration": 255,
    "start_time": "2023-04-23T11:28:57.630Z"
   },
   {
    "duration": 361,
    "start_time": "2023-04-23T11:28:57.889Z"
   },
   {
    "duration": 285,
    "start_time": "2023-04-23T11:28:58.252Z"
   },
   {
    "duration": 335,
    "start_time": "2023-04-23T11:28:58.539Z"
   },
   {
    "duration": 176,
    "start_time": "2023-04-23T11:28:58.876Z"
   },
   {
    "duration": 179,
    "start_time": "2023-04-23T11:28:59.054Z"
   },
   {
    "duration": 5,
    "start_time": "2023-04-23T11:28:59.235Z"
   },
   {
    "duration": 5,
    "start_time": "2023-04-23T11:28:59.242Z"
   },
   {
    "duration": 209,
    "start_time": "2023-04-23T11:28:59.248Z"
   },
   {
    "duration": 211,
    "start_time": "2023-04-23T11:28:59.459Z"
   },
   {
    "duration": 5,
    "start_time": "2023-04-23T11:28:59.672Z"
   },
   {
    "duration": 11,
    "start_time": "2023-04-23T11:28:59.679Z"
   },
   {
    "duration": 18,
    "start_time": "2023-04-23T11:28:59.692Z"
   },
   {
    "duration": 352,
    "start_time": "2023-04-23T11:28:59.713Z"
   },
   {
    "duration": 45,
    "start_time": "2023-04-23T11:29:00.067Z"
   },
   {
    "duration": 194,
    "start_time": "2023-04-23T11:29:00.114Z"
   },
   {
    "duration": 20,
    "start_time": "2023-04-23T11:29:00.316Z"
   },
   {
    "duration": 16,
    "start_time": "2023-04-23T11:29:00.338Z"
   },
   {
    "duration": 31,
    "start_time": "2023-04-23T11:29:00.356Z"
   },
   {
    "duration": 44,
    "start_time": "2023-04-23T11:29:00.394Z"
   },
   {
    "duration": 24,
    "start_time": "2023-04-23T11:29:00.440Z"
   },
   {
    "duration": 1544,
    "start_time": "2023-04-26T14:33:38.741Z"
   },
   {
    "duration": 246,
    "start_time": "2023-04-26T14:33:40.287Z"
   },
   {
    "duration": 14,
    "start_time": "2023-04-26T14:33:40.536Z"
   },
   {
    "duration": 49,
    "start_time": "2023-04-26T14:33:40.552Z"
   },
   {
    "duration": 39,
    "start_time": "2023-04-26T14:33:40.603Z"
   },
   {
    "duration": 20,
    "start_time": "2023-04-26T14:33:40.644Z"
   },
   {
    "duration": 32,
    "start_time": "2023-04-26T14:33:40.666Z"
   },
   {
    "duration": 36,
    "start_time": "2023-04-26T14:33:40.700Z"
   },
   {
    "duration": 35,
    "start_time": "2023-04-26T14:33:40.739Z"
   },
   {
    "duration": 6,
    "start_time": "2023-04-26T14:33:40.778Z"
   },
   {
    "duration": 21,
    "start_time": "2023-04-26T14:33:40.786Z"
   },
   {
    "duration": 38,
    "start_time": "2023-04-26T14:33:40.808Z"
   },
   {
    "duration": 16,
    "start_time": "2023-04-26T14:33:40.848Z"
   },
   {
    "duration": 26,
    "start_time": "2023-04-26T14:33:40.867Z"
   },
   {
    "duration": 20,
    "start_time": "2023-04-26T14:33:40.895Z"
   },
   {
    "duration": 29,
    "start_time": "2023-04-26T14:33:40.917Z"
   },
   {
    "duration": 16,
    "start_time": "2023-04-26T14:33:40.948Z"
   },
   {
    "duration": 9,
    "start_time": "2023-04-26T14:33:40.965Z"
   },
   {
    "duration": 14,
    "start_time": "2023-04-26T14:33:40.976Z"
   },
   {
    "duration": 34,
    "start_time": "2023-04-26T14:33:40.993Z"
   },
   {
    "duration": 39,
    "start_time": "2023-04-26T14:33:41.029Z"
   },
   {
    "duration": 13,
    "start_time": "2023-04-26T14:33:41.070Z"
   },
   {
    "duration": 406,
    "start_time": "2023-04-26T14:33:41.085Z"
   },
   {
    "duration": 370,
    "start_time": "2023-04-26T14:33:41.493Z"
   },
   {
    "duration": 10,
    "start_time": "2023-04-26T14:33:41.865Z"
   },
   {
    "duration": 89,
    "start_time": "2023-04-26T14:33:41.877Z"
   },
   {
    "duration": 286,
    "start_time": "2023-04-26T14:33:41.968Z"
   },
   {
    "duration": 449,
    "start_time": "2023-04-26T14:33:42.260Z"
   },
   {
    "duration": 330,
    "start_time": "2023-04-26T14:33:42.712Z"
   },
   {
    "duration": 348,
    "start_time": "2023-04-26T14:33:43.044Z"
   },
   {
    "duration": 188,
    "start_time": "2023-04-26T14:33:43.394Z"
   },
   {
    "duration": 190,
    "start_time": "2023-04-26T14:33:43.583Z"
   },
   {
    "duration": 5,
    "start_time": "2023-04-26T14:33:43.774Z"
   },
   {
    "duration": 18,
    "start_time": "2023-04-26T14:33:43.781Z"
   },
   {
    "duration": 251,
    "start_time": "2023-04-26T14:33:43.801Z"
   },
   {
    "duration": 241,
    "start_time": "2023-04-26T14:33:44.055Z"
   },
   {
    "duration": 4,
    "start_time": "2023-04-26T14:33:44.299Z"
   },
   {
    "duration": 59,
    "start_time": "2023-04-26T14:33:44.305Z"
   },
   {
    "duration": 31,
    "start_time": "2023-04-26T14:33:44.365Z"
   },
   {
    "duration": 331,
    "start_time": "2023-04-26T14:33:44.399Z"
   },
   {
    "duration": 34,
    "start_time": "2023-04-26T14:33:44.735Z"
   },
   {
    "duration": 203,
    "start_time": "2023-04-26T14:33:44.771Z"
   },
   {
    "duration": 11,
    "start_time": "2023-04-26T14:33:44.977Z"
   },
   {
    "duration": 55,
    "start_time": "2023-04-26T14:33:44.990Z"
   },
   {
    "duration": 28,
    "start_time": "2023-04-26T14:33:45.047Z"
   },
   {
    "duration": 84,
    "start_time": "2023-04-26T14:33:45.077Z"
   },
   {
    "duration": 23,
    "start_time": "2023-04-26T14:33:45.163Z"
   },
   {
    "duration": 14,
    "start_time": "2023-04-26T14:39:42.585Z"
   },
   {
    "duration": 259,
    "start_time": "2023-04-26T14:49:56.569Z"
   },
   {
    "duration": 227,
    "start_time": "2023-04-26T14:53:14.763Z"
   },
   {
    "duration": 225,
    "start_time": "2023-04-26T14:53:54.640Z"
   },
   {
    "duration": 259,
    "start_time": "2023-04-26T14:54:56.212Z"
   },
   {
    "duration": 275,
    "start_time": "2023-04-26T14:56:01.380Z"
   },
   {
    "duration": 343,
    "start_time": "2023-04-26T14:58:37.138Z"
   },
   {
    "duration": 367,
    "start_time": "2023-04-26T14:59:25.609Z"
   },
   {
    "duration": 1267,
    "start_time": "2023-04-26T15:07:19.690Z"
   },
   {
    "duration": 94,
    "start_time": "2023-04-26T15:07:20.960Z"
   },
   {
    "duration": 13,
    "start_time": "2023-04-26T15:07:21.055Z"
   },
   {
    "duration": 20,
    "start_time": "2023-04-26T15:07:21.070Z"
   },
   {
    "duration": 29,
    "start_time": "2023-04-26T15:07:21.092Z"
   },
   {
    "duration": 61,
    "start_time": "2023-04-26T15:07:21.123Z"
   },
   {
    "duration": 47,
    "start_time": "2023-04-26T15:07:21.186Z"
   },
   {
    "duration": 35,
    "start_time": "2023-04-26T15:07:21.243Z"
   },
   {
    "duration": 31,
    "start_time": "2023-04-26T15:07:21.280Z"
   },
   {
    "duration": 13,
    "start_time": "2023-04-26T15:07:21.315Z"
   },
   {
    "duration": 55,
    "start_time": "2023-04-26T15:07:21.336Z"
   },
   {
    "duration": 26,
    "start_time": "2023-04-26T15:07:21.393Z"
   },
   {
    "duration": 77,
    "start_time": "2023-04-26T15:07:21.420Z"
   },
   {
    "duration": 66,
    "start_time": "2023-04-26T15:07:21.499Z"
   },
   {
    "duration": 23,
    "start_time": "2023-04-26T15:07:21.566Z"
   },
   {
    "duration": 21,
    "start_time": "2023-04-26T15:07:21.591Z"
   },
   {
    "duration": 46,
    "start_time": "2023-04-26T15:07:21.614Z"
   },
   {
    "duration": 7,
    "start_time": "2023-04-26T15:07:21.662Z"
   },
   {
    "duration": 29,
    "start_time": "2023-04-26T15:07:21.671Z"
   },
   {
    "duration": 23,
    "start_time": "2023-04-26T15:07:21.702Z"
   },
   {
    "duration": 38,
    "start_time": "2023-04-26T15:07:21.729Z"
   },
   {
    "duration": 45,
    "start_time": "2023-04-26T15:07:21.770Z"
   },
   {
    "duration": 439,
    "start_time": "2023-04-26T15:07:21.816Z"
   },
   {
    "duration": 415,
    "start_time": "2023-04-26T15:07:22.257Z"
   },
   {
    "duration": 13,
    "start_time": "2023-04-26T15:07:22.673Z"
   },
   {
    "duration": 44,
    "start_time": "2023-04-26T15:07:22.688Z"
   },
   {
    "duration": 313,
    "start_time": "2023-04-26T15:07:22.734Z"
   },
   {
    "duration": 329,
    "start_time": "2023-04-26T15:07:23.051Z"
   },
   {
    "duration": 281,
    "start_time": "2023-04-26T15:07:23.382Z"
   },
   {
    "duration": 319,
    "start_time": "2023-04-26T15:07:23.664Z"
   },
   {
    "duration": 165,
    "start_time": "2023-04-26T15:07:23.985Z"
   },
   {
    "duration": 172,
    "start_time": "2023-04-26T15:07:24.152Z"
   },
   {
    "duration": 13,
    "start_time": "2023-04-26T15:07:24.326Z"
   },
   {
    "duration": 18,
    "start_time": "2023-04-26T15:07:24.345Z"
   },
   {
    "duration": 193,
    "start_time": "2023-04-26T15:07:24.364Z"
   },
   {
    "duration": 242,
    "start_time": "2023-04-26T15:07:24.558Z"
   },
   {
    "duration": 6,
    "start_time": "2023-04-26T15:07:24.802Z"
   },
   {
    "duration": 52,
    "start_time": "2023-04-26T15:07:24.809Z"
   },
   {
    "duration": 20,
    "start_time": "2023-04-26T15:07:24.863Z"
   },
   {
    "duration": 313,
    "start_time": "2023-04-26T15:07:24.885Z"
   },
   {
    "duration": 44,
    "start_time": "2023-04-26T15:07:25.200Z"
   },
   {
    "duration": 199,
    "start_time": "2023-04-26T15:07:25.248Z"
   },
   {
    "duration": 13,
    "start_time": "2023-04-26T15:07:25.448Z"
   },
   {
    "duration": 35,
    "start_time": "2023-04-26T15:07:25.462Z"
   },
   {
    "duration": 9,
    "start_time": "2023-04-26T15:07:25.499Z"
   },
   {
    "duration": 64,
    "start_time": "2023-04-26T15:07:25.510Z"
   },
   {
    "duration": 14,
    "start_time": "2023-04-26T15:07:25.575Z"
   },
   {
    "duration": 1358,
    "start_time": "2023-04-26T18:01:08.134Z"
   },
   {
    "duration": 256,
    "start_time": "2023-04-26T18:01:09.495Z"
   },
   {
    "duration": 13,
    "start_time": "2023-04-26T18:01:09.753Z"
   },
   {
    "duration": 20,
    "start_time": "2023-04-26T18:01:09.769Z"
   },
   {
    "duration": 14,
    "start_time": "2023-04-26T18:01:09.791Z"
   },
   {
    "duration": 20,
    "start_time": "2023-04-26T18:01:09.807Z"
   },
   {
    "duration": 19,
    "start_time": "2023-04-26T18:01:09.829Z"
   },
   {
    "duration": 33,
    "start_time": "2023-04-26T18:01:09.850Z"
   },
   {
    "duration": 24,
    "start_time": "2023-04-26T18:01:09.885Z"
   },
   {
    "duration": 7,
    "start_time": "2023-04-26T18:01:09.912Z"
   },
   {
    "duration": 29,
    "start_time": "2023-04-26T18:01:09.920Z"
   },
   {
    "duration": 25,
    "start_time": "2023-04-26T18:01:09.952Z"
   },
   {
    "duration": 22,
    "start_time": "2023-04-26T18:01:09.979Z"
   },
   {
    "duration": 32,
    "start_time": "2023-04-26T18:01:10.003Z"
   },
   {
    "duration": 39,
    "start_time": "2023-04-26T18:01:10.037Z"
   },
   {
    "duration": 12,
    "start_time": "2023-04-26T18:01:10.078Z"
   },
   {
    "duration": 18,
    "start_time": "2023-04-26T18:01:10.091Z"
   },
   {
    "duration": 23,
    "start_time": "2023-04-26T18:01:10.111Z"
   },
   {
    "duration": 18,
    "start_time": "2023-04-26T18:01:10.136Z"
   },
   {
    "duration": 17,
    "start_time": "2023-04-26T18:01:10.156Z"
   },
   {
    "duration": 9,
    "start_time": "2023-04-26T18:01:10.175Z"
   },
   {
    "duration": 10,
    "start_time": "2023-04-26T18:01:10.186Z"
   },
   {
    "duration": 326,
    "start_time": "2023-04-26T18:01:10.197Z"
   },
   {
    "duration": 309,
    "start_time": "2023-04-26T18:01:10.525Z"
   },
   {
    "duration": 10,
    "start_time": "2023-04-26T18:01:10.836Z"
   },
   {
    "duration": 29,
    "start_time": "2023-04-26T18:01:10.848Z"
   },
   {
    "duration": 233,
    "start_time": "2023-04-26T18:01:10.879Z"
   },
   {
    "duration": 429,
    "start_time": "2023-04-26T18:01:11.116Z"
   },
   {
    "duration": 231,
    "start_time": "2023-04-26T18:01:11.546Z"
   },
   {
    "duration": 330,
    "start_time": "2023-04-26T18:01:11.779Z"
   },
   {
    "duration": 135,
    "start_time": "2023-04-26T18:01:12.110Z"
   },
   {
    "duration": 163,
    "start_time": "2023-04-26T18:01:12.247Z"
   },
   {
    "duration": 4,
    "start_time": "2023-04-26T18:01:12.412Z"
   },
   {
    "duration": 6,
    "start_time": "2023-04-26T18:01:12.417Z"
   },
   {
    "duration": 195,
    "start_time": "2023-04-26T18:01:12.425Z"
   },
   {
    "duration": 227,
    "start_time": "2023-04-26T18:01:12.622Z"
   },
   {
    "duration": 5,
    "start_time": "2023-04-26T18:01:12.851Z"
   },
   {
    "duration": 12,
    "start_time": "2023-04-26T18:01:12.857Z"
   },
   {
    "duration": 8,
    "start_time": "2023-04-26T18:01:12.871Z"
   },
   {
    "duration": 294,
    "start_time": "2023-04-26T18:01:12.881Z"
   },
   {
    "duration": 39,
    "start_time": "2023-04-26T18:01:13.177Z"
   },
   {
    "duration": 175,
    "start_time": "2023-04-26T18:01:13.217Z"
   },
   {
    "duration": 11,
    "start_time": "2023-04-26T18:01:13.394Z"
   },
   {
    "duration": 13,
    "start_time": "2023-04-26T18:01:13.406Z"
   },
   {
    "duration": 15,
    "start_time": "2023-04-26T18:01:13.420Z"
   },
   {
    "duration": 46,
    "start_time": "2023-04-26T18:01:13.437Z"
   },
   {
    "duration": 14,
    "start_time": "2023-04-26T18:01:13.485Z"
   }
  ],
  "kernelspec": {
   "display_name": "Python 3 (ipykernel)",
   "language": "python",
   "name": "python3"
  },
  "language_info": {
   "codemirror_mode": {
    "name": "ipython",
    "version": 3
   },
   "file_extension": ".py",
   "mimetype": "text/x-python",
   "name": "python",
   "nbconvert_exporter": "python",
   "pygments_lexer": "ipython3",
   "version": "3.9.12"
  },
  "toc": {
   "base_numbering": 1,
   "nav_menu": {},
   "number_sections": false,
   "sideBar": true,
   "skip_h1_title": true,
   "title_cell": "Table of Contents",
   "title_sidebar": "Contents",
   "toc_cell": false,
   "toc_position": {},
   "toc_section_display": true,
   "toc_window_display": false
  }
 },
 "nbformat": 4,
 "nbformat_minor": 2
}
