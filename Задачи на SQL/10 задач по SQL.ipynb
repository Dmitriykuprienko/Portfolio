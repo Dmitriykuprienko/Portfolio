{
 "cells": [
  {
   "cell_type": "code",
   "execution_count": 1,
   "metadata": {
    "id": "nlZBlglMDWKe"
   },
   "outputs": [],
   "source": [
    "import pandas as pd\n",
    "import matplotlib.pyplot as plt\n",
    "from sqlalchemy import create_engine \n",
    "import seaborn as sns"
   ]
  },
  {
   "cell_type": "markdown",
   "metadata": {
    "id": "XnOE3n28DWKg"
   },
   "source": [
    "### Конфигурация для подключения к базе данных `data-analyst-advanced-sql`\n",
    "Эта база данных содержит схему `stackoverflow`, с которой вы будете работать в проекте"
   ]
  },
  {
   "cell_type": "code",
   "execution_count": 2,
   "metadata": {
    "id": "6p-yGp7qDWKg"
   },
   "outputs": [],
   "source": [
    "db_config = {\n",
    "    'user': 'praktikum_student', # имя пользователя\n",
    "    'pwd': 'Sdf4$2;d-d30pp', # пароль\n",
    "    'host': 'rc1b-wcoijxj3yxfsf3fs.mdb.yandexcloud.net',\n",
    "    'port': 6432, # порт подключения\n",
    "    'db': 'data-analyst-advanced-sql' # название базы данных\n",
    "}  \n",
    "\n",
    "connection_string = 'postgresql://{}:{}@{}:{}/{}'.format(\n",
    "    db_config['user'],\n",
    "    db_config['pwd'],\n",
    "    db_config['host'],\n",
    "    db_config['port'],\n",
    "    db_config['db'],\n",
    ")"
   ]
  },
  {
   "cell_type": "markdown",
   "metadata": {
    "id": "2Rg8ZpS0DWKh"
   },
   "source": [
    "Создание подключения"
   ]
  },
  {
   "cell_type": "code",
   "execution_count": 3,
   "metadata": {
    "id": "DamCUTR6DWKi"
   },
   "outputs": [],
   "source": [
    "engine = create_engine(connection_string) "
   ]
  },
  {
   "cell_type": "markdown",
   "metadata": {
    "id": "bel8XeSlDWKj"
   },
   "source": [
    "Пример запроса к базе данных\n",
    "\n",
    "`sample_df` является pandas-датафреймом."
   ]
  },
  {
   "cell_type": "code",
   "execution_count": 4,
   "metadata": {
    "id": "6Z_fw0yLDWKk"
   },
   "outputs": [],
   "source": [
    "query = '''\n",
    "SELECT *\n",
    "FROM stackoverflow.users\n",
    "LIMIT 10;\n",
    "'''\n",
    "\n",
    "sample_df = pd.read_sql_query(query, con=engine) "
   ]
  },
  {
   "cell_type": "code",
   "execution_count": 5,
   "metadata": {
    "id": "ZpuZ290oDWKk",
    "outputId": "22785a0a-e2bc-4559-ec3c-4879c4b377eb"
   },
   "outputs": [
    {
     "data": {
      "text/html": [
       "<div>\n",
       "<style scoped>\n",
       "    .dataframe tbody tr th:only-of-type {\n",
       "        vertical-align: middle;\n",
       "    }\n",
       "\n",
       "    .dataframe tbody tr th {\n",
       "        vertical-align: top;\n",
       "    }\n",
       "\n",
       "    .dataframe thead th {\n",
       "        text-align: right;\n",
       "    }\n",
       "</style>\n",
       "<table border=\"1\" class=\"dataframe\">\n",
       "  <thead>\n",
       "    <tr style=\"text-align: right;\">\n",
       "      <th></th>\n",
       "      <th>id</th>\n",
       "      <th>creation_date</th>\n",
       "      <th>display_name</th>\n",
       "      <th>last_access_date</th>\n",
       "      <th>location</th>\n",
       "      <th>reputation</th>\n",
       "      <th>views</th>\n",
       "    </tr>\n",
       "  </thead>\n",
       "  <tbody>\n",
       "    <tr>\n",
       "      <th>0</th>\n",
       "      <td>1</td>\n",
       "      <td>2008-07-31 14:22:31</td>\n",
       "      <td>Jeff Atwood</td>\n",
       "      <td>2018-08-29 02:34:23</td>\n",
       "      <td>El Cerrito, CA</td>\n",
       "      <td>44300</td>\n",
       "      <td>408587</td>\n",
       "    </tr>\n",
       "    <tr>\n",
       "      <th>1</th>\n",
       "      <td>2</td>\n",
       "      <td>2008-07-31 14:22:31</td>\n",
       "      <td>Geoff Dalgas</td>\n",
       "      <td>2018-08-23 17:31:56</td>\n",
       "      <td>Corvallis, OR</td>\n",
       "      <td>3491</td>\n",
       "      <td>23966</td>\n",
       "    </tr>\n",
       "    <tr>\n",
       "      <th>2</th>\n",
       "      <td>3</td>\n",
       "      <td>2008-07-31 14:22:31</td>\n",
       "      <td>Jarrod Dixon</td>\n",
       "      <td>2018-08-30 20:56:24</td>\n",
       "      <td>Raleigh, NC, United States</td>\n",
       "      <td>13418</td>\n",
       "      <td>24396</td>\n",
       "    </tr>\n",
       "    <tr>\n",
       "      <th>3</th>\n",
       "      <td>4</td>\n",
       "      <td>2008-07-31 14:22:31</td>\n",
       "      <td>Joel Spolsky</td>\n",
       "      <td>2018-08-14 22:18:15</td>\n",
       "      <td>New York, NY</td>\n",
       "      <td>28768</td>\n",
       "      <td>73755</td>\n",
       "    </tr>\n",
       "    <tr>\n",
       "      <th>4</th>\n",
       "      <td>5</td>\n",
       "      <td>2008-07-31 14:22:31</td>\n",
       "      <td>Jon Galloway</td>\n",
       "      <td>2018-08-29 16:48:36</td>\n",
       "      <td>San Diego, CA</td>\n",
       "      <td>39172</td>\n",
       "      <td>11700</td>\n",
       "    </tr>\n",
       "    <tr>\n",
       "      <th>5</th>\n",
       "      <td>8</td>\n",
       "      <td>2008-07-31 21:33:24</td>\n",
       "      <td>Eggs McLaren</td>\n",
       "      <td>2018-04-09 02:04:56</td>\n",
       "      <td>None</td>\n",
       "      <td>942</td>\n",
       "      <td>6372</td>\n",
       "    </tr>\n",
       "    <tr>\n",
       "      <th>6</th>\n",
       "      <td>9</td>\n",
       "      <td>2008-07-31 21:35:27</td>\n",
       "      <td>Kevin Dente</td>\n",
       "      <td>2018-08-30 18:18:03</td>\n",
       "      <td>Oakland, CA</td>\n",
       "      <td>14337</td>\n",
       "      <td>4949</td>\n",
       "    </tr>\n",
       "    <tr>\n",
       "      <th>7</th>\n",
       "      <td>11</td>\n",
       "      <td>2008-08-01 00:59:11</td>\n",
       "      <td>Anonymous User</td>\n",
       "      <td>2008-08-01 00:59:11</td>\n",
       "      <td>None</td>\n",
       "      <td>1890</td>\n",
       "      <td>2123</td>\n",
       "    </tr>\n",
       "    <tr>\n",
       "      <th>8</th>\n",
       "      <td>13</td>\n",
       "      <td>2008-08-01 04:18:05</td>\n",
       "      <td>Chris Jester-Young</td>\n",
       "      <td>2018-08-30 02:47:23</td>\n",
       "      <td>Raleigh, NC, United States</td>\n",
       "      <td>177138</td>\n",
       "      <td>35414</td>\n",
       "    </tr>\n",
       "    <tr>\n",
       "      <th>9</th>\n",
       "      <td>17</td>\n",
       "      <td>2008-08-01 12:02:22</td>\n",
       "      <td>Nick Berardi</td>\n",
       "      <td>2018-01-22 01:35:38</td>\n",
       "      <td>Issaquah, WA</td>\n",
       "      <td>44443</td>\n",
       "      <td>4786</td>\n",
       "    </tr>\n",
       "  </tbody>\n",
       "</table>\n",
       "</div>"
      ],
      "text/plain": [
       "   id       creation_date        display_name    last_access_date  \\\n",
       "0   1 2008-07-31 14:22:31         Jeff Atwood 2018-08-29 02:34:23   \n",
       "1   2 2008-07-31 14:22:31        Geoff Dalgas 2018-08-23 17:31:56   \n",
       "2   3 2008-07-31 14:22:31        Jarrod Dixon 2018-08-30 20:56:24   \n",
       "3   4 2008-07-31 14:22:31        Joel Spolsky 2018-08-14 22:18:15   \n",
       "4   5 2008-07-31 14:22:31        Jon Galloway 2018-08-29 16:48:36   \n",
       "5   8 2008-07-31 21:33:24        Eggs McLaren 2018-04-09 02:04:56   \n",
       "6   9 2008-07-31 21:35:27         Kevin Dente 2018-08-30 18:18:03   \n",
       "7  11 2008-08-01 00:59:11      Anonymous User 2008-08-01 00:59:11   \n",
       "8  13 2008-08-01 04:18:05  Chris Jester-Young 2018-08-30 02:47:23   \n",
       "9  17 2008-08-01 12:02:22        Nick Berardi 2018-01-22 01:35:38   \n",
       "\n",
       "                     location  reputation   views  \n",
       "0              El Cerrito, CA       44300  408587  \n",
       "1               Corvallis, OR        3491   23966  \n",
       "2  Raleigh, NC, United States       13418   24396  \n",
       "3                New York, NY       28768   73755  \n",
       "4               San Diego, CA       39172   11700  \n",
       "5                        None         942    6372  \n",
       "6                 Oakland, CA       14337    4949  \n",
       "7                        None        1890    2123  \n",
       "8  Raleigh, NC, United States      177138   35414  \n",
       "9                Issaquah, WA       44443    4786  "
      ]
     },
     "execution_count": 5,
     "metadata": {},
     "output_type": "execute_result"
    }
   ],
   "source": [
    "sample_df"
   ]
  },
  {
   "cell_type": "markdown",
   "metadata": {
    "id": "gnBMXkDBDWKm"
   },
   "source": [
    "# Задание 1"
   ]
  },
  {
   "cell_type": "markdown",
   "metadata": {
    "id": "vHsfOrrNDWKn"
   },
   "source": [
    "Выведите общую сумму просмотров постов за каждый месяц 2008 года. Если данных за какой-либо месяц в базе нет, такой месяц можно пропустить. Результат отсортируйте по убыванию общего количества просмотров."
   ]
  },
  {
   "cell_type": "markdown",
   "metadata": {
    "id": "N5rTgGNmDWKn"
   },
   "source": [
    "| month_date  | total_views |\n",
    "| ------------- | ------------- |\n",
    "| 2008-09-01  | 452928568  |\n",
    "| 2008-10-01  | 365400138  |\n",
    "| ...         | ... |"
   ]
  },
  {
   "cell_type": "code",
   "execution_count": 6,
   "metadata": {
    "id": "eWvykcXTDWKo"
   },
   "outputs": [
    {
     "data": {
      "text/html": [
       "<div>\n",
       "<style scoped>\n",
       "    .dataframe tbody tr th:only-of-type {\n",
       "        vertical-align: middle;\n",
       "    }\n",
       "\n",
       "    .dataframe tbody tr th {\n",
       "        vertical-align: top;\n",
       "    }\n",
       "\n",
       "    .dataframe thead th {\n",
       "        text-align: right;\n",
       "    }\n",
       "</style>\n",
       "<table border=\"1\" class=\"dataframe\">\n",
       "  <thead>\n",
       "    <tr style=\"text-align: right;\">\n",
       "      <th></th>\n",
       "      <th>month_post</th>\n",
       "      <th>sum_views</th>\n",
       "    </tr>\n",
       "  </thead>\n",
       "  <tbody>\n",
       "    <tr>\n",
       "      <th>0</th>\n",
       "      <td>2008-09-01</td>\n",
       "      <td>452928568</td>\n",
       "    </tr>\n",
       "    <tr>\n",
       "      <th>1</th>\n",
       "      <td>2008-10-01</td>\n",
       "      <td>365400138</td>\n",
       "    </tr>\n",
       "    <tr>\n",
       "      <th>2</th>\n",
       "      <td>2008-11-01</td>\n",
       "      <td>221759651</td>\n",
       "    </tr>\n",
       "    <tr>\n",
       "      <th>3</th>\n",
       "      <td>2008-12-01</td>\n",
       "      <td>197792841</td>\n",
       "    </tr>\n",
       "    <tr>\n",
       "      <th>4</th>\n",
       "      <td>2008-08-01</td>\n",
       "      <td>131367083</td>\n",
       "    </tr>\n",
       "    <tr>\n",
       "      <th>5</th>\n",
       "      <td>2008-07-01</td>\n",
       "      <td>669895</td>\n",
       "    </tr>\n",
       "  </tbody>\n",
       "</table>\n",
       "</div>"
      ],
      "text/plain": [
       "   month_post  sum_views\n",
       "0  2008-09-01  452928568\n",
       "1  2008-10-01  365400138\n",
       "2  2008-11-01  221759651\n",
       "3  2008-12-01  197792841\n",
       "4  2008-08-01  131367083\n",
       "5  2008-07-01     669895"
      ]
     },
     "execution_count": 6,
     "metadata": {},
     "output_type": "execute_result"
    }
   ],
   "source": [
    "# напишите запрос\n",
    "query = '''\n",
    "SELECT DATE_TRUNC ('month', creation_date):: date AS month_post,\n",
    "       SUM(views_count) AS sum_views \n",
    "FROM stackoverflow.posts\n",
    "GROUP BY month_post\n",
    "ORDER BY sum_views DESC;\n",
    "'''\n",
    "\n",
    "qw = pd.read_sql_query(query, con = engine)# выполните запрос\n",
    "qw# выполните запрос"
   ]
  },
  {
   "cell_type": "markdown",
   "metadata": {
    "id": "I_ZvhOxkDWKp"
   },
   "source": [
    "Проанализируйте итоговую таблицу. Отличаются ли данные за разные месяцы? С чем могут быть связаны отличия?"
   ]
  },
  {
   "cell_type": "markdown",
   "metadata": {
    "id": "luxSj17oDWKq"
   },
   "source": [
    "У Нас нет данных с 1 по 6 месяц,  на 9 месяц был пик просмотров, после которого с 9 по 12 начал плавно уменьшался, возможно данный пик связан с началом учебного года в школах/вузах и тд. , при этом в 7 и 8 месяце самый минимальный просмотр постов, возможно связан с летним периодом когда у всех каникулы/отпуска и тд и людям не до просмотра постов"
   ]
  },
  {
   "cell_type": "markdown",
   "metadata": {
    "id": "FziIXkn5DWKr"
   },
   "source": [
    "# Задание 2"
   ]
  },
  {
   "cell_type": "markdown",
   "metadata": {
    "id": "fTGESZvYDWKr"
   },
   "source": [
    "Выведите имена самых активных пользователей, которые в первый месяц после регистрации (включая день регистрации) дали больше 100 ответов. Вопросы, которые задавали пользователи, не учитывайте. Для каждого имени пользователя выведите количество уникальных значений `user_id`. Отсортируйте результат по полю с именами в лексикографическом порядке."
   ]
  },
  {
   "cell_type": "markdown",
   "metadata": {
    "id": "W5-tv6Y3DWKs"
   },
   "source": [
    "| display_name | count |\n",
    "| ------------ | ----- |\n",
    "| 1800 INFORMATION | 1 |\n",
    "| Adam Bellaire | 1 |\n",
    "| Adam Davis | 1 |\n",
    "| ... | ... |"
   ]
  },
  {
   "cell_type": "code",
   "execution_count": 7,
   "metadata": {
    "id": "fIO-y-YjDWKt"
   },
   "outputs": [
    {
     "data": {
      "text/html": [
       "<div>\n",
       "<style scoped>\n",
       "    .dataframe tbody tr th:only-of-type {\n",
       "        vertical-align: middle;\n",
       "    }\n",
       "\n",
       "    .dataframe tbody tr th {\n",
       "        vertical-align: top;\n",
       "    }\n",
       "\n",
       "    .dataframe thead th {\n",
       "        text-align: right;\n",
       "    }\n",
       "</style>\n",
       "<table border=\"1\" class=\"dataframe\">\n",
       "  <thead>\n",
       "    <tr style=\"text-align: right;\">\n",
       "      <th></th>\n",
       "      <th>display_name</th>\n",
       "      <th>count</th>\n",
       "    </tr>\n",
       "  </thead>\n",
       "  <tbody>\n",
       "    <tr>\n",
       "      <th>0</th>\n",
       "      <td>1800 INFORMATION</td>\n",
       "      <td>1</td>\n",
       "    </tr>\n",
       "    <tr>\n",
       "      <th>1</th>\n",
       "      <td>Adam Bellaire</td>\n",
       "      <td>1</td>\n",
       "    </tr>\n",
       "    <tr>\n",
       "      <th>2</th>\n",
       "      <td>Adam Davis</td>\n",
       "      <td>1</td>\n",
       "    </tr>\n",
       "    <tr>\n",
       "      <th>3</th>\n",
       "      <td>Adam Liss</td>\n",
       "      <td>1</td>\n",
       "    </tr>\n",
       "    <tr>\n",
       "      <th>4</th>\n",
       "      <td>Alan</td>\n",
       "      <td>8</td>\n",
       "    </tr>\n",
       "    <tr>\n",
       "      <th>...</th>\n",
       "      <td>...</td>\n",
       "      <td>...</td>\n",
       "    </tr>\n",
       "    <tr>\n",
       "      <th>74</th>\n",
       "      <td>lomaxx</td>\n",
       "      <td>1</td>\n",
       "    </tr>\n",
       "    <tr>\n",
       "      <th>75</th>\n",
       "      <td>mattlant</td>\n",
       "      <td>1</td>\n",
       "    </tr>\n",
       "    <tr>\n",
       "      <th>76</th>\n",
       "      <td>paxdiablo</td>\n",
       "      <td>1</td>\n",
       "    </tr>\n",
       "    <tr>\n",
       "      <th>77</th>\n",
       "      <td>tvanfosson</td>\n",
       "      <td>1</td>\n",
       "    </tr>\n",
       "    <tr>\n",
       "      <th>78</th>\n",
       "      <td>tzot</td>\n",
       "      <td>1</td>\n",
       "    </tr>\n",
       "  </tbody>\n",
       "</table>\n",
       "<p>79 rows × 2 columns</p>\n",
       "</div>"
      ],
      "text/plain": [
       "        display_name  count\n",
       "0   1800 INFORMATION      1\n",
       "1      Adam Bellaire      1\n",
       "2         Adam Davis      1\n",
       "3          Adam Liss      1\n",
       "4               Alan      8\n",
       "..               ...    ...\n",
       "74            lomaxx      1\n",
       "75          mattlant      1\n",
       "76         paxdiablo      1\n",
       "77        tvanfosson      1\n",
       "78              tzot      1\n",
       "\n",
       "[79 rows x 2 columns]"
      ]
     },
     "execution_count": 7,
     "metadata": {},
     "output_type": "execute_result"
    }
   ],
   "source": [
    "# напишите запрос\n",
    "query = '''\n",
    "SELECT u.display_name,\n",
    "       COUNT(DISTINCT p.user_id)\n",
    "FROM stackoverflow.users AS u\n",
    "JOIN stackoverflow.posts AS p ON u.id= p.user_id\n",
    "JOIN stackoverflow.post_types AS pt ON p.post_type_id=pt.id\n",
    "WHERE pt.type = 'Answer' AND p.creation_date::date BETWEEN u.creation_date::date AND (u.creation_date::date + INTERVAL '1 month')\n",
    "GROUP BY 1\n",
    "HAVING COUNT(pt.id) > 100\n",
    "ORDER BY u.display_name;\n",
    "'''\n",
    "\n",
    "qe = pd.read_sql_query(query, con = engine)# выполните запрос\n",
    "qe# выполните запрос"
   ]
  },
  {
   "cell_type": "markdown",
   "metadata": {
    "id": "I3Wr82TplKpI"
   },
   "source": [
    "Какие аномалии наблюдаются в данных? О чём они говорят?"
   ]
  },
  {
   "cell_type": "markdown",
   "metadata": {
    "id": "CEIGGQ6ODWKy"
   },
   "source": [
    "у некоторых пользователей количество уникальных значений индификатора пользователя больше 1, возможно это связано с их именами,а именно при сокращении имен, эти имена приходятся на эти сокращения. взять Chris на которое приходится 29 уникальных значений, это может от полного Кристин, Кристиан, Криста и тому подобное"
   ]
  },
  {
   "cell_type": "markdown",
   "metadata": {
    "id": "JhM2xXj5DWKu"
   },
   "source": [
    "# Задание 3"
   ]
  },
  {
   "cell_type": "markdown",
   "metadata": {
    "id": "IS6xPqyyDWKu"
   },
   "source": [
    "Выведите количество постов за 2008 год по месяцам. Отберите посты от пользователей, которые зарегистрировались в сентябре 2008 года и сделали хотя бы один пост в декабре того же года. Отсортируйте таблицу по значению месяца по убыванию."
   ]
  },
  {
   "cell_type": "markdown",
   "metadata": {
    "id": "WmjhjV2xDWKv"
   },
   "source": [
    "| month | count |\n",
    "| ------|------ |\n",
    "| 2008-12-01 | 17641 |\n",
    "| 2008-11-01 | 18294 |\n",
    "| ... | ... |"
   ]
  },
  {
   "cell_type": "code",
   "execution_count": 8,
   "metadata": {
    "id": "kVu0FB8WDWKv"
   },
   "outputs": [
    {
     "data": {
      "text/html": [
       "<div>\n",
       "<style scoped>\n",
       "    .dataframe tbody tr th:only-of-type {\n",
       "        vertical-align: middle;\n",
       "    }\n",
       "\n",
       "    .dataframe tbody tr th {\n",
       "        vertical-align: top;\n",
       "    }\n",
       "\n",
       "    .dataframe thead th {\n",
       "        text-align: right;\n",
       "    }\n",
       "</style>\n",
       "<table border=\"1\" class=\"dataframe\">\n",
       "  <thead>\n",
       "    <tr style=\"text-align: right;\">\n",
       "      <th></th>\n",
       "      <th>date_trunc</th>\n",
       "      <th>count</th>\n",
       "    </tr>\n",
       "  </thead>\n",
       "  <tbody>\n",
       "    <tr>\n",
       "      <th>0</th>\n",
       "      <td>2008-12-01</td>\n",
       "      <td>17641</td>\n",
       "    </tr>\n",
       "    <tr>\n",
       "      <th>1</th>\n",
       "      <td>2008-11-01</td>\n",
       "      <td>18294</td>\n",
       "    </tr>\n",
       "    <tr>\n",
       "      <th>2</th>\n",
       "      <td>2008-10-01</td>\n",
       "      <td>27171</td>\n",
       "    </tr>\n",
       "    <tr>\n",
       "      <th>3</th>\n",
       "      <td>2008-09-01</td>\n",
       "      <td>24870</td>\n",
       "    </tr>\n",
       "    <tr>\n",
       "      <th>4</th>\n",
       "      <td>2008-08-01</td>\n",
       "      <td>32</td>\n",
       "    </tr>\n",
       "  </tbody>\n",
       "</table>\n",
       "</div>"
      ],
      "text/plain": [
       "   date_trunc  count\n",
       "0  2008-12-01  17641\n",
       "1  2008-11-01  18294\n",
       "2  2008-10-01  27171\n",
       "3  2008-09-01  24870\n",
       "4  2008-08-01     32"
      ]
     },
     "execution_count": 8,
     "metadata": {},
     "output_type": "execute_result"
    }
   ],
   "source": [
    "# напишите запрос\n",
    "query = '''\n",
    "WITH tr AS (SELECT u.id\n",
    "               FROM stackoverflow.posts AS p\n",
    "               JOIN stackoverflow.users AS u ON p.user_id=u.id\n",
    "               WHERE DATE_TRUNC('month', u.creation_date)::date = '2008-09-01' \n",
    "                   AND DATE_TRUNC('month', p.creation_date)::date = '2008-12-01'\n",
    "               GROUP BY 1\n",
    "               HAVING COUNT(p.id) > 0)\n",
    "\n",
    "SELECT DATE_TRUNC('month', p.creation_date)::date,\n",
    "       COUNT(p.id)\n",
    "FROM stackoverflow.posts AS p\n",
    "WHERE p.user_id IN (SELECT *\n",
    "                    FROM tr)\n",
    "GROUP BY 1\n",
    "ORDER BY 1 DESC;\n",
    "'''\n",
    "\n",
    "qr = pd.read_sql_query(query, con = engine)# выполните запрос\n",
    "qr# выполните запрос"
   ]
  },
  {
   "cell_type": "markdown",
   "metadata": {
    "id": "Vnxn9DVHDWKx"
   },
   "source": [
    "Изучите данные: есть ли в них аномалии? Предположите, почему могли появиться аномальные значения."
   ]
  },
  {
   "cell_type": "markdown",
   "metadata": {
    "id": "MMVIz4yMlKpN"
   },
   "source": [
    "в августе показывает 32 поста, хотя как это может показывать если пользователь зарегистрировался только в сентябре, возможно это какая то ошибка системы, которая позволяла делать посты без регистрации и как вариант из за разницы часовых поясов еще мб"
   ]
  },
  {
   "cell_type": "markdown",
   "metadata": {
    "id": "5Pcizm0DDWKz"
   },
   "source": [
    "# Задание 4"
   ]
  },
  {
   "cell_type": "markdown",
   "metadata": {
    "id": "KUZPF6vHDWKz"
   },
   "source": [
    "Используя данные о постах, выведите несколько полей:\n",
    "\n",
    "- идентификатор пользователя, который написал пост;\n",
    "- дата создания поста;\n",
    "- количество просмотров у текущего поста;\n",
    "- сумму просмотров постов автора с накоплением.\n",
    "\n",
    "Данные в таблице должны быть отсортированы по возрастанию идентификаторов пользователей, а данные об одном и том же пользователе — по возрастанию даты создания поста."
   ]
  },
  {
   "cell_type": "markdown",
   "metadata": {
    "id": "ZpsTUVDYDWK0"
   },
   "source": [
    "| user_id | creation_date | views_count | cumulative_count |\n",
    "| ------ | -------------- | ----------- | ---------------- |\n",
    "| 1 | 2008-07-31 23:41:00  | 480476   | 480476  |\n",
    "| 1 | 2008-07-31 23:55:38  | 136033 | 616509  | \n",
    "| 1 | 2008-07-31 23:56:41  | 0 |  616509  |\n",
    "| ... | ... | ... | ... |\n",
    "| 2 | 2008-07-31 23:56:41 | 79087  | 79087 |\n",
    "| 2 | 2008-08-01 05:09:56 | 65443 | 144530 |\n",
    "| ... | ...  | ...  | ...  |"
   ]
  },
  {
   "cell_type": "code",
   "execution_count": 9,
   "metadata": {
    "id": "hDoJhMzfDWK0"
   },
   "outputs": [
    {
     "data": {
      "text/html": [
       "<div>\n",
       "<style scoped>\n",
       "    .dataframe tbody tr th:only-of-type {\n",
       "        vertical-align: middle;\n",
       "    }\n",
       "\n",
       "    .dataframe tbody tr th {\n",
       "        vertical-align: top;\n",
       "    }\n",
       "\n",
       "    .dataframe thead th {\n",
       "        text-align: right;\n",
       "    }\n",
       "</style>\n",
       "<table border=\"1\" class=\"dataframe\">\n",
       "  <thead>\n",
       "    <tr style=\"text-align: right;\">\n",
       "      <th></th>\n",
       "      <th>user_id</th>\n",
       "      <th>creation_date</th>\n",
       "      <th>views_count</th>\n",
       "      <th>sum</th>\n",
       "    </tr>\n",
       "  </thead>\n",
       "  <tbody>\n",
       "    <tr>\n",
       "      <th>0</th>\n",
       "      <td>1</td>\n",
       "      <td>2008-07-31 23:41:00</td>\n",
       "      <td>480476</td>\n",
       "      <td>480476</td>\n",
       "    </tr>\n",
       "    <tr>\n",
       "      <th>1</th>\n",
       "      <td>1</td>\n",
       "      <td>2008-07-31 23:55:38</td>\n",
       "      <td>136033</td>\n",
       "      <td>616509</td>\n",
       "    </tr>\n",
       "    <tr>\n",
       "      <th>2</th>\n",
       "      <td>1</td>\n",
       "      <td>2008-07-31 23:56:41</td>\n",
       "      <td>0</td>\n",
       "      <td>616509</td>\n",
       "    </tr>\n",
       "    <tr>\n",
       "      <th>3</th>\n",
       "      <td>1</td>\n",
       "      <td>2008-08-04 02:45:08</td>\n",
       "      <td>0</td>\n",
       "      <td>616509</td>\n",
       "    </tr>\n",
       "    <tr>\n",
       "      <th>4</th>\n",
       "      <td>1</td>\n",
       "      <td>2008-08-04 04:31:03</td>\n",
       "      <td>0</td>\n",
       "      <td>616509</td>\n",
       "    </tr>\n",
       "    <tr>\n",
       "      <th>...</th>\n",
       "      <td>...</td>\n",
       "      <td>...</td>\n",
       "      <td>...</td>\n",
       "      <td>...</td>\n",
       "    </tr>\n",
       "    <tr>\n",
       "      <th>243791</th>\n",
       "      <td>5696608</td>\n",
       "      <td>2008-12-23 16:00:37</td>\n",
       "      <td>0</td>\n",
       "      <td>2804</td>\n",
       "    </tr>\n",
       "    <tr>\n",
       "      <th>243792</th>\n",
       "      <td>5696608</td>\n",
       "      <td>2008-12-23 17:35:09</td>\n",
       "      <td>0</td>\n",
       "      <td>2804</td>\n",
       "    </tr>\n",
       "    <tr>\n",
       "      <th>243793</th>\n",
       "      <td>5696608</td>\n",
       "      <td>2008-12-24 01:02:48</td>\n",
       "      <td>0</td>\n",
       "      <td>2804</td>\n",
       "    </tr>\n",
       "    <tr>\n",
       "      <th>243794</th>\n",
       "      <td>5696608</td>\n",
       "      <td>2008-12-30 14:34:45</td>\n",
       "      <td>0</td>\n",
       "      <td>2804</td>\n",
       "    </tr>\n",
       "    <tr>\n",
       "      <th>243795</th>\n",
       "      <td>5696608</td>\n",
       "      <td>2008-12-30 16:32:12</td>\n",
       "      <td>0</td>\n",
       "      <td>2804</td>\n",
       "    </tr>\n",
       "  </tbody>\n",
       "</table>\n",
       "<p>243796 rows × 4 columns</p>\n",
       "</div>"
      ],
      "text/plain": [
       "        user_id       creation_date  views_count     sum\n",
       "0             1 2008-07-31 23:41:00       480476  480476\n",
       "1             1 2008-07-31 23:55:38       136033  616509\n",
       "2             1 2008-07-31 23:56:41            0  616509\n",
       "3             1 2008-08-04 02:45:08            0  616509\n",
       "4             1 2008-08-04 04:31:03            0  616509\n",
       "...         ...                 ...          ...     ...\n",
       "243791  5696608 2008-12-23 16:00:37            0    2804\n",
       "243792  5696608 2008-12-23 17:35:09            0    2804\n",
       "243793  5696608 2008-12-24 01:02:48            0    2804\n",
       "243794  5696608 2008-12-30 14:34:45            0    2804\n",
       "243795  5696608 2008-12-30 16:32:12            0    2804\n",
       "\n",
       "[243796 rows x 4 columns]"
      ]
     },
     "execution_count": 9,
     "metadata": {},
     "output_type": "execute_result"
    }
   ],
   "source": [
    "# напишите запрос\n",
    "query = '''\n",
    "SELECT user_id,\n",
    "       creation_date,\n",
    "       views_count,\n",
    "       SUM(views_count) OVER (PARTITION BY user_id ORDER BY creation_date)\n",
    "FROM stackoverflow.posts;\n",
    "'''\n",
    "\n",
    "qt = pd.read_sql_query(query, con = engine)# выполните запрос\n",
    "qt# выполните запрос"
   ]
  },
  {
   "cell_type": "markdown",
   "metadata": {
    "id": "N0kHRHvIDWK2"
   },
   "source": [
    "# Задание 5"
   ]
  },
  {
   "cell_type": "markdown",
   "metadata": {
    "id": "gBgvmPtODWK2"
   },
   "source": [
    "Найдите среднее количество постов пользователей в день за август 2008 года. Отберите данные о пользователях, которые опубликовали больше 120 постов за август. Дни без публикаций не учитывайте. \n",
    "\n",
    "Отсортируйте результат по возрастанию среднего количества постов. Значения можно не округлять."
   ]
  },
  {
   "cell_type": "markdown",
   "metadata": {
    "id": "nfzR08BODWK3"
   },
   "source": [
    "| user_id | avg_daily |\n",
    "| ------- | --------- |\n",
    "| 116     | 4.777778  |\n",
    "| 234     | 5.208333  |\n",
    "| ...     | ... |"
   ]
  },
  {
   "cell_type": "code",
   "execution_count": 10,
   "metadata": {
    "id": "YFyPNz5GDWK3"
   },
   "outputs": [
    {
     "data": {
      "text/html": [
       "<div>\n",
       "<style scoped>\n",
       "    .dataframe tbody tr th:only-of-type {\n",
       "        vertical-align: middle;\n",
       "    }\n",
       "\n",
       "    .dataframe tbody tr th {\n",
       "        vertical-align: top;\n",
       "    }\n",
       "\n",
       "    .dataframe thead th {\n",
       "        text-align: right;\n",
       "    }\n",
       "</style>\n",
       "<table border=\"1\" class=\"dataframe\">\n",
       "  <thead>\n",
       "    <tr style=\"text-align: right;\">\n",
       "      <th></th>\n",
       "      <th>user_id</th>\n",
       "      <th>avg</th>\n",
       "    </tr>\n",
       "  </thead>\n",
       "  <tbody>\n",
       "    <tr>\n",
       "      <th>0</th>\n",
       "      <td>116</td>\n",
       "      <td>4.777778</td>\n",
       "    </tr>\n",
       "    <tr>\n",
       "      <th>1</th>\n",
       "      <td>234</td>\n",
       "      <td>5.208333</td>\n",
       "    </tr>\n",
       "    <tr>\n",
       "      <th>2</th>\n",
       "      <td>91</td>\n",
       "      <td>5.681818</td>\n",
       "    </tr>\n",
       "    <tr>\n",
       "      <th>3</th>\n",
       "      <td>905</td>\n",
       "      <td>7.000000</td>\n",
       "    </tr>\n",
       "    <tr>\n",
       "      <th>4</th>\n",
       "      <td>383</td>\n",
       "      <td>7.277778</td>\n",
       "    </tr>\n",
       "  </tbody>\n",
       "</table>\n",
       "</div>"
      ],
      "text/plain": [
       "   user_id       avg\n",
       "0      116  4.777778\n",
       "1      234  5.208333\n",
       "2       91  5.681818\n",
       "3      905  7.000000\n",
       "4      383  7.277778"
      ]
     },
     "execution_count": 10,
     "metadata": {},
     "output_type": "execute_result"
    }
   ],
   "source": [
    "# напишите запрос\n",
    "query = '''\n",
    "WITH tr AS (\n",
    "      SELECT user_id,\n",
    "             DATE_TRUNC('day', creation_date),\n",
    "             COUNT(DATE_TRUNC('day', creation_date)) AS count_day\n",
    "      FROM stackoverflow.posts\n",
    "       WHERE DATE_TRUNC('day', creation_date) BETWEEN '2008-08-01' AND '2008-08-31' \n",
    "       AND  user_id IN (\n",
    "            SELECT user_id\n",
    "            FROM stackoverflow.posts\n",
    "            WHERE DATE_TRUNC('day', creation_date) BETWEEN '2008-08-01' AND '2008-08-31'\n",
    "            GROUP BY 1\n",
    "            HAVING COUNT(user_id)> 120)\n",
    "        GROUP BY 1,2)\n",
    "SELECT user_id,\n",
    "       AVG(count_day)\n",
    "FROM tr\n",
    "GROUP BY 1\n",
    "ORDER BY 2;\n",
    "'''\n",
    "\n",
    "qw = pd.read_sql_query(query, con = engine)# выполните запрос\n",
    "qw# выполните запрос"
   ]
  },
  {
   "cell_type": "markdown",
   "metadata": {
    "id": "EQ0dcFH4DWK5"
   },
   "source": [
    "# Задание 6"
   ]
  },
  {
   "cell_type": "markdown",
   "metadata": {
    "id": "c7flfg_hDWK5"
   },
   "source": [
    "Сколько в среднем дней в период с 1 по 7 декабря 2008 года пользователи взаимодействовали с платформой? Для каждого пользователя отберите дни, в которые он или она опубликовали хотя бы один пост. Нужно получить одно целое число — не забудьте округлить результат. "
   ]
  },
  {
   "cell_type": "markdown",
   "metadata": {
    "id": "RC1Ibzm9DWK6"
   },
   "source": [
    "| result |\n",
    "| -----  |\n",
    "| <целое число> |"
   ]
  },
  {
   "cell_type": "code",
   "execution_count": 11,
   "metadata": {
    "id": "kZ7LXTr6DWK6"
   },
   "outputs": [
    {
     "data": {
      "text/html": [
       "<div>\n",
       "<style scoped>\n",
       "    .dataframe tbody tr th:only-of-type {\n",
       "        vertical-align: middle;\n",
       "    }\n",
       "\n",
       "    .dataframe tbody tr th {\n",
       "        vertical-align: top;\n",
       "    }\n",
       "\n",
       "    .dataframe thead th {\n",
       "        text-align: right;\n",
       "    }\n",
       "</style>\n",
       "<table border=\"1\" class=\"dataframe\">\n",
       "  <thead>\n",
       "    <tr style=\"text-align: right;\">\n",
       "      <th></th>\n",
       "      <th>round</th>\n",
       "    </tr>\n",
       "  </thead>\n",
       "  <tbody>\n",
       "    <tr>\n",
       "      <th>0</th>\n",
       "      <td>2.0</td>\n",
       "    </tr>\n",
       "  </tbody>\n",
       "</table>\n",
       "</div>"
      ],
      "text/plain": [
       "   round\n",
       "0    2.0"
      ]
     },
     "execution_count": 11,
     "metadata": {},
     "output_type": "execute_result"
    }
   ],
   "source": [
    "# напишите запрос\n",
    "query = '''\n",
    "WITH ad AS (SELECT user_id,\n",
    "                   COUNT(DISTINCT creation_date::date)  AS cnt\n",
    "            FROM stackoverflow.posts\n",
    "            WHERE creation_date::date BETWEEN '2008-12-01' AND '2008-12-07' \n",
    "            GROUP BY 1)\n",
    "\n",
    "SELECT ROUND(AVG(ad.cnt))\n",
    "FROM ad;\n",
    "'''\n",
    "\n",
    "qw = pd.read_sql_query(query, con = engine)# выполните запрос\n",
    "qw\n",
    "# выполните запрос"
   ]
  },
  {
   "cell_type": "markdown",
   "metadata": {
    "id": "UJFtNNggDWK7"
   },
   "source": [
    "Проанализируйте итоговую таблицу — какие выводы можно сделать?"
   ]
  },
  {
   "cell_type": "markdown",
   "metadata": {
    "id": "LfUuYz-1DWK8"
   },
   "source": [
    "Почти целых 2 дня пользователи взаимодейсвовали с платформой в вышеуказанные дни # напишите ваш ответ здесь"
   ]
  },
  {
   "cell_type": "markdown",
   "metadata": {
    "id": "wfOmqmfLDWK8"
   },
   "source": [
    "# Задание 7"
   ]
  },
  {
   "cell_type": "markdown",
   "metadata": {
    "id": "X4ARQimADWK9"
   },
   "source": [
    "Выведите историю активности каждого пользователя в таком виде: идентификатор пользователя, дата публикации поста. Отсортируйте вывод по возрастанию идентификаторов пользователей, а для каждого пользователя — по возрастанию даты публикации.\n",
    "\n",
    "Добавьте в таблицу новое поле: для каждого поста в нём будет указано название месяца предпоследней публикации пользователя относительно текущей. Если такой публикации нет, укажите `NULL`.  Python автоматически поменяет `NULL` на `None`, но дополнительно преобразовывать значения `None` вам не нужно.\n",
    "\n",
    "Посмотрите внимательно на образец таблицы: для первых двух постов предпоследней публикации нет, но, начиная с третьего поста, в новое поле входит нужный месяц. Для следующего пользователя в первые две записи поля `second_last_month` тоже войдёт `NULL`."
   ]
  },
  {
   "cell_type": "markdown",
   "metadata": {
    "id": "IGPjRP01DWK9"
   },
   "source": [
    "| user_id | creation_date | second_last_month |\n",
    "| ------- | ------------- | ----------------- |\n",
    "| 1       | 2008-07-31 23:41:00 | None |\n",
    "| 1       | 2008-07-31 23:55:38 | None |\n",
    "| 1       | 2008-07-31 23:56:41 | July |\n",
    "| 1       | 2008-08-04 02:45:08 | July |\n",
    "| 1       | 2008-08-04 04:31:03 | July |\n",
    "| 1       | 2008-08-04 08:04:42 | August |\n",
    "| ... | ... | ... |"
   ]
  },
  {
   "cell_type": "code",
   "execution_count": 12,
   "metadata": {
    "id": "HzI1vhaMDWK-"
   },
   "outputs": [
    {
     "data": {
      "text/html": [
       "<div>\n",
       "<style scoped>\n",
       "    .dataframe tbody tr th:only-of-type {\n",
       "        vertical-align: middle;\n",
       "    }\n",
       "\n",
       "    .dataframe tbody tr th {\n",
       "        vertical-align: top;\n",
       "    }\n",
       "\n",
       "    .dataframe thead th {\n",
       "        text-align: right;\n",
       "    }\n",
       "</style>\n",
       "<table border=\"1\" class=\"dataframe\">\n",
       "  <thead>\n",
       "    <tr style=\"text-align: right;\">\n",
       "      <th></th>\n",
       "      <th>user_id</th>\n",
       "      <th>creation_date</th>\n",
       "      <th>second_last_month</th>\n",
       "    </tr>\n",
       "  </thead>\n",
       "  <tbody>\n",
       "    <tr>\n",
       "      <th>0</th>\n",
       "      <td>1</td>\n",
       "      <td>2008-07-31 23:41:00</td>\n",
       "      <td>None</td>\n",
       "    </tr>\n",
       "    <tr>\n",
       "      <th>1</th>\n",
       "      <td>1</td>\n",
       "      <td>2008-07-31 23:55:38</td>\n",
       "      <td>None</td>\n",
       "    </tr>\n",
       "    <tr>\n",
       "      <th>2</th>\n",
       "      <td>1</td>\n",
       "      <td>2008-07-31 23:56:41</td>\n",
       "      <td>July</td>\n",
       "    </tr>\n",
       "    <tr>\n",
       "      <th>3</th>\n",
       "      <td>1</td>\n",
       "      <td>2008-08-04 02:45:08</td>\n",
       "      <td>July</td>\n",
       "    </tr>\n",
       "    <tr>\n",
       "      <th>4</th>\n",
       "      <td>1</td>\n",
       "      <td>2008-08-04 04:31:03</td>\n",
       "      <td>July</td>\n",
       "    </tr>\n",
       "    <tr>\n",
       "      <th>...</th>\n",
       "      <td>...</td>\n",
       "      <td>...</td>\n",
       "      <td>...</td>\n",
       "    </tr>\n",
       "    <tr>\n",
       "      <th>243791</th>\n",
       "      <td>5696608</td>\n",
       "      <td>2008-12-23 16:00:37</td>\n",
       "      <td>December</td>\n",
       "    </tr>\n",
       "    <tr>\n",
       "      <th>243792</th>\n",
       "      <td>5696608</td>\n",
       "      <td>2008-12-23 17:35:09</td>\n",
       "      <td>December</td>\n",
       "    </tr>\n",
       "    <tr>\n",
       "      <th>243793</th>\n",
       "      <td>5696608</td>\n",
       "      <td>2008-12-24 01:02:48</td>\n",
       "      <td>December</td>\n",
       "    </tr>\n",
       "    <tr>\n",
       "      <th>243794</th>\n",
       "      <td>5696608</td>\n",
       "      <td>2008-12-30 14:34:45</td>\n",
       "      <td>December</td>\n",
       "    </tr>\n",
       "    <tr>\n",
       "      <th>243795</th>\n",
       "      <td>5696608</td>\n",
       "      <td>2008-12-30 16:32:12</td>\n",
       "      <td>December</td>\n",
       "    </tr>\n",
       "  </tbody>\n",
       "</table>\n",
       "<p>243796 rows × 3 columns</p>\n",
       "</div>"
      ],
      "text/plain": [
       "        user_id       creation_date second_last_month\n",
       "0             1 2008-07-31 23:41:00              None\n",
       "1             1 2008-07-31 23:55:38              None\n",
       "2             1 2008-07-31 23:56:41         July     \n",
       "3             1 2008-08-04 02:45:08         July     \n",
       "4             1 2008-08-04 04:31:03         July     \n",
       "...         ...                 ...               ...\n",
       "243791  5696608 2008-12-23 16:00:37         December \n",
       "243792  5696608 2008-12-23 17:35:09         December \n",
       "243793  5696608 2008-12-24 01:02:48         December \n",
       "243794  5696608 2008-12-30 14:34:45         December \n",
       "243795  5696608 2008-12-30 16:32:12         December \n",
       "\n",
       "[243796 rows x 3 columns]"
      ]
     },
     "execution_count": 12,
     "metadata": {},
     "output_type": "execute_result"
    }
   ],
   "source": [
    "# напишите запрос\n",
    "query = '''\n",
    "SELECT user_id,\n",
    "       creation_date,\n",
    "       to_char(LEAD(creation_date,2,NULL) OVER(PARTITION BY user_id ORDER BY creation_date DESC), 'Month') AS second_last_month\n",
    "FROM stackoverflow.posts\n",
    "ORDER BY 1,2;\n",
    "'''\n",
    "\n",
    "qw = pd.read_sql_query(query, con = engine)# выполните запрос\n",
    "qw# выполните запрос"
   ]
  },
  {
   "cell_type": "markdown",
   "metadata": {
    "id": "tf9qq2yzDWK_"
   },
   "source": [
    "# Задание 8"
   ]
  },
  {
   "cell_type": "markdown",
   "metadata": {
    "id": "gfwLVXBYDWLA"
   },
   "source": [
    "Рассчитайте аналог Retention Rate по месяцам для пользователей StackOverflow. Объедините пользователей в когорты по месяцу их первого поста. Возвращение определяйте по наличию поста в текущем месяце. "
   ]
  },
  {
   "cell_type": "markdown",
   "metadata": {
    "id": "kN2ic39WlKpl"
   },
   "source": [
    "| cohort_dt | session_date | users_cnt | cohort_users_cnt | retention_rate |\n",
    "| --- | --- | --- | --- | --- |\n",
    "| 2008-07-01 00:00:00 | 2008-07-01 00:00:00 | 3 | 3 | 100 |\n",
    "| 2008-07-01 00:00:00 | 2008-08-01 00:00:00 | 2 | 3 | 66,67 |\n",
    "| 2008-07-01 00:00:00 | 2008-09-01 00:00:00 | 1 | 3 | 33,33 |\n",
    "| 2008-07-01 00:00:00 | 2008-10-01 00:00:00 | 2 | 3 | 66,67 |\n",
    "| 2008-07-01 00:00:00 | 2008-11-01 00:00:00 | 1 | 3 | 33,33 |\n",
    "| 2008-07-01 00:00:00 | 2008-12-01 00:00:00 | 2 | 3 | 66,67 |\n",
    "| 2008-08-01 00:00:00 | 2008-08-01 00:00:00 | 2151 | 2151 | 100 |\n",
    "| ... | ... | ... | ... | ... |"
   ]
  },
  {
   "cell_type": "code",
   "execution_count": 13,
   "metadata": {
    "id": "LUgFmwmTDWLB"
   },
   "outputs": [
    {
     "data": {
      "text/html": [
       "<div>\n",
       "<style scoped>\n",
       "    .dataframe tbody tr th:only-of-type {\n",
       "        vertical-align: middle;\n",
       "    }\n",
       "\n",
       "    .dataframe tbody tr th {\n",
       "        vertical-align: top;\n",
       "    }\n",
       "\n",
       "    .dataframe thead th {\n",
       "        text-align: right;\n",
       "    }\n",
       "</style>\n",
       "<table border=\"1\" class=\"dataframe\">\n",
       "  <thead>\n",
       "    <tr style=\"text-align: right;\">\n",
       "      <th></th>\n",
       "      <th>cohort_dt</th>\n",
       "      <th>session_date</th>\n",
       "      <th>users_cnt</th>\n",
       "      <th>cohort_users_cnt</th>\n",
       "      <th>retention_rate</th>\n",
       "    </tr>\n",
       "  </thead>\n",
       "  <tbody>\n",
       "    <tr>\n",
       "      <th>0</th>\n",
       "      <td>2008-07-01</td>\n",
       "      <td>2008-07-01</td>\n",
       "      <td>3</td>\n",
       "      <td>3</td>\n",
       "      <td>100.00</td>\n",
       "    </tr>\n",
       "    <tr>\n",
       "      <th>1</th>\n",
       "      <td>2008-07-01</td>\n",
       "      <td>2008-08-01</td>\n",
       "      <td>2</td>\n",
       "      <td>3</td>\n",
       "      <td>66.67</td>\n",
       "    </tr>\n",
       "    <tr>\n",
       "      <th>2</th>\n",
       "      <td>2008-07-01</td>\n",
       "      <td>2008-09-01</td>\n",
       "      <td>1</td>\n",
       "      <td>3</td>\n",
       "      <td>33.33</td>\n",
       "    </tr>\n",
       "    <tr>\n",
       "      <th>3</th>\n",
       "      <td>2008-07-01</td>\n",
       "      <td>2008-10-01</td>\n",
       "      <td>2</td>\n",
       "      <td>3</td>\n",
       "      <td>66.67</td>\n",
       "    </tr>\n",
       "    <tr>\n",
       "      <th>4</th>\n",
       "      <td>2008-07-01</td>\n",
       "      <td>2008-11-01</td>\n",
       "      <td>1</td>\n",
       "      <td>3</td>\n",
       "      <td>33.33</td>\n",
       "    </tr>\n",
       "    <tr>\n",
       "      <th>5</th>\n",
       "      <td>2008-07-01</td>\n",
       "      <td>2008-12-01</td>\n",
       "      <td>2</td>\n",
       "      <td>3</td>\n",
       "      <td>66.67</td>\n",
       "    </tr>\n",
       "    <tr>\n",
       "      <th>6</th>\n",
       "      <td>2008-08-01</td>\n",
       "      <td>2008-08-01</td>\n",
       "      <td>2151</td>\n",
       "      <td>2151</td>\n",
       "      <td>100.00</td>\n",
       "    </tr>\n",
       "    <tr>\n",
       "      <th>7</th>\n",
       "      <td>2008-08-01</td>\n",
       "      <td>2008-09-01</td>\n",
       "      <td>1571</td>\n",
       "      <td>2151</td>\n",
       "      <td>73.04</td>\n",
       "    </tr>\n",
       "    <tr>\n",
       "      <th>8</th>\n",
       "      <td>2008-08-01</td>\n",
       "      <td>2008-10-01</td>\n",
       "      <td>1275</td>\n",
       "      <td>2151</td>\n",
       "      <td>59.27</td>\n",
       "    </tr>\n",
       "    <tr>\n",
       "      <th>9</th>\n",
       "      <td>2008-08-01</td>\n",
       "      <td>2008-11-01</td>\n",
       "      <td>1050</td>\n",
       "      <td>2151</td>\n",
       "      <td>48.81</td>\n",
       "    </tr>\n",
       "    <tr>\n",
       "      <th>10</th>\n",
       "      <td>2008-08-01</td>\n",
       "      <td>2008-12-01</td>\n",
       "      <td>894</td>\n",
       "      <td>2151</td>\n",
       "      <td>41.56</td>\n",
       "    </tr>\n",
       "    <tr>\n",
       "      <th>11</th>\n",
       "      <td>2008-09-01</td>\n",
       "      <td>2008-09-01</td>\n",
       "      <td>7678</td>\n",
       "      <td>7678</td>\n",
       "      <td>100.00</td>\n",
       "    </tr>\n",
       "    <tr>\n",
       "      <th>12</th>\n",
       "      <td>2008-09-01</td>\n",
       "      <td>2008-10-01</td>\n",
       "      <td>4132</td>\n",
       "      <td>7678</td>\n",
       "      <td>53.82</td>\n",
       "    </tr>\n",
       "    <tr>\n",
       "      <th>13</th>\n",
       "      <td>2008-09-01</td>\n",
       "      <td>2008-11-01</td>\n",
       "      <td>2966</td>\n",
       "      <td>7678</td>\n",
       "      <td>38.63</td>\n",
       "    </tr>\n",
       "    <tr>\n",
       "      <th>14</th>\n",
       "      <td>2008-09-01</td>\n",
       "      <td>2008-12-01</td>\n",
       "      <td>2500</td>\n",
       "      <td>7678</td>\n",
       "      <td>32.56</td>\n",
       "    </tr>\n",
       "    <tr>\n",
       "      <th>15</th>\n",
       "      <td>2008-10-01</td>\n",
       "      <td>2008-10-01</td>\n",
       "      <td>3629</td>\n",
       "      <td>3629</td>\n",
       "      <td>100.00</td>\n",
       "    </tr>\n",
       "    <tr>\n",
       "      <th>16</th>\n",
       "      <td>2008-10-01</td>\n",
       "      <td>2008-11-01</td>\n",
       "      <td>1640</td>\n",
       "      <td>3629</td>\n",
       "      <td>45.19</td>\n",
       "    </tr>\n",
       "    <tr>\n",
       "      <th>17</th>\n",
       "      <td>2008-10-01</td>\n",
       "      <td>2008-12-01</td>\n",
       "      <td>1221</td>\n",
       "      <td>3629</td>\n",
       "      <td>33.65</td>\n",
       "    </tr>\n",
       "    <tr>\n",
       "      <th>18</th>\n",
       "      <td>2008-11-01</td>\n",
       "      <td>2008-11-01</td>\n",
       "      <td>2852</td>\n",
       "      <td>2852</td>\n",
       "      <td>100.00</td>\n",
       "    </tr>\n",
       "    <tr>\n",
       "      <th>19</th>\n",
       "      <td>2008-11-01</td>\n",
       "      <td>2008-12-01</td>\n",
       "      <td>1151</td>\n",
       "      <td>2852</td>\n",
       "      <td>40.36</td>\n",
       "    </tr>\n",
       "    <tr>\n",
       "      <th>20</th>\n",
       "      <td>2008-12-01</td>\n",
       "      <td>2008-12-01</td>\n",
       "      <td>2536</td>\n",
       "      <td>2536</td>\n",
       "      <td>100.00</td>\n",
       "    </tr>\n",
       "  </tbody>\n",
       "</table>\n",
       "</div>"
      ],
      "text/plain": [
       "    cohort_dt session_date  users_cnt  cohort_users_cnt  retention_rate\n",
       "0  2008-07-01   2008-07-01          3                 3          100.00\n",
       "1  2008-07-01   2008-08-01          2                 3           66.67\n",
       "2  2008-07-01   2008-09-01          1                 3           33.33\n",
       "3  2008-07-01   2008-10-01          2                 3           66.67\n",
       "4  2008-07-01   2008-11-01          1                 3           33.33\n",
       "5  2008-07-01   2008-12-01          2                 3           66.67\n",
       "6  2008-08-01   2008-08-01       2151              2151          100.00\n",
       "7  2008-08-01   2008-09-01       1571              2151           73.04\n",
       "8  2008-08-01   2008-10-01       1275              2151           59.27\n",
       "9  2008-08-01   2008-11-01       1050              2151           48.81\n",
       "10 2008-08-01   2008-12-01        894              2151           41.56\n",
       "11 2008-09-01   2008-09-01       7678              7678          100.00\n",
       "12 2008-09-01   2008-10-01       4132              7678           53.82\n",
       "13 2008-09-01   2008-11-01       2966              7678           38.63\n",
       "14 2008-09-01   2008-12-01       2500              7678           32.56\n",
       "15 2008-10-01   2008-10-01       3629              3629          100.00\n",
       "16 2008-10-01   2008-11-01       1640              3629           45.19\n",
       "17 2008-10-01   2008-12-01       1221              3629           33.65\n",
       "18 2008-11-01   2008-11-01       2852              2852          100.00\n",
       "19 2008-11-01   2008-12-01       1151              2852           40.36\n",
       "20 2008-12-01   2008-12-01       2536              2536          100.00"
      ]
     },
     "execution_count": 13,
     "metadata": {},
     "output_type": "execute_result"
    }
   ],
   "source": [
    "# напишите запрос\n",
    "query = '''\n",
    "WITH profile AS\n",
    "  (SELECT user_id,\n",
    "          MIN(DATE_TRUNC ('month', creation_date)) as dt,\n",
    "          COUNT(*) OVER (PARTITION BY MIN(DATE_TRUNC ('month', creation_date))) AS cohort_users_cnt\n",
    "   FROM stackoverflow.posts\n",
    "   GROUP BY 1\n",
    "   ORDER BY 2),\n",
    "sessions AS \n",
    "(SELECT user_id,\n",
    "        DATE_TRUNC ('month', creation_date) AS session_date\n",
    "FROM stackoverflow.posts\n",
    "GROUP BY 1,\n",
    "         2)\n",
    "SELECT p.dt AS cohort_dt,\n",
    "       session_date,\n",
    "       COUNT(p.user_id) AS users_cnt,\n",
    "       cohort_users_cnt,\n",
    "       ROUND(COUNT(p.user_id) * 100.0 / cohort_users_cnt, 2) AS retention_rate\n",
    "FROM profile p\n",
    "JOIN sessions s ON p.user_id = s.user_id\n",
    "GROUP BY 1,\n",
    "         2,\n",
    "         4\n",
    "'''\n",
    "\n",
    "tr = pd.read_sql_query(query, con = engine)# выполните запрос\n",
    "tr"
   ]
  },
  {
   "cell_type": "markdown",
   "metadata": {
    "id": "_msBtnb2DWLC"
   },
   "source": [
    "Постройте тепловую карту Retention Rate. Какие аномалии или другие необычные явления удалось выявить? Сформулируйте гипотезы о возможных причинах."
   ]
  },
  {
   "cell_type": "code",
   "execution_count": 14,
   "metadata": {
    "id": "qAEJc8H1DWLC"
   },
   "outputs": [
    {
     "data": {
      "image/png": "[encoded data removed]",
      "text/plain": [
       "<Figure size 1152x1152 with 2 Axes>"
      ]
     },
     "metadata": {
      "needs_background": "light"
     },
     "output_type": "display_data"
    }
   ],
   "source": [
    "retention = tr.pivot('cohort_dt', 'session_date', 'retention_rate')\n",
    "retention.index = [str(x)[0:10] for x in retention.index]\n",
    "retention.columns = [str(x)[0:10] for x in retention.columns]\n",
    "\n",
    "# строим хитмэп\n",
    "plt.figure(figsize=(16, 16)) # задаём размер графика\n",
    "sns.heatmap(retention, # датафрейм с данными\n",
    "            annot=True, # добавляем подписи\n",
    "            fmt='') # задаём исходный формат\n",
    "plt.title('Тепловая карта') # название графика\n",
    "plt.show() # постройте тепловую карту Retention Rate"
   ]
  },
  {
   "cell_type": "markdown",
   "metadata": {
    "id": "EgOfIsI4DWLC"
   },
   "source": [
    "В кагорте, которая начинается в июле, начиная с 4-ого месяца наблюдается аномалия, так как как когрта всего из 3 человек вот они скачут с распределениями 66 и 33 %"
   ]
  },
  {
   "cell_type": "markdown",
   "metadata": {
    "id": "1k7oPWt5DWLK"
   },
   "source": [
    "# Задание 9\n"
   ]
  },
  {
   "cell_type": "markdown",
   "metadata": {
    "id": "ALsYVSyRDWLM"
   },
   "source": [
    "На сколько процентов менялось количество постов ежемесячно с 1 сентября по 31 декабря 2008 года? Отобразите таблицу со следующими полями:\n",
    "\n",
    "- номер месяца;\n",
    "- количество постов за месяц;\n",
    "- процент, который показывает, насколько изменилось количество постов в текущем месяце по сравнению с предыдущим.\n",
    "\n",
    "Если постов стало меньше, значение процента должно быть отрицательным, если больше — положительным. Округлите значение процента до двух знаков после запятой.\n",
    "\n",
    "Напомним, что при делении одного целого числа на другое в PostgreSQL в результате получится целое число, округлённое до ближайшего целого вниз. Чтобы этого избежать, переведите делимое в тип `numeric`."
   ]
  },
  {
   "cell_type": "markdown",
   "metadata": {
    "id": "u4E2zF8DDWLM"
   },
   "source": [
    "| creation_month | posts_count | percentage |\n",
    "| -------------- | ----------- | ---------- |\n",
    "| 9 | 70731 | Nan |\n",
    "| 10 | 63102 | -10.33 |\n",
    "| ... | ... | ... |"
   ]
  },
  {
   "cell_type": "code",
   "execution_count": 15,
   "metadata": {
    "id": "Mb5pShStDWLN"
   },
   "outputs": [],
   "source": [
    "# напишите запрос\n",
    "query = '''\n",
    "WITH rt AS (SELECT EXTRACT(MONTH from creation_date::date) AS creation_month,\n",
    "                    COUNT(DISTINCT id) AS posts_count\t\n",
    "                    FROM stackoverflow.posts\n",
    "                    WHERE creation_date::date BETWEEN '2008-09-01' AND '2008-12-31'\n",
    "                    GROUP BY 1)\n",
    "\n",
    "SELECT *,\n",
    "       ROUND(((posts_count\t::numeric / LAG(posts_count\t) OVER (ORDER BY creation_month)) - 1) * 100, 2) AS percentage\n",
    "FROM rt;\n",
    "'''\n",
    "df = pd.read_sql_query(query, con = engine)# выполните запрос"
   ]
  },
  {
   "cell_type": "markdown",
   "metadata": {
    "id": "9NQE2y_MDWLP"
   },
   "source": [
    "Постройте круговую диаграмму с количеством постов по месяцам."
   ]
  },
  {
   "cell_type": "code",
   "execution_count": 16,
   "metadata": {
    "id": "377ABjiVDWLP"
   },
   "outputs": [
    {
     "name": "stdout",
     "output_type": "stream",
     "text": [
      "   creation_month  posts_count  percentage\n",
      "0             9.0        70371         NaN\n",
      "1            10.0        63102      -10.33\n",
      "2            11.0        46975      -25.56\n",
      "3            12.0        44592       -5.07\n"
     ]
    }
   ],
   "source": [
    "print(df.head()) "
   ]
  },
  {
   "cell_type": "code",
   "execution_count": 17,
   "metadata": {},
   "outputs": [
    {
     "data": {
      "text/plain": [
       "<AxesSubplot:title={'center':'Количество постов по месяцам'}, ylabel='posts_count'>"
      ]
     },
     "execution_count": 17,
     "metadata": {},
     "output_type": "execute_result"
    },
    {
     "data": {
      "image/png": "[encoded data removed]",
      "text/plain": [
       "<Figure size 432x288 with 1 Axes>"
      ]
     },
     "metadata": {},
     "output_type": "display_data"
    }
   ],
   "source": [
    "df.groupby(['creation_month']). sum ().plot(kind='pie', y='posts_count', autopct='%1.0f%%', title='Количество постов по месяцам')"
   ]
  },
  {
   "cell_type": "markdown",
   "metadata": {
    "id": "uw7qMtafDWLP"
   },
   "source": [
    "# Задание 10"
   ]
  },
  {
   "cell_type": "markdown",
   "metadata": {
    "id": "oRBpWKx3DWLQ"
   },
   "source": [
    "Выгрузите данные активности пользователя, который опубликовал больше всего постов за всё время. Выведите данные за октябрь 2008 года в таком виде:\n",
    "\n",
    "- номер недели;\n",
    "- дата и время последнего поста, опубликованного на этой неделе."
   ]
  },
  {
   "cell_type": "markdown",
   "metadata": {
    "id": "XjAWSn_3DWLQ"
   },
   "source": [
    "| week_creation | creation_date |\n",
    "| ------------- | ------------- |\n",
    "| 40 | 2008-10-05 09:00:58 |\n",
    "| 41 | 2008-10-12 21:22:23 |\n",
    "| ... | ... |"
   ]
  },
  {
   "cell_type": "code",
   "execution_count": 18,
   "metadata": {
    "id": "r5F5fSkwDWLQ"
   },
   "outputs": [
    {
     "data": {
      "text/html": [
       "<div>\n",
       "<style scoped>\n",
       "    .dataframe tbody tr th:only-of-type {\n",
       "        vertical-align: middle;\n",
       "    }\n",
       "\n",
       "    .dataframe tbody tr th {\n",
       "        vertical-align: top;\n",
       "    }\n",
       "\n",
       "    .dataframe thead th {\n",
       "        text-align: right;\n",
       "    }\n",
       "</style>\n",
       "<table border=\"1\" class=\"dataframe\">\n",
       "  <thead>\n",
       "    <tr style=\"text-align: right;\">\n",
       "      <th></th>\n",
       "      <th>week_creation</th>\n",
       "      <th>creation_date</th>\n",
       "    </tr>\n",
       "  </thead>\n",
       "  <tbody>\n",
       "    <tr>\n",
       "      <th>0</th>\n",
       "      <td>40.0</td>\n",
       "      <td>2008-10-05 09:00:58</td>\n",
       "    </tr>\n",
       "    <tr>\n",
       "      <th>1</th>\n",
       "      <td>41.0</td>\n",
       "      <td>2008-10-12 21:22:23</td>\n",
       "    </tr>\n",
       "    <tr>\n",
       "      <th>2</th>\n",
       "      <td>42.0</td>\n",
       "      <td>2008-10-19 06:49:30</td>\n",
       "    </tr>\n",
       "    <tr>\n",
       "      <th>3</th>\n",
       "      <td>43.0</td>\n",
       "      <td>2008-10-26 21:44:36</td>\n",
       "    </tr>\n",
       "    <tr>\n",
       "      <th>4</th>\n",
       "      <td>44.0</td>\n",
       "      <td>2008-10-31 22:16:01</td>\n",
       "    </tr>\n",
       "  </tbody>\n",
       "</table>\n",
       "</div>"
      ],
      "text/plain": [
       "   week_creation       creation_date\n",
       "0           40.0 2008-10-05 09:00:58\n",
       "1           41.0 2008-10-12 21:22:23\n",
       "2           42.0 2008-10-19 06:49:30\n",
       "3           43.0 2008-10-26 21:44:36\n",
       "4           44.0 2008-10-31 22:16:01"
      ]
     },
     "execution_count": 18,
     "metadata": {},
     "output_type": "execute_result"
    }
   ],
   "source": [
    "# напишите запрос\n",
    "query = '''\n",
    "WITH user_post AS (SELECT user_id,\n",
    "                   COUNT(DISTINCT id) AS cnt\n",
    "                   FROM stackoverflow.posts\n",
    "                   GROUP BY 1\n",
    "                   ORDER BY 2 DESC\n",
    "                   LIMIT 1),\n",
    "     rt AS (SELECT p.user_id,\n",
    "             p.creation_date,\n",
    "             extract('week' from p.creation_date) AS week_creation\n",
    "             FROM stackoverflow.posts AS p\n",
    "             JOIN user_post ON user_post.user_id = p.user_id\n",
    "             WHERE DATE_TRUNC('month', p.creation_date)::date = '2008-10-01')\n",
    "SELECT DISTINCT week_creation::numeric,\n",
    "       MAX(creation_date) OVER (PARTITION BY week_creation) AS creation_date\n",
    "FROM rt\n",
    "ORDER BY 1;\n",
    "'''\n",
    "\n",
    "qw = pd.read_sql_query(query, con = engine)# выполните запрос\n",
    "qw# выполните запрос"
   ]
  }
 ],
 "metadata": {
  "ExecuteTimeLog": [
   {
    "duration": 6,
    "start_time": "2023-02-16T16:20:42.120Z"
   },
   {
    "duration": 793,
    "start_time": "2023-02-16T16:21:17.207Z"
   },
   {
    "duration": 4,
    "start_time": "2023-02-16T16:21:18.002Z"
   },
   {
    "duration": 8027,
    "start_time": "2023-02-16T16:21:18.007Z"
   },
   {
    "duration": 207,
    "start_time": "2023-02-16T16:21:26.036Z"
   },
   {
    "duration": 13,
    "start_time": "2023-02-16T16:21:26.245Z"
   },
   {
    "duration": 5,
    "start_time": "2023-02-16T16:21:26.259Z"
   },
   {
    "duration": 6,
    "start_time": "2023-02-16T16:21:26.265Z"
   },
   {
    "duration": 4,
    "start_time": "2023-02-16T16:21:26.272Z"
   },
   {
    "duration": 91,
    "start_time": "2023-02-16T16:21:26.278Z"
   },
   {
    "duration": 0,
    "start_time": "2023-02-16T16:21:26.370Z"
   },
   {
    "duration": 0,
    "start_time": "2023-02-16T16:21:26.371Z"
   },
   {
    "duration": 0,
    "start_time": "2023-02-16T16:21:26.372Z"
   },
   {
    "duration": 0,
    "start_time": "2023-02-16T16:21:26.374Z"
   },
   {
    "duration": 0,
    "start_time": "2023-02-16T16:21:26.375Z"
   },
   {
    "duration": 0,
    "start_time": "2023-02-16T16:21:26.376Z"
   },
   {
    "duration": 0,
    "start_time": "2023-02-16T16:21:26.376Z"
   },
   {
    "duration": 0,
    "start_time": "2023-02-16T16:21:26.377Z"
   },
   {
    "duration": 0,
    "start_time": "2023-02-16T16:21:26.378Z"
   },
   {
    "duration": 0,
    "start_time": "2023-02-16T16:21:26.379Z"
   },
   {
    "duration": 0,
    "start_time": "2023-02-16T16:21:26.379Z"
   },
   {
    "duration": 81,
    "start_time": "2023-02-16T16:22:00.460Z"
   },
   {
    "duration": 0,
    "start_time": "2023-02-16T16:22:00.544Z"
   },
   {
    "duration": 152,
    "start_time": "2023-02-16T16:23:04.147Z"
   },
   {
    "duration": 6,
    "start_time": "2023-02-16T16:23:19.169Z"
   },
   {
    "duration": 664,
    "start_time": "2023-02-16T16:56:33.829Z"
   },
   {
    "duration": 3,
    "start_time": "2023-02-16T16:56:34.497Z"
   },
   {
    "duration": 7885,
    "start_time": "2023-02-16T16:56:34.501Z"
   },
   {
    "duration": 211,
    "start_time": "2023-02-16T16:56:42.387Z"
   },
   {
    "duration": 12,
    "start_time": "2023-02-16T16:56:42.601Z"
   },
   {
    "duration": 53,
    "start_time": "2023-02-16T16:56:42.615Z"
   },
   {
    "duration": 29,
    "start_time": "2023-02-16T16:56:42.670Z"
   },
   {
    "duration": 5,
    "start_time": "2023-02-16T16:56:42.701Z"
   },
   {
    "duration": 96,
    "start_time": "2023-02-16T16:56:42.707Z"
   },
   {
    "duration": 0,
    "start_time": "2023-02-16T16:56:42.805Z"
   },
   {
    "duration": 0,
    "start_time": "2023-02-16T16:56:42.806Z"
   },
   {
    "duration": 0,
    "start_time": "2023-02-16T16:56:42.806Z"
   },
   {
    "duration": 0,
    "start_time": "2023-02-16T16:56:42.807Z"
   },
   {
    "duration": 0,
    "start_time": "2023-02-16T16:56:42.808Z"
   },
   {
    "duration": 0,
    "start_time": "2023-02-16T16:56:42.809Z"
   },
   {
    "duration": 0,
    "start_time": "2023-02-16T16:56:42.811Z"
   },
   {
    "duration": 0,
    "start_time": "2023-02-16T16:56:42.811Z"
   },
   {
    "duration": 0,
    "start_time": "2023-02-16T16:56:42.812Z"
   },
   {
    "duration": 0,
    "start_time": "2023-02-16T16:56:42.813Z"
   },
   {
    "duration": 0,
    "start_time": "2023-02-16T16:56:42.814Z"
   },
   {
    "duration": 0,
    "start_time": "2023-02-16T16:56:42.815Z"
   },
   {
    "duration": 0,
    "start_time": "2023-02-16T16:57:13.627Z"
   },
   {
    "duration": 7,
    "start_time": "2023-02-16T16:57:19.337Z"
   },
   {
    "duration": 151,
    "start_time": "2023-02-16T16:57:24.498Z"
   },
   {
    "duration": 5,
    "start_time": "2023-02-16T16:57:29.489Z"
   },
   {
    "duration": 158,
    "start_time": "2023-02-16T16:57:33.863Z"
   },
   {
    "duration": 5,
    "start_time": "2023-02-16T16:57:51.441Z"
   },
   {
    "duration": 85,
    "start_time": "2023-02-16T16:59:43.022Z"
   },
   {
    "duration": 199,
    "start_time": "2023-02-16T17:01:08.802Z"
   },
   {
    "duration": 47,
    "start_time": "2023-02-17T15:49:43.413Z"
   },
   {
    "duration": 857,
    "start_time": "2023-02-17T15:49:59.580Z"
   },
   {
    "duration": 4,
    "start_time": "2023-02-17T15:50:00.438Z"
   },
   {
    "duration": 9882,
    "start_time": "2023-02-17T15:50:00.443Z"
   },
   {
    "duration": 225,
    "start_time": "2023-02-17T15:50:10.327Z"
   },
   {
    "duration": 13,
    "start_time": "2023-02-17T15:50:10.554Z"
   },
   {
    "duration": 14,
    "start_time": "2023-02-17T15:50:10.569Z"
   },
   {
    "duration": 24,
    "start_time": "2023-02-17T15:50:10.585Z"
   },
   {
    "duration": 33,
    "start_time": "2023-02-17T15:50:10.611Z"
   },
   {
    "duration": 8,
    "start_time": "2023-02-17T15:50:10.645Z"
   },
   {
    "duration": 9,
    "start_time": "2023-02-17T15:50:10.654Z"
   },
   {
    "duration": 30,
    "start_time": "2023-02-17T15:50:10.665Z"
   },
   {
    "duration": 35,
    "start_time": "2023-02-17T15:50:10.697Z"
   },
   {
    "duration": 47,
    "start_time": "2023-02-17T15:50:10.734Z"
   },
   {
    "duration": 724,
    "start_time": "2023-02-17T15:50:10.784Z"
   },
   {
    "duration": 2,
    "start_time": "2023-02-17T15:50:11.510Z"
   },
   {
    "duration": 33,
    "start_time": "2023-02-17T15:50:11.514Z"
   },
   {
    "duration": 724,
    "start_time": "2023-02-17T15:50:11.549Z"
   },
   {
    "duration": 6,
    "start_time": "2023-02-17T15:50:12.275Z"
   },
   {
    "duration": 165,
    "start_time": "2023-02-17T15:50:12.282Z"
   },
   {
    "duration": 3,
    "start_time": "2023-02-17T15:50:12.448Z"
   },
   {
    "duration": 1266,
    "start_time": "2023-02-17T15:54:24.943Z"
   },
   {
    "duration": 300,
    "start_time": "2023-02-17T15:55:15.480Z"
   },
   {
    "duration": 67,
    "start_time": "2023-02-17T15:55:19.387Z"
   },
   {
    "duration": 498,
    "start_time": "2023-02-17T15:57:12.441Z"
   },
   {
    "duration": 487,
    "start_time": "2023-02-17T15:57:22.081Z"
   },
   {
    "duration": 548,
    "start_time": "2023-02-17T16:00:38.033Z"
   },
   {
    "duration": 477,
    "start_time": "2023-02-17T16:00:47.848Z"
   },
   {
    "duration": 408,
    "start_time": "2023-02-17T16:01:08.704Z"
   },
   {
    "duration": 468,
    "start_time": "2023-02-17T16:01:14.721Z"
   },
   {
    "duration": 42,
    "start_time": "2023-02-18T07:03:40.908Z"
   },
   {
    "duration": 1318,
    "start_time": "2023-02-18T07:03:52.095Z"
   },
   {
    "duration": 3,
    "start_time": "2023-02-18T07:03:53.415Z"
   },
   {
    "duration": 4573,
    "start_time": "2023-02-18T07:03:53.421Z"
   },
   {
    "duration": 60,
    "start_time": "2023-02-18T07:03:57.996Z"
   },
   {
    "duration": 15,
    "start_time": "2023-02-18T07:03:58.057Z"
   },
   {
    "duration": 123,
    "start_time": "2023-02-18T07:03:58.073Z"
   },
   {
    "duration": 2,
    "start_time": "2023-02-18T07:03:58.198Z"
   },
   {
    "duration": 7,
    "start_time": "2023-02-18T07:03:58.201Z"
   },
   {
    "duration": 6,
    "start_time": "2023-02-18T07:03:58.210Z"
   },
   {
    "duration": 5,
    "start_time": "2023-02-18T07:03:58.218Z"
   },
   {
    "duration": 7,
    "start_time": "2023-02-18T07:03:58.224Z"
   },
   {
    "duration": 7,
    "start_time": "2023-02-18T07:03:58.233Z"
   },
   {
    "duration": 5,
    "start_time": "2023-02-18T07:03:58.242Z"
   },
   {
    "duration": 280,
    "start_time": "2023-02-18T07:03:58.248Z"
   },
   {
    "duration": 452,
    "start_time": "2023-02-18T07:03:58.530Z"
   },
   {
    "duration": 45,
    "start_time": "2023-02-18T07:03:58.983Z"
   },
   {
    "duration": 0,
    "start_time": "2023-02-18T07:03:59.030Z"
   },
   {
    "duration": 0,
    "start_time": "2023-02-18T07:03:59.031Z"
   },
   {
    "duration": 0,
    "start_time": "2023-02-18T07:03:59.032Z"
   },
   {
    "duration": 0,
    "start_time": "2023-02-18T07:03:59.033Z"
   },
   {
    "duration": 128,
    "start_time": "2023-02-18T07:04:16.519Z"
   },
   {
    "duration": 114,
    "start_time": "2023-02-18T07:04:34.686Z"
   },
   {
    "duration": 1173,
    "start_time": "2023-02-18T07:04:52.446Z"
   },
   {
    "duration": 67,
    "start_time": "2023-02-18T07:05:11.806Z"
   },
   {
    "duration": 31,
    "start_time": "2023-02-18T07:05:30.942Z"
   },
   {
    "duration": 1045,
    "start_time": "2023-02-18T07:09:27.566Z"
   },
   {
    "duration": 166,
    "start_time": "2023-02-18T07:10:08.422Z"
   },
   {
    "duration": 72,
    "start_time": "2023-02-18T12:13:53.353Z"
   },
   {
    "duration": 1310,
    "start_time": "2023-02-18T12:16:18.979Z"
   },
   {
    "duration": 3,
    "start_time": "2023-02-18T12:16:20.292Z"
   },
   {
    "duration": 7787,
    "start_time": "2023-02-18T12:16:20.297Z"
   },
   {
    "duration": 46,
    "start_time": "2023-02-18T12:16:28.087Z"
   },
   {
    "duration": 21,
    "start_time": "2023-02-18T12:16:28.135Z"
   },
   {
    "duration": 120,
    "start_time": "2023-02-18T12:16:28.158Z"
   },
   {
    "duration": 131,
    "start_time": "2023-02-18T12:16:28.280Z"
   },
   {
    "duration": 116,
    "start_time": "2023-02-18T12:16:28.413Z"
   },
   {
    "duration": 1223,
    "start_time": "2023-02-18T12:16:28.531Z"
   },
   {
    "duration": 73,
    "start_time": "2023-02-18T12:16:29.757Z"
   },
   {
    "duration": 33,
    "start_time": "2023-02-18T12:16:29.832Z"
   },
   {
    "duration": 70,
    "start_time": "2023-02-18T12:16:29.867Z"
   },
   {
    "duration": 0,
    "start_time": "2023-02-18T12:16:29.938Z"
   },
   {
    "duration": 0,
    "start_time": "2023-02-18T12:16:29.940Z"
   },
   {
    "duration": 0,
    "start_time": "2023-02-18T12:16:29.941Z"
   },
   {
    "duration": 0,
    "start_time": "2023-02-18T12:16:29.942Z"
   },
   {
    "duration": 0,
    "start_time": "2023-02-18T12:16:29.943Z"
   },
   {
    "duration": 0,
    "start_time": "2023-02-18T12:16:29.944Z"
   },
   {
    "duration": 0,
    "start_time": "2023-02-18T12:16:29.945Z"
   },
   {
    "duration": 1444,
    "start_time": "2023-02-18T12:17:09.123Z"
   },
   {
    "duration": 4,
    "start_time": "2023-02-18T12:17:10.569Z"
   },
   {
    "duration": 7828,
    "start_time": "2023-02-18T12:17:10.575Z"
   },
   {
    "duration": 38,
    "start_time": "2023-02-18T12:17:18.406Z"
   },
   {
    "duration": 21,
    "start_time": "2023-02-18T12:17:18.447Z"
   },
   {
    "duration": 130,
    "start_time": "2023-02-18T12:17:18.471Z"
   },
   {
    "duration": 132,
    "start_time": "2023-02-18T12:17:18.603Z"
   },
   {
    "duration": 117,
    "start_time": "2023-02-18T12:17:18.738Z"
   },
   {
    "duration": 1287,
    "start_time": "2023-02-18T12:17:18.857Z"
   },
   {
    "duration": 75,
    "start_time": "2023-02-18T12:17:20.146Z"
   },
   {
    "duration": 32,
    "start_time": "2023-02-18T12:17:20.223Z"
   },
   {
    "duration": 1233,
    "start_time": "2023-02-18T12:17:20.257Z"
   },
   {
    "duration": 274,
    "start_time": "2023-02-18T12:17:21.492Z"
   },
   {
    "duration": 457,
    "start_time": "2023-02-18T12:17:21.768Z"
   },
   {
    "duration": 122,
    "start_time": "2023-02-18T12:17:22.227Z"
   },
   {
    "duration": 5,
    "start_time": "2023-02-18T12:17:22.351Z"
   },
   {
    "duration": 185,
    "start_time": "2023-02-18T12:17:22.358Z"
   },
   {
    "duration": 178,
    "start_time": "2023-02-18T12:17:22.545Z"
   },
   {
    "duration": 47,
    "start_time": "2023-02-19T18:25:30.430Z"
   },
   {
    "duration": 1344,
    "start_time": "2023-02-19T18:25:38.536Z"
   },
   {
    "duration": 4,
    "start_time": "2023-02-19T18:25:39.882Z"
   },
   {
    "duration": 5008,
    "start_time": "2023-02-19T18:25:39.887Z"
   },
   {
    "duration": 74,
    "start_time": "2023-02-19T18:25:44.897Z"
   },
   {
    "duration": 14,
    "start_time": "2023-02-19T18:25:44.973Z"
   },
   {
    "duration": 129,
    "start_time": "2023-02-19T18:25:44.989Z"
   },
   {
    "duration": 140,
    "start_time": "2023-02-19T18:25:45.120Z"
   },
   {
    "duration": 116,
    "start_time": "2023-02-19T18:25:45.261Z"
   },
   {
    "duration": 1167,
    "start_time": "2023-02-19T18:25:45.378Z"
   },
   {
    "duration": 67,
    "start_time": "2023-02-19T18:25:46.547Z"
   },
   {
    "duration": 32,
    "start_time": "2023-02-19T18:25:46.615Z"
   },
   {
    "duration": 1152,
    "start_time": "2023-02-19T18:25:46.648Z"
   },
   {
    "duration": 280,
    "start_time": "2023-02-19T18:25:47.802Z"
   },
   {
    "duration": 514,
    "start_time": "2023-02-19T18:25:48.083Z"
   },
   {
    "duration": 118,
    "start_time": "2023-02-19T18:25:48.598Z"
   },
   {
    "duration": 6,
    "start_time": "2023-02-19T18:25:48.717Z"
   },
   {
    "duration": 184,
    "start_time": "2023-02-19T18:25:48.725Z"
   },
   {
    "duration": 168,
    "start_time": "2023-02-19T18:25:48.911Z"
   },
   {
    "duration": 222,
    "start_time": "2023-02-19T18:26:23.283Z"
   },
   {
    "duration": 53,
    "start_time": "2023-02-19T18:27:17.874Z"
   },
   {
    "duration": 1190,
    "start_time": "2023-02-19T18:27:36.597Z"
   },
   {
    "duration": 4,
    "start_time": "2023-02-19T18:27:37.788Z"
   },
   {
    "duration": 4661,
    "start_time": "2023-02-19T18:27:37.794Z"
   },
   {
    "duration": 47,
    "start_time": "2023-02-19T18:27:42.456Z"
   },
   {
    "duration": 18,
    "start_time": "2023-02-19T18:27:42.505Z"
   },
   {
    "duration": 125,
    "start_time": "2023-02-19T18:27:42.525Z"
   },
   {
    "duration": 130,
    "start_time": "2023-02-19T18:27:42.652Z"
   },
   {
    "duration": 115,
    "start_time": "2023-02-19T18:27:42.784Z"
   },
   {
    "duration": 1120,
    "start_time": "2023-02-19T18:27:42.901Z"
   },
   {
    "duration": 65,
    "start_time": "2023-02-19T18:27:44.023Z"
   },
   {
    "duration": 31,
    "start_time": "2023-02-19T18:27:44.090Z"
   },
   {
    "duration": 1195,
    "start_time": "2023-02-19T18:27:44.122Z"
   },
   {
    "duration": 268,
    "start_time": "2023-02-19T18:27:45.318Z"
   },
   {
    "duration": 508,
    "start_time": "2023-02-19T18:27:45.589Z"
   },
   {
    "duration": 118,
    "start_time": "2023-02-19T18:27:46.099Z"
   },
   {
    "duration": 6,
    "start_time": "2023-02-19T18:27:46.219Z"
   },
   {
    "duration": 184,
    "start_time": "2023-02-19T18:27:46.227Z"
   },
   {
    "duration": 62,
    "start_time": "2023-02-19T18:27:46.413Z"
   },
   {
    "duration": 0,
    "start_time": "2023-02-19T18:27:46.477Z"
   },
   {
    "duration": 89,
    "start_time": "2023-03-29T11:45:39.103Z"
   },
   {
    "duration": 1484,
    "start_time": "2023-03-29T11:45:46.860Z"
   },
   {
    "duration": 8,
    "start_time": "2023-03-29T11:45:48.347Z"
   },
   {
    "duration": 6919,
    "start_time": "2023-03-29T11:45:48.359Z"
   },
   {
    "duration": 46,
    "start_time": "2023-03-29T11:45:55.280Z"
   },
   {
    "duration": 25,
    "start_time": "2023-03-29T11:45:55.329Z"
   },
   {
    "duration": 123,
    "start_time": "2023-03-29T11:45:55.358Z"
   },
   {
    "duration": 137,
    "start_time": "2023-03-29T11:45:55.482Z"
   },
   {
    "duration": 137,
    "start_time": "2023-03-29T11:45:55.621Z"
   },
   {
    "duration": 1254,
    "start_time": "2023-03-29T11:45:55.760Z"
   },
   {
    "duration": 94,
    "start_time": "2023-03-29T11:45:57.017Z"
   },
   {
    "duration": 49,
    "start_time": "2023-03-29T11:45:57.112Z"
   },
   {
    "duration": 1213,
    "start_time": "2023-03-29T11:45:57.164Z"
   },
   {
    "duration": 285,
    "start_time": "2023-03-29T11:45:58.379Z"
   },
   {
    "duration": 492,
    "start_time": "2023-03-29T11:45:58.666Z"
   },
   {
    "duration": 126,
    "start_time": "2023-03-29T11:45:59.159Z"
   },
   {
    "duration": 5,
    "start_time": "2023-03-29T11:45:59.287Z"
   },
   {
    "duration": 196,
    "start_time": "2023-03-29T11:45:59.293Z"
   },
   {
    "duration": 171,
    "start_time": "2023-03-29T11:45:59.491Z"
   }
  ],
  "colab": {
   "name": "AdvansedSQLProjectTemplate.ipynb",
   "provenance": []
  },
  "kernelspec": {
   "display_name": "Python 3 (ipykernel)",
   "language": "python",
   "name": "python3"
  },
  "language_info": {
   "codemirror_mode": {
    "name": "ipython",
    "version": 3
   },
   "file_extension": ".py",
   "mimetype": "text/x-python",
   "name": "python",
   "nbconvert_exporter": "python",
   "pygments_lexer": "ipython3",
   "version": "3.9.5"
  },
  "toc": {
   "base_numbering": 1,
   "nav_menu": {},
   "number_sections": true,
   "sideBar": true,
   "skip_h1_title": true,
   "title_cell": "Table of Contents",
   "title_sidebar": "Contents",
   "toc_cell": false,
   "toc_position": {},
   "toc_section_display": true,
   "toc_window_display": false
  }
 },
 "nbformat": 4,
 "nbformat_minor": 1
}
