{
 "cells": [
  {
   "cell_type": "code",
   "execution_count": 1,
   "id": "7aeeb5c4",
   "metadata": {
    "tags": [
     "aa81075c-062f-4de0-b5fe-14c73dc7468e"
    ]
   },
   "outputs": [],
   "source": [
    "import pandas as pd\n",
    "import numpy as np\n",
    "\n",
    "from sqlalchemy import create_engine"
   ]
  },
  {
   "cell_type": "code",
   "execution_count": 2,
   "id": "a0724d77",
   "metadata": {},
   "outputs": [],
   "source": [
    "path_to_db = '/datasets/telecomm_csi.db'\n",
    "engine = create_engine(f'sqlite:///{path_to_db}', echo = False)"
   ]
  },
  {
   "cell_type": "code",
   "execution_count": 3,
   "id": "32c53aa9",
   "metadata": {},
   "outputs": [],
   "source": [
    "query = \"\"\"\n",
    "SELECT u.user_id,\n",
    "       u.lt_day,\n",
    "       CASE\n",
    "           WHEN lt_day<=365 THEN 'новый клиент'\n",
    "           WHEN lt_day>365 THEN 'старый клиент'\n",
    "       END AS is_new,\n",
    "       u.age,\n",
    "       CASE\n",
    "           WHEN gender_segment=1 THEN 'женщина'\n",
    "           WHEN gender_segment=0 THEN 'мужчина'\n",
    "       END AS gender_segment,\n",
    "       u.os_name,\n",
    "       u.cpe_type_name,\n",
    "       loc.country,\n",
    "       loc.city,\n",
    "       ags.title AS age_segment,\n",
    "       ts.title AS traffic_segment,\n",
    "       ls.title AS lifetime_segment,\n",
    "       u.nps_score,\n",
    "       CASE\n",
    "           WHEN nps_score>=9 AND nps_score<=10  THEN 'стороники'\n",
    "           WHEN nps_score>=7 AND nps_score<=8  THEN 'нейтралы'\n",
    "           WHEN nps_score>=0 AND nps_score<=6  THEN 'критики'\n",
    "       END AS nps_group\n",
    "FROM user AS u\n",
    "JOIN location AS loc ON u.location_id=loc.location_id\n",
    "JOIN age_segment AS ags ON u.age_gr_id=ags.age_gr_id\n",
    "JOIN traffic_segment AS ts ON u.tr_gr_id=ts.tr_gr_id\n",
    "JOIN lifetime_segment AS ls ON u.lt_gr_id=ls.lt_gr_id;\n",
    "\"\"\""
   ]
  },
  {
   "cell_type": "code",
   "execution_count": 4,
   "id": "68c3059e",
   "metadata": {},
   "outputs": [
    {
     "data": {
      "text/html": [
       "<div>\n",
       "<style scoped>\n",
       "    .dataframe tbody tr th:only-of-type {\n",
       "        vertical-align: middle;\n",
       "    }\n",
       "\n",
       "    .dataframe tbody tr th {\n",
       "        vertical-align: top;\n",
       "    }\n",
       "\n",
       "    .dataframe thead th {\n",
       "        text-align: right;\n",
       "    }\n",
       "</style>\n",
       "<table border=\"1\" class=\"dataframe\">\n",
       "  <thead>\n",
       "    <tr style=\"text-align: right;\">\n",
       "      <th></th>\n",
       "      <th>user_id</th>\n",
       "      <th>lt_day</th>\n",
       "      <th>is_new</th>\n",
       "      <th>age</th>\n",
       "      <th>gender_segment</th>\n",
       "      <th>os_name</th>\n",
       "      <th>cpe_type_name</th>\n",
       "      <th>country</th>\n",
       "      <th>city</th>\n",
       "      <th>age_segment</th>\n",
       "      <th>traffic_segment</th>\n",
       "      <th>lifetime_segment</th>\n",
       "      <th>nps_score</th>\n",
       "      <th>nps_group</th>\n",
       "    </tr>\n",
       "  </thead>\n",
       "  <tbody>\n",
       "    <tr>\n",
       "      <th>0</th>\n",
       "      <td>A001A2</td>\n",
       "      <td>2320</td>\n",
       "      <td>старый клиент</td>\n",
       "      <td>45.0</td>\n",
       "      <td>женщина</td>\n",
       "      <td>ANDROID</td>\n",
       "      <td>SMARTPHONE</td>\n",
       "      <td>Россия</td>\n",
       "      <td>Уфа</td>\n",
       "      <td>05 45-54</td>\n",
       "      <td>04 1-5</td>\n",
       "      <td>08 36+</td>\n",
       "      <td>10</td>\n",
       "      <td>стороники</td>\n",
       "    </tr>\n",
       "    <tr>\n",
       "      <th>1</th>\n",
       "      <td>A001WF</td>\n",
       "      <td>2344</td>\n",
       "      <td>старый клиент</td>\n",
       "      <td>53.0</td>\n",
       "      <td>мужчина</td>\n",
       "      <td>ANDROID</td>\n",
       "      <td>SMARTPHONE</td>\n",
       "      <td>Россия</td>\n",
       "      <td>Киров</td>\n",
       "      <td>05 45-54</td>\n",
       "      <td>04 1-5</td>\n",
       "      <td>08 36+</td>\n",
       "      <td>10</td>\n",
       "      <td>стороники</td>\n",
       "    </tr>\n",
       "    <tr>\n",
       "      <th>2</th>\n",
       "      <td>A003Q7</td>\n",
       "      <td>467</td>\n",
       "      <td>старый клиент</td>\n",
       "      <td>57.0</td>\n",
       "      <td>мужчина</td>\n",
       "      <td>ANDROID</td>\n",
       "      <td>SMARTPHONE</td>\n",
       "      <td>Россия</td>\n",
       "      <td>Москва</td>\n",
       "      <td>06 55-64</td>\n",
       "      <td>08 20-25</td>\n",
       "      <td>06 13-24</td>\n",
       "      <td>10</td>\n",
       "      <td>стороники</td>\n",
       "    </tr>\n",
       "  </tbody>\n",
       "</table>\n",
       "</div>"
      ],
      "text/plain": [
       "  user_id  lt_day         is_new   age gender_segment  os_name cpe_type_name  \\\n",
       "0  A001A2    2320  старый клиент  45.0        женщина  ANDROID    SMARTPHONE   \n",
       "1  A001WF    2344  старый клиент  53.0        мужчина  ANDROID    SMARTPHONE   \n",
       "2  A003Q7     467  старый клиент  57.0        мужчина  ANDROID    SMARTPHONE   \n",
       "\n",
       "  country    city age_segment traffic_segment lifetime_segment  nps_score  \\\n",
       "0  Россия     Уфа    05 45-54          04 1-5           08 36+         10   \n",
       "1  Россия   Киров    05 45-54          04 1-5           08 36+         10   \n",
       "2  Россия  Москва    06 55-64        08 20-25         06 13-24         10   \n",
       "\n",
       "   nps_group  \n",
       "0  стороники  \n",
       "1  стороники  \n",
       "2  стороники  "
      ]
     },
     "execution_count": 4,
     "metadata": {},
     "output_type": "execute_result"
    }
   ],
   "source": [
    "df = pd.read_sql(query, engine)\n",
    "df.head(3)"
   ]
  },
  {
   "cell_type": "code",
   "execution_count": 5,
   "id": "79ad71fc",
   "metadata": {},
   "outputs": [],
   "source": [
    "df.to_csv('telecomm_csi_tableau.csv', index=False)"
   ]
  },
  {
   "cell_type": "markdown",
   "id": "906384ac",
   "metadata": {},
   "source": [
    "### Укажите ссылку на дашборд на сайте Tableau Public:"
   ]
  },
  {
   "cell_type": "markdown",
   "id": "b5937e6e",
   "metadata": {},
   "source": [
    "https://public.tableau.com/app/profile/dmitriy1776/viz/Book2_16704031451570/_2?publish=yes"
   ]
  },
  {
   "cell_type": "markdown",
   "id": "9d4a79b8",
   "metadata": {},
   "source": [
    "### Укажите ссылку на pdf-файл с презентацией:"
   ]
  },
  {
   "cell_type": "markdown",
   "id": "ddb5159a",
   "metadata": {},
   "source": [
    "https://cloud.mail.ru/public/PWbp/1Tqkt3er5"
   ]
  }
 ],
 "metadata": {
  "ExecuteTimeLog": [
   {
    "duration": 752,
    "start_time": "2021-10-03T17:40:52.731Z"
   },
   {
    "duration": 20,
    "start_time": "2021-10-03T17:40:53.486Z"
   },
   {
    "duration": 4,
    "start_time": "2021-10-03T17:41:04.638Z"
   },
   {
    "duration": 461,
    "start_time": "2021-10-03T17:41:04.912Z"
   },
   {
    "duration": 284,
    "start_time": "2021-10-03T17:41:05.376Z"
   },
   {
    "duration": 574,
    "start_time": "2021-10-06T07:55:05.029Z"
   },
   {
    "duration": 6,
    "start_time": "2021-10-06T07:55:05.605Z"
   },
   {
    "duration": 3,
    "start_time": "2021-10-06T07:55:14.685Z"
   },
   {
    "duration": 406,
    "start_time": "2021-10-06T07:55:15.522Z"
   },
   {
    "duration": 67,
    "start_time": "2021-10-06T07:55:15.929Z"
   },
   {
    "duration": 840,
    "start_time": "2021-10-07T07:54:04.647Z"
   },
   {
    "duration": 10,
    "start_time": "2021-10-07T07:54:05.490Z"
   },
   {
    "duration": 4,
    "start_time": "2021-10-07T07:54:05.544Z"
   },
   {
    "duration": 391,
    "start_time": "2021-10-07T07:54:06.237Z"
   },
   {
    "duration": 293,
    "start_time": "2021-10-07T07:54:06.654Z"
   },
   {
    "duration": 49,
    "start_time": "2022-12-05T11:33:25.603Z"
   },
   {
    "duration": 7,
    "start_time": "2022-12-05T11:33:32.369Z"
   },
   {
    "duration": 8,
    "start_time": "2022-12-05T11:33:33.130Z"
   },
   {
    "duration": 499,
    "start_time": "2022-12-05T11:33:41.124Z"
   },
   {
    "duration": 12,
    "start_time": "2022-12-05T11:33:41.625Z"
   },
   {
    "duration": 4,
    "start_time": "2022-12-05T11:33:41.638Z"
   },
   {
    "duration": 527,
    "start_time": "2022-12-05T11:33:41.644Z"
   },
   {
    "duration": 77,
    "start_time": "2022-12-05T11:33:42.173Z"
   },
   {
    "duration": 3,
    "start_time": "2022-12-05T11:33:51.854Z"
   },
   {
    "duration": 3095,
    "start_time": "2022-12-05T11:33:56.551Z"
   },
   {
    "duration": 4,
    "start_time": "2022-12-05T13:34:34.461Z"
   },
   {
    "duration": 3,
    "start_time": "2022-12-05T14:19:31.589Z"
   },
   {
    "duration": 437,
    "start_time": "2022-12-05T14:19:35.422Z"
   },
   {
    "duration": 3,
    "start_time": "2022-12-05T14:21:09.868Z"
   },
   {
    "duration": 3,
    "start_time": "2022-12-05T14:28:36.829Z"
   },
   {
    "duration": 6032,
    "start_time": "2022-12-05T14:28:40.616Z"
   },
   {
    "duration": 515,
    "start_time": "2022-12-09T13:30:22.369Z"
   },
   {
    "duration": 21,
    "start_time": "2022-12-09T13:30:22.886Z"
   },
   {
    "duration": 3,
    "start_time": "2022-12-09T13:30:22.909Z"
   },
   {
    "duration": 5484,
    "start_time": "2022-12-09T13:30:22.914Z"
   },
   {
    "duration": 4553,
    "start_time": "2022-12-09T13:30:28.404Z"
   },
   {
    "duration": 50,
    "start_time": "2022-12-14T08:27:04.404Z"
   }
  ],
  "kernelspec": {
   "display_name": "Python 3 (ipykernel)",
   "language": "python",
   "name": "python3"
  },
  "language_info": {
   "codemirror_mode": {
    "name": "ipython",
    "version": 3
   },
   "file_extension": ".py",
   "mimetype": "text/x-python",
   "name": "python",
   "nbconvert_exporter": "python",
   "pygments_lexer": "ipython3",
   "version": "3.9.5"
  },
  "toc": {
   "base_numbering": 1,
   "nav_menu": {},
   "number_sections": true,
   "sideBar": true,
   "skip_h1_title": true,
   "title_cell": "Table of Contents",
   "title_sidebar": "Contents",
   "toc_cell": false,
   "toc_position": {},
   "toc_section_display": true,
   "toc_window_display": false
  }
 },
 "nbformat": 4,
 "nbformat_minor": 5
}
